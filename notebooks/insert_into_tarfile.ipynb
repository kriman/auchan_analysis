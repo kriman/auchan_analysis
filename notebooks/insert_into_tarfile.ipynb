{
 "cells": [
  {
   "cell_type": "code",
   "execution_count": 11,
   "metadata": {
    "collapsed": true,
    "pycharm": {
     "name": "#%%\n"
    }
   },
   "outputs": [],
   "source": [
    "import tarfile\n",
    "import io\n",
    "import json\n",
    "# create new tarfile and insert file into it\n",
    "tar = tarfile.open(\"test.tar.xz\", \"w:xz\")\n",
    "f = open(\"../rawdata2/5281/5284/product.json\", \"rb\")\n",
    "tarinfo = tar.gettarinfo(fileobj=f, arcname=\"product.json\")\n",
    "tar.addfile(tarinfo, f)\n",
    "tar.close()"
   ]
  },
  {
   "cell_type": "code",
   "execution_count": 17,
   "outputs": [],
   "source": [
    "data = {\n",
    "    \"name\": \"test\",\n",
    "    \"version\": \"1.0.0\",\n",
    "    \"description\": \"test\",\n",
    "    \"main\": \"index.js\",\n",
    "    \"scripts\": {\n",
    "        \"test\": \"echo \\\"Error: no test specified\\\" && exit 1\"\n",
    "    },\n",
    "    \"author\": \"\",\n",
    "    \"license\": \"ISC\"\n",
    "}\n",
    "\n",
    "tar = tarfile.open(\"test.tar.xz\", \"w:xz\")\n",
    "fileobj = io.BytesIO(json.dumps(data).encode(\"utf-8\"))\n",
    "\n",
    "tarinfo = tarfile.TarInfo(\"package.json\")\n",
    "tarinfo.size = len(fileobj.getvalue())\n",
    "tar.addfile(tarinfo, fileobj)\n",
    "tar.close()"
   ],
   "metadata": {
    "collapsed": false,
    "pycharm": {
     "name": "#%%\n"
    }
   }
  },
  {
   "cell_type": "code",
   "execution_count": null,
   "outputs": [],
   "source": [
    "# add file inside subdir to tarfile\n",
    "tar = tarfile.open(\"test.tar\", \"a\")\n",
    "tar.add(\"subdir/test2.txt\")\n",
    "tar.close()"
   ],
   "metadata": {
    "collapsed": false,
    "pycharm": {
     "name": "#%%\n"
    }
   }
  }
 ],
 "metadata": {
  "kernelspec": {
   "display_name": "Python 3",
   "language": "python",
   "name": "python3"
  },
  "language_info": {
   "codemirror_mode": {
    "name": "ipython",
    "version": 2
   },
   "file_extension": ".py",
   "mimetype": "text/x-python",
   "name": "python",
   "nbconvert_exporter": "python",
   "pygments_lexer": "ipython2",
   "version": "2.7.6"
  }
 },
 "nbformat": 4,
 "nbformat_minor": 0
}