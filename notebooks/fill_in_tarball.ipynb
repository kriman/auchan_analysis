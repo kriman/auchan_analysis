{
 "cells": [
  {
   "cell_type": "code",
   "execution_count": 1,
   "outputs": [],
   "source": [
    "import tarfile"
   ],
   "metadata": {
    "collapsed": false,
    "pycharm": {
     "name": "#%%\n"
    }
   }
  },
  {
   "cell_type": "code",
   "execution_count": 2,
   "outputs": [],
   "source": [
    "NEW_DATE = \"2023_01_08\"\n",
    "OLD_DATE = \"2022_12_27\""
   ],
   "metadata": {
    "collapsed": false,
    "pycharm": {
     "name": "#%%\n"
    }
   }
  },
  {
   "cell_type": "code",
   "execution_count": 3,
   "outputs": [
    {
     "name": "stdout",
     "output_type": "stream",
     "text": [
      "5000 of 100429 files copied from tarfile2 to tarfile3\n",
      "10000 of 100429 files copied from tarfile2 to tarfile3\n",
      "15000 of 100429 files copied from tarfile2 to tarfile3\n",
      "20000 of 100429 files copied from tarfile2 to tarfile3\n",
      "25000 of 100429 files copied from tarfile2 to tarfile3\n",
      "30000 of 100429 files copied from tarfile2 to tarfile3\n",
      "35000 of 100429 files copied from tarfile2 to tarfile3\n",
      "40000 of 100429 files copied from tarfile2 to tarfile3\n",
      "45000 of 100429 files copied from tarfile2 to tarfile3\n",
      "50000 of 100429 files copied from tarfile2 to tarfile3\n",
      "55000 of 100429 files copied from tarfile2 to tarfile3\n",
      "60000 of 100429 files copied from tarfile2 to tarfile3\n",
      "65000 of 100429 files copied from tarfile2 to tarfile3\n",
      "70000 of 100429 files copied from tarfile2 to tarfile3\n",
      "75000 of 100429 files copied from tarfile2 to tarfile3\n",
      "80000 of 100429 files copied from tarfile2 to tarfile3\n",
      "85000 of 100429 files copied from tarfile2 to tarfile3\n",
      "90000 of 100429 files copied from tarfile2 to tarfile3\n",
      "95000 of 100429 files copied from tarfile2 to tarfile3\n",
      "100000 of 100429 files copied from tarfile2 to tarfile3\n",
      "5000 of 275314 files copied from tarfile1 to tarfile3\n",
      "10000 of 275314 files copied from tarfile1 to tarfile3\n",
      "15000 of 275314 files copied from tarfile1 to tarfile3\n",
      "20000 of 275314 files copied from tarfile1 to tarfile3\n",
      "25000 of 275314 files copied from tarfile1 to tarfile3\n",
      "30000 of 275314 files copied from tarfile1 to tarfile3\n",
      "35000 of 275314 files copied from tarfile1 to tarfile3\n",
      "40000 of 275314 files copied from tarfile1 to tarfile3\n",
      "45000 of 275314 files copied from tarfile1 to tarfile3\n",
      "50000 of 275314 files copied from tarfile1 to tarfile3\n",
      "55000 of 275314 files copied from tarfile1 to tarfile3\n",
      "60000 of 275314 files copied from tarfile1 to tarfile3\n",
      "65000 of 275314 files copied from tarfile1 to tarfile3\n",
      "70000 of 275314 files copied from tarfile1 to tarfile3\n",
      "75000 of 275314 files copied from tarfile1 to tarfile3\n",
      "80000 of 275314 files copied from tarfile1 to tarfile3\n",
      "85000 of 275314 files copied from tarfile1 to tarfile3\n",
      "90000 of 275314 files copied from tarfile1 to tarfile3\n",
      "95000 of 275314 files copied from tarfile1 to tarfile3\n",
      "100000 of 275314 files copied from tarfile1 to tarfile3\n",
      "105000 of 275314 files copied from tarfile1 to tarfile3\n",
      "110000 of 275314 files copied from tarfile1 to tarfile3\n",
      "115000 of 275314 files copied from tarfile1 to tarfile3\n",
      "120000 of 275314 files copied from tarfile1 to tarfile3\n",
      "125000 of 275314 files copied from tarfile1 to tarfile3\n",
      "130000 of 275314 files copied from tarfile1 to tarfile3\n",
      "135000 of 275314 files copied from tarfile1 to tarfile3\n",
      "140000 of 275314 files copied from tarfile1 to tarfile3\n",
      "145000 of 275314 files copied from tarfile1 to tarfile3\n",
      "150000 of 275314 files copied from tarfile1 to tarfile3\n",
      "155000 of 275314 files copied from tarfile1 to tarfile3\n",
      "160000 of 275314 files copied from tarfile1 to tarfile3\n",
      "165000 of 275314 files copied from tarfile1 to tarfile3\n",
      "170000 of 275314 files copied from tarfile1 to tarfile3\n",
      "175000 of 275314 files copied from tarfile1 to tarfile3\n",
      "180000 of 275314 files copied from tarfile1 to tarfile3\n",
      "185000 of 275314 files copied from tarfile1 to tarfile3\n",
      "190000 of 275314 files copied from tarfile1 to tarfile3\n",
      "195000 of 275314 files copied from tarfile1 to tarfile3\n",
      "200000 of 275314 files copied from tarfile1 to tarfile3\n",
      "205000 of 275314 files copied from tarfile1 to tarfile3\n",
      "210000 of 275314 files copied from tarfile1 to tarfile3\n",
      "215000 of 275314 files copied from tarfile1 to tarfile3\n",
      "220000 of 275314 files copied from tarfile1 to tarfile3\n",
      "225000 of 275314 files copied from tarfile1 to tarfile3\n",
      "230000 of 275314 files copied from tarfile1 to tarfile3\n",
      "235000 of 275314 files copied from tarfile1 to tarfile3\n",
      "240000 of 275314 files copied from tarfile1 to tarfile3\n",
      "245000 of 275314 files copied from tarfile1 to tarfile3\n",
      "250000 of 275314 files copied from tarfile1 to tarfile3\n",
      "255000 of 275314 files copied from tarfile1 to tarfile3\n",
      "260000 of 275314 files copied from tarfile1 to tarfile3\n",
      "265000 of 275314 files copied from tarfile1 to tarfile3\n",
      "270000 of 275314 files copied from tarfile1 to tarfile3\n",
      "275000 of 275314 files copied from tarfile1 to tarfile3\n"
     ]
    }
   ],
   "source": [
    "# open tarfile1 and tarfile2\n",
    "# create new tarfile with the name of tarfile3\n",
    "# copy tarfile2 to tarfile3\n",
    "# copy tafile1 to tarfile3 if the file is not in tarfile3\n",
    "tarfile1 = tarfile.open(f'../databases/archives/{OLD_DATE}_rawdata.tar.xz', 'r:xz')\n",
    "tarfile2 = tarfile.open(f'../databases/archives/{NEW_DATE}_rawdata_diff.tar.xz', 'r:xz')\n",
    "tarfile3 = tarfile.open(f'../databases/archives/{NEW_DATE}_rawdata.tar', 'w')\n",
    "\n",
    "tarfile2_len = len(tarfile2.getmembers())\n",
    "tarfile1_len = len(tarfile1.getmembers())\n",
    "\n",
    "counter = 0\n",
    "for tarinfo in tarfile2:\n",
    "    tarfile3.addfile(tarinfo, tarfile2.extractfile(tarinfo))\n",
    "    counter += 1\n",
    "    if counter % 5000 == 0:\n",
    "        print(f'{counter} of {tarfile2_len} files copied from tarfile2 to tarfile3')\n",
    "\n",
    "counter = 0\n",
    "tarfile3_members = tarfile3.getnames()\n",
    "for tarinfo in tarfile1:\n",
    "    if tarinfo.name not in tarfile3_members:\n",
    "        tarfile3.addfile(tarinfo, tarfile1.extractfile(tarinfo))\n",
    "    counter += 1\n",
    "    if counter % 5000 == 0:\n",
    "        print(f'{counter} of {tarfile1_len} files copied from tarfile1 to tarfile3')\n",
    "\n",
    "tarfile1.close()\n",
    "tarfile2.close()\n",
    "tarfile3.close()"
   ],
   "metadata": {
    "collapsed": false,
    "pycharm": {
     "name": "#%%\n"
    }
   }
  },
  {
   "cell_type": "code",
   "execution_count": 4,
   "outputs": [],
   "source": [
    "!xz -zk ../databases/archives/2023_01_08_rawdata.tar"
   ],
   "metadata": {
    "collapsed": false,
    "pycharm": {
     "name": "#%%\n"
    }
   }
  },
  {
   "cell_type": "code",
   "execution_count": 4,
   "outputs": [],
   "source": [],
   "metadata": {
    "collapsed": false,
    "pycharm": {
     "name": "#%%\n"
    }
   }
  }
 ],
 "metadata": {
  "kernelspec": {
   "display_name": "Python 3",
   "language": "python",
   "name": "python3"
  },
  "language_info": {
   "codemirror_mode": {
    "name": "ipython",
    "version": 2
   },
   "file_extension": ".py",
   "mimetype": "text/x-python",
   "name": "python",
   "nbconvert_exporter": "python",
   "pygments_lexer": "ipython2",
   "version": "2.7.6"
  }
 },
 "nbformat": 4,
 "nbformat_minor": 0
}