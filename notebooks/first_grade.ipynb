{
 "cells": [
  {
   "cell_type": "code",
   "execution_count": 1,
   "outputs": [],
   "source": [
    "import pandas as pd\n",
    "import matplotlib.pyplot as plt"
   ],
   "metadata": {
    "collapsed": false,
    "pycharm": {
     "name": "#%%\n"
    }
   }
  },
  {
   "cell_type": "code",
   "execution_count": 2,
   "outputs": [],
   "source": [
    "df = pd.read_csv('../products.csv')"
   ],
   "metadata": {
    "collapsed": false,
    "pycharm": {
     "name": "#%%\n"
    }
   }
  },
  {
   "cell_type": "code",
   "execution_count": 3,
   "outputs": [
    {
     "data": {
      "text/plain": "       id  defaultVariant  productId  price  \\\n0  490459         4027855     490459     79   \n1  490450         4027843     490450    299   \n2  490474         4027873     490474    499   \n3  490453         4027849     490453    699   \n4  490498         4027897     490498    699   \n\n                                                name  categoryId  \n0  Home komposztálható bevásárlószatyor 209x2x75x...       10401  \n1                   Auchan bevásárlótáska, duplafülű       10401  \n2              Zöldség-gyümölcs retasak 3db 28x34 cm       10401  \n3              Auchan karton doboz 39,8x29,8x30,4 cm       10401  \n4    Auchan ünnepi bevásárló doboz 39,8x29,8x30,4 cm       10401  ",
      "text/html": "<div>\n<style scoped>\n    .dataframe tbody tr th:only-of-type {\n        vertical-align: middle;\n    }\n\n    .dataframe tbody tr th {\n        vertical-align: top;\n    }\n\n    .dataframe thead th {\n        text-align: right;\n    }\n</style>\n<table border=\"1\" class=\"dataframe\">\n  <thead>\n    <tr style=\"text-align: right;\">\n      <th></th>\n      <th>id</th>\n      <th>defaultVariant</th>\n      <th>productId</th>\n      <th>price</th>\n      <th>name</th>\n      <th>categoryId</th>\n    </tr>\n  </thead>\n  <tbody>\n    <tr>\n      <th>0</th>\n      <td>490459</td>\n      <td>4027855</td>\n      <td>490459</td>\n      <td>79</td>\n      <td>Home komposztálható bevásárlószatyor 209x2x75x...</td>\n      <td>10401</td>\n    </tr>\n    <tr>\n      <th>1</th>\n      <td>490450</td>\n      <td>4027843</td>\n      <td>490450</td>\n      <td>299</td>\n      <td>Auchan bevásárlótáska, duplafülű</td>\n      <td>10401</td>\n    </tr>\n    <tr>\n      <th>2</th>\n      <td>490474</td>\n      <td>4027873</td>\n      <td>490474</td>\n      <td>499</td>\n      <td>Zöldség-gyümölcs retasak 3db 28x34 cm</td>\n      <td>10401</td>\n    </tr>\n    <tr>\n      <th>3</th>\n      <td>490453</td>\n      <td>4027849</td>\n      <td>490453</td>\n      <td>699</td>\n      <td>Auchan karton doboz 39,8x29,8x30,4 cm</td>\n      <td>10401</td>\n    </tr>\n    <tr>\n      <th>4</th>\n      <td>490498</td>\n      <td>4027897</td>\n      <td>490498</td>\n      <td>699</td>\n      <td>Auchan ünnepi bevásárló doboz 39,8x29,8x30,4 cm</td>\n      <td>10401</td>\n    </tr>\n  </tbody>\n</table>\n</div>"
     },
     "execution_count": 3,
     "metadata": {},
     "output_type": "execute_result"
    }
   ],
   "source": [
    "df.head()"
   ],
   "metadata": {
    "collapsed": false,
    "pycharm": {
     "name": "#%%\n"
    }
   }
  },
  {
   "cell_type": "code",
   "execution_count": 4,
   "outputs": [
    {
     "data": {
      "text/plain": "1563.0688793953336"
     },
     "execution_count": 4,
     "metadata": {},
     "output_type": "execute_result"
    }
   ],
   "source": [
    "df['price'].mean()"
   ],
   "metadata": {
    "collapsed": false,
    "pycharm": {
     "name": "#%%\n"
    }
   }
  },
  {
   "cell_type": "code",
   "execution_count": 5,
   "outputs": [
    {
     "data": {
      "text/plain": "                                                    name  price\n0      Home komposztálható bevásárlószatyor 209x2x75x...     79\n1                       Auchan bevásárlótáska, duplafülű    299\n2                  Zöldség-gyümölcs retasak 3db 28x34 cm    499\n3                  Auchan karton doboz 39,8x29,8x30,4 cm    699\n4        Auchan ünnepi bevásárló doboz 39,8x29,8x30,4 cm    699\n...                                                  ...    ...\n15209       Gallicoop Körös szeletelt szárnyas mix 150 g    499\n15210  Gierlinger's főtt, füstölt sertés backbacon 200 g    849\n15211  Auchan Nívó Vöröshagymás sertés tepertőkrém ro...    749\n15213          Kometa Útravaló étkezesi sertészsír 400 g    979\n15214                                    Kacsazsír 200 g    999\n\n[7658 rows x 2 columns]",
      "text/html": "<div>\n<style scoped>\n    .dataframe tbody tr th:only-of-type {\n        vertical-align: middle;\n    }\n\n    .dataframe tbody tr th {\n        vertical-align: top;\n    }\n\n    .dataframe thead th {\n        text-align: right;\n    }\n</style>\n<table border=\"1\" class=\"dataframe\">\n  <thead>\n    <tr style=\"text-align: right;\">\n      <th></th>\n      <th>name</th>\n      <th>price</th>\n    </tr>\n  </thead>\n  <tbody>\n    <tr>\n      <th>0</th>\n      <td>Home komposztálható bevásárlószatyor 209x2x75x...</td>\n      <td>79</td>\n    </tr>\n    <tr>\n      <th>1</th>\n      <td>Auchan bevásárlótáska, duplafülű</td>\n      <td>299</td>\n    </tr>\n    <tr>\n      <th>2</th>\n      <td>Zöldség-gyümölcs retasak 3db 28x34 cm</td>\n      <td>499</td>\n    </tr>\n    <tr>\n      <th>3</th>\n      <td>Auchan karton doboz 39,8x29,8x30,4 cm</td>\n      <td>699</td>\n    </tr>\n    <tr>\n      <th>4</th>\n      <td>Auchan ünnepi bevásárló doboz 39,8x29,8x30,4 cm</td>\n      <td>699</td>\n    </tr>\n    <tr>\n      <th>...</th>\n      <td>...</td>\n      <td>...</td>\n    </tr>\n    <tr>\n      <th>15209</th>\n      <td>Gallicoop Körös szeletelt szárnyas mix 150 g</td>\n      <td>499</td>\n    </tr>\n    <tr>\n      <th>15210</th>\n      <td>Gierlinger's főtt, füstölt sertés backbacon 200 g</td>\n      <td>849</td>\n    </tr>\n    <tr>\n      <th>15211</th>\n      <td>Auchan Nívó Vöröshagymás sertés tepertőkrém ro...</td>\n      <td>749</td>\n    </tr>\n    <tr>\n      <th>15213</th>\n      <td>Kometa Útravaló étkezesi sertészsír 400 g</td>\n      <td>979</td>\n    </tr>\n    <tr>\n      <th>15214</th>\n      <td>Kacsazsír 200 g</td>\n      <td>999</td>\n    </tr>\n  </tbody>\n</table>\n<p>7658 rows × 2 columns</p>\n</div>"
     },
     "execution_count": 5,
     "metadata": {},
     "output_type": "execute_result"
    }
   ],
   "source": [
    "df.loc[df['price'] < 1000][[\"name\", \"price\"]]"
   ],
   "metadata": {
    "collapsed": false,
    "pycharm": {
     "name": "#%%\n"
    }
   }
  },
  {
   "cell_type": "markdown",
   "source": [
    "distinct category ids"
   ],
   "metadata": {
    "collapsed": false,
    "pycharm": {
     "name": "#%% md\n"
    }
   }
  },
  {
   "cell_type": "code",
   "execution_count": 6,
   "outputs": [
    {
     "data": {
      "text/plain": "493"
     },
     "execution_count": 6,
     "metadata": {},
     "output_type": "execute_result"
    }
   ],
   "source": [
    "(df[\"categoryId\"].value_counts()).count()"
   ],
   "metadata": {
    "collapsed": false,
    "pycharm": {
     "name": "#%%\n"
    }
   }
  },
  {
   "cell_type": "code",
   "execution_count": 7,
   "outputs": [
    {
     "data": {
      "text/plain": "5725    376\n5946    212\n5952    212\n5959    200\n5740    190\n       ... \n6279      1\n6447      1\n5886      1\n7290      1\n5800      1\nName: categoryId, Length: 493, dtype: int64"
     },
     "execution_count": 7,
     "metadata": {},
     "output_type": "execute_result"
    }
   ],
   "source": [
    "df[\"categoryId\"].value_counts()"
   ],
   "metadata": {
    "collapsed": false,
    "pycharm": {
     "name": "#%%\n"
    }
   }
  },
  {
   "cell_type": "code",
   "execution_count": 8,
   "outputs": [
    {
     "data": {
      "text/plain": "<AxesSubplot:ylabel='Frequency'>"
     },
     "execution_count": 8,
     "metadata": {},
     "output_type": "execute_result"
    },
    {
     "data": {
      "text/plain": "<Figure size 432x288 with 1 Axes>",
      "image/png": "[encoded data removed]"
     },
     "metadata": {
      "needs_background": "light"
     },
     "output_type": "display_data"
    }
   ],
   "source": [
    "df.loc[df['price'] < 5000]['price'].plot.hist(bins=500)"
   ],
   "metadata": {
    "collapsed": false,
    "pycharm": {
     "name": "#%%\n"
    }
   }
  },
  {
   "cell_type": "code",
   "execution_count": null,
   "outputs": [],
   "source": [],
   "metadata": {
    "collapsed": false,
    "pycharm": {
     "name": "#%%\n"
    }
   }
  }
 ],
 "metadata": {
  "kernelspec": {
   "display_name": "Python 3",
   "language": "python",
   "name": "python3"
  },
  "language_info": {
   "codemirror_mode": {
    "name": "ipython",
    "version": 2
   },
   "file_extension": ".py",
   "mimetype": "text/x-python",
   "name": "python",
   "nbconvert_exporter": "python",
   "pygments_lexer": "ipython2",
   "version": "2.7.6"
  }
 },
 "nbformat": 4,
 "nbformat_minor": 0
}
