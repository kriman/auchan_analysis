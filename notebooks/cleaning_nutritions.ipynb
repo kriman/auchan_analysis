{
 "cells": [
  {
   "cell_type": "code",
   "execution_count": 1,
   "outputs": [],
   "source": [
    "import pandas as pd\n",
    "import numpy as np\n",
    "import re"
   ],
   "metadata": {
    "collapsed": false,
    "pycharm": {
     "name": "#%%\n"
    }
   }
  },
  {
   "cell_type": "code",
   "execution_count": 2,
   "outputs": [],
   "source": [
    "DATE = \"2023_01_15\""
   ],
   "metadata": {
    "collapsed": false,
    "pycharm": {
     "name": "#%%\n"
    }
   }
  },
  {
   "cell_type": "code",
   "execution_count": 26,
   "outputs": [],
   "source": [
    "df = pd.read_csv(f'../databases/csv/{DATE}/nutritions_raw.csv', compression='xz')"
   ],
   "metadata": {
    "collapsed": false,
    "pycharm": {
     "name": "#%%\n"
    }
   }
  },
  {
   "cell_type": "code",
   "execution_count": 27,
   "outputs": [
    {
     "data": {
      "text/plain": "   Unnamed: 0       id Energia (kJ / kcal) Zsír (g)  Telített zsírsavak  (g)  \\\n0           0  4072139              235/56   2.8000                   1.8000   \n1           1    50586              255/60   0.8000                   0.6000   \n2           2  3727387            2351/564  36.0000                  22.0000   \n3           3  4061272                   1        1                        1   \n4           4    35341             645/155   4.0000                   0.4000   \n\n  Szénhidrát  (g)  Cukrok  (g) Fehérje (g)  Só (g) Rost  (g)  ... Cink  (mg)  \\\n0          4.7000       4.7000      3.0000  0.1300       NaN  ...        NaN   \n1         13.0000       6.5000      0.0000  0.0800    0.5000  ...        NaN   \n2         51.0000      30.0000      8.0000  0.2000    2.0000  ...        NaN   \n3               1            1           1       1       NaN  ...        NaN   \n4         25.5000       0.8000      2.5000  0.1000    2.8000  ...        NaN   \n\n  Réz  (mg) Jód (µg) Nátrium (g)  Ebből koleszterin Mangán  (mg) Fluor (µg)  \\\n0       NaN      NaN         NaN                NaN          NaN        NaN   \n1       NaN      NaN         NaN                NaN          NaN        NaN   \n2       NaN      NaN         NaN                NaN          NaN        NaN   \n3       NaN      NaN         NaN                NaN          NaN        NaN   \n4       NaN      NaN         NaN                NaN          NaN        NaN   \n\n  Szelén (µg) Króm (µg) Molibdén (µg)  \n0         NaN       NaN           NaN  \n1         NaN       NaN           NaN  \n2         NaN       NaN           NaN  \n3         NaN       NaN           NaN  \n4         NaN       NaN           NaN  \n\n[5 rows x 43 columns]",
      "text/html": "<div>\n<style scoped>\n    .dataframe tbody tr th:only-of-type {\n        vertical-align: middle;\n    }\n\n    .dataframe tbody tr th {\n        vertical-align: top;\n    }\n\n    .dataframe thead th {\n        text-align: right;\n    }\n</style>\n<table border=\"1\" class=\"dataframe\">\n  <thead>\n    <tr style=\"text-align: right;\">\n      <th></th>\n      <th>Unnamed: 0</th>\n      <th>id</th>\n      <th>Energia (kJ / kcal)</th>\n      <th>Zsír (g)</th>\n      <th>Telített zsírsavak  (g)</th>\n      <th>Szénhidrát  (g)</th>\n      <th>Cukrok  (g)</th>\n      <th>Fehérje (g)</th>\n      <th>Só (g)</th>\n      <th>Rost  (g)</th>\n      <th>...</th>\n      <th>Cink  (mg)</th>\n      <th>Réz  (mg)</th>\n      <th>Jód (µg)</th>\n      <th>Nátrium (g)</th>\n      <th>Ebből koleszterin</th>\n      <th>Mangán  (mg)</th>\n      <th>Fluor (µg)</th>\n      <th>Szelén (µg)</th>\n      <th>Króm (µg)</th>\n      <th>Molibdén (µg)</th>\n    </tr>\n  </thead>\n  <tbody>\n    <tr>\n      <th>0</th>\n      <td>0</td>\n      <td>4072139</td>\n      <td>235/56</td>\n      <td>2.8000</td>\n      <td>1.8000</td>\n      <td>4.7000</td>\n      <td>4.7000</td>\n      <td>3.0000</td>\n      <td>0.1300</td>\n      <td>NaN</td>\n      <td>...</td>\n      <td>NaN</td>\n      <td>NaN</td>\n      <td>NaN</td>\n      <td>NaN</td>\n      <td>NaN</td>\n      <td>NaN</td>\n      <td>NaN</td>\n      <td>NaN</td>\n      <td>NaN</td>\n      <td>NaN</td>\n    </tr>\n    <tr>\n      <th>1</th>\n      <td>1</td>\n      <td>50586</td>\n      <td>255/60</td>\n      <td>0.8000</td>\n      <td>0.6000</td>\n      <td>13.0000</td>\n      <td>6.5000</td>\n      <td>0.0000</td>\n      <td>0.0800</td>\n      <td>0.5000</td>\n      <td>...</td>\n      <td>NaN</td>\n      <td>NaN</td>\n      <td>NaN</td>\n      <td>NaN</td>\n      <td>NaN</td>\n      <td>NaN</td>\n      <td>NaN</td>\n      <td>NaN</td>\n      <td>NaN</td>\n      <td>NaN</td>\n    </tr>\n    <tr>\n      <th>2</th>\n      <td>2</td>\n      <td>3727387</td>\n      <td>2351/564</td>\n      <td>36.0000</td>\n      <td>22.0000</td>\n      <td>51.0000</td>\n      <td>30.0000</td>\n      <td>8.0000</td>\n      <td>0.2000</td>\n      <td>2.0000</td>\n      <td>...</td>\n      <td>NaN</td>\n      <td>NaN</td>\n      <td>NaN</td>\n      <td>NaN</td>\n      <td>NaN</td>\n      <td>NaN</td>\n      <td>NaN</td>\n      <td>NaN</td>\n      <td>NaN</td>\n      <td>NaN</td>\n    </tr>\n    <tr>\n      <th>3</th>\n      <td>3</td>\n      <td>4061272</td>\n      <td>1</td>\n      <td>1</td>\n      <td>1</td>\n      <td>1</td>\n      <td>1</td>\n      <td>1</td>\n      <td>1</td>\n      <td>NaN</td>\n      <td>...</td>\n      <td>NaN</td>\n      <td>NaN</td>\n      <td>NaN</td>\n      <td>NaN</td>\n      <td>NaN</td>\n      <td>NaN</td>\n      <td>NaN</td>\n      <td>NaN</td>\n      <td>NaN</td>\n      <td>NaN</td>\n    </tr>\n    <tr>\n      <th>4</th>\n      <td>4</td>\n      <td>35341</td>\n      <td>645/155</td>\n      <td>4.0000</td>\n      <td>0.4000</td>\n      <td>25.5000</td>\n      <td>0.8000</td>\n      <td>2.5000</td>\n      <td>0.1000</td>\n      <td>2.8000</td>\n      <td>...</td>\n      <td>NaN</td>\n      <td>NaN</td>\n      <td>NaN</td>\n      <td>NaN</td>\n      <td>NaN</td>\n      <td>NaN</td>\n      <td>NaN</td>\n      <td>NaN</td>\n      <td>NaN</td>\n      <td>NaN</td>\n    </tr>\n  </tbody>\n</table>\n<p>5 rows × 43 columns</p>\n</div>"
     },
     "execution_count": 27,
     "metadata": {},
     "output_type": "execute_result"
    }
   ],
   "source": [
    "df.head()"
   ],
   "metadata": {
    "collapsed": false,
    "pycharm": {
     "name": "#%%\n"
    }
   }
  },
  {
   "cell_type": "code",
   "execution_count": 5,
   "outputs": [],
   "source": [
    "del df[\"Unnamed: 0\"]"
   ],
   "metadata": {
    "collapsed": false,
    "pycharm": {
     "name": "#%%\n"
    }
   }
  },
  {
   "cell_type": "markdown",
   "source": [
    "# Column names"
   ],
   "metadata": {
    "collapsed": false,
    "pycharm": {
     "name": "#%% md\n"
    }
   }
  },
  {
   "cell_type": "code",
   "execution_count": 6,
   "outputs": [
    {
     "data": {
      "text/plain": "Index(['id', 'Energia (kJ / kcal)', 'Zsír (g)', ' Telített zsírsavak  (g)',\n       'Szénhidrát  (g)', ' Cukrok  (g)', 'Fehérje (g)', 'Só (g)', 'Rost  (g)',\n       'C vitamin (mg)', ' Egyszeresen telítetlen zsírsavak  (g)',\n       'A vitamin (µg)', ' Többszörösen telítetlen zsírsavak  (g)',\n       ' Poliolok  (g)', ' Keményítő  (g)', 'D vitamin (µg)', 'E vitamin (mg)',\n       'K vitamin (µg)', 'Tiamin (mg)', 'Riboflavin (mg)', 'Niacin (mg)',\n       'B6 vitamin (mg)', 'Folsav (µg)', 'B 12 vitamin (µg)', 'Biotin (µg)',\n       'Pantoténsav (mg)', 'Kálium (mg)', 'Klorid (mg)', 'Kalcium (mg)',\n       'Foszfor (mg)', 'Magnézium (mg)', 'Vas (mg)', 'Cink  (mg)', 'Réz  (mg)',\n       'Jód (µg)', 'Nátrium (g)', ' Ebből koleszterin', 'Mangán  (mg)',\n       'Fluor (µg)', 'Szelén (µg)', 'Króm (µg)', 'Molibdén (µg)'],\n      dtype='object')"
     },
     "execution_count": 6,
     "metadata": {},
     "output_type": "execute_result"
    }
   ],
   "source": [
    "df.columns"
   ],
   "metadata": {
    "collapsed": false,
    "pycharm": {
     "name": "#%%\n"
    }
   }
  },
  {
   "cell_type": "code",
   "execution_count": 6,
   "outputs": [],
   "source": [
    "df.columns = df.columns.str.strip()"
   ],
   "metadata": {
    "collapsed": false,
    "pycharm": {
     "name": "#%%\n"
    }
   }
  },
  {
   "cell_type": "code",
   "execution_count": 7,
   "outputs": [
    {
     "data": {
      "text/plain": "Index(['id', 'Energia_(kJ_/_kcal)', 'Zsír_(g)', 'Telített_zsírsavak__(g)',\n       'Szénhidrát__(g)', 'Cukrok__(g)', 'Rost__(g)', 'Fehérje_(g)', 'Só_(g)',\n       'Riboflavin_(mg)', 'Egyszeresen_telítetlen_zsírsavak__(g)',\n       'C_vitamin_(mg)', 'B_12_vitamin_(µg)', 'Jód_(µg)', 'D_vitamin_(µg)',\n       'B6_vitamin_(mg)', 'Biotin_(µg)', 'Kálium_(mg)', 'Kalcium_(mg)',\n       'Magnézium_(mg)', 'Vas_(mg)', 'Réz__(mg)', 'Szelén_(µg)',\n       'Molibdén_(µg)', 'Nátrium_(g)',\n       'Többszörösen_telítetlen_zsírsavak__(g)', 'Poliolok__(g)',\n       'Keményítő__(g)', 'E_vitamin_(mg)', 'K_vitamin_(µg)', 'Folsav_(µg)',\n       'Foszfor_(mg)', 'Ebből_koleszterin', 'A_vitamin_(µg)', 'Tiamin_(mg)',\n       'Niacin_(mg)', 'Pantoténsav_(mg)', 'Klorid_(mg)', 'Cink__(mg)',\n       'Mangán__(mg)', 'Fluor_(µg)', 'Króm_(µg)'],\n      dtype='object')"
     },
     "execution_count": 7,
     "metadata": {},
     "output_type": "execute_result"
    }
   ],
   "source": [
    "df.columns.str.replace(\" \", \"_\")"
   ],
   "metadata": {
    "collapsed": false,
    "pycharm": {
     "name": "#%%\n"
    }
   }
  },
  {
   "cell_type": "code",
   "execution_count": 8,
   "outputs": [],
   "source": [
    "df.columns = df.columns.str.replace(\"  \", \" \")"
   ],
   "metadata": {
    "collapsed": false,
    "pycharm": {
     "name": "#%%\n"
    }
   }
  },
  {
   "cell_type": "code",
   "execution_count": 9,
   "outputs": [
    {
     "data": {
      "text/plain": "Index(['id', 'Energia (kJ / kcal)', 'Zsír (g)', 'Telített zsírsavak (g)',\n       'Szénhidrát (g)', 'Cukrok (g)', 'Rost (g)', 'Fehérje (g)', 'Só (g)',\n       'Riboflavin (mg)', 'Egyszeresen telítetlen zsírsavak (g)',\n       'C vitamin (mg)', 'B 12 vitamin (µg)', 'Jód (µg)', 'D vitamin (µg)',\n       'B6 vitamin (mg)', 'Biotin (µg)', 'Kálium (mg)', 'Kalcium (mg)',\n       'Magnézium (mg)', 'Vas (mg)', 'Réz (mg)', 'Szelén (µg)',\n       'Molibdén (µg)', 'Nátrium (g)', 'Többszörösen telítetlen zsírsavak (g)',\n       'Poliolok (g)', 'Keményítő (g)', 'E vitamin (mg)', 'K vitamin (µg)',\n       'Folsav (µg)', 'Foszfor (mg)', 'Ebből koleszterin', 'A vitamin (µg)',\n       'Tiamin (mg)', 'Niacin (mg)', 'Pantoténsav (mg)', 'Klorid (mg)',\n       'Cink (mg)', 'Mangán (mg)', 'Fluor (µg)', 'Króm (µg)'],\n      dtype='object')"
     },
     "execution_count": 9,
     "metadata": {},
     "output_type": "execute_result"
    }
   ],
   "source": [
    "df.columns"
   ],
   "metadata": {
    "collapsed": false,
    "pycharm": {
     "name": "#%%\n"
    }
   }
  },
  {
   "cell_type": "code",
   "execution_count": 8,
   "outputs": [],
   "source": [
    "df.rename(columns={\"Energia (kJ / kcal)\": \"Energia (kcal)\"}, inplace=True)"
   ],
   "metadata": {
    "collapsed": false,
    "pycharm": {
     "name": "#%%\n"
    }
   }
  },
  {
   "cell_type": "code",
   "execution_count": 9,
   "outputs": [
    {
     "data": {
      "text/plain": "                              nutrition    unit_type\n0                                    id         None\n1                               Energia       (kcal)\n2                                  Zsír          (g)\n3                   Telített zsírsavak           (g)\n4                           Szénhidrát           (g)\n5                               Cukrok           (g)\n6                               Fehérje          (g)\n7                                    Só          (g)\n8                                 Rost           (g)\n9                             C vitamin         (mg)\n10    Egyszeresen telítetlen zsírsavak           (g)\n11                            A vitamin         (µg)\n12   Többszörösen telítetlen zsírsavak           (g)\n13                            Poliolok           (g)\n14                           Keményítő           (g)\n15                            D vitamin         (µg)\n16                            E vitamin         (mg)\n17                            K vitamin         (µg)\n18                               Tiamin         (mg)\n19                           Riboflavin         (mg)\n20                               Niacin         (mg)\n21                           B6 vitamin         (mg)\n22                               Folsav         (µg)\n23                         B 12 vitamin         (µg)\n24                               Biotin         (µg)\n25                          Pantoténsav         (mg)\n26                               Kálium         (mg)\n27                               Klorid         (mg)\n28                              Kalcium         (mg)\n29                              Foszfor         (mg)\n30                            Magnézium         (mg)\n31                                  Vas         (mg)\n32                                Cink          (mg)\n33                                 Réz          (mg)\n34                                  Jód         (µg)\n35                              Nátrium          (g)\n36                                Ebből  koleszterin\n37                              Mangán          (mg)\n38                                Fluor         (µg)\n39                               Szelén         (µg)\n40                                 Króm         (µg)\n41                             Molibdén         (µg)",
      "text/html": "<div>\n<style scoped>\n    .dataframe tbody tr th:only-of-type {\n        vertical-align: middle;\n    }\n\n    .dataframe tbody tr th {\n        vertical-align: top;\n    }\n\n    .dataframe thead th {\n        text-align: right;\n    }\n</style>\n<table border=\"1\" class=\"dataframe\">\n  <thead>\n    <tr style=\"text-align: right;\">\n      <th></th>\n      <th>nutrition</th>\n      <th>unit_type</th>\n    </tr>\n  </thead>\n  <tbody>\n    <tr>\n      <th>0</th>\n      <td>id</td>\n      <td>None</td>\n    </tr>\n    <tr>\n      <th>1</th>\n      <td>Energia</td>\n      <td>(kcal)</td>\n    </tr>\n    <tr>\n      <th>2</th>\n      <td>Zsír</td>\n      <td>(g)</td>\n    </tr>\n    <tr>\n      <th>3</th>\n      <td>Telített zsírsavak</td>\n      <td>(g)</td>\n    </tr>\n    <tr>\n      <th>4</th>\n      <td>Szénhidrát</td>\n      <td>(g)</td>\n    </tr>\n    <tr>\n      <th>5</th>\n      <td>Cukrok</td>\n      <td>(g)</td>\n    </tr>\n    <tr>\n      <th>6</th>\n      <td>Fehérje</td>\n      <td>(g)</td>\n    </tr>\n    <tr>\n      <th>7</th>\n      <td>Só</td>\n      <td>(g)</td>\n    </tr>\n    <tr>\n      <th>8</th>\n      <td>Rost</td>\n      <td>(g)</td>\n    </tr>\n    <tr>\n      <th>9</th>\n      <td>C vitamin</td>\n      <td>(mg)</td>\n    </tr>\n    <tr>\n      <th>10</th>\n      <td>Egyszeresen telítetlen zsírsavak</td>\n      <td>(g)</td>\n    </tr>\n    <tr>\n      <th>11</th>\n      <td>A vitamin</td>\n      <td>(µg)</td>\n    </tr>\n    <tr>\n      <th>12</th>\n      <td>Többszörösen telítetlen zsírsavak</td>\n      <td>(g)</td>\n    </tr>\n    <tr>\n      <th>13</th>\n      <td>Poliolok</td>\n      <td>(g)</td>\n    </tr>\n    <tr>\n      <th>14</th>\n      <td>Keményítő</td>\n      <td>(g)</td>\n    </tr>\n    <tr>\n      <th>15</th>\n      <td>D vitamin</td>\n      <td>(µg)</td>\n    </tr>\n    <tr>\n      <th>16</th>\n      <td>E vitamin</td>\n      <td>(mg)</td>\n    </tr>\n    <tr>\n      <th>17</th>\n      <td>K vitamin</td>\n      <td>(µg)</td>\n    </tr>\n    <tr>\n      <th>18</th>\n      <td>Tiamin</td>\n      <td>(mg)</td>\n    </tr>\n    <tr>\n      <th>19</th>\n      <td>Riboflavin</td>\n      <td>(mg)</td>\n    </tr>\n    <tr>\n      <th>20</th>\n      <td>Niacin</td>\n      <td>(mg)</td>\n    </tr>\n    <tr>\n      <th>21</th>\n      <td>B6 vitamin</td>\n      <td>(mg)</td>\n    </tr>\n    <tr>\n      <th>22</th>\n      <td>Folsav</td>\n      <td>(µg)</td>\n    </tr>\n    <tr>\n      <th>23</th>\n      <td>B 12 vitamin</td>\n      <td>(µg)</td>\n    </tr>\n    <tr>\n      <th>24</th>\n      <td>Biotin</td>\n      <td>(µg)</td>\n    </tr>\n    <tr>\n      <th>25</th>\n      <td>Pantoténsav</td>\n      <td>(mg)</td>\n    </tr>\n    <tr>\n      <th>26</th>\n      <td>Kálium</td>\n      <td>(mg)</td>\n    </tr>\n    <tr>\n      <th>27</th>\n      <td>Klorid</td>\n      <td>(mg)</td>\n    </tr>\n    <tr>\n      <th>28</th>\n      <td>Kalcium</td>\n      <td>(mg)</td>\n    </tr>\n    <tr>\n      <th>29</th>\n      <td>Foszfor</td>\n      <td>(mg)</td>\n    </tr>\n    <tr>\n      <th>30</th>\n      <td>Magnézium</td>\n      <td>(mg)</td>\n    </tr>\n    <tr>\n      <th>31</th>\n      <td>Vas</td>\n      <td>(mg)</td>\n    </tr>\n    <tr>\n      <th>32</th>\n      <td>Cink</td>\n      <td>(mg)</td>\n    </tr>\n    <tr>\n      <th>33</th>\n      <td>Réz</td>\n      <td>(mg)</td>\n    </tr>\n    <tr>\n      <th>34</th>\n      <td>Jód</td>\n      <td>(µg)</td>\n    </tr>\n    <tr>\n      <th>35</th>\n      <td>Nátrium</td>\n      <td>(g)</td>\n    </tr>\n    <tr>\n      <th>36</th>\n      <td>Ebből</td>\n      <td>koleszterin</td>\n    </tr>\n    <tr>\n      <th>37</th>\n      <td>Mangán</td>\n      <td>(mg)</td>\n    </tr>\n    <tr>\n      <th>38</th>\n      <td>Fluor</td>\n      <td>(µg)</td>\n    </tr>\n    <tr>\n      <th>39</th>\n      <td>Szelén</td>\n      <td>(µg)</td>\n    </tr>\n    <tr>\n      <th>40</th>\n      <td>Króm</td>\n      <td>(µg)</td>\n    </tr>\n    <tr>\n      <th>41</th>\n      <td>Molibdén</td>\n      <td>(µg)</td>\n    </tr>\n  </tbody>\n</table>\n</div>"
     },
     "execution_count": 9,
     "metadata": {},
     "output_type": "execute_result"
    }
   ],
   "source": [
    "units = pd.DataFrame(df.columns.str.rsplit(\" \", n=1).tolist(), columns = ['nutrition', 'unit_type'])\n",
    "units"
   ],
   "metadata": {
    "collapsed": false,
    "pycharm": {
     "name": "#%%\n"
    }
   }
  },
  {
   "cell_type": "code",
   "execution_count": 10,
   "outputs": [
    {
     "data": {
      "text/plain": "                              nutrition    unit_type\n0                                    id         None\n1                               Energia       (kcal)\n2                                  Zsír          (g)\n3                   Telített zsírsavak           (g)\n4                           Szénhidrát           (g)\n5                               Cukrok           (g)\n6                               Fehérje          (g)\n7                                    Só          (g)\n8                                 Rost           (g)\n9                             C vitamin         (mg)\n10    Egyszeresen telítetlen zsírsavak           (g)\n11                            A vitamin         (µg)\n12   Többszörösen telítetlen zsírsavak           (g)\n13                            Poliolok           (g)\n14                           Keményítő           (g)\n15                            D vitamin         (µg)\n16                            E vitamin         (mg)\n17                            K vitamin         (µg)\n18                               Tiamin         (mg)\n19                           Riboflavin         (mg)\n20                               Niacin         (mg)\n21                           B6 vitamin         (mg)\n22                               Folsav         (µg)\n23                         B 12 vitamin         (µg)\n24                               Biotin         (µg)\n25                          Pantoténsav         (mg)\n26                               Kálium         (mg)\n27                               Klorid         (mg)\n28                              Kalcium         (mg)\n29                              Foszfor         (mg)\n30                            Magnézium         (mg)\n31                                  Vas         (mg)\n32                                Cink          (mg)\n33                                 Réz          (mg)\n34                                  Jód         (µg)\n35                              Nátrium          (g)\n36                                Ebből  koleszterin\n37                              Mangán          (mg)\n38                                Fluor         (µg)\n39                               Szelén         (µg)\n40                                 Króm         (µg)\n41                             Molibdén         (µg)",
      "text/html": "<div>\n<style scoped>\n    .dataframe tbody tr th:only-of-type {\n        vertical-align: middle;\n    }\n\n    .dataframe tbody tr th {\n        vertical-align: top;\n    }\n\n    .dataframe thead th {\n        text-align: right;\n    }\n</style>\n<table border=\"1\" class=\"dataframe\">\n  <thead>\n    <tr style=\"text-align: right;\">\n      <th></th>\n      <th>nutrition</th>\n      <th>unit_type</th>\n    </tr>\n  </thead>\n  <tbody>\n    <tr>\n      <th>0</th>\n      <td>id</td>\n      <td>None</td>\n    </tr>\n    <tr>\n      <th>1</th>\n      <td>Energia</td>\n      <td>(kcal)</td>\n    </tr>\n    <tr>\n      <th>2</th>\n      <td>Zsír</td>\n      <td>(g)</td>\n    </tr>\n    <tr>\n      <th>3</th>\n      <td>Telített zsírsavak</td>\n      <td>(g)</td>\n    </tr>\n    <tr>\n      <th>4</th>\n      <td>Szénhidrát</td>\n      <td>(g)</td>\n    </tr>\n    <tr>\n      <th>5</th>\n      <td>Cukrok</td>\n      <td>(g)</td>\n    </tr>\n    <tr>\n      <th>6</th>\n      <td>Fehérje</td>\n      <td>(g)</td>\n    </tr>\n    <tr>\n      <th>7</th>\n      <td>Só</td>\n      <td>(g)</td>\n    </tr>\n    <tr>\n      <th>8</th>\n      <td>Rost</td>\n      <td>(g)</td>\n    </tr>\n    <tr>\n      <th>9</th>\n      <td>C vitamin</td>\n      <td>(mg)</td>\n    </tr>\n    <tr>\n      <th>10</th>\n      <td>Egyszeresen telítetlen zsírsavak</td>\n      <td>(g)</td>\n    </tr>\n    <tr>\n      <th>11</th>\n      <td>A vitamin</td>\n      <td>(µg)</td>\n    </tr>\n    <tr>\n      <th>12</th>\n      <td>Többszörösen telítetlen zsírsavak</td>\n      <td>(g)</td>\n    </tr>\n    <tr>\n      <th>13</th>\n      <td>Poliolok</td>\n      <td>(g)</td>\n    </tr>\n    <tr>\n      <th>14</th>\n      <td>Keményítő</td>\n      <td>(g)</td>\n    </tr>\n    <tr>\n      <th>15</th>\n      <td>D vitamin</td>\n      <td>(µg)</td>\n    </tr>\n    <tr>\n      <th>16</th>\n      <td>E vitamin</td>\n      <td>(mg)</td>\n    </tr>\n    <tr>\n      <th>17</th>\n      <td>K vitamin</td>\n      <td>(µg)</td>\n    </tr>\n    <tr>\n      <th>18</th>\n      <td>Tiamin</td>\n      <td>(mg)</td>\n    </tr>\n    <tr>\n      <th>19</th>\n      <td>Riboflavin</td>\n      <td>(mg)</td>\n    </tr>\n    <tr>\n      <th>20</th>\n      <td>Niacin</td>\n      <td>(mg)</td>\n    </tr>\n    <tr>\n      <th>21</th>\n      <td>B6 vitamin</td>\n      <td>(mg)</td>\n    </tr>\n    <tr>\n      <th>22</th>\n      <td>Folsav</td>\n      <td>(µg)</td>\n    </tr>\n    <tr>\n      <th>23</th>\n      <td>B 12 vitamin</td>\n      <td>(µg)</td>\n    </tr>\n    <tr>\n      <th>24</th>\n      <td>Biotin</td>\n      <td>(µg)</td>\n    </tr>\n    <tr>\n      <th>25</th>\n      <td>Pantoténsav</td>\n      <td>(mg)</td>\n    </tr>\n    <tr>\n      <th>26</th>\n      <td>Kálium</td>\n      <td>(mg)</td>\n    </tr>\n    <tr>\n      <th>27</th>\n      <td>Klorid</td>\n      <td>(mg)</td>\n    </tr>\n    <tr>\n      <th>28</th>\n      <td>Kalcium</td>\n      <td>(mg)</td>\n    </tr>\n    <tr>\n      <th>29</th>\n      <td>Foszfor</td>\n      <td>(mg)</td>\n    </tr>\n    <tr>\n      <th>30</th>\n      <td>Magnézium</td>\n      <td>(mg)</td>\n    </tr>\n    <tr>\n      <th>31</th>\n      <td>Vas</td>\n      <td>(mg)</td>\n    </tr>\n    <tr>\n      <th>32</th>\n      <td>Cink</td>\n      <td>(mg)</td>\n    </tr>\n    <tr>\n      <th>33</th>\n      <td>Réz</td>\n      <td>(mg)</td>\n    </tr>\n    <tr>\n      <th>34</th>\n      <td>Jód</td>\n      <td>(µg)</td>\n    </tr>\n    <tr>\n      <th>35</th>\n      <td>Nátrium</td>\n      <td>(g)</td>\n    </tr>\n    <tr>\n      <th>36</th>\n      <td>Ebből</td>\n      <td>koleszterin</td>\n    </tr>\n    <tr>\n      <th>37</th>\n      <td>Mangán</td>\n      <td>(mg)</td>\n    </tr>\n    <tr>\n      <th>38</th>\n      <td>Fluor</td>\n      <td>(µg)</td>\n    </tr>\n    <tr>\n      <th>39</th>\n      <td>Szelén</td>\n      <td>(µg)</td>\n    </tr>\n    <tr>\n      <th>40</th>\n      <td>Króm</td>\n      <td>(µg)</td>\n    </tr>\n    <tr>\n      <th>41</th>\n      <td>Molibdén</td>\n      <td>(µg)</td>\n    </tr>\n  </tbody>\n</table>\n</div>"
     },
     "execution_count": 10,
     "metadata": {},
     "output_type": "execute_result"
    }
   ],
   "source": [
    "#units.drop(0, axis=0, inplace=True)\n",
    "units.loc[units['nutrition'] == 'Ebből', \"unit_type\"] = None\n",
    "units.loc[units['nutrition']=='Ebből', \"nutrition\"] = \"Ebből koleszterin\"\n",
    "units"
   ],
   "metadata": {
    "collapsed": false,
    "pycharm": {
     "name": "#%%\n"
    }
   }
  },
  {
   "cell_type": "code",
   "execution_count": 11,
   "outputs": [
    {
     "data": {
      "text/plain": "                              nutrition    unit_type\n0                                    id         None\n1                               Energia         kcal\n2                                  Zsír            g\n3                   Telített zsírsavak             g\n4                           Szénhidrát             g\n5                               Cukrok             g\n6                               Fehérje            g\n7                                    Só            g\n8                                 Rost             g\n9                             C vitamin           mg\n10    Egyszeresen telítetlen zsírsavak             g\n11                            A vitamin           µg\n12   Többszörösen telítetlen zsírsavak             g\n13                            Poliolok             g\n14                           Keményítő             g\n15                            D vitamin           µg\n16                            E vitamin           mg\n17                            K vitamin           µg\n18                               Tiamin           mg\n19                           Riboflavin           mg\n20                               Niacin           mg\n21                           B6 vitamin           mg\n22                               Folsav           µg\n23                         B 12 vitamin           µg\n24                               Biotin           µg\n25                          Pantoténsav           mg\n26                               Kálium           mg\n27                               Klorid           mg\n28                              Kalcium           mg\n29                              Foszfor           mg\n30                            Magnézium           mg\n31                                  Vas           mg\n32                                Cink            mg\n33                                 Réz            mg\n34                                  Jód           µg\n35                              Nátrium            g\n36                                Ebből  koleszterin\n37                              Mangán            mg\n38                                Fluor           µg\n39                               Szelén           µg\n40                                 Króm           µg\n41                             Molibdén           µg",
      "text/html": "<div>\n<style scoped>\n    .dataframe tbody tr th:only-of-type {\n        vertical-align: middle;\n    }\n\n    .dataframe tbody tr th {\n        vertical-align: top;\n    }\n\n    .dataframe thead th {\n        text-align: right;\n    }\n</style>\n<table border=\"1\" class=\"dataframe\">\n  <thead>\n    <tr style=\"text-align: right;\">\n      <th></th>\n      <th>nutrition</th>\n      <th>unit_type</th>\n    </tr>\n  </thead>\n  <tbody>\n    <tr>\n      <th>0</th>\n      <td>id</td>\n      <td>None</td>\n    </tr>\n    <tr>\n      <th>1</th>\n      <td>Energia</td>\n      <td>kcal</td>\n    </tr>\n    <tr>\n      <th>2</th>\n      <td>Zsír</td>\n      <td>g</td>\n    </tr>\n    <tr>\n      <th>3</th>\n      <td>Telített zsírsavak</td>\n      <td>g</td>\n    </tr>\n    <tr>\n      <th>4</th>\n      <td>Szénhidrát</td>\n      <td>g</td>\n    </tr>\n    <tr>\n      <th>5</th>\n      <td>Cukrok</td>\n      <td>g</td>\n    </tr>\n    <tr>\n      <th>6</th>\n      <td>Fehérje</td>\n      <td>g</td>\n    </tr>\n    <tr>\n      <th>7</th>\n      <td>Só</td>\n      <td>g</td>\n    </tr>\n    <tr>\n      <th>8</th>\n      <td>Rost</td>\n      <td>g</td>\n    </tr>\n    <tr>\n      <th>9</th>\n      <td>C vitamin</td>\n      <td>mg</td>\n    </tr>\n    <tr>\n      <th>10</th>\n      <td>Egyszeresen telítetlen zsírsavak</td>\n      <td>g</td>\n    </tr>\n    <tr>\n      <th>11</th>\n      <td>A vitamin</td>\n      <td>µg</td>\n    </tr>\n    <tr>\n      <th>12</th>\n      <td>Többszörösen telítetlen zsírsavak</td>\n      <td>g</td>\n    </tr>\n    <tr>\n      <th>13</th>\n      <td>Poliolok</td>\n      <td>g</td>\n    </tr>\n    <tr>\n      <th>14</th>\n      <td>Keményítő</td>\n      <td>g</td>\n    </tr>\n    <tr>\n      <th>15</th>\n      <td>D vitamin</td>\n      <td>µg</td>\n    </tr>\n    <tr>\n      <th>16</th>\n      <td>E vitamin</td>\n      <td>mg</td>\n    </tr>\n    <tr>\n      <th>17</th>\n      <td>K vitamin</td>\n      <td>µg</td>\n    </tr>\n    <tr>\n      <th>18</th>\n      <td>Tiamin</td>\n      <td>mg</td>\n    </tr>\n    <tr>\n      <th>19</th>\n      <td>Riboflavin</td>\n      <td>mg</td>\n    </tr>\n    <tr>\n      <th>20</th>\n      <td>Niacin</td>\n      <td>mg</td>\n    </tr>\n    <tr>\n      <th>21</th>\n      <td>B6 vitamin</td>\n      <td>mg</td>\n    </tr>\n    <tr>\n      <th>22</th>\n      <td>Folsav</td>\n      <td>µg</td>\n    </tr>\n    <tr>\n      <th>23</th>\n      <td>B 12 vitamin</td>\n      <td>µg</td>\n    </tr>\n    <tr>\n      <th>24</th>\n      <td>Biotin</td>\n      <td>µg</td>\n    </tr>\n    <tr>\n      <th>25</th>\n      <td>Pantoténsav</td>\n      <td>mg</td>\n    </tr>\n    <tr>\n      <th>26</th>\n      <td>Kálium</td>\n      <td>mg</td>\n    </tr>\n    <tr>\n      <th>27</th>\n      <td>Klorid</td>\n      <td>mg</td>\n    </tr>\n    <tr>\n      <th>28</th>\n      <td>Kalcium</td>\n      <td>mg</td>\n    </tr>\n    <tr>\n      <th>29</th>\n      <td>Foszfor</td>\n      <td>mg</td>\n    </tr>\n    <tr>\n      <th>30</th>\n      <td>Magnézium</td>\n      <td>mg</td>\n    </tr>\n    <tr>\n      <th>31</th>\n      <td>Vas</td>\n      <td>mg</td>\n    </tr>\n    <tr>\n      <th>32</th>\n      <td>Cink</td>\n      <td>mg</td>\n    </tr>\n    <tr>\n      <th>33</th>\n      <td>Réz</td>\n      <td>mg</td>\n    </tr>\n    <tr>\n      <th>34</th>\n      <td>Jód</td>\n      <td>µg</td>\n    </tr>\n    <tr>\n      <th>35</th>\n      <td>Nátrium</td>\n      <td>g</td>\n    </tr>\n    <tr>\n      <th>36</th>\n      <td>Ebből</td>\n      <td>koleszterin</td>\n    </tr>\n    <tr>\n      <th>37</th>\n      <td>Mangán</td>\n      <td>mg</td>\n    </tr>\n    <tr>\n      <th>38</th>\n      <td>Fluor</td>\n      <td>µg</td>\n    </tr>\n    <tr>\n      <th>39</th>\n      <td>Szelén</td>\n      <td>µg</td>\n    </tr>\n    <tr>\n      <th>40</th>\n      <td>Króm</td>\n      <td>µg</td>\n    </tr>\n    <tr>\n      <th>41</th>\n      <td>Molibdén</td>\n      <td>µg</td>\n    </tr>\n  </tbody>\n</table>\n</div>"
     },
     "execution_count": 11,
     "metadata": {},
     "output_type": "execute_result"
    }
   ],
   "source": [
    "units[\"unit_type\"] = units[\"unit_type\"].str.replace(pat=r'[\\(\\)]', repl=r'', regex=True)\n",
    "units"
   ],
   "metadata": {
    "collapsed": false,
    "pycharm": {
     "name": "#%%\n"
    }
   }
  },
  {
   "cell_type": "code",
   "execution_count": 12,
   "outputs": [
    {
     "data": {
      "text/plain": "Index(['id', 'Energia', 'Zsír', ' Telített zsírsavak ', 'Szénhidrát ',\n       ' Cukrok ', 'Fehérje', 'Só', 'Rost ', 'C vitamin',\n       ' Egyszeresen telítetlen zsírsavak ', 'A vitamin',\n       ' Többszörösen telítetlen zsírsavak ', ' Poliolok ', ' Keményítő ',\n       'D vitamin', 'E vitamin', 'K vitamin', 'Tiamin', 'Riboflavin', 'Niacin',\n       'B6 vitamin', 'Folsav', 'B 12 vitamin', 'Biotin', 'Pantoténsav',\n       'Kálium', 'Klorid', 'Kalcium', 'Foszfor', 'Magnézium', 'Vas', 'Cink ',\n       'Réz ', 'Jód', 'Nátrium', ' Ebből', 'Mangán ', 'Fluor', 'Szelén',\n       'Króm', 'Molibdén'],\n      dtype='object', name='nutrition')"
     },
     "execution_count": 12,
     "metadata": {},
     "output_type": "execute_result"
    }
   ],
   "source": [
    "df.columns = units[\"nutrition\"]\n",
    "df.columns"
   ],
   "metadata": {
    "collapsed": false,
    "pycharm": {
     "name": "#%%\n"
    }
   }
  },
  {
   "cell_type": "code",
   "execution_count": 13,
   "outputs": [],
   "source": [
    "units.to_csv(f\"../databases/csv/{DATE}/nutritions_units.csv\")"
   ],
   "metadata": {
    "collapsed": false,
    "pycharm": {
     "name": "#%%\n"
    }
   }
  },
  {
   "cell_type": "markdown",
   "source": [
    "# Energia\n",
    "keeping kcal only"
   ],
   "metadata": {
    "collapsed": false,
    "pycharm": {
     "name": "#%% md\n"
    }
   }
  },
  {
   "cell_type": "code",
   "execution_count": 14,
   "outputs": [
    {
     "data": {
      "text/plain": "10748    2030/601\n10749      129/31\n10750    2079/625\n10751    1835/437\n10752    2126/508\nName: Energia, dtype: object"
     },
     "execution_count": 14,
     "metadata": {},
     "output_type": "execute_result"
    }
   ],
   "source": [
    "df[\"Energia\"].tail()"
   ],
   "metadata": {
    "collapsed": false,
    "pycharm": {
     "name": "#%%\n"
    }
   }
  },
  {
   "cell_type": "code",
   "execution_count": 15,
   "outputs": [
    {
     "data": {
      "text/plain": "0          56\n1          60\n2         564\n3        None\n4         155\n         ... \n10748     601\n10749      31\n10750     625\n10751     437\n10752     508\nName: 1, Length: 10753, dtype: object"
     },
     "execution_count": 15,
     "metadata": {},
     "output_type": "execute_result"
    }
   ],
   "source": [
    "df[\"Energia\"].str.split(\"/\", n = 1, expand = True)[1]"
   ],
   "metadata": {
    "collapsed": false,
    "pycharm": {
     "name": "#%%\n"
    }
   }
  },
  {
   "cell_type": "code",
   "execution_count": 16,
   "outputs": [],
   "source": [
    "df[\"Energia\"] = df[\"Energia\"].str.split(\"/\", expand=True)[1]"
   ],
   "metadata": {
    "collapsed": false,
    "pycharm": {
     "name": "#%%\n"
    }
   }
  },
  {
   "cell_type": "code",
   "execution_count": 17,
   "outputs": [
    {
     "data": {
      "text/plain": "nutrition       id Energia Zsír  Telített zsírsavak  Szénhidrát   Cukrok   \\\n10748      4117341     601   23                    9          67       33   \n10749      4117392      31  0,4                  0,1         6,1      0,2   \n10750      4117335     625   28                   11          61       30   \n10751      4117305     437   18                  7,2        63,6       28   \n10752      4117344     508   26                   13          64       31   \n\nnutrition Fehérje    Só Rost  C vitamin  ... Cink  Réz   Jód Nátrium  Ebből  \\\n10748         5,6  0,66   NaN       NaN  ...   NaN  NaN  NaN     NaN    NaN   \n10749         0,7   0,9   NaN       NaN  ...   NaN  NaN  NaN     NaN    NaN   \n10750         5,5  1,23   NaN       NaN  ...   NaN  NaN  NaN     NaN    NaN   \n10751         5,1   0,3   NaN       NaN  ...   NaN  NaN  NaN     NaN    NaN   \n10752           5  0,71   NaN       NaN  ...   NaN  NaN  NaN     NaN    NaN   \n\nnutrition Mangán  Fluor Szelén Króm Molibdén  \n10748         NaN   NaN    NaN  NaN      NaN  \n10749         NaN   NaN    NaN  NaN      NaN  \n10750         NaN   NaN    NaN  NaN      NaN  \n10751         NaN   NaN    NaN  NaN      NaN  \n10752         NaN   NaN    NaN  NaN      NaN  \n\n[5 rows x 42 columns]",
      "text/html": "<div>\n<style scoped>\n    .dataframe tbody tr th:only-of-type {\n        vertical-align: middle;\n    }\n\n    .dataframe tbody tr th {\n        vertical-align: top;\n    }\n\n    .dataframe thead th {\n        text-align: right;\n    }\n</style>\n<table border=\"1\" class=\"dataframe\">\n  <thead>\n    <tr style=\"text-align: right;\">\n      <th>nutrition</th>\n      <th>id</th>\n      <th>Energia</th>\n      <th>Zsír</th>\n      <th>Telített zsírsavak</th>\n      <th>Szénhidrát</th>\n      <th>Cukrok</th>\n      <th>Fehérje</th>\n      <th>Só</th>\n      <th>Rost</th>\n      <th>C vitamin</th>\n      <th>...</th>\n      <th>Cink</th>\n      <th>Réz</th>\n      <th>Jód</th>\n      <th>Nátrium</th>\n      <th>Ebből</th>\n      <th>Mangán</th>\n      <th>Fluor</th>\n      <th>Szelén</th>\n      <th>Króm</th>\n      <th>Molibdén</th>\n    </tr>\n  </thead>\n  <tbody>\n    <tr>\n      <th>10748</th>\n      <td>4117341</td>\n      <td>601</td>\n      <td>23</td>\n      <td>9</td>\n      <td>67</td>\n      <td>33</td>\n      <td>5,6</td>\n      <td>0,66</td>\n      <td>NaN</td>\n      <td>NaN</td>\n      <td>...</td>\n      <td>NaN</td>\n      <td>NaN</td>\n      <td>NaN</td>\n      <td>NaN</td>\n      <td>NaN</td>\n      <td>NaN</td>\n      <td>NaN</td>\n      <td>NaN</td>\n      <td>NaN</td>\n      <td>NaN</td>\n    </tr>\n    <tr>\n      <th>10749</th>\n      <td>4117392</td>\n      <td>31</td>\n      <td>0,4</td>\n      <td>0,1</td>\n      <td>6,1</td>\n      <td>0,2</td>\n      <td>0,7</td>\n      <td>0,9</td>\n      <td>NaN</td>\n      <td>NaN</td>\n      <td>...</td>\n      <td>NaN</td>\n      <td>NaN</td>\n      <td>NaN</td>\n      <td>NaN</td>\n      <td>NaN</td>\n      <td>NaN</td>\n      <td>NaN</td>\n      <td>NaN</td>\n      <td>NaN</td>\n      <td>NaN</td>\n    </tr>\n    <tr>\n      <th>10750</th>\n      <td>4117335</td>\n      <td>625</td>\n      <td>28</td>\n      <td>11</td>\n      <td>61</td>\n      <td>30</td>\n      <td>5,5</td>\n      <td>1,23</td>\n      <td>NaN</td>\n      <td>NaN</td>\n      <td>...</td>\n      <td>NaN</td>\n      <td>NaN</td>\n      <td>NaN</td>\n      <td>NaN</td>\n      <td>NaN</td>\n      <td>NaN</td>\n      <td>NaN</td>\n      <td>NaN</td>\n      <td>NaN</td>\n      <td>NaN</td>\n    </tr>\n    <tr>\n      <th>10751</th>\n      <td>4117305</td>\n      <td>437</td>\n      <td>18</td>\n      <td>7,2</td>\n      <td>63,6</td>\n      <td>28</td>\n      <td>5,1</td>\n      <td>0,3</td>\n      <td>NaN</td>\n      <td>NaN</td>\n      <td>...</td>\n      <td>NaN</td>\n      <td>NaN</td>\n      <td>NaN</td>\n      <td>NaN</td>\n      <td>NaN</td>\n      <td>NaN</td>\n      <td>NaN</td>\n      <td>NaN</td>\n      <td>NaN</td>\n      <td>NaN</td>\n    </tr>\n    <tr>\n      <th>10752</th>\n      <td>4117344</td>\n      <td>508</td>\n      <td>26</td>\n      <td>13</td>\n      <td>64</td>\n      <td>31</td>\n      <td>5</td>\n      <td>0,71</td>\n      <td>NaN</td>\n      <td>NaN</td>\n      <td>...</td>\n      <td>NaN</td>\n      <td>NaN</td>\n      <td>NaN</td>\n      <td>NaN</td>\n      <td>NaN</td>\n      <td>NaN</td>\n      <td>NaN</td>\n      <td>NaN</td>\n      <td>NaN</td>\n      <td>NaN</td>\n    </tr>\n  </tbody>\n</table>\n<p>5 rows × 42 columns</p>\n</div>"
     },
     "execution_count": 17,
     "metadata": {},
     "output_type": "execute_result"
    }
   ],
   "source": [
    "df.tail()"
   ],
   "metadata": {
    "collapsed": false,
    "pycharm": {
     "name": "#%%\n"
    }
   }
  },
  {
   "cell_type": "markdown",
   "source": [
    "# Other columns\n",
    "- removing invalid values\n",
    "- normalizing values"
   ],
   "metadata": {
    "collapsed": false,
    "pycharm": {
     "name": "#%% md\n"
    }
   }
  },
  {
   "cell_type": "code",
   "execution_count": 18,
   "outputs": [],
   "source": [
    "def check_numeric(x):\n",
    "    try:\n",
    "        float(x)\n",
    "        return True\n",
    "    except:\n",
    "        return False"
   ],
   "metadata": {
    "collapsed": false,
    "pycharm": {
     "name": "#%%\n"
    }
   }
  },
  {
   "cell_type": "code",
   "execution_count": 19,
   "outputs": [],
   "source": [
    "def format_nutrition_values(s: str):\n",
    "    global problems\n",
    "    try:\n",
    "        s = s.replace(\",\", \".\")\n",
    "        s = re.sub(pattern=r'[<g]', repl='', string=s).strip()\n",
    "        s = re.split(pattern=r'[//;]', string=s, maxsplit=1)[-1]\n",
    "        s = re.sub(pattern=r'--|-', repl='0', string=s)\n",
    "    except TypeError:\n",
    "        pass\n",
    "    finally:\n",
    "        return s"
   ],
   "metadata": {
    "collapsed": false,
    "pycharm": {
     "name": "#%%\n"
    }
   }
  },
  {
   "cell_type": "code",
   "execution_count": 20,
   "outputs": [],
   "source": [
    "df = df.apply(lambda x: x.apply(format_nutrition_values))\n",
    "df = df.apply(lambda x: x.apply(lambda y: float(y) if check_numeric(y) else None))\n",
    "df = df.astype(float)"
   ],
   "metadata": {
    "collapsed": false,
    "pycharm": {
     "name": "#%%\n"
    }
   }
  },
  {
   "cell_type": "code",
   "execution_count": 23,
   "outputs": [],
   "source": [
    "df[\"id\"] = df[\"id\"].astype(int)"
   ],
   "metadata": {
    "collapsed": false,
    "pycharm": {
     "name": "#%%\n"
    }
   }
  },
  {
   "cell_type": "code",
   "execution_count": 24,
   "outputs": [],
   "source": [
    "df.to_csv(f\"../databases/csv/{DATE}/nutritions_processed.csv\", compression=\"xz\")"
   ],
   "metadata": {
    "collapsed": false,
    "pycharm": {
     "name": "#%%\n"
    }
   }
  },
  {
   "cell_type": "code",
   "execution_count": 25,
   "outputs": [
    {
     "data": {
      "text/plain": "nutrition       id  Energia  Zsír   Telített zsírsavak   Szénhidrát   \\\n0          4072139     56.0   2.8                   1.8          4.7   \n1            50586     60.0   0.8                   0.6         13.0   \n2          3727387    564.0  36.0                  22.0         51.0   \n3          4061272      NaN   1.0                   1.0          1.0   \n4            35341    155.0   4.0                   0.4         25.5   \n...            ...      ...   ...                   ...          ...   \n10748      4117341    601.0  23.0                   9.0         67.0   \n10749      4117392     31.0   0.4                   0.1          6.1   \n10750      4117335    625.0  28.0                  11.0         61.0   \n10751      4117305    437.0  18.0                   7.2         63.6   \n10752      4117344    508.0  26.0                  13.0         64.0   \n\nnutrition   Cukrok   Fehérje    Só  Rost   C vitamin  ...  Cink   Réz   Jód  \\\n0               4.7      3.0  0.13    NaN        NaN  ...    NaN   NaN  NaN   \n1               6.5      0.0  0.08    0.5        NaN  ...    NaN   NaN  NaN   \n2              30.0      8.0  0.20    2.0        2.0  ...    NaN   NaN  NaN   \n3               1.0      1.0  1.00    NaN        NaN  ...    NaN   NaN  NaN   \n4               0.8      2.5  0.10    2.8        NaN  ...    NaN   NaN  NaN   \n...             ...      ...   ...    ...        ...  ...    ...   ...  ...   \n10748          33.0      5.6  0.66    NaN        NaN  ...    NaN   NaN  NaN   \n10749           0.2      0.7  0.90    NaN        NaN  ...    NaN   NaN  NaN   \n10750          30.0      5.5  1.23    NaN        NaN  ...    NaN   NaN  NaN   \n10751          28.0      5.1  0.30    NaN        NaN  ...    NaN   NaN  NaN   \n10752          31.0      5.0  0.71    NaN        NaN  ...    NaN   NaN  NaN   \n\nnutrition  Nátrium   Ebből  Mangán   Fluor  Szelén  Króm  Molibdén  \n0              NaN     NaN      NaN    NaN     NaN   NaN       NaN  \n1              NaN     NaN      NaN    NaN     NaN   NaN       NaN  \n2              NaN     NaN      NaN    NaN     NaN   NaN       NaN  \n3              NaN     NaN      NaN    NaN     NaN   NaN       NaN  \n4              NaN     NaN      NaN    NaN     NaN   NaN       NaN  \n...            ...     ...      ...    ...     ...   ...       ...  \n10748          NaN     NaN      NaN    NaN     NaN   NaN       NaN  \n10749          NaN     NaN      NaN    NaN     NaN   NaN       NaN  \n10750          NaN     NaN      NaN    NaN     NaN   NaN       NaN  \n10751          NaN     NaN      NaN    NaN     NaN   NaN       NaN  \n10752          NaN     NaN      NaN    NaN     NaN   NaN       NaN  \n\n[10753 rows x 42 columns]",
      "text/html": "<div>\n<style scoped>\n    .dataframe tbody tr th:only-of-type {\n        vertical-align: middle;\n    }\n\n    .dataframe tbody tr th {\n        vertical-align: top;\n    }\n\n    .dataframe thead th {\n        text-align: right;\n    }\n</style>\n<table border=\"1\" class=\"dataframe\">\n  <thead>\n    <tr style=\"text-align: right;\">\n      <th>nutrition</th>\n      <th>id</th>\n      <th>Energia</th>\n      <th>Zsír</th>\n      <th>Telített zsírsavak</th>\n      <th>Szénhidrát</th>\n      <th>Cukrok</th>\n      <th>Fehérje</th>\n      <th>Só</th>\n      <th>Rost</th>\n      <th>C vitamin</th>\n      <th>...</th>\n      <th>Cink</th>\n      <th>Réz</th>\n      <th>Jód</th>\n      <th>Nátrium</th>\n      <th>Ebből</th>\n      <th>Mangán</th>\n      <th>Fluor</th>\n      <th>Szelén</th>\n      <th>Króm</th>\n      <th>Molibdén</th>\n    </tr>\n  </thead>\n  <tbody>\n    <tr>\n      <th>0</th>\n      <td>4072139</td>\n      <td>56.0</td>\n      <td>2.8</td>\n      <td>1.8</td>\n      <td>4.7</td>\n      <td>4.7</td>\n      <td>3.0</td>\n      <td>0.13</td>\n      <td>NaN</td>\n      <td>NaN</td>\n      <td>...</td>\n      <td>NaN</td>\n      <td>NaN</td>\n      <td>NaN</td>\n      <td>NaN</td>\n      <td>NaN</td>\n      <td>NaN</td>\n      <td>NaN</td>\n      <td>NaN</td>\n      <td>NaN</td>\n      <td>NaN</td>\n    </tr>\n    <tr>\n      <th>1</th>\n      <td>50586</td>\n      <td>60.0</td>\n      <td>0.8</td>\n      <td>0.6</td>\n      <td>13.0</td>\n      <td>6.5</td>\n      <td>0.0</td>\n      <td>0.08</td>\n      <td>0.5</td>\n      <td>NaN</td>\n      <td>...</td>\n      <td>NaN</td>\n      <td>NaN</td>\n      <td>NaN</td>\n      <td>NaN</td>\n      <td>NaN</td>\n      <td>NaN</td>\n      <td>NaN</td>\n      <td>NaN</td>\n      <td>NaN</td>\n      <td>NaN</td>\n    </tr>\n    <tr>\n      <th>2</th>\n      <td>3727387</td>\n      <td>564.0</td>\n      <td>36.0</td>\n      <td>22.0</td>\n      <td>51.0</td>\n      <td>30.0</td>\n      <td>8.0</td>\n      <td>0.20</td>\n      <td>2.0</td>\n      <td>2.0</td>\n      <td>...</td>\n      <td>NaN</td>\n      <td>NaN</td>\n      <td>NaN</td>\n      <td>NaN</td>\n      <td>NaN</td>\n      <td>NaN</td>\n      <td>NaN</td>\n      <td>NaN</td>\n      <td>NaN</td>\n      <td>NaN</td>\n    </tr>\n    <tr>\n      <th>3</th>\n      <td>4061272</td>\n      <td>NaN</td>\n      <td>1.0</td>\n      <td>1.0</td>\n      <td>1.0</td>\n      <td>1.0</td>\n      <td>1.0</td>\n      <td>1.00</td>\n      <td>NaN</td>\n      <td>NaN</td>\n      <td>...</td>\n      <td>NaN</td>\n      <td>NaN</td>\n      <td>NaN</td>\n      <td>NaN</td>\n      <td>NaN</td>\n      <td>NaN</td>\n      <td>NaN</td>\n      <td>NaN</td>\n      <td>NaN</td>\n      <td>NaN</td>\n    </tr>\n    <tr>\n      <th>4</th>\n      <td>35341</td>\n      <td>155.0</td>\n      <td>4.0</td>\n      <td>0.4</td>\n      <td>25.5</td>\n      <td>0.8</td>\n      <td>2.5</td>\n      <td>0.10</td>\n      <td>2.8</td>\n      <td>NaN</td>\n      <td>...</td>\n      <td>NaN</td>\n      <td>NaN</td>\n      <td>NaN</td>\n      <td>NaN</td>\n      <td>NaN</td>\n      <td>NaN</td>\n      <td>NaN</td>\n      <td>NaN</td>\n      <td>NaN</td>\n      <td>NaN</td>\n    </tr>\n    <tr>\n      <th>...</th>\n      <td>...</td>\n      <td>...</td>\n      <td>...</td>\n      <td>...</td>\n      <td>...</td>\n      <td>...</td>\n      <td>...</td>\n      <td>...</td>\n      <td>...</td>\n      <td>...</td>\n      <td>...</td>\n      <td>...</td>\n      <td>...</td>\n      <td>...</td>\n      <td>...</td>\n      <td>...</td>\n      <td>...</td>\n      <td>...</td>\n      <td>...</td>\n      <td>...</td>\n      <td>...</td>\n    </tr>\n    <tr>\n      <th>10748</th>\n      <td>4117341</td>\n      <td>601.0</td>\n      <td>23.0</td>\n      <td>9.0</td>\n      <td>67.0</td>\n      <td>33.0</td>\n      <td>5.6</td>\n      <td>0.66</td>\n      <td>NaN</td>\n      <td>NaN</td>\n      <td>...</td>\n      <td>NaN</td>\n      <td>NaN</td>\n      <td>NaN</td>\n      <td>NaN</td>\n      <td>NaN</td>\n      <td>NaN</td>\n      <td>NaN</td>\n      <td>NaN</td>\n      <td>NaN</td>\n      <td>NaN</td>\n    </tr>\n    <tr>\n      <th>10749</th>\n      <td>4117392</td>\n      <td>31.0</td>\n      <td>0.4</td>\n      <td>0.1</td>\n      <td>6.1</td>\n      <td>0.2</td>\n      <td>0.7</td>\n      <td>0.90</td>\n      <td>NaN</td>\n      <td>NaN</td>\n      <td>...</td>\n      <td>NaN</td>\n      <td>NaN</td>\n      <td>NaN</td>\n      <td>NaN</td>\n      <td>NaN</td>\n      <td>NaN</td>\n      <td>NaN</td>\n      <td>NaN</td>\n      <td>NaN</td>\n      <td>NaN</td>\n    </tr>\n    <tr>\n      <th>10750</th>\n      <td>4117335</td>\n      <td>625.0</td>\n      <td>28.0</td>\n      <td>11.0</td>\n      <td>61.0</td>\n      <td>30.0</td>\n      <td>5.5</td>\n      <td>1.23</td>\n      <td>NaN</td>\n      <td>NaN</td>\n      <td>...</td>\n      <td>NaN</td>\n      <td>NaN</td>\n      <td>NaN</td>\n      <td>NaN</td>\n      <td>NaN</td>\n      <td>NaN</td>\n      <td>NaN</td>\n      <td>NaN</td>\n      <td>NaN</td>\n      <td>NaN</td>\n    </tr>\n    <tr>\n      <th>10751</th>\n      <td>4117305</td>\n      <td>437.0</td>\n      <td>18.0</td>\n      <td>7.2</td>\n      <td>63.6</td>\n      <td>28.0</td>\n      <td>5.1</td>\n      <td>0.30</td>\n      <td>NaN</td>\n      <td>NaN</td>\n      <td>...</td>\n      <td>NaN</td>\n      <td>NaN</td>\n      <td>NaN</td>\n      <td>NaN</td>\n      <td>NaN</td>\n      <td>NaN</td>\n      <td>NaN</td>\n      <td>NaN</td>\n      <td>NaN</td>\n      <td>NaN</td>\n    </tr>\n    <tr>\n      <th>10752</th>\n      <td>4117344</td>\n      <td>508.0</td>\n      <td>26.0</td>\n      <td>13.0</td>\n      <td>64.0</td>\n      <td>31.0</td>\n      <td>5.0</td>\n      <td>0.71</td>\n      <td>NaN</td>\n      <td>NaN</td>\n      <td>...</td>\n      <td>NaN</td>\n      <td>NaN</td>\n      <td>NaN</td>\n      <td>NaN</td>\n      <td>NaN</td>\n      <td>NaN</td>\n      <td>NaN</td>\n      <td>NaN</td>\n      <td>NaN</td>\n      <td>NaN</td>\n    </tr>\n  </tbody>\n</table>\n<p>10753 rows × 42 columns</p>\n</div>"
     },
     "execution_count": 25,
     "metadata": {},
     "output_type": "execute_result"
    }
   ],
   "source": [
    "df"
   ],
   "metadata": {
    "collapsed": false,
    "pycharm": {
     "name": "#%%\n"
    }
   }
  },
  {
   "cell_type": "code",
   "execution_count": null,
   "outputs": [],
   "source": [],
   "metadata": {
    "collapsed": false,
    "pycharm": {
     "name": "#%%\n"
    }
   }
  }
 ],
 "metadata": {
  "kernelspec": {
   "display_name": "Python 3",
   "language": "python",
   "name": "python3"
  },
  "language_info": {
   "codemirror_mode": {
    "name": "ipython",
    "version": 2
   },
   "file_extension": ".py",
   "mimetype": "text/x-python",
   "name": "python",
   "nbconvert_exporter": "python",
   "pygments_lexer": "ipython2",
   "version": "2.7.6"
  }
 },
 "nbformat": 4,
 "nbformat_minor": 0
}