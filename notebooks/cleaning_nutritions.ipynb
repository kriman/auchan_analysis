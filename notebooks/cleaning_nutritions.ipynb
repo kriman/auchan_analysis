{
 "cells": [
  {
   "cell_type": "code",
   "execution_count": 1,
   "outputs": [],
   "source": [
    "import pandas as pd\n",
    "import numpy as np\n",
    "import re"
   ],
   "metadata": {
    "collapsed": false,
    "pycharm": {
     "name": "#%%\n"
    }
   }
  },
  {
   "cell_type": "code",
   "execution_count": 2,
   "outputs": [],
   "source": [
    "df = pd.read_csv('../databases/nutritions_raw.csv')"
   ],
   "metadata": {
    "collapsed": false,
    "pycharm": {
     "name": "#%%\n"
    }
   }
  },
  {
   "cell_type": "code",
   "execution_count": 3,
   "outputs": [
    {
     "data": {
      "text/plain": "   Unnamed: 0       id     Energia (kJ / kcal)   Zsír (g)  \\\n0           0    14914                1199/285     8.8000   \n1           1  3963016  1091.830000/260.770000   7.670000   \n2           2  4001800                1270/303    14.0000   \n3           3  4001797                1122/268    13.0000   \n4           4  3988465  1755.000000/420.000000  23.400000   \n\n   Telített zsírsavak  (g) Szénhidrát  (g)  Cukrok  (g) Rost  (g) Fehérje (g)  \\\n0                   4.8000         42.0000       2.3000  0.000000      8.3000   \n1                 3.540000       45.350000     2.690000  3.840000    0.670000   \n2                   7.6000         39.0000      17.0000       NaN      4.1000   \n3                   7.0000         34.0000      14.0000       NaN      3.7000   \n4                15.000000       42.400000    12.600000       NaN    8.100000   \n\n     Só (g)  ...  Ebből koleszterin A vitamin (µg) Tiamin (mg) Niacin (mg)  \\\n0    1.4000  ...                NaN            NaN         NaN         NaN   \n1  3.840000  ...                NaN            NaN         NaN         NaN   \n2    0.7800  ...                NaN            NaN         NaN         NaN   \n3    0.7000  ...                NaN            NaN         NaN         NaN   \n4  0.840000  ...                NaN            NaN         NaN         NaN   \n\n  Pantoténsav (mg) Klorid (mg) Cink  (mg) Mangán  (mg) Fluor (µg) Króm (µg)  \n0              NaN         NaN        NaN          NaN        NaN       NaN  \n1              NaN         NaN        NaN          NaN        NaN       NaN  \n2              NaN         NaN        NaN          NaN        NaN       NaN  \n3              NaN         NaN        NaN          NaN        NaN       NaN  \n4              NaN         NaN        NaN          NaN        NaN       NaN  \n\n[5 rows x 43 columns]",
      "text/html": "<div>\n<style scoped>\n    .dataframe tbody tr th:only-of-type {\n        vertical-align: middle;\n    }\n\n    .dataframe tbody tr th {\n        vertical-align: top;\n    }\n\n    .dataframe thead th {\n        text-align: right;\n    }\n</style>\n<table border=\"1\" class=\"dataframe\">\n  <thead>\n    <tr style=\"text-align: right;\">\n      <th></th>\n      <th>Unnamed: 0</th>\n      <th>id</th>\n      <th>Energia (kJ / kcal)</th>\n      <th>Zsír (g)</th>\n      <th>Telített zsírsavak  (g)</th>\n      <th>Szénhidrát  (g)</th>\n      <th>Cukrok  (g)</th>\n      <th>Rost  (g)</th>\n      <th>Fehérje (g)</th>\n      <th>Só (g)</th>\n      <th>...</th>\n      <th>Ebből koleszterin</th>\n      <th>A vitamin (µg)</th>\n      <th>Tiamin (mg)</th>\n      <th>Niacin (mg)</th>\n      <th>Pantoténsav (mg)</th>\n      <th>Klorid (mg)</th>\n      <th>Cink  (mg)</th>\n      <th>Mangán  (mg)</th>\n      <th>Fluor (µg)</th>\n      <th>Króm (µg)</th>\n    </tr>\n  </thead>\n  <tbody>\n    <tr>\n      <th>0</th>\n      <td>0</td>\n      <td>14914</td>\n      <td>1199/285</td>\n      <td>8.8000</td>\n      <td>4.8000</td>\n      <td>42.0000</td>\n      <td>2.3000</td>\n      <td>0.000000</td>\n      <td>8.3000</td>\n      <td>1.4000</td>\n      <td>...</td>\n      <td>NaN</td>\n      <td>NaN</td>\n      <td>NaN</td>\n      <td>NaN</td>\n      <td>NaN</td>\n      <td>NaN</td>\n      <td>NaN</td>\n      <td>NaN</td>\n      <td>NaN</td>\n      <td>NaN</td>\n    </tr>\n    <tr>\n      <th>1</th>\n      <td>1</td>\n      <td>3963016</td>\n      <td>1091.830000/260.770000</td>\n      <td>7.670000</td>\n      <td>3.540000</td>\n      <td>45.350000</td>\n      <td>2.690000</td>\n      <td>3.840000</td>\n      <td>0.670000</td>\n      <td>3.840000</td>\n      <td>...</td>\n      <td>NaN</td>\n      <td>NaN</td>\n      <td>NaN</td>\n      <td>NaN</td>\n      <td>NaN</td>\n      <td>NaN</td>\n      <td>NaN</td>\n      <td>NaN</td>\n      <td>NaN</td>\n      <td>NaN</td>\n    </tr>\n    <tr>\n      <th>2</th>\n      <td>2</td>\n      <td>4001800</td>\n      <td>1270/303</td>\n      <td>14.0000</td>\n      <td>7.6000</td>\n      <td>39.0000</td>\n      <td>17.0000</td>\n      <td>NaN</td>\n      <td>4.1000</td>\n      <td>0.7800</td>\n      <td>...</td>\n      <td>NaN</td>\n      <td>NaN</td>\n      <td>NaN</td>\n      <td>NaN</td>\n      <td>NaN</td>\n      <td>NaN</td>\n      <td>NaN</td>\n      <td>NaN</td>\n      <td>NaN</td>\n      <td>NaN</td>\n    </tr>\n    <tr>\n      <th>3</th>\n      <td>3</td>\n      <td>4001797</td>\n      <td>1122/268</td>\n      <td>13.0000</td>\n      <td>7.0000</td>\n      <td>34.0000</td>\n      <td>14.0000</td>\n      <td>NaN</td>\n      <td>3.7000</td>\n      <td>0.7000</td>\n      <td>...</td>\n      <td>NaN</td>\n      <td>NaN</td>\n      <td>NaN</td>\n      <td>NaN</td>\n      <td>NaN</td>\n      <td>NaN</td>\n      <td>NaN</td>\n      <td>NaN</td>\n      <td>NaN</td>\n      <td>NaN</td>\n    </tr>\n    <tr>\n      <th>4</th>\n      <td>4</td>\n      <td>3988465</td>\n      <td>1755.000000/420.000000</td>\n      <td>23.400000</td>\n      <td>15.000000</td>\n      <td>42.400000</td>\n      <td>12.600000</td>\n      <td>NaN</td>\n      <td>8.100000</td>\n      <td>0.840000</td>\n      <td>...</td>\n      <td>NaN</td>\n      <td>NaN</td>\n      <td>NaN</td>\n      <td>NaN</td>\n      <td>NaN</td>\n      <td>NaN</td>\n      <td>NaN</td>\n      <td>NaN</td>\n      <td>NaN</td>\n      <td>NaN</td>\n    </tr>\n  </tbody>\n</table>\n<p>5 rows × 43 columns</p>\n</div>"
     },
     "execution_count": 3,
     "metadata": {},
     "output_type": "execute_result"
    }
   ],
   "source": [
    "df.head()"
   ],
   "metadata": {
    "collapsed": false,
    "pycharm": {
     "name": "#%%\n"
    }
   }
  },
  {
   "cell_type": "code",
   "execution_count": 4,
   "outputs": [],
   "source": [
    "del df[\"Unnamed: 0\"]"
   ],
   "metadata": {
    "collapsed": false,
    "pycharm": {
     "name": "#%%\n"
    }
   }
  },
  {
   "cell_type": "markdown",
   "source": [
    "# Column names"
   ],
   "metadata": {
    "collapsed": false,
    "pycharm": {
     "name": "#%% md\n"
    }
   }
  },
  {
   "cell_type": "code",
   "execution_count": 5,
   "outputs": [
    {
     "data": {
      "text/plain": "Index(['id', 'Energia (kJ / kcal)', 'Zsír (g)', ' Telített zsírsavak  (g)',\n       'Szénhidrát  (g)', ' Cukrok  (g)', 'Rost  (g)', 'Fehérje (g)', 'Só (g)',\n       'Riboflavin (mg)', ' Egyszeresen telítetlen zsírsavak  (g)',\n       'C vitamin (mg)', 'B 12 vitamin (µg)', 'Jód (µg)', 'D vitamin (µg)',\n       'B6 vitamin (mg)', 'Biotin (µg)', 'Kálium (mg)', 'Kalcium (mg)',\n       'Magnézium (mg)', 'Vas (mg)', 'Réz  (mg)', 'Szelén (µg)',\n       'Molibdén (µg)', 'Nátrium (g)',\n       ' Többszörösen telítetlen zsírsavak  (g)', ' Poliolok  (g)',\n       ' Keményítő  (g)', 'E vitamin (mg)', 'K vitamin (µg)', 'Folsav (µg)',\n       'Foszfor (mg)', ' Ebből koleszterin', 'A vitamin (µg)', 'Tiamin (mg)',\n       'Niacin (mg)', 'Pantoténsav (mg)', 'Klorid (mg)', 'Cink  (mg)',\n       'Mangán  (mg)', 'Fluor (µg)', 'Króm (µg)'],\n      dtype='object')"
     },
     "execution_count": 5,
     "metadata": {},
     "output_type": "execute_result"
    }
   ],
   "source": [
    "df.columns"
   ],
   "metadata": {
    "collapsed": false,
    "pycharm": {
     "name": "#%%\n"
    }
   }
  },
  {
   "cell_type": "code",
   "execution_count": 6,
   "outputs": [],
   "source": [
    "df.columns = df.columns.str.strip()"
   ],
   "metadata": {
    "collapsed": false,
    "pycharm": {
     "name": "#%%\n"
    }
   }
  },
  {
   "cell_type": "code",
   "execution_count": 7,
   "outputs": [
    {
     "data": {
      "text/plain": "Index(['id', 'Energia_(kJ_/_kcal)', 'Zsír_(g)', 'Telített_zsírsavak__(g)',\n       'Szénhidrát__(g)', 'Cukrok__(g)', 'Rost__(g)', 'Fehérje_(g)', 'Só_(g)',\n       'Riboflavin_(mg)', 'Egyszeresen_telítetlen_zsírsavak__(g)',\n       'C_vitamin_(mg)', 'B_12_vitamin_(µg)', 'Jód_(µg)', 'D_vitamin_(µg)',\n       'B6_vitamin_(mg)', 'Biotin_(µg)', 'Kálium_(mg)', 'Kalcium_(mg)',\n       'Magnézium_(mg)', 'Vas_(mg)', 'Réz__(mg)', 'Szelén_(µg)',\n       'Molibdén_(µg)', 'Nátrium_(g)',\n       'Többszörösen_telítetlen_zsírsavak__(g)', 'Poliolok__(g)',\n       'Keményítő__(g)', 'E_vitamin_(mg)', 'K_vitamin_(µg)', 'Folsav_(µg)',\n       'Foszfor_(mg)', 'Ebből_koleszterin', 'A_vitamin_(µg)', 'Tiamin_(mg)',\n       'Niacin_(mg)', 'Pantoténsav_(mg)', 'Klorid_(mg)', 'Cink__(mg)',\n       'Mangán__(mg)', 'Fluor_(µg)', 'Króm_(µg)'],\n      dtype='object')"
     },
     "execution_count": 7,
     "metadata": {},
     "output_type": "execute_result"
    }
   ],
   "source": [
    "df.columns.str.replace(\" \", \"_\")"
   ],
   "metadata": {
    "collapsed": false,
    "pycharm": {
     "name": "#%%\n"
    }
   }
  },
  {
   "cell_type": "code",
   "execution_count": 8,
   "outputs": [],
   "source": [
    "df.columns = df.columns.str.replace(\"  \", \" \")"
   ],
   "metadata": {
    "collapsed": false,
    "pycharm": {
     "name": "#%%\n"
    }
   }
  },
  {
   "cell_type": "code",
   "execution_count": 9,
   "outputs": [
    {
     "data": {
      "text/plain": "Index(['id', 'Energia (kJ / kcal)', 'Zsír (g)', 'Telített zsírsavak (g)',\n       'Szénhidrát (g)', 'Cukrok (g)', 'Rost (g)', 'Fehérje (g)', 'Só (g)',\n       'Riboflavin (mg)', 'Egyszeresen telítetlen zsírsavak (g)',\n       'C vitamin (mg)', 'B 12 vitamin (µg)', 'Jód (µg)', 'D vitamin (µg)',\n       'B6 vitamin (mg)', 'Biotin (µg)', 'Kálium (mg)', 'Kalcium (mg)',\n       'Magnézium (mg)', 'Vas (mg)', 'Réz (mg)', 'Szelén (µg)',\n       'Molibdén (µg)', 'Nátrium (g)', 'Többszörösen telítetlen zsírsavak (g)',\n       'Poliolok (g)', 'Keményítő (g)', 'E vitamin (mg)', 'K vitamin (µg)',\n       'Folsav (µg)', 'Foszfor (mg)', 'Ebből koleszterin', 'A vitamin (µg)',\n       'Tiamin (mg)', 'Niacin (mg)', 'Pantoténsav (mg)', 'Klorid (mg)',\n       'Cink (mg)', 'Mangán (mg)', 'Fluor (µg)', 'Króm (µg)'],\n      dtype='object')"
     },
     "execution_count": 9,
     "metadata": {},
     "output_type": "execute_result"
    }
   ],
   "source": [
    "df.columns"
   ],
   "metadata": {
    "collapsed": false,
    "pycharm": {
     "name": "#%%\n"
    }
   }
  },
  {
   "cell_type": "code",
   "execution_count": 10,
   "outputs": [],
   "source": [
    "df.rename(columns={\"Energia (kJ / kcal)\": \"Energia (kcal)\"}, inplace=True)"
   ],
   "metadata": {
    "collapsed": false,
    "pycharm": {
     "name": "#%%\n"
    }
   }
  },
  {
   "cell_type": "code",
   "execution_count": 11,
   "outputs": [
    {
     "data": {
      "text/plain": "                            nutrition    unit_type\n0                                  id         None\n1                             Energia       (kcal)\n2                                Zsír          (g)\n3                  Telített zsírsavak          (g)\n4                          Szénhidrát          (g)\n5                              Cukrok          (g)\n6                                Rost          (g)\n7                             Fehérje          (g)\n8                                  Só          (g)\n9                          Riboflavin         (mg)\n10   Egyszeresen telítetlen zsírsavak          (g)\n11                          C vitamin         (mg)\n12                       B 12 vitamin         (µg)\n13                                Jód         (µg)\n14                          D vitamin         (µg)\n15                         B6 vitamin         (mg)\n16                             Biotin         (µg)\n17                             Kálium         (mg)\n18                            Kalcium         (mg)\n19                          Magnézium         (mg)\n20                                Vas         (mg)\n21                                Réz         (mg)\n22                             Szelén         (µg)\n23                           Molibdén         (µg)\n24                            Nátrium          (g)\n25  Többszörösen telítetlen zsírsavak          (g)\n26                           Poliolok          (g)\n27                          Keményítő          (g)\n28                          E vitamin         (mg)\n29                          K vitamin         (µg)\n30                             Folsav         (µg)\n31                            Foszfor         (mg)\n32                              Ebből  koleszterin\n33                          A vitamin         (µg)\n34                             Tiamin         (mg)\n35                             Niacin         (mg)\n36                        Pantoténsav         (mg)\n37                             Klorid         (mg)\n38                               Cink         (mg)\n39                             Mangán         (mg)\n40                              Fluor         (µg)\n41                               Króm         (µg)",
      "text/html": "<div>\n<style scoped>\n    .dataframe tbody tr th:only-of-type {\n        vertical-align: middle;\n    }\n\n    .dataframe tbody tr th {\n        vertical-align: top;\n    }\n\n    .dataframe thead th {\n        text-align: right;\n    }\n</style>\n<table border=\"1\" class=\"dataframe\">\n  <thead>\n    <tr style=\"text-align: right;\">\n      <th></th>\n      <th>nutrition</th>\n      <th>unit_type</th>\n    </tr>\n  </thead>\n  <tbody>\n    <tr>\n      <th>0</th>\n      <td>id</td>\n      <td>None</td>\n    </tr>\n    <tr>\n      <th>1</th>\n      <td>Energia</td>\n      <td>(kcal)</td>\n    </tr>\n    <tr>\n      <th>2</th>\n      <td>Zsír</td>\n      <td>(g)</td>\n    </tr>\n    <tr>\n      <th>3</th>\n      <td>Telített zsírsavak</td>\n      <td>(g)</td>\n    </tr>\n    <tr>\n      <th>4</th>\n      <td>Szénhidrát</td>\n      <td>(g)</td>\n    </tr>\n    <tr>\n      <th>5</th>\n      <td>Cukrok</td>\n      <td>(g)</td>\n    </tr>\n    <tr>\n      <th>6</th>\n      <td>Rost</td>\n      <td>(g)</td>\n    </tr>\n    <tr>\n      <th>7</th>\n      <td>Fehérje</td>\n      <td>(g)</td>\n    </tr>\n    <tr>\n      <th>8</th>\n      <td>Só</td>\n      <td>(g)</td>\n    </tr>\n    <tr>\n      <th>9</th>\n      <td>Riboflavin</td>\n      <td>(mg)</td>\n    </tr>\n    <tr>\n      <th>10</th>\n      <td>Egyszeresen telítetlen zsírsavak</td>\n      <td>(g)</td>\n    </tr>\n    <tr>\n      <th>11</th>\n      <td>C vitamin</td>\n      <td>(mg)</td>\n    </tr>\n    <tr>\n      <th>12</th>\n      <td>B 12 vitamin</td>\n      <td>(µg)</td>\n    </tr>\n    <tr>\n      <th>13</th>\n      <td>Jód</td>\n      <td>(µg)</td>\n    </tr>\n    <tr>\n      <th>14</th>\n      <td>D vitamin</td>\n      <td>(µg)</td>\n    </tr>\n    <tr>\n      <th>15</th>\n      <td>B6 vitamin</td>\n      <td>(mg)</td>\n    </tr>\n    <tr>\n      <th>16</th>\n      <td>Biotin</td>\n      <td>(µg)</td>\n    </tr>\n    <tr>\n      <th>17</th>\n      <td>Kálium</td>\n      <td>(mg)</td>\n    </tr>\n    <tr>\n      <th>18</th>\n      <td>Kalcium</td>\n      <td>(mg)</td>\n    </tr>\n    <tr>\n      <th>19</th>\n      <td>Magnézium</td>\n      <td>(mg)</td>\n    </tr>\n    <tr>\n      <th>20</th>\n      <td>Vas</td>\n      <td>(mg)</td>\n    </tr>\n    <tr>\n      <th>21</th>\n      <td>Réz</td>\n      <td>(mg)</td>\n    </tr>\n    <tr>\n      <th>22</th>\n      <td>Szelén</td>\n      <td>(µg)</td>\n    </tr>\n    <tr>\n      <th>23</th>\n      <td>Molibdén</td>\n      <td>(µg)</td>\n    </tr>\n    <tr>\n      <th>24</th>\n      <td>Nátrium</td>\n      <td>(g)</td>\n    </tr>\n    <tr>\n      <th>25</th>\n      <td>Többszörösen telítetlen zsírsavak</td>\n      <td>(g)</td>\n    </tr>\n    <tr>\n      <th>26</th>\n      <td>Poliolok</td>\n      <td>(g)</td>\n    </tr>\n    <tr>\n      <th>27</th>\n      <td>Keményítő</td>\n      <td>(g)</td>\n    </tr>\n    <tr>\n      <th>28</th>\n      <td>E vitamin</td>\n      <td>(mg)</td>\n    </tr>\n    <tr>\n      <th>29</th>\n      <td>K vitamin</td>\n      <td>(µg)</td>\n    </tr>\n    <tr>\n      <th>30</th>\n      <td>Folsav</td>\n      <td>(µg)</td>\n    </tr>\n    <tr>\n      <th>31</th>\n      <td>Foszfor</td>\n      <td>(mg)</td>\n    </tr>\n    <tr>\n      <th>32</th>\n      <td>Ebből</td>\n      <td>koleszterin</td>\n    </tr>\n    <tr>\n      <th>33</th>\n      <td>A vitamin</td>\n      <td>(µg)</td>\n    </tr>\n    <tr>\n      <th>34</th>\n      <td>Tiamin</td>\n      <td>(mg)</td>\n    </tr>\n    <tr>\n      <th>35</th>\n      <td>Niacin</td>\n      <td>(mg)</td>\n    </tr>\n    <tr>\n      <th>36</th>\n      <td>Pantoténsav</td>\n      <td>(mg)</td>\n    </tr>\n    <tr>\n      <th>37</th>\n      <td>Klorid</td>\n      <td>(mg)</td>\n    </tr>\n    <tr>\n      <th>38</th>\n      <td>Cink</td>\n      <td>(mg)</td>\n    </tr>\n    <tr>\n      <th>39</th>\n      <td>Mangán</td>\n      <td>(mg)</td>\n    </tr>\n    <tr>\n      <th>40</th>\n      <td>Fluor</td>\n      <td>(µg)</td>\n    </tr>\n    <tr>\n      <th>41</th>\n      <td>Króm</td>\n      <td>(µg)</td>\n    </tr>\n  </tbody>\n</table>\n</div>"
     },
     "execution_count": 11,
     "metadata": {},
     "output_type": "execute_result"
    }
   ],
   "source": [
    "units = pd.DataFrame(df.columns.str.rsplit(\" \", n=1).tolist(), columns = ['nutrition', 'unit_type'])\n",
    "units"
   ],
   "metadata": {
    "collapsed": false,
    "pycharm": {
     "name": "#%%\n"
    }
   }
  },
  {
   "cell_type": "code",
   "execution_count": 12,
   "outputs": [
    {
     "data": {
      "text/plain": "                            nutrition unit_type\n0                                  id      None\n1                             Energia    (kcal)\n2                                Zsír       (g)\n3                  Telített zsírsavak       (g)\n4                          Szénhidrát       (g)\n5                              Cukrok       (g)\n6                                Rost       (g)\n7                             Fehérje       (g)\n8                                  Só       (g)\n9                          Riboflavin      (mg)\n10   Egyszeresen telítetlen zsírsavak       (g)\n11                          C vitamin      (mg)\n12                       B 12 vitamin      (µg)\n13                                Jód      (µg)\n14                          D vitamin      (µg)\n15                         B6 vitamin      (mg)\n16                             Biotin      (µg)\n17                             Kálium      (mg)\n18                            Kalcium      (mg)\n19                          Magnézium      (mg)\n20                                Vas      (mg)\n21                                Réz      (mg)\n22                             Szelén      (µg)\n23                           Molibdén      (µg)\n24                            Nátrium       (g)\n25  Többszörösen telítetlen zsírsavak       (g)\n26                           Poliolok       (g)\n27                          Keményítő       (g)\n28                          E vitamin      (mg)\n29                          K vitamin      (µg)\n30                             Folsav      (µg)\n31                            Foszfor      (mg)\n32                  Ebből koleszterin      None\n33                          A vitamin      (µg)\n34                             Tiamin      (mg)\n35                             Niacin      (mg)\n36                        Pantoténsav      (mg)\n37                             Klorid      (mg)\n38                               Cink      (mg)\n39                             Mangán      (mg)\n40                              Fluor      (µg)\n41                               Króm      (µg)",
      "text/html": "<div>\n<style scoped>\n    .dataframe tbody tr th:only-of-type {\n        vertical-align: middle;\n    }\n\n    .dataframe tbody tr th {\n        vertical-align: top;\n    }\n\n    .dataframe thead th {\n        text-align: right;\n    }\n</style>\n<table border=\"1\" class=\"dataframe\">\n  <thead>\n    <tr style=\"text-align: right;\">\n      <th></th>\n      <th>nutrition</th>\n      <th>unit_type</th>\n    </tr>\n  </thead>\n  <tbody>\n    <tr>\n      <th>0</th>\n      <td>id</td>\n      <td>None</td>\n    </tr>\n    <tr>\n      <th>1</th>\n      <td>Energia</td>\n      <td>(kcal)</td>\n    </tr>\n    <tr>\n      <th>2</th>\n      <td>Zsír</td>\n      <td>(g)</td>\n    </tr>\n    <tr>\n      <th>3</th>\n      <td>Telített zsírsavak</td>\n      <td>(g)</td>\n    </tr>\n    <tr>\n      <th>4</th>\n      <td>Szénhidrát</td>\n      <td>(g)</td>\n    </tr>\n    <tr>\n      <th>5</th>\n      <td>Cukrok</td>\n      <td>(g)</td>\n    </tr>\n    <tr>\n      <th>6</th>\n      <td>Rost</td>\n      <td>(g)</td>\n    </tr>\n    <tr>\n      <th>7</th>\n      <td>Fehérje</td>\n      <td>(g)</td>\n    </tr>\n    <tr>\n      <th>8</th>\n      <td>Só</td>\n      <td>(g)</td>\n    </tr>\n    <tr>\n      <th>9</th>\n      <td>Riboflavin</td>\n      <td>(mg)</td>\n    </tr>\n    <tr>\n      <th>10</th>\n      <td>Egyszeresen telítetlen zsírsavak</td>\n      <td>(g)</td>\n    </tr>\n    <tr>\n      <th>11</th>\n      <td>C vitamin</td>\n      <td>(mg)</td>\n    </tr>\n    <tr>\n      <th>12</th>\n      <td>B 12 vitamin</td>\n      <td>(µg)</td>\n    </tr>\n    <tr>\n      <th>13</th>\n      <td>Jód</td>\n      <td>(µg)</td>\n    </tr>\n    <tr>\n      <th>14</th>\n      <td>D vitamin</td>\n      <td>(µg)</td>\n    </tr>\n    <tr>\n      <th>15</th>\n      <td>B6 vitamin</td>\n      <td>(mg)</td>\n    </tr>\n    <tr>\n      <th>16</th>\n      <td>Biotin</td>\n      <td>(µg)</td>\n    </tr>\n    <tr>\n      <th>17</th>\n      <td>Kálium</td>\n      <td>(mg)</td>\n    </tr>\n    <tr>\n      <th>18</th>\n      <td>Kalcium</td>\n      <td>(mg)</td>\n    </tr>\n    <tr>\n      <th>19</th>\n      <td>Magnézium</td>\n      <td>(mg)</td>\n    </tr>\n    <tr>\n      <th>20</th>\n      <td>Vas</td>\n      <td>(mg)</td>\n    </tr>\n    <tr>\n      <th>21</th>\n      <td>Réz</td>\n      <td>(mg)</td>\n    </tr>\n    <tr>\n      <th>22</th>\n      <td>Szelén</td>\n      <td>(µg)</td>\n    </tr>\n    <tr>\n      <th>23</th>\n      <td>Molibdén</td>\n      <td>(µg)</td>\n    </tr>\n    <tr>\n      <th>24</th>\n      <td>Nátrium</td>\n      <td>(g)</td>\n    </tr>\n    <tr>\n      <th>25</th>\n      <td>Többszörösen telítetlen zsírsavak</td>\n      <td>(g)</td>\n    </tr>\n    <tr>\n      <th>26</th>\n      <td>Poliolok</td>\n      <td>(g)</td>\n    </tr>\n    <tr>\n      <th>27</th>\n      <td>Keményítő</td>\n      <td>(g)</td>\n    </tr>\n    <tr>\n      <th>28</th>\n      <td>E vitamin</td>\n      <td>(mg)</td>\n    </tr>\n    <tr>\n      <th>29</th>\n      <td>K vitamin</td>\n      <td>(µg)</td>\n    </tr>\n    <tr>\n      <th>30</th>\n      <td>Folsav</td>\n      <td>(µg)</td>\n    </tr>\n    <tr>\n      <th>31</th>\n      <td>Foszfor</td>\n      <td>(mg)</td>\n    </tr>\n    <tr>\n      <th>32</th>\n      <td>Ebből koleszterin</td>\n      <td>None</td>\n    </tr>\n    <tr>\n      <th>33</th>\n      <td>A vitamin</td>\n      <td>(µg)</td>\n    </tr>\n    <tr>\n      <th>34</th>\n      <td>Tiamin</td>\n      <td>(mg)</td>\n    </tr>\n    <tr>\n      <th>35</th>\n      <td>Niacin</td>\n      <td>(mg)</td>\n    </tr>\n    <tr>\n      <th>36</th>\n      <td>Pantoténsav</td>\n      <td>(mg)</td>\n    </tr>\n    <tr>\n      <th>37</th>\n      <td>Klorid</td>\n      <td>(mg)</td>\n    </tr>\n    <tr>\n      <th>38</th>\n      <td>Cink</td>\n      <td>(mg)</td>\n    </tr>\n    <tr>\n      <th>39</th>\n      <td>Mangán</td>\n      <td>(mg)</td>\n    </tr>\n    <tr>\n      <th>40</th>\n      <td>Fluor</td>\n      <td>(µg)</td>\n    </tr>\n    <tr>\n      <th>41</th>\n      <td>Króm</td>\n      <td>(µg)</td>\n    </tr>\n  </tbody>\n</table>\n</div>"
     },
     "execution_count": 12,
     "metadata": {},
     "output_type": "execute_result"
    }
   ],
   "source": [
    "#units.drop(0, axis=0, inplace=True)\n",
    "units.loc[units['nutrition'] == 'Ebből', \"unit_type\"] = None\n",
    "units.loc[units['nutrition']=='Ebből', \"nutrition\"] = \"Ebből koleszterin\"\n",
    "units"
   ],
   "metadata": {
    "collapsed": false,
    "pycharm": {
     "name": "#%%\n"
    }
   }
  },
  {
   "cell_type": "code",
   "execution_count": 13,
   "outputs": [
    {
     "data": {
      "text/plain": "                            nutrition unit_type\n0                                  id      None\n1                             Energia      kcal\n2                                Zsír         g\n3                  Telített zsírsavak         g\n4                          Szénhidrát         g\n5                              Cukrok         g\n6                                Rost         g\n7                             Fehérje         g\n8                                  Só         g\n9                          Riboflavin        mg\n10   Egyszeresen telítetlen zsírsavak         g\n11                          C vitamin        mg\n12                       B 12 vitamin        µg\n13                                Jód        µg\n14                          D vitamin        µg\n15                         B6 vitamin        mg\n16                             Biotin        µg\n17                             Kálium        mg\n18                            Kalcium        mg\n19                          Magnézium        mg\n20                                Vas        mg\n21                                Réz        mg\n22                             Szelén        µg\n23                           Molibdén        µg\n24                            Nátrium         g\n25  Többszörösen telítetlen zsírsavak         g\n26                           Poliolok         g\n27                          Keményítő         g\n28                          E vitamin        mg\n29                          K vitamin        µg\n30                             Folsav        µg\n31                            Foszfor        mg\n32                  Ebből koleszterin      None\n33                          A vitamin        µg\n34                             Tiamin        mg\n35                             Niacin        mg\n36                        Pantoténsav        mg\n37                             Klorid        mg\n38                               Cink        mg\n39                             Mangán        mg\n40                              Fluor        µg\n41                               Króm        µg",
      "text/html": "<div>\n<style scoped>\n    .dataframe tbody tr th:only-of-type {\n        vertical-align: middle;\n    }\n\n    .dataframe tbody tr th {\n        vertical-align: top;\n    }\n\n    .dataframe thead th {\n        text-align: right;\n    }\n</style>\n<table border=\"1\" class=\"dataframe\">\n  <thead>\n    <tr style=\"text-align: right;\">\n      <th></th>\n      <th>nutrition</th>\n      <th>unit_type</th>\n    </tr>\n  </thead>\n  <tbody>\n    <tr>\n      <th>0</th>\n      <td>id</td>\n      <td>None</td>\n    </tr>\n    <tr>\n      <th>1</th>\n      <td>Energia</td>\n      <td>kcal</td>\n    </tr>\n    <tr>\n      <th>2</th>\n      <td>Zsír</td>\n      <td>g</td>\n    </tr>\n    <tr>\n      <th>3</th>\n      <td>Telített zsírsavak</td>\n      <td>g</td>\n    </tr>\n    <tr>\n      <th>4</th>\n      <td>Szénhidrát</td>\n      <td>g</td>\n    </tr>\n    <tr>\n      <th>5</th>\n      <td>Cukrok</td>\n      <td>g</td>\n    </tr>\n    <tr>\n      <th>6</th>\n      <td>Rost</td>\n      <td>g</td>\n    </tr>\n    <tr>\n      <th>7</th>\n      <td>Fehérje</td>\n      <td>g</td>\n    </tr>\n    <tr>\n      <th>8</th>\n      <td>Só</td>\n      <td>g</td>\n    </tr>\n    <tr>\n      <th>9</th>\n      <td>Riboflavin</td>\n      <td>mg</td>\n    </tr>\n    <tr>\n      <th>10</th>\n      <td>Egyszeresen telítetlen zsírsavak</td>\n      <td>g</td>\n    </tr>\n    <tr>\n      <th>11</th>\n      <td>C vitamin</td>\n      <td>mg</td>\n    </tr>\n    <tr>\n      <th>12</th>\n      <td>B 12 vitamin</td>\n      <td>µg</td>\n    </tr>\n    <tr>\n      <th>13</th>\n      <td>Jód</td>\n      <td>µg</td>\n    </tr>\n    <tr>\n      <th>14</th>\n      <td>D vitamin</td>\n      <td>µg</td>\n    </tr>\n    <tr>\n      <th>15</th>\n      <td>B6 vitamin</td>\n      <td>mg</td>\n    </tr>\n    <tr>\n      <th>16</th>\n      <td>Biotin</td>\n      <td>µg</td>\n    </tr>\n    <tr>\n      <th>17</th>\n      <td>Kálium</td>\n      <td>mg</td>\n    </tr>\n    <tr>\n      <th>18</th>\n      <td>Kalcium</td>\n      <td>mg</td>\n    </tr>\n    <tr>\n      <th>19</th>\n      <td>Magnézium</td>\n      <td>mg</td>\n    </tr>\n    <tr>\n      <th>20</th>\n      <td>Vas</td>\n      <td>mg</td>\n    </tr>\n    <tr>\n      <th>21</th>\n      <td>Réz</td>\n      <td>mg</td>\n    </tr>\n    <tr>\n      <th>22</th>\n      <td>Szelén</td>\n      <td>µg</td>\n    </tr>\n    <tr>\n      <th>23</th>\n      <td>Molibdén</td>\n      <td>µg</td>\n    </tr>\n    <tr>\n      <th>24</th>\n      <td>Nátrium</td>\n      <td>g</td>\n    </tr>\n    <tr>\n      <th>25</th>\n      <td>Többszörösen telítetlen zsírsavak</td>\n      <td>g</td>\n    </tr>\n    <tr>\n      <th>26</th>\n      <td>Poliolok</td>\n      <td>g</td>\n    </tr>\n    <tr>\n      <th>27</th>\n      <td>Keményítő</td>\n      <td>g</td>\n    </tr>\n    <tr>\n      <th>28</th>\n      <td>E vitamin</td>\n      <td>mg</td>\n    </tr>\n    <tr>\n      <th>29</th>\n      <td>K vitamin</td>\n      <td>µg</td>\n    </tr>\n    <tr>\n      <th>30</th>\n      <td>Folsav</td>\n      <td>µg</td>\n    </tr>\n    <tr>\n      <th>31</th>\n      <td>Foszfor</td>\n      <td>mg</td>\n    </tr>\n    <tr>\n      <th>32</th>\n      <td>Ebből koleszterin</td>\n      <td>None</td>\n    </tr>\n    <tr>\n      <th>33</th>\n      <td>A vitamin</td>\n      <td>µg</td>\n    </tr>\n    <tr>\n      <th>34</th>\n      <td>Tiamin</td>\n      <td>mg</td>\n    </tr>\n    <tr>\n      <th>35</th>\n      <td>Niacin</td>\n      <td>mg</td>\n    </tr>\n    <tr>\n      <th>36</th>\n      <td>Pantoténsav</td>\n      <td>mg</td>\n    </tr>\n    <tr>\n      <th>37</th>\n      <td>Klorid</td>\n      <td>mg</td>\n    </tr>\n    <tr>\n      <th>38</th>\n      <td>Cink</td>\n      <td>mg</td>\n    </tr>\n    <tr>\n      <th>39</th>\n      <td>Mangán</td>\n      <td>mg</td>\n    </tr>\n    <tr>\n      <th>40</th>\n      <td>Fluor</td>\n      <td>µg</td>\n    </tr>\n    <tr>\n      <th>41</th>\n      <td>Króm</td>\n      <td>µg</td>\n    </tr>\n  </tbody>\n</table>\n</div>"
     },
     "execution_count": 13,
     "metadata": {},
     "output_type": "execute_result"
    }
   ],
   "source": [
    "units[\"unit_type\"] = units[\"unit_type\"].str.replace(pat=r'[\\(\\)]', repl=r'', regex=True)\n",
    "units"
   ],
   "metadata": {
    "collapsed": false,
    "pycharm": {
     "name": "#%%\n"
    }
   }
  },
  {
   "cell_type": "code",
   "execution_count": 14,
   "outputs": [
    {
     "data": {
      "text/plain": "Index(['id', 'Energia', 'Zsír', 'Telített zsírsavak', 'Szénhidrát', 'Cukrok',\n       'Rost', 'Fehérje', 'Só', 'Riboflavin',\n       'Egyszeresen telítetlen zsírsavak', 'C vitamin', 'B 12 vitamin', 'Jód',\n       'D vitamin', 'B6 vitamin', 'Biotin', 'Kálium', 'Kalcium', 'Magnézium',\n       'Vas', 'Réz', 'Szelén', 'Molibdén', 'Nátrium',\n       'Többszörösen telítetlen zsírsavak', 'Poliolok', 'Keményítő',\n       'E vitamin', 'K vitamin', 'Folsav', 'Foszfor', 'Ebből koleszterin',\n       'A vitamin', 'Tiamin', 'Niacin', 'Pantoténsav', 'Klorid', 'Cink',\n       'Mangán', 'Fluor', 'Króm'],\n      dtype='object', name='nutrition')"
     },
     "execution_count": 14,
     "metadata": {},
     "output_type": "execute_result"
    }
   ],
   "source": [
    "df.columns = units[\"nutrition\"]\n",
    "df.columns"
   ],
   "metadata": {
    "collapsed": false,
    "pycharm": {
     "name": "#%%\n"
    }
   }
  },
  {
   "cell_type": "code",
   "execution_count": 15,
   "outputs": [],
   "source": [
    "units.to_csv(\"../databases/nutritions_units.csv\")"
   ],
   "metadata": {
    "collapsed": false,
    "pycharm": {
     "name": "#%%\n"
    }
   }
  },
  {
   "cell_type": "markdown",
   "source": [
    "# Energia\n",
    "keeping kcal only"
   ],
   "metadata": {
    "collapsed": false,
    "pycharm": {
     "name": "#%% md\n"
    }
   }
  },
  {
   "cell_type": "code",
   "execution_count": 16,
   "outputs": [
    {
     "data": {
      "text/plain": "10595    2030/601\n10596      129/31\n10597    2079/625\n10598    1835/437\n10599    2126/508\nName: Energia, dtype: object"
     },
     "execution_count": 16,
     "metadata": {},
     "output_type": "execute_result"
    }
   ],
   "source": [
    "df[\"Energia\"].tail()"
   ],
   "metadata": {
    "collapsed": false,
    "pycharm": {
     "name": "#%%\n"
    }
   }
  },
  {
   "cell_type": "code",
   "execution_count": 17,
   "outputs": [
    {
     "data": {
      "text/plain": "0               285\n1        260.770000\n2               303\n3               268\n4        420.000000\n            ...    \n10595           601\n10596            31\n10597           625\n10598           437\n10599           508\nName: 1, Length: 10600, dtype: object"
     },
     "execution_count": 17,
     "metadata": {},
     "output_type": "execute_result"
    }
   ],
   "source": [
    "df[\"Energia\"].str.split(\"/\", n = 1, expand = True)[1]"
   ],
   "metadata": {
    "collapsed": false,
    "pycharm": {
     "name": "#%%\n"
    }
   }
  },
  {
   "cell_type": "code",
   "execution_count": 18,
   "outputs": [],
   "source": [
    "df[\"Energia\"] = df[\"Energia\"].str.split(\"/\", expand=True)[1]"
   ],
   "metadata": {
    "collapsed": false,
    "pycharm": {
     "name": "#%%\n"
    }
   }
  },
  {
   "cell_type": "code",
   "execution_count": 19,
   "outputs": [
    {
     "data": {
      "text/plain": "nutrition       id Energia Zsír Telített zsírsavak Szénhidrát Cukrok Rost  \\\n10595      4117341     601   23                  9         67     33  NaN   \n10596      4117392      31  0,4                0,1        6,1    0,2  NaN   \n10597      4117335     625   28                 11         61     30  NaN   \n10598      4117305     437   18                7,2       63,6     28  NaN   \n10599      4117344     508   26                 13         64     31  NaN   \n\nnutrition Fehérje    Só Riboflavin  ... Ebből koleszterin A vitamin Tiamin  \\\n10595         5,6  0,66        NaN  ...               NaN       NaN    NaN   \n10596         0,7   0,9        NaN  ...               NaN       NaN    NaN   \n10597         5,5  1,23        NaN  ...               NaN       NaN    NaN   \n10598         5,1   0,3        NaN  ...               NaN       NaN    NaN   \n10599           5  0,71        NaN  ...               NaN       NaN    NaN   \n\nnutrition Niacin Pantoténsav Klorid Cink Mangán Fluor Króm  \n10595        NaN         NaN    NaN  NaN    NaN   NaN  NaN  \n10596        NaN         NaN    NaN  NaN    NaN   NaN  NaN  \n10597        NaN         NaN    NaN  NaN    NaN   NaN  NaN  \n10598        NaN         NaN    NaN  NaN    NaN   NaN  NaN  \n10599        NaN         NaN    NaN  NaN    NaN   NaN  NaN  \n\n[5 rows x 42 columns]",
      "text/html": "<div>\n<style scoped>\n    .dataframe tbody tr th:only-of-type {\n        vertical-align: middle;\n    }\n\n    .dataframe tbody tr th {\n        vertical-align: top;\n    }\n\n    .dataframe thead th {\n        text-align: right;\n    }\n</style>\n<table border=\"1\" class=\"dataframe\">\n  <thead>\n    <tr style=\"text-align: right;\">\n      <th>nutrition</th>\n      <th>id</th>\n      <th>Energia</th>\n      <th>Zsír</th>\n      <th>Telített zsírsavak</th>\n      <th>Szénhidrát</th>\n      <th>Cukrok</th>\n      <th>Rost</th>\n      <th>Fehérje</th>\n      <th>Só</th>\n      <th>Riboflavin</th>\n      <th>...</th>\n      <th>Ebből koleszterin</th>\n      <th>A vitamin</th>\n      <th>Tiamin</th>\n      <th>Niacin</th>\n      <th>Pantoténsav</th>\n      <th>Klorid</th>\n      <th>Cink</th>\n      <th>Mangán</th>\n      <th>Fluor</th>\n      <th>Króm</th>\n    </tr>\n  </thead>\n  <tbody>\n    <tr>\n      <th>10595</th>\n      <td>4117341</td>\n      <td>601</td>\n      <td>23</td>\n      <td>9</td>\n      <td>67</td>\n      <td>33</td>\n      <td>NaN</td>\n      <td>5,6</td>\n      <td>0,66</td>\n      <td>NaN</td>\n      <td>...</td>\n      <td>NaN</td>\n      <td>NaN</td>\n      <td>NaN</td>\n      <td>NaN</td>\n      <td>NaN</td>\n      <td>NaN</td>\n      <td>NaN</td>\n      <td>NaN</td>\n      <td>NaN</td>\n      <td>NaN</td>\n    </tr>\n    <tr>\n      <th>10596</th>\n      <td>4117392</td>\n      <td>31</td>\n      <td>0,4</td>\n      <td>0,1</td>\n      <td>6,1</td>\n      <td>0,2</td>\n      <td>NaN</td>\n      <td>0,7</td>\n      <td>0,9</td>\n      <td>NaN</td>\n      <td>...</td>\n      <td>NaN</td>\n      <td>NaN</td>\n      <td>NaN</td>\n      <td>NaN</td>\n      <td>NaN</td>\n      <td>NaN</td>\n      <td>NaN</td>\n      <td>NaN</td>\n      <td>NaN</td>\n      <td>NaN</td>\n    </tr>\n    <tr>\n      <th>10597</th>\n      <td>4117335</td>\n      <td>625</td>\n      <td>28</td>\n      <td>11</td>\n      <td>61</td>\n      <td>30</td>\n      <td>NaN</td>\n      <td>5,5</td>\n      <td>1,23</td>\n      <td>NaN</td>\n      <td>...</td>\n      <td>NaN</td>\n      <td>NaN</td>\n      <td>NaN</td>\n      <td>NaN</td>\n      <td>NaN</td>\n      <td>NaN</td>\n      <td>NaN</td>\n      <td>NaN</td>\n      <td>NaN</td>\n      <td>NaN</td>\n    </tr>\n    <tr>\n      <th>10598</th>\n      <td>4117305</td>\n      <td>437</td>\n      <td>18</td>\n      <td>7,2</td>\n      <td>63,6</td>\n      <td>28</td>\n      <td>NaN</td>\n      <td>5,1</td>\n      <td>0,3</td>\n      <td>NaN</td>\n      <td>...</td>\n      <td>NaN</td>\n      <td>NaN</td>\n      <td>NaN</td>\n      <td>NaN</td>\n      <td>NaN</td>\n      <td>NaN</td>\n      <td>NaN</td>\n      <td>NaN</td>\n      <td>NaN</td>\n      <td>NaN</td>\n    </tr>\n    <tr>\n      <th>10599</th>\n      <td>4117344</td>\n      <td>508</td>\n      <td>26</td>\n      <td>13</td>\n      <td>64</td>\n      <td>31</td>\n      <td>NaN</td>\n      <td>5</td>\n      <td>0,71</td>\n      <td>NaN</td>\n      <td>...</td>\n      <td>NaN</td>\n      <td>NaN</td>\n      <td>NaN</td>\n      <td>NaN</td>\n      <td>NaN</td>\n      <td>NaN</td>\n      <td>NaN</td>\n      <td>NaN</td>\n      <td>NaN</td>\n      <td>NaN</td>\n    </tr>\n  </tbody>\n</table>\n<p>5 rows × 42 columns</p>\n</div>"
     },
     "execution_count": 19,
     "metadata": {},
     "output_type": "execute_result"
    }
   ],
   "source": [
    "df.tail()"
   ],
   "metadata": {
    "collapsed": false,
    "pycharm": {
     "name": "#%%\n"
    }
   }
  },
  {
   "cell_type": "markdown",
   "source": [
    "# Other columns\n",
    "- removing invalid values\n",
    "- normalizing values"
   ],
   "metadata": {
    "collapsed": false,
    "pycharm": {
     "name": "#%% md\n"
    }
   }
  },
  {
   "cell_type": "code",
   "execution_count": 20,
   "outputs": [],
   "source": [
    "def check_numeric(x):\n",
    "    try:\n",
    "        float(x)\n",
    "        return True\n",
    "    except:\n",
    "        return False"
   ],
   "metadata": {
    "collapsed": false,
    "pycharm": {
     "name": "#%%\n"
    }
   }
  },
  {
   "cell_type": "code",
   "execution_count": 21,
   "outputs": [],
   "source": [
    "def format_nutrition_values(s: str):\n",
    "    global problems\n",
    "    try:\n",
    "        s = s.replace(\",\", \".\")\n",
    "        s = re.sub(pattern=r'[<g]', repl='', string=s).strip()\n",
    "        s = re.split(pattern=r'[//;]', string=s, maxsplit=1)[-1]\n",
    "        s = re.sub(pattern=r'--|-', repl='0', string=s)\n",
    "    except TypeError:\n",
    "        pass\n",
    "    finally:\n",
    "        return s"
   ],
   "metadata": {
    "collapsed": false,
    "pycharm": {
     "name": "#%%\n"
    }
   }
  },
  {
   "cell_type": "code",
   "execution_count": 24,
   "outputs": [],
   "source": [
    "df = df.apply(lambda x: x.apply(format_nutrition_values))\n",
    "df = df.apply(lambda x: x.apply(lambda y: float(y) if check_numeric(y) else None))\n",
    "df = df.astype(float)"
   ],
   "metadata": {
    "collapsed": false,
    "pycharm": {
     "name": "#%%\n"
    }
   }
  },
  {
   "cell_type": "code",
   "execution_count": 25,
   "outputs": [],
   "source": [
    "df.to_csv(\"../databases/nutritions_processed.csv\", compression=\"xz\")"
   ],
   "metadata": {
    "collapsed": false,
    "pycharm": {
     "name": "#%%\n"
    }
   }
  },
  {
   "cell_type": "code",
   "execution_count": 30,
   "outputs": [
    {
     "data": {
      "text/plain": "nutrition         id  Energia   Zsír  Telített zsírsavak  Szénhidrát  Cukrok  \\\n0            14914.0   285.00   8.80                4.80       42.00    2.30   \n1          3963016.0   260.77   7.67                3.54       45.35    2.69   \n2          4001800.0   303.00  14.00                7.60       39.00   17.00   \n3          4001797.0   268.00  13.00                7.00       34.00   14.00   \n4          3988465.0   420.00  23.40               15.00       42.40   12.60   \n...              ...      ...    ...                 ...         ...     ...   \n10595      4117341.0   601.00  23.00                9.00       67.00   33.00   \n10596      4117392.0    31.00   0.40                0.10        6.10    0.20   \n10597      4117335.0   625.00  28.00               11.00       61.00   30.00   \n10598      4117305.0   437.00  18.00                7.20       63.60   28.00   \n10599      4117344.0   508.00  26.00               13.00       64.00   31.00   \n\nnutrition  Rost  Fehérje    Só  Riboflavin  ...  Ebből koleszterin  A vitamin  \\\n0          0.00     8.30  1.40         NaN  ...                NaN        NaN   \n1          3.84     0.67  3.84         NaN  ...                NaN        NaN   \n2           NaN     4.10  0.78         NaN  ...                NaN        NaN   \n3           NaN     3.70  0.70         NaN  ...                NaN        NaN   \n4           NaN     8.10  0.84         NaN  ...                NaN        NaN   \n...         ...      ...   ...         ...  ...                ...        ...   \n10595       NaN     5.60  0.66         NaN  ...                NaN        NaN   \n10596       NaN     0.70  0.90         NaN  ...                NaN        NaN   \n10597       NaN     5.50  1.23         NaN  ...                NaN        NaN   \n10598       NaN     5.10  0.30         NaN  ...                NaN        NaN   \n10599       NaN     5.00  0.71         NaN  ...                NaN        NaN   \n\nnutrition  Tiamin  Niacin  Pantoténsav  Klorid  Cink  Mangán  Fluor  Króm  \n0             NaN     NaN          NaN     NaN   NaN     NaN    NaN   NaN  \n1             NaN     NaN          NaN     NaN   NaN     NaN    NaN   NaN  \n2             NaN     NaN          NaN     NaN   NaN     NaN    NaN   NaN  \n3             NaN     NaN          NaN     NaN   NaN     NaN    NaN   NaN  \n4             NaN     NaN          NaN     NaN   NaN     NaN    NaN   NaN  \n...           ...     ...          ...     ...   ...     ...    ...   ...  \n10595         NaN     NaN          NaN     NaN   NaN     NaN    NaN   NaN  \n10596         NaN     NaN          NaN     NaN   NaN     NaN    NaN   NaN  \n10597         NaN     NaN          NaN     NaN   NaN     NaN    NaN   NaN  \n10598         NaN     NaN          NaN     NaN   NaN     NaN    NaN   NaN  \n10599         NaN     NaN          NaN     NaN   NaN     NaN    NaN   NaN  \n\n[10600 rows x 42 columns]",
      "text/html": "<div>\n<style scoped>\n    .dataframe tbody tr th:only-of-type {\n        vertical-align: middle;\n    }\n\n    .dataframe tbody tr th {\n        vertical-align: top;\n    }\n\n    .dataframe thead th {\n        text-align: right;\n    }\n</style>\n<table border=\"1\" class=\"dataframe\">\n  <thead>\n    <tr style=\"text-align: right;\">\n      <th>nutrition</th>\n      <th>id</th>\n      <th>Energia</th>\n      <th>Zsír</th>\n      <th>Telített zsírsavak</th>\n      <th>Szénhidrát</th>\n      <th>Cukrok</th>\n      <th>Rost</th>\n      <th>Fehérje</th>\n      <th>Só</th>\n      <th>Riboflavin</th>\n      <th>...</th>\n      <th>Ebből koleszterin</th>\n      <th>A vitamin</th>\n      <th>Tiamin</th>\n      <th>Niacin</th>\n      <th>Pantoténsav</th>\n      <th>Klorid</th>\n      <th>Cink</th>\n      <th>Mangán</th>\n      <th>Fluor</th>\n      <th>Króm</th>\n    </tr>\n  </thead>\n  <tbody>\n    <tr>\n      <th>0</th>\n      <td>14914.0</td>\n      <td>285.00</td>\n      <td>8.80</td>\n      <td>4.80</td>\n      <td>42.00</td>\n      <td>2.30</td>\n      <td>0.00</td>\n      <td>8.30</td>\n      <td>1.40</td>\n      <td>NaN</td>\n      <td>...</td>\n      <td>NaN</td>\n      <td>NaN</td>\n      <td>NaN</td>\n      <td>NaN</td>\n      <td>NaN</td>\n      <td>NaN</td>\n      <td>NaN</td>\n      <td>NaN</td>\n      <td>NaN</td>\n      <td>NaN</td>\n    </tr>\n    <tr>\n      <th>1</th>\n      <td>3963016.0</td>\n      <td>260.77</td>\n      <td>7.67</td>\n      <td>3.54</td>\n      <td>45.35</td>\n      <td>2.69</td>\n      <td>3.84</td>\n      <td>0.67</td>\n      <td>3.84</td>\n      <td>NaN</td>\n      <td>...</td>\n      <td>NaN</td>\n      <td>NaN</td>\n      <td>NaN</td>\n      <td>NaN</td>\n      <td>NaN</td>\n      <td>NaN</td>\n      <td>NaN</td>\n      <td>NaN</td>\n      <td>NaN</td>\n      <td>NaN</td>\n    </tr>\n    <tr>\n      <th>2</th>\n      <td>4001800.0</td>\n      <td>303.00</td>\n      <td>14.00</td>\n      <td>7.60</td>\n      <td>39.00</td>\n      <td>17.00</td>\n      <td>NaN</td>\n      <td>4.10</td>\n      <td>0.78</td>\n      <td>NaN</td>\n      <td>...</td>\n      <td>NaN</td>\n      <td>NaN</td>\n      <td>NaN</td>\n      <td>NaN</td>\n      <td>NaN</td>\n      <td>NaN</td>\n      <td>NaN</td>\n      <td>NaN</td>\n      <td>NaN</td>\n      <td>NaN</td>\n    </tr>\n    <tr>\n      <th>3</th>\n      <td>4001797.0</td>\n      <td>268.00</td>\n      <td>13.00</td>\n      <td>7.00</td>\n      <td>34.00</td>\n      <td>14.00</td>\n      <td>NaN</td>\n      <td>3.70</td>\n      <td>0.70</td>\n      <td>NaN</td>\n      <td>...</td>\n      <td>NaN</td>\n      <td>NaN</td>\n      <td>NaN</td>\n      <td>NaN</td>\n      <td>NaN</td>\n      <td>NaN</td>\n      <td>NaN</td>\n      <td>NaN</td>\n      <td>NaN</td>\n      <td>NaN</td>\n    </tr>\n    <tr>\n      <th>4</th>\n      <td>3988465.0</td>\n      <td>420.00</td>\n      <td>23.40</td>\n      <td>15.00</td>\n      <td>42.40</td>\n      <td>12.60</td>\n      <td>NaN</td>\n      <td>8.10</td>\n      <td>0.84</td>\n      <td>NaN</td>\n      <td>...</td>\n      <td>NaN</td>\n      <td>NaN</td>\n      <td>NaN</td>\n      <td>NaN</td>\n      <td>NaN</td>\n      <td>NaN</td>\n      <td>NaN</td>\n      <td>NaN</td>\n      <td>NaN</td>\n      <td>NaN</td>\n    </tr>\n    <tr>\n      <th>...</th>\n      <td>...</td>\n      <td>...</td>\n      <td>...</td>\n      <td>...</td>\n      <td>...</td>\n      <td>...</td>\n      <td>...</td>\n      <td>...</td>\n      <td>...</td>\n      <td>...</td>\n      <td>...</td>\n      <td>...</td>\n      <td>...</td>\n      <td>...</td>\n      <td>...</td>\n      <td>...</td>\n      <td>...</td>\n      <td>...</td>\n      <td>...</td>\n      <td>...</td>\n      <td>...</td>\n    </tr>\n    <tr>\n      <th>10595</th>\n      <td>4117341.0</td>\n      <td>601.00</td>\n      <td>23.00</td>\n      <td>9.00</td>\n      <td>67.00</td>\n      <td>33.00</td>\n      <td>NaN</td>\n      <td>5.60</td>\n      <td>0.66</td>\n      <td>NaN</td>\n      <td>...</td>\n      <td>NaN</td>\n      <td>NaN</td>\n      <td>NaN</td>\n      <td>NaN</td>\n      <td>NaN</td>\n      <td>NaN</td>\n      <td>NaN</td>\n      <td>NaN</td>\n      <td>NaN</td>\n      <td>NaN</td>\n    </tr>\n    <tr>\n      <th>10596</th>\n      <td>4117392.0</td>\n      <td>31.00</td>\n      <td>0.40</td>\n      <td>0.10</td>\n      <td>6.10</td>\n      <td>0.20</td>\n      <td>NaN</td>\n      <td>0.70</td>\n      <td>0.90</td>\n      <td>NaN</td>\n      <td>...</td>\n      <td>NaN</td>\n      <td>NaN</td>\n      <td>NaN</td>\n      <td>NaN</td>\n      <td>NaN</td>\n      <td>NaN</td>\n      <td>NaN</td>\n      <td>NaN</td>\n      <td>NaN</td>\n      <td>NaN</td>\n    </tr>\n    <tr>\n      <th>10597</th>\n      <td>4117335.0</td>\n      <td>625.00</td>\n      <td>28.00</td>\n      <td>11.00</td>\n      <td>61.00</td>\n      <td>30.00</td>\n      <td>NaN</td>\n      <td>5.50</td>\n      <td>1.23</td>\n      <td>NaN</td>\n      <td>...</td>\n      <td>NaN</td>\n      <td>NaN</td>\n      <td>NaN</td>\n      <td>NaN</td>\n      <td>NaN</td>\n      <td>NaN</td>\n      <td>NaN</td>\n      <td>NaN</td>\n      <td>NaN</td>\n      <td>NaN</td>\n    </tr>\n    <tr>\n      <th>10598</th>\n      <td>4117305.0</td>\n      <td>437.00</td>\n      <td>18.00</td>\n      <td>7.20</td>\n      <td>63.60</td>\n      <td>28.00</td>\n      <td>NaN</td>\n      <td>5.10</td>\n      <td>0.30</td>\n      <td>NaN</td>\n      <td>...</td>\n      <td>NaN</td>\n      <td>NaN</td>\n      <td>NaN</td>\n      <td>NaN</td>\n      <td>NaN</td>\n      <td>NaN</td>\n      <td>NaN</td>\n      <td>NaN</td>\n      <td>NaN</td>\n      <td>NaN</td>\n    </tr>\n    <tr>\n      <th>10599</th>\n      <td>4117344.0</td>\n      <td>508.00</td>\n      <td>26.00</td>\n      <td>13.00</td>\n      <td>64.00</td>\n      <td>31.00</td>\n      <td>NaN</td>\n      <td>5.00</td>\n      <td>0.71</td>\n      <td>NaN</td>\n      <td>...</td>\n      <td>NaN</td>\n      <td>NaN</td>\n      <td>NaN</td>\n      <td>NaN</td>\n      <td>NaN</td>\n      <td>NaN</td>\n      <td>NaN</td>\n      <td>NaN</td>\n      <td>NaN</td>\n      <td>NaN</td>\n    </tr>\n  </tbody>\n</table>\n<p>10600 rows × 42 columns</p>\n</div>"
     },
     "execution_count": 30,
     "metadata": {},
     "output_type": "execute_result"
    }
   ],
   "source": [
    "df"
   ],
   "metadata": {
    "collapsed": false,
    "pycharm": {
     "name": "#%%\n"
    }
   }
  }
 ],
 "metadata": {
  "kernelspec": {
   "display_name": "Python 3",
   "language": "python",
   "name": "python3"
  },
  "language_info": {
   "codemirror_mode": {
    "name": "ipython",
    "version": 2
   },
   "file_extension": ".py",
   "mimetype": "text/x-python",
   "name": "python",
   "nbconvert_exporter": "python",
   "pygments_lexer": "ipython2",
   "version": "2.7.6"
  }
 },
 "nbformat": 4,
 "nbformat_minor": 0
}