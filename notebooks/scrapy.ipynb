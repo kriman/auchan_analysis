{
 "cells": [
  {
   "cell_type": "code",
   "execution_count": 1,
   "outputs": [],
   "source": [
    "import scrapy"
   ],
   "metadata": {
    "collapsed": false,
    "pycharm": {
     "name": "#%%\n"
    }
   }
  },
  {
   "cell_type": "code",
   "execution_count": 2,
   "outputs": [],
   "source": [
    "class BlogSpider(scrapy.Spider):\n",
    "    name = 'blogspider'\n",
    "    start_urls = ['https://online.auchan.hu/api/v2/products?page=1&itemsPerPage=12&listId=10177&hl=hu']\n",
    "\n",
    "    custom_settings = {\n",
    "        'ITEM_PIPELINES': {\n",
    "            '__main__.SaveTitle': 1\n",
    "        },\n",
    "        'FEEDS': {\n",
    "            'titles.csv': {\n",
    "                'format': 'csv',\n",
    "                'overwrite': True\n",
    "            }\n",
    "        }\n",
    "    }\n",
    "\n",
    "    def start_requests(self):\n",
    "        yield scrapy.Request(\n",
    "            url='https://online.auchan.hu/',\n",
    "        )\n",
    "\n",
    "    def parse(self, response):\n",
    "        # parse json response\n",
    "        for product in response.json()['results']:\n",
    "            yield {\n",
    "                'id': product['id'],\n",
    "                'defaultVariant': product['defaultVariant'][\"id\"],\n",
    "                'productId': product['defaultVariant'][\"productId\"],\n",
    "                'price': product['defaultVariant'][\"price\"][\"gross\"],\n",
    "                'name': product['defaultVariant'][\"name\"],\n",
    "            }\n",
    "\n",
    "        # go to next page\n",
    "        next_url = 'https://online.auchan.hu/api/v2/products?page={}&itemsPerPage=12&listId=10177&hl=hu'.format(response.json()['currentPage']+1)\n",
    "        if response.json()['currentPage'] < response.json()['pageCount']:\n",
    "            yield response.follow(next_url, callback=self.parse)\n",
    "\n",
    "        for next_page in response.css('a.next'):\n",
    "            yield response.follow(next_page, self.parse)"
   ],
   "metadata": {
    "collapsed": false,
    "pycharm": {
     "name": "#%%\n"
    }
   }
  },
  {
   "cell_type": "code",
   "execution_count": 3,
   "outputs": [],
   "source": [
    "class SaveTitle(object):\n",
    "    def process_item(self, item, spider):\n",
    "        \"\"\"text processing\"\"\"\n",
    "\n",
    "        return {\n",
    "            'id': item['id'],\n",
    "            'defaultVariant': item['defaultVariant'],\n",
    "            'productId': item['productId'],\n",
    "            'price': item['price'],\n",
    "            'name': item['name'],\n",
    "        }"
   ],
   "metadata": {
    "collapsed": false,
    "pycharm": {
     "name": "#%%\n"
    }
   }
  },
  {
   "cell_type": "code",
   "execution_count": 4,
   "outputs": [
    {
     "name": "stderr",
     "output_type": "stream",
     "text": [
      "2022-12-16 19:39:54 [scrapy.utils.log] INFO: Scrapy 2.7.1 started (bot: scrapybot)\n",
      "2022-12-16 19:39:54 [scrapy.utils.log] INFO: Versions: lxml 4.9.2.0, libxml2 2.9.14, cssselect 1.2.0, parsel 1.7.0, w3lib 2.1.1, Twisted 22.10.0, Python 3.10.6 (main, Nov 14 2022, 16:10:14) [GCC 11.3.0], pyOpenSSL 22.1.0 (OpenSSL 3.0.7 1 Nov 2022), cryptography 38.0.4, Platform Linux-5.15.0-56-generic-x86_64-with-glibc2.35\n",
      "2022-12-16 19:39:54 [scrapy.crawler] INFO: Overridden settings:\n",
      "{}\n",
      "2022-12-16 19:39:54 [py.warnings] WARNING: /home/kriman/PycharmProjects/auchan_crawler/venv/lib/python3.10/site-packages/scrapy/utils/request.py:231: ScrapyDeprecationWarning: '2.6' is a deprecated value for the 'REQUEST_FINGERPRINTER_IMPLEMENTATION' setting.\n",
      "\n",
      "It is also the default value. In other words, it is normal to get this warning if you have not defined a value for the 'REQUEST_FINGERPRINTER_IMPLEMENTATION' setting. This is so for backward compatibility reasons, but it will change in a future version of Scrapy.\n",
      "\n",
      "See the documentation of the 'REQUEST_FINGERPRINTER_IMPLEMENTATION' setting for information on how to handle this deprecation.\n",
      "  return cls(crawler)\n",
      "\n",
      "2022-12-16 19:39:54 [scrapy.utils.log] DEBUG: Using reactor: twisted.internet.epollreactor.EPollReactor\n",
      "2022-12-16 19:39:54 [scrapy.extensions.telnet] INFO: Telnet Password: f7b87168bde85ecd\n",
      "2022-12-16 19:39:54 [scrapy.middleware] INFO: Enabled extensions:\n",
      "['scrapy.extensions.corestats.CoreStats',\n",
      " 'scrapy.extensions.telnet.TelnetConsole',\n",
      " 'scrapy.extensions.memusage.MemoryUsage',\n",
      " 'scrapy.extensions.feedexport.FeedExporter',\n",
      " 'scrapy.extensions.logstats.LogStats']\n",
      "2022-12-16 19:39:54 [scrapy.middleware] INFO: Enabled downloader middlewares:\n",
      "['scrapy.downloadermiddlewares.httpauth.HttpAuthMiddleware',\n",
      " 'scrapy.downloadermiddlewares.downloadtimeout.DownloadTimeoutMiddleware',\n",
      " 'scrapy.downloadermiddlewares.defaultheaders.DefaultHeadersMiddleware',\n",
      " 'scrapy.downloadermiddlewares.useragent.UserAgentMiddleware',\n",
      " 'scrapy.downloadermiddlewares.retry.RetryMiddleware',\n",
      " 'scrapy.downloadermiddlewares.redirect.MetaRefreshMiddleware',\n",
      " 'scrapy.downloadermiddlewares.httpcompression.HttpCompressionMiddleware',\n",
      " 'scrapy.downloadermiddlewares.redirect.RedirectMiddleware',\n",
      " 'scrapy.downloadermiddlewares.cookies.CookiesMiddleware',\n",
      " 'scrapy.downloadermiddlewares.httpproxy.HttpProxyMiddleware',\n",
      " 'scrapy.downloadermiddlewares.stats.DownloaderStats']\n",
      "2022-12-16 19:39:54 [scrapy.middleware] INFO: Enabled spider middlewares:\n",
      "['scrapy.spidermiddlewares.httperror.HttpErrorMiddleware',\n",
      " 'scrapy.spidermiddlewares.offsite.OffsiteMiddleware',\n",
      " 'scrapy.spidermiddlewares.referer.RefererMiddleware',\n",
      " 'scrapy.spidermiddlewares.urllength.UrlLengthMiddleware',\n",
      " 'scrapy.spidermiddlewares.depth.DepthMiddleware']\n",
      "2022-12-16 19:39:54 [scrapy.middleware] INFO: Enabled item pipelines:\n",
      "['__main__.SaveTitle']\n",
      "2022-12-16 19:39:54 [scrapy.core.engine] INFO: Spider opened\n",
      "2022-12-16 19:39:54 [scrapy.extensions.logstats] INFO: Crawled 0 pages (at 0 pages/min), scraped 0 items (at 0 items/min)\n",
      "2022-12-16 19:39:54 [scrapy.extensions.telnet] INFO: Telnet console listening on 127.0.0.1:6023\n",
      "2022-12-16 19:39:55 [filelock] DEBUG: Attempting to acquire lock 139885022213936 on /home/kriman/.cache/python-tldextract/3.10.6.final__venv__9c6f0e__tldextract-3.4.0/publicsuffix.org-tlds/de84b5ca2167d4c83e38fb162f2e8738.tldextract.json.lock\n",
      "2022-12-16 19:39:55 [filelock] DEBUG: Lock 139885022213936 acquired on /home/kriman/.cache/python-tldextract/3.10.6.final__venv__9c6f0e__tldextract-3.4.0/publicsuffix.org-tlds/de84b5ca2167d4c83e38fb162f2e8738.tldextract.json.lock\n",
      "2022-12-16 19:39:55 [filelock] DEBUG: Attempting to release lock 139885022213936 on /home/kriman/.cache/python-tldextract/3.10.6.final__venv__9c6f0e__tldextract-3.4.0/publicsuffix.org-tlds/de84b5ca2167d4c83e38fb162f2e8738.tldextract.json.lock\n",
      "2022-12-16 19:39:55 [filelock] DEBUG: Lock 139885022213936 released on /home/kriman/.cache/python-tldextract/3.10.6.final__venv__9c6f0e__tldextract-3.4.0/publicsuffix.org-tlds/de84b5ca2167d4c83e38fb162f2e8738.tldextract.json.lock\n",
      "2022-12-16 19:39:55 [scrapy.core.engine] DEBUG: Crawled (200) <GET https://online.auchan.hu/> (referer: None)\n",
      "2022-12-16 19:39:55 [scrapy.core.scraper] ERROR: Spider error processing <GET https://online.auchan.hu/> (referer: None)\n",
      "Traceback (most recent call last):\n",
      "  File \"/home/kriman/PycharmProjects/auchan_crawler/venv/lib/python3.10/site-packages/scrapy/utils/defer.py\", line 240, in iter_errback\n",
      "    yield next(it)\n",
      "  File \"/home/kriman/PycharmProjects/auchan_crawler/venv/lib/python3.10/site-packages/scrapy/utils/python.py\", line 338, in __next__\n",
      "    return next(self.data)\n",
      "  File \"/home/kriman/PycharmProjects/auchan_crawler/venv/lib/python3.10/site-packages/scrapy/utils/python.py\", line 338, in __next__\n",
      "    return next(self.data)\n",
      "  File \"/home/kriman/PycharmProjects/auchan_crawler/venv/lib/python3.10/site-packages/scrapy/core/spidermw.py\", line 79, in process_sync\n",
      "    for r in iterable:\n",
      "  File \"/home/kriman/PycharmProjects/auchan_crawler/venv/lib/python3.10/site-packages/scrapy/spidermiddlewares/offsite.py\", line 29, in <genexpr>\n",
      "    return (r for r in result or () if self._filter(r, spider))\n",
      "  File \"/home/kriman/PycharmProjects/auchan_crawler/venv/lib/python3.10/site-packages/scrapy/core/spidermw.py\", line 79, in process_sync\n",
      "    for r in iterable:\n",
      "  File \"/home/kriman/PycharmProjects/auchan_crawler/venv/lib/python3.10/site-packages/scrapy/spidermiddlewares/referer.py\", line 336, in <genexpr>\n",
      "    return (self._set_referer(r, response) for r in result or ())\n",
      "  File \"/home/kriman/PycharmProjects/auchan_crawler/venv/lib/python3.10/site-packages/scrapy/core/spidermw.py\", line 79, in process_sync\n",
      "    for r in iterable:\n",
      "  File \"/home/kriman/PycharmProjects/auchan_crawler/venv/lib/python3.10/site-packages/scrapy/spidermiddlewares/urllength.py\", line 28, in <genexpr>\n",
      "    return (r for r in result or () if self._filter(r, spider))\n",
      "  File \"/home/kriman/PycharmProjects/auchan_crawler/venv/lib/python3.10/site-packages/scrapy/core/spidermw.py\", line 79, in process_sync\n",
      "    for r in iterable:\n",
      "  File \"/home/kriman/PycharmProjects/auchan_crawler/venv/lib/python3.10/site-packages/scrapy/spidermiddlewares/depth.py\", line 32, in <genexpr>\n",
      "    return (r for r in result or () if self._filter(r, response, spider))\n",
      "  File \"/home/kriman/PycharmProjects/auchan_crawler/venv/lib/python3.10/site-packages/scrapy/core/spidermw.py\", line 79, in process_sync\n",
      "    for r in iterable:\n",
      "  File \"/tmp/ipykernel_249421/4003235697.py\", line 24, in parse\n",
      "    for product in response.json()['results']:\n",
      "  File \"/home/kriman/PycharmProjects/auchan_crawler/venv/lib/python3.10/site-packages/scrapy/http/response/text.py\", line 80, in json\n",
      "    self._cached_decoded_json = json.loads(self.text)\n",
      "  File \"/usr/lib/python3.10/json/__init__.py\", line 346, in loads\n",
      "    return _default_decoder.decode(s)\n",
      "  File \"/usr/lib/python3.10/json/decoder.py\", line 337, in decode\n",
      "    obj, end = self.raw_decode(s, idx=_w(s, 0).end())\n",
      "  File \"/usr/lib/python3.10/json/decoder.py\", line 355, in raw_decode\n",
      "    raise JSONDecodeError(\"Expecting value\", s, err.value) from None\n",
      "json.decoder.JSONDecodeError: Expecting value: line 1 column 1 (char 0)\n",
      "2022-12-16 19:39:55 [scrapy.core.engine] INFO: Closing spider (finished)\n",
      "2022-12-16 19:39:56 [scrapy.statscollectors] INFO: Dumping Scrapy stats:\n",
      "{'downloader/request_bytes': 216,\n",
      " 'downloader/request_count': 1,\n",
      " 'downloader/request_method_count/GET': 1,\n",
      " 'downloader/response_bytes': 126580,\n",
      " 'downloader/response_count': 1,\n",
      " 'downloader/response_status_count/200': 1,\n",
      " 'elapsed_time_seconds': 1.491627,\n",
      " 'finish_reason': 'finished',\n",
      " 'finish_time': datetime.datetime(2022, 12, 16, 18, 39, 55, 999779),\n",
      " 'httpcompression/response_bytes': 464789,\n",
      " 'httpcompression/response_count': 1,\n",
      " 'log_count/DEBUG': 6,\n",
      " 'log_count/ERROR': 1,\n",
      " 'log_count/INFO': 10,\n",
      " 'log_count/WARNING': 1,\n",
      " 'memusage/max': 97128448,\n",
      " 'memusage/startup': 97128448,\n",
      " 'response_received_count': 1,\n",
      " 'scheduler/dequeued': 1,\n",
      " 'scheduler/dequeued/memory': 1,\n",
      " 'scheduler/enqueued': 1,\n",
      " 'scheduler/enqueued/memory': 1,\n",
      " 'spider_exceptions/JSONDecodeError': 1,\n",
      " 'start_time': datetime.datetime(2022, 12, 16, 18, 39, 54, 508152)}\n",
      "2022-12-16 19:39:56 [scrapy.core.engine] INFO: Spider closed (finished)\n"
     ]
    }
   ],
   "source": [
    "from scrapy.crawler import CrawlerProcess\n",
    "\n",
    "process = CrawlerProcess()\n",
    "res = process.crawl(BlogSpider)\n",
    "process.start()"
   ],
   "metadata": {
    "collapsed": false,
    "pycharm": {
     "name": "#%%\n"
    }
   }
  },
  {
   "cell_type": "code",
   "execution_count": 4,
   "outputs": [],
   "source": [],
   "metadata": {
    "collapsed": false,
    "pycharm": {
     "name": "#%%\n"
    }
   }
  }
 ],
 "metadata": {
  "kernelspec": {
   "display_name": "Python 3",
   "language": "python",
   "name": "python3"
  },
  "language_info": {
   "codemirror_mode": {
    "name": "ipython",
    "version": 2
   },
   "file_extension": ".py",
   "mimetype": "text/x-python",
   "name": "python",
   "nbconvert_exporter": "python",
   "pygments_lexer": "ipython2",
   "version": "2.7.6"
  }
 },
 "nbformat": 4,
 "nbformat_minor": 0
}