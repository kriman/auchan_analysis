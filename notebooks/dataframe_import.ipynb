{
 "cells": [
  {
   "cell_type": "code",
   "execution_count": 1,
   "outputs": [],
   "source": [
    "import pandas as pd\n",
    "import os\n",
    "import numpy as np\n",
    "import json\n",
    "import tarfile\n",
    "import time"
   ],
   "metadata": {
    "collapsed": false,
    "pycharm": {
     "name": "#%%\n"
    }
   }
  },
  {
   "cell_type": "code",
   "execution_count": 2,
   "outputs": [],
   "source": [
    "# use this command to compress the uncompressed tarfile when the scrape is ready:\n",
    "# xz -zk tarfile.tar"
   ],
   "metadata": {
    "collapsed": false,
    "pycharm": {
     "name": "#%%\n"
    }
   }
  },
  {
   "cell_type": "code",
   "execution_count": 3,
   "outputs": [],
   "source": [
    "DATE = \"2023_01_15\"\n",
    "TYPE = \"\""
   ],
   "metadata": {
    "collapsed": false,
    "pycharm": {
     "name": "#%%\n"
    }
   }
  },
  {
   "cell_type": "code",
   "execution_count": 4,
   "outputs": [],
   "source": [
    "tar = tarfile.open(f\"../databases/archives/{DATE}_rawdata{TYPE}.tar\", \"r\")"
   ],
   "metadata": {
    "collapsed": false,
    "pycharm": {
     "name": "#%%\n"
    }
   }
  },
  {
   "cell_type": "code",
   "execution_count": 5,
   "outputs": [],
   "source": [
    "def create_nutrition_df(data, name):\n",
    "    transformed_data = [name] + [row[2] for row in data[\"data\"]]\n",
    "    columns = [\"id\"] + [row[0] for row in data[\"data\"]]\n",
    "    return pd.DataFrame([transformed_data], columns=columns)"
   ],
   "metadata": {
    "collapsed": false,
    "pycharm": {
     "name": "#%%\n"
    }
   }
  },
  {
   "cell_type": "code",
   "execution_count": 6,
   "outputs": [
    {
     "name": "stdout",
     "output_type": "stream",
     "text": [
      "217.64545226097107\n",
      "0.02024044008750777\n"
     ]
    }
   ],
   "source": [
    "start_time = time.time()\n",
    "all_nutrition_df = []\n",
    "for member in tar.getmembers():\n",
    "    if member.name.find(\"nutrition.json\") != -1:\n",
    "        file_content = tar.extractfile(member.name).read().decode(\"utf-8\")\n",
    "        data = json.loads(file_content)\n",
    "        all_nutrition_df.append(create_nutrition_df(data, member.name.split(\"/\")[-2]))\n",
    "\n",
    "nutritions_df = pd.concat(all_nutrition_df, ignore_index=True)\n",
    "end_time = time.time()\n",
    "print(end_time - start_time)\n",
    "print((end_time - start_time) / len(nutritions_df))"
   ],
   "metadata": {
    "collapsed": false,
    "pycharm": {
     "name": "#%%\n"
    }
   }
  },
  {
   "cell_type": "code",
   "execution_count": 7,
   "outputs": [
    {
     "data": {
      "text/plain": "            id Energia (kJ / kcal) Zsír (g)  Telített zsírsavak  (g)  \\\n0      4072139              235/56   2.8000                   1.8000   \n1        50586              255/60   0.8000                   0.6000   \n2      3727387            2351/564  36.0000                  22.0000   \n3      4061272                   1        1                        1   \n4        35341             645/155   4.0000                   0.4000   \n...        ...                 ...      ...                      ...   \n10748  4117341            2030/601       23                        9   \n10749  4117392              129/31      0,4                      0,1   \n10750  4117335            2079/625       28                       11   \n10751  4117305            1835/437       18                      7,2   \n10752  4117344            2126/508       26                       13   \n\n      Szénhidrát  (g)  Cukrok  (g) Fehérje (g)  Só (g) Rost  (g)  \\\n0              4.7000       4.7000      3.0000  0.1300       NaN   \n1             13.0000       6.5000      0.0000  0.0800    0.5000   \n2             51.0000      30.0000      8.0000  0.2000    2.0000   \n3                   1            1           1       1       NaN   \n4             25.5000       0.8000      2.5000  0.1000    2.8000   \n...               ...          ...         ...     ...       ...   \n10748              67           33         5,6    0,66       NaN   \n10749             6,1          0,2         0,7     0,9       NaN   \n10750              61           30         5,5    1,23       NaN   \n10751            63,6           28         5,1     0,3       NaN   \n10752              64           31           5    0,71       NaN   \n\n      C vitamin (mg)  ... Cink  (mg) Réz  (mg) Jód (µg) Nátrium (g)  \\\n0                NaN  ...        NaN       NaN      NaN         NaN   \n1                NaN  ...        NaN       NaN      NaN         NaN   \n2            2.00000  ...        NaN       NaN      NaN         NaN   \n3                NaN  ...        NaN       NaN      NaN         NaN   \n4                NaN  ...        NaN       NaN      NaN         NaN   \n...              ...  ...        ...       ...      ...         ...   \n10748            NaN  ...        NaN       NaN      NaN         NaN   \n10749            NaN  ...        NaN       NaN      NaN         NaN   \n10750            NaN  ...        NaN       NaN      NaN         NaN   \n10751            NaN  ...        NaN       NaN      NaN         NaN   \n10752            NaN  ...        NaN       NaN      NaN         NaN   \n\n       Ebből koleszterin Mangán  (mg) Fluor (µg) Szelén (µg) Króm (µg)  \\\n0                    NaN          NaN        NaN         NaN       NaN   \n1                    NaN          NaN        NaN         NaN       NaN   \n2                    NaN          NaN        NaN         NaN       NaN   \n3                    NaN          NaN        NaN         NaN       NaN   \n4                    NaN          NaN        NaN         NaN       NaN   \n...                  ...          ...        ...         ...       ...   \n10748                NaN          NaN        NaN         NaN       NaN   \n10749                NaN          NaN        NaN         NaN       NaN   \n10750                NaN          NaN        NaN         NaN       NaN   \n10751                NaN          NaN        NaN         NaN       NaN   \n10752                NaN          NaN        NaN         NaN       NaN   \n\n      Molibdén (µg)  \n0               NaN  \n1               NaN  \n2               NaN  \n3               NaN  \n4               NaN  \n...             ...  \n10748           NaN  \n10749           NaN  \n10750           NaN  \n10751           NaN  \n10752           NaN  \n\n[10753 rows x 42 columns]",
      "text/html": "<div>\n<style scoped>\n    .dataframe tbody tr th:only-of-type {\n        vertical-align: middle;\n    }\n\n    .dataframe tbody tr th {\n        vertical-align: top;\n    }\n\n    .dataframe thead th {\n        text-align: right;\n    }\n</style>\n<table border=\"1\" class=\"dataframe\">\n  <thead>\n    <tr style=\"text-align: right;\">\n      <th></th>\n      <th>id</th>\n      <th>Energia (kJ / kcal)</th>\n      <th>Zsír (g)</th>\n      <th>Telített zsírsavak  (g)</th>\n      <th>Szénhidrát  (g)</th>\n      <th>Cukrok  (g)</th>\n      <th>Fehérje (g)</th>\n      <th>Só (g)</th>\n      <th>Rost  (g)</th>\n      <th>C vitamin (mg)</th>\n      <th>...</th>\n      <th>Cink  (mg)</th>\n      <th>Réz  (mg)</th>\n      <th>Jód (µg)</th>\n      <th>Nátrium (g)</th>\n      <th>Ebből koleszterin</th>\n      <th>Mangán  (mg)</th>\n      <th>Fluor (µg)</th>\n      <th>Szelén (µg)</th>\n      <th>Króm (µg)</th>\n      <th>Molibdén (µg)</th>\n    </tr>\n  </thead>\n  <tbody>\n    <tr>\n      <th>0</th>\n      <td>4072139</td>\n      <td>235/56</td>\n      <td>2.8000</td>\n      <td>1.8000</td>\n      <td>4.7000</td>\n      <td>4.7000</td>\n      <td>3.0000</td>\n      <td>0.1300</td>\n      <td>NaN</td>\n      <td>NaN</td>\n      <td>...</td>\n      <td>NaN</td>\n      <td>NaN</td>\n      <td>NaN</td>\n      <td>NaN</td>\n      <td>NaN</td>\n      <td>NaN</td>\n      <td>NaN</td>\n      <td>NaN</td>\n      <td>NaN</td>\n      <td>NaN</td>\n    </tr>\n    <tr>\n      <th>1</th>\n      <td>50586</td>\n      <td>255/60</td>\n      <td>0.8000</td>\n      <td>0.6000</td>\n      <td>13.0000</td>\n      <td>6.5000</td>\n      <td>0.0000</td>\n      <td>0.0800</td>\n      <td>0.5000</td>\n      <td>NaN</td>\n      <td>...</td>\n      <td>NaN</td>\n      <td>NaN</td>\n      <td>NaN</td>\n      <td>NaN</td>\n      <td>NaN</td>\n      <td>NaN</td>\n      <td>NaN</td>\n      <td>NaN</td>\n      <td>NaN</td>\n      <td>NaN</td>\n    </tr>\n    <tr>\n      <th>2</th>\n      <td>3727387</td>\n      <td>2351/564</td>\n      <td>36.0000</td>\n      <td>22.0000</td>\n      <td>51.0000</td>\n      <td>30.0000</td>\n      <td>8.0000</td>\n      <td>0.2000</td>\n      <td>2.0000</td>\n      <td>2.00000</td>\n      <td>...</td>\n      <td>NaN</td>\n      <td>NaN</td>\n      <td>NaN</td>\n      <td>NaN</td>\n      <td>NaN</td>\n      <td>NaN</td>\n      <td>NaN</td>\n      <td>NaN</td>\n      <td>NaN</td>\n      <td>NaN</td>\n    </tr>\n    <tr>\n      <th>3</th>\n      <td>4061272</td>\n      <td>1</td>\n      <td>1</td>\n      <td>1</td>\n      <td>1</td>\n      <td>1</td>\n      <td>1</td>\n      <td>1</td>\n      <td>NaN</td>\n      <td>NaN</td>\n      <td>...</td>\n      <td>NaN</td>\n      <td>NaN</td>\n      <td>NaN</td>\n      <td>NaN</td>\n      <td>NaN</td>\n      <td>NaN</td>\n      <td>NaN</td>\n      <td>NaN</td>\n      <td>NaN</td>\n      <td>NaN</td>\n    </tr>\n    <tr>\n      <th>4</th>\n      <td>35341</td>\n      <td>645/155</td>\n      <td>4.0000</td>\n      <td>0.4000</td>\n      <td>25.5000</td>\n      <td>0.8000</td>\n      <td>2.5000</td>\n      <td>0.1000</td>\n      <td>2.8000</td>\n      <td>NaN</td>\n      <td>...</td>\n      <td>NaN</td>\n      <td>NaN</td>\n      <td>NaN</td>\n      <td>NaN</td>\n      <td>NaN</td>\n      <td>NaN</td>\n      <td>NaN</td>\n      <td>NaN</td>\n      <td>NaN</td>\n      <td>NaN</td>\n    </tr>\n    <tr>\n      <th>...</th>\n      <td>...</td>\n      <td>...</td>\n      <td>...</td>\n      <td>...</td>\n      <td>...</td>\n      <td>...</td>\n      <td>...</td>\n      <td>...</td>\n      <td>...</td>\n      <td>...</td>\n      <td>...</td>\n      <td>...</td>\n      <td>...</td>\n      <td>...</td>\n      <td>...</td>\n      <td>...</td>\n      <td>...</td>\n      <td>...</td>\n      <td>...</td>\n      <td>...</td>\n      <td>...</td>\n    </tr>\n    <tr>\n      <th>10748</th>\n      <td>4117341</td>\n      <td>2030/601</td>\n      <td>23</td>\n      <td>9</td>\n      <td>67</td>\n      <td>33</td>\n      <td>5,6</td>\n      <td>0,66</td>\n      <td>NaN</td>\n      <td>NaN</td>\n      <td>...</td>\n      <td>NaN</td>\n      <td>NaN</td>\n      <td>NaN</td>\n      <td>NaN</td>\n      <td>NaN</td>\n      <td>NaN</td>\n      <td>NaN</td>\n      <td>NaN</td>\n      <td>NaN</td>\n      <td>NaN</td>\n    </tr>\n    <tr>\n      <th>10749</th>\n      <td>4117392</td>\n      <td>129/31</td>\n      <td>0,4</td>\n      <td>0,1</td>\n      <td>6,1</td>\n      <td>0,2</td>\n      <td>0,7</td>\n      <td>0,9</td>\n      <td>NaN</td>\n      <td>NaN</td>\n      <td>...</td>\n      <td>NaN</td>\n      <td>NaN</td>\n      <td>NaN</td>\n      <td>NaN</td>\n      <td>NaN</td>\n      <td>NaN</td>\n      <td>NaN</td>\n      <td>NaN</td>\n      <td>NaN</td>\n      <td>NaN</td>\n    </tr>\n    <tr>\n      <th>10750</th>\n      <td>4117335</td>\n      <td>2079/625</td>\n      <td>28</td>\n      <td>11</td>\n      <td>61</td>\n      <td>30</td>\n      <td>5,5</td>\n      <td>1,23</td>\n      <td>NaN</td>\n      <td>NaN</td>\n      <td>...</td>\n      <td>NaN</td>\n      <td>NaN</td>\n      <td>NaN</td>\n      <td>NaN</td>\n      <td>NaN</td>\n      <td>NaN</td>\n      <td>NaN</td>\n      <td>NaN</td>\n      <td>NaN</td>\n      <td>NaN</td>\n    </tr>\n    <tr>\n      <th>10751</th>\n      <td>4117305</td>\n      <td>1835/437</td>\n      <td>18</td>\n      <td>7,2</td>\n      <td>63,6</td>\n      <td>28</td>\n      <td>5,1</td>\n      <td>0,3</td>\n      <td>NaN</td>\n      <td>NaN</td>\n      <td>...</td>\n      <td>NaN</td>\n      <td>NaN</td>\n      <td>NaN</td>\n      <td>NaN</td>\n      <td>NaN</td>\n      <td>NaN</td>\n      <td>NaN</td>\n      <td>NaN</td>\n      <td>NaN</td>\n      <td>NaN</td>\n    </tr>\n    <tr>\n      <th>10752</th>\n      <td>4117344</td>\n      <td>2126/508</td>\n      <td>26</td>\n      <td>13</td>\n      <td>64</td>\n      <td>31</td>\n      <td>5</td>\n      <td>0,71</td>\n      <td>NaN</td>\n      <td>NaN</td>\n      <td>...</td>\n      <td>NaN</td>\n      <td>NaN</td>\n      <td>NaN</td>\n      <td>NaN</td>\n      <td>NaN</td>\n      <td>NaN</td>\n      <td>NaN</td>\n      <td>NaN</td>\n      <td>NaN</td>\n      <td>NaN</td>\n    </tr>\n  </tbody>\n</table>\n<p>10753 rows × 42 columns</p>\n</div>"
     },
     "execution_count": 7,
     "metadata": {},
     "output_type": "execute_result"
    }
   ],
   "source": [
    "nutritions_df"
   ],
   "metadata": {
    "collapsed": false,
    "pycharm": {
     "name": "#%%\n"
    }
   }
  },
  {
   "cell_type": "code",
   "execution_count": 34,
   "outputs": [],
   "source": [
    "nutritions_df.to_csv(f\"../databases/csv/{DATE}/nutritions_raw.csv\", escapechar=\"\\\\\", compression=\"xz\")"
   ],
   "metadata": {
    "collapsed": false,
    "pycharm": {
     "name": "#%%\n"
    }
   }
  },
  {
   "cell_type": "code",
   "execution_count": 9,
   "outputs": [],
   "source": [
    "def create_df(data: dict):\n",
    "    return pd.DataFrame([data.values()], columns=list(data.keys()))"
   ],
   "metadata": {
    "collapsed": false,
    "pycharm": {
     "name": "#%%\n"
    }
   }
  },
  {
   "cell_type": "code",
   "execution_count": 10,
   "outputs": [
    {
     "name": "stdout",
     "output_type": "stream",
     "text": [
      "processed 0 members in 0.10580062866210938 seconds\n",
      "processed 1000 members in 19.980668544769287 seconds\n",
      "processed 2000 members in 38.69478225708008 seconds\n",
      "processed 3000 members in 56.95269584655762 seconds\n",
      "processed 4000 members in 75.39728784561157 seconds\n",
      "processed 5000 members in 93.95096778869629 seconds\n",
      "processed 6000 members in 112.56591892242432 seconds\n",
      "processed 7000 members in 131.40670132637024 seconds\n",
      "processed 8000 members in 149.61479926109314 seconds\n",
      "processed 9000 members in 168.1195409297943 seconds\n",
      "processed 10000 members in 186.8265438079834 seconds\n",
      "processed 11000 members in 205.21482849121094 seconds\n",
      "processed 12000 members in 223.5796127319336 seconds\n",
      "processed 13000 members in 241.70942616462708 seconds\n",
      "processed 14000 members in 259.9118084907532 seconds\n",
      "processed 15000 members in 278.3602650165558 seconds\n",
      "processed 16000 members in 295.719605922699 seconds\n",
      "processed 17000 members in 312.80211114883423 seconds\n",
      "processed 18000 members in 330.6197421550751 seconds\n",
      "processed 19000 members in 348.42302680015564 seconds\n",
      "processed 20000 members in 366.07702803611755 seconds\n",
      "processed 21000 members in 383.7973244190216 seconds\n",
      "processed 22000 members in 401.3098940849304 seconds\n",
      "processed 23000 members in 418.84524178504944 seconds\n",
      "processed 24000 members in 438.0144181251526 seconds\n",
      "processed 25000 members in 459.03642320632935 seconds\n",
      "processed 26000 members in 479.84547305107117 seconds\n",
      "processed 27000 members in 497.4224281311035 seconds\n",
      "processed 28000 members in 514.5487976074219 seconds\n",
      "processed 29000 members in 531.5226125717163 seconds\n",
      "processed 30000 members in 548.789267539978 seconds\n",
      "processed 31000 members in 565.7004551887512 seconds\n",
      "processed 32000 members in 582.5485682487488 seconds\n",
      "processed 33000 members in 600.9684581756592 seconds\n",
      "processed 34000 members in 613.7612152099609 seconds\n",
      "processed 35000 members in 616.9742827415466 seconds\n",
      "processed 36000 members in 622.6300597190857 seconds\n",
      "processed 37000 members in 633.6306793689728 seconds\n",
      "processed 38000 members in 647.82488489151 seconds\n",
      "processed 39000 members in 664.5730016231537 seconds\n",
      "processed 40000 members in 679.9253220558167 seconds\n",
      "processed 41000 members in 696.2558362483978 seconds\n",
      "processed 42000 members in 712.4344863891602 seconds\n",
      "processed 43000 members in 724.7501266002655 seconds\n",
      "processed 44000 members in 724.8306863307953 seconds\n",
      "processed 45000 members in 724.8310344219208 seconds\n",
      "processed 46000 members in 726.3316588401794 seconds\n",
      "processed 47000 members in 728.5271456241608 seconds\n",
      "processed 48000 members in 728.985818862915 seconds\n",
      "processed 49000 members in 730.0948913097382 seconds\n",
      "processed 50000 members in 730.0952653884888 seconds\n",
      "processed 51000 members in 730.095582485199 seconds\n",
      "processed 52000 members in 730.1281671524048 seconds\n",
      "processed 53000 members in 730.1768229007721 seconds\n",
      "processed 54000 members in 730.1771724224091 seconds\n",
      "processed 55000 members in 730.1775207519531 seconds\n",
      "processed 56000 members in 730.2088766098022 seconds\n",
      "processed 57000 members in 730.2711772918701 seconds\n",
      "processed 58000 members in 730.320262670517 seconds\n",
      "processed 59000 members in 730.420835018158 seconds\n",
      "processed 60000 members in 730.4212009906769 seconds\n",
      "processed 61000 members in 730.4678139686584 seconds\n",
      "processed 62000 members in 730.4681589603424 seconds\n",
      "processed 63000 members in 730.4832143783569 seconds\n",
      "processed 64000 members in 730.4835450649261 seconds\n",
      "processed 65000 members in 730.5286993980408 seconds\n",
      "processed 66000 members in 730.5454490184784 seconds\n",
      "processed 67000 members in 730.5462801456451 seconds\n",
      "processed 68000 members in 730.5649299621582 seconds\n",
      "processed 69000 members in 730.5997934341431 seconds\n",
      "processed 70000 members in 730.6298789978027 seconds\n",
      "processed 71000 members in 730.6445395946503 seconds\n",
      "processed 72000 members in 730.6448836326599 seconds\n",
      "processed 73000 members in 730.6452107429504 seconds\n",
      "processed 74000 members in 730.6455624103546 seconds\n",
      "processed 75000 members in 730.6597442626953 seconds\n",
      "processed 76000 members in 730.6600737571716 seconds\n",
      "processed 77000 members in 730.660392999649 seconds\n",
      "processed 78000 members in 730.687655210495 seconds\n",
      "processed 79000 members in 730.8445522785187 seconds\n",
      "processed 80000 members in 730.8449397087097 seconds\n",
      "processed 81000 members in 730.8452706336975 seconds\n",
      "processed 82000 members in 730.9297916889191 seconds\n",
      "processed 83000 members in 731.0254228115082 seconds\n",
      "processed 84000 members in 731.1587035655975 seconds\n",
      "processed 85000 members in 731.2402815818787 seconds\n",
      "processed 86000 members in 731.3618922233582 seconds\n",
      "processed 87000 members in 731.4609217643738 seconds\n",
      "processed 88000 members in 731.652090549469 seconds\n",
      "processed 89000 members in 731.7899017333984 seconds\n",
      "processed 90000 members in 732.0089256763458 seconds\n",
      "processed 91000 members in 732.0414755344391 seconds\n",
      "processed 92000 members in 732.1930420398712 seconds\n",
      "processed 93000 members in 732.4508521556854 seconds\n",
      "processed 94000 members in 732.4644951820374 seconds\n",
      "processed 95000 members in 732.4777822494507 seconds\n",
      "processed 96000 members in 732.5291502475739 seconds\n",
      "processed 97000 members in 732.5294864177704 seconds\n",
      "processed 98000 members in 732.5298323631287 seconds\n",
      "processed 99000 members in 732.5428717136383 seconds\n",
      "processed 100000 members in 732.5591340065002 seconds\n",
      "processed 101000 members in 732.559472322464 seconds\n",
      "processed 102000 members in 732.5597932338715 seconds\n",
      "processed 103000 members in 732.5726091861725 seconds\n",
      "processed 104000 members in 732.5970544815063 seconds\n",
      "processed 105000 members in 732.6098697185516 seconds\n",
      "processed 106000 members in 732.6224703788757 seconds\n",
      "processed 107000 members in 732.6228170394897 seconds\n",
      "processed 108000 members in 732.6350424289703 seconds\n",
      "processed 109000 members in 732.7032537460327 seconds\n",
      "processed 110000 members in 732.7283902168274 seconds\n",
      "processed 111000 members in 732.7890162467957 seconds\n",
      "processed 112000 members in 732.8486111164093 seconds\n",
      "processed 113000 members in 732.8489544391632 seconds\n",
      "processed 114000 members in 732.8492913246155 seconds\n",
      "processed 115000 members in 732.849639415741 seconds\n",
      "processed 116000 members in 732.8499763011932 seconds\n",
      "processed 117000 members in 732.8503444194794 seconds\n",
      "processed 118000 members in 732.8506827354431 seconds\n",
      "processed 119000 members in 732.8510186672211 seconds\n",
      "processed 120000 members in 732.8626170158386 seconds\n",
      "processed 121000 members in 732.862957239151 seconds\n",
      "processed 122000 members in 732.8632838726044 seconds\n",
      "processed 123000 members in 732.8636136054993 seconds\n",
      "processed 124000 members in 732.8751895427704 seconds\n",
      "processed 125000 members in 732.8872611522675 seconds\n",
      "processed 126000 members in 732.8875942230225 seconds\n",
      "processed 127000 members in 732.8986465930939 seconds\n",
      "processed 128000 members in 732.9358057975769 seconds\n",
      "processed 129000 members in 732.9732143878937 seconds\n",
      "processed 130000 members in 732.9843037128448 seconds\n",
      "processed 131000 members in 733.0075144767761 seconds\n",
      "processed 132000 members in 733.0394043922424 seconds\n",
      "processed 133000 members in 733.0840499401093 seconds\n",
      "processed 134000 members in 733.0843942165375 seconds\n",
      "processed 135000 members in 733.0950508117676 seconds\n",
      "processed 136000 members in 733.0953984260559 seconds\n",
      "processed 137000 members in 733.1061320304871 seconds\n",
      "processed 138000 members in 733.1168673038483 seconds\n",
      "processed 139000 members in 733.1172106266022 seconds\n",
      "processed 140000 members in 733.1175529956818 seconds\n",
      "processed 141000 members in 733.1178798675537 seconds\n",
      "processed 142000 members in 733.1182084083557 seconds\n",
      "processed 143000 members in 733.1283526420593 seconds\n",
      "processed 144000 members in 733.1385626792908 seconds\n",
      "processed 145000 members in 733.1656918525696 seconds\n",
      "processed 146000 members in 733.2008793354034 seconds\n",
      "processed 147000 members in 733.2300841808319 seconds\n",
      "processed 148000 members in 733.2304291725159 seconds\n",
      "processed 149000 members in 733.2307598590851 seconds\n",
      "processed 150000 members in 733.3245651721954 seconds\n",
      "processed 151000 members in 733.3435845375061 seconds\n",
      "processed 152000 members in 733.3439140319824 seconds\n",
      "processed 153000 members in 733.3533418178558 seconds\n",
      "processed 154000 members in 733.3537299633026 seconds\n",
      "processed 155000 members in 733.3630495071411 seconds\n",
      "processed 156000 members in 733.3924160003662 seconds\n",
      "processed 157000 members in 733.4418799877167 seconds\n",
      "processed 158000 members in 733.4422159194946 seconds\n",
      "processed 159000 members in 733.4514818191528 seconds\n",
      "processed 160000 members in 733.4518203735352 seconds\n",
      "processed 161000 members in 733.4611809253693 seconds\n",
      "processed 162000 members in 733.4786243438721 seconds\n",
      "processed 163000 members in 733.4876656532288 seconds\n",
      "processed 164000 members in 733.4880158901215 seconds\n",
      "processed 165000 members in 733.4964687824249 seconds\n",
      "processed 166000 members in 733.7754764556885 seconds\n",
      "processed 167000 members in 733.775847196579 seconds\n",
      "processed 168000 members in 733.7761659622192 seconds\n",
      "processed 169000 members in 733.8569407463074 seconds\n",
      "processed 170000 members in 734.5434222221375 seconds\n",
      "processed 171000 members in 734.5518701076508 seconds\n",
      "processed 172000 members in 734.631010055542 seconds\n",
      "processed 173000 members in 734.6634433269501 seconds\n",
      "processed 174000 members in 734.663791179657 seconds\n",
      "processed 175000 members in 734.885171175003 seconds\n",
      "processed 176000 members in 735.2615926265717 seconds\n",
      "processed 177000 members in 735.2838492393494 seconds\n",
      "processed 178000 members in 735.2913539409637 seconds\n",
      "processed 179000 members in 735.2916839122772 seconds\n",
      "processed 180000 members in 735.3272340297699 seconds\n",
      "processed 181000 members in 735.3345611095428 seconds\n",
      "processed 182000 members in 735.3553071022034 seconds\n",
      "processed 183000 members in 735.3626322746277 seconds\n",
      "processed 184000 members in 735.3762896060944 seconds\n",
      "processed 185000 members in 735.4103276729584 seconds\n",
      "processed 186000 members in 735.4171159267426 seconds\n",
      "processed 187000 members in 735.436544418335 seconds\n",
      "processed 188000 members in 735.4773614406586 seconds\n",
      "processed 189000 members in 735.484491109848 seconds\n",
      "processed 190000 members in 735.5353779792786 seconds\n",
      "processed 191000 members in 735.5357043743134 seconds\n",
      "processed 192000 members in 735.5583865642548 seconds\n",
      "processed 193000 members in 735.5711152553558 seconds\n",
      "processed 194000 members in 735.5714588165283 seconds\n",
      "processed 195000 members in 735.5894541740417 seconds\n",
      "processed 196000 members in 735.5898089408875 seconds\n",
      "processed 197000 members in 735.590133190155 seconds\n",
      "processed 198000 members in 735.6015753746033 seconds\n",
      "processed 199000 members in 735.6256804466248 seconds\n",
      "processed 200000 members in 735.6369736194611 seconds\n",
      "processed 201000 members in 735.6372981071472 seconds\n",
      "processed 202000 members in 735.6430103778839 seconds\n",
      "processed 203000 members in 735.6433439254761 seconds\n",
      "processed 204000 members in 735.643670797348 seconds\n",
      "processed 205000 members in 735.6439983844757 seconds\n",
      "processed 206000 members in 735.6603033542633 seconds\n",
      "processed 207000 members in 735.7411885261536 seconds\n",
      "processed 208000 members in 735.8705592155457 seconds\n",
      "processed 209000 members in 735.8708908557892 seconds\n",
      "processed 210000 members in 735.9047968387604 seconds\n",
      "processed 211000 members in 735.941980600357 seconds\n",
      "processed 212000 members in 735.991824388504 seconds\n",
      "processed 213000 members in 736.0787901878357 seconds\n",
      "processed 214000 members in 736.117377281189 seconds\n",
      "processed 215000 members in 736.1177773475647 seconds\n",
      "processed 216000 members in 736.1586265563965 seconds\n",
      "processed 217000 members in 736.1632301807404 seconds\n",
      "processed 218000 members in 736.1679983139038 seconds\n",
      "processed 219000 members in 736.1728348731995 seconds\n",
      "processed 220000 members in 736.173171043396 seconds\n",
      "processed 221000 members in 736.1734960079193 seconds\n",
      "processed 222000 members in 736.1777393817902 seconds\n",
      "processed 223000 members in 736.1820158958435 seconds\n",
      "processed 224000 members in 736.1823515892029 seconds\n",
      "processed 225000 members in 736.1826758384705 seconds\n",
      "processed 226000 members in 736.1868023872375 seconds\n",
      "processed 227000 members in 736.1943166255951 seconds\n",
      "processed 228000 members in 736.1946740150452 seconds\n",
      "processed 229000 members in 736.1950151920319 seconds\n",
      "processed 230000 members in 736.1953542232513 seconds\n",
      "processed 231000 members in 736.1956951618195 seconds\n",
      "processed 232000 members in 736.1960422992706 seconds\n",
      "processed 233000 members in 736.196387052536 seconds\n",
      "processed 234000 members in 736.1967322826385 seconds\n",
      "processed 235000 members in 736.1970837116241 seconds\n",
      "processed 236000 members in 736.2005522251129 seconds\n",
      "processed 237000 members in 736.206606388092 seconds\n",
      "processed 238000 members in 736.206967830658 seconds\n",
      "processed 239000 members in 736.2074236869812 seconds\n",
      "792.3405978679657\n",
      "0.01931642891996308\n"
     ]
    }
   ],
   "source": [
    "start_time = time.time()\n",
    "all_product_df = []\n",
    "all_variant_df = []\n",
    "all_prices_df = []\n",
    "for i, member in enumerate(tar.getmembers()):\n",
    "    if member.name.find(\"product.json\") != -1:\n",
    "        file_content = tar.extractfile(member.name).read().decode(\"utf-8\")\n",
    "        data = json.loads(file_content)\n",
    "\n",
    "        price_data = data[\"selectedVariant\"][\"price\"]\n",
    "        price_data[\"id\"] = data[\"selectedVariant\"][\"id\"]\n",
    "        all_prices_df.append(create_df(price_data))\n",
    "\n",
    "        del data[\"selectedVariant\"][\"price\"]\n",
    "        del data[\"selectedVariant\"][\"packageInfo\"][\"unitPrice\"]\n",
    "        data[\"selectedVariant\"][\"packageUnit\"] = data[\"selectedVariant\"][\"packageInfo\"][\"packageUnit\"]\n",
    "        data[\"selectedVariant\"][\"packageSize\"] = data[\"selectedVariant\"][\"packageInfo\"][\"packageSize\"]\n",
    "        del data[\"selectedVariant\"][\"packageInfo\"]\n",
    "\n",
    "        all_variant_df.append(create_df(data[\"selectedVariant\"]))\n",
    "\n",
    "        data[\"selectedVariant\"] = data[\"selectedVariant\"][\"id\"]\n",
    "        data[\"defaultVariant\"] = data[\"defaultVariant\"][\"id\"]\n",
    "        all_product_df.append(create_df(data))\n",
    "\n",
    "    if i % 1000 == 0:\n",
    "        print(f'processed {i} members in {time.time() - start_time} seconds')\n",
    "\n",
    "df_products = pd.concat(all_product_df, ignore_index=True)\n",
    "df_variants = pd.concat(all_variant_df, ignore_index=True)\n",
    "df_prices = pd.concat(all_prices_df, ignore_index=True)\n",
    "end_time = time.time()\n",
    "print(end_time - start_time)\n",
    "print((end_time - start_time) / len(df_products))"
   ],
   "metadata": {
    "collapsed": false,
    "pycharm": {
     "name": "#%%\n"
    }
   }
  },
  {
   "cell_type": "code",
   "execution_count": 11,
   "outputs": [
    {
     "data": {
      "text/plain": "   net  gross currency  decimalPlaces  netDiscounted  grossDiscounted  \\\n0  319    319      HUF              0            319              319   \n1  509    509      HUF              0            369              369   \n2  409    409      HUF              0            409              409   \n3  419    419      HUF              0            419              419   \n4  439    439      HUF              0            439              439   \n5  619    619      HUF              0            439              439   \n6  499    499      HUF              0            499              499   \n7  519    519      HUF              0            519              519   \n8  529    529      HUF              0            529              529   \n9  539    539      HUF              0            539              539   \n\n   discountPercentage  isDiscounted       id          discountValidFrom  \\\n0                   0         False  4071506                        NaN   \n1                  28          True  4071509  2023-01-12T00:00:00+01:00   \n2                   0         False  3664574                        NaN   \n3                   0         False  4006748                        NaN   \n4                   0         False  3664577                        NaN   \n5                  29          True  4071500  2023-01-12T00:00:00+01:00   \n6                   0         False  3665026                        NaN   \n7                   0         False    29452                        NaN   \n8                   0         False  3600419                        NaN   \n9                   0         False  3938513                        NaN   \n\n             discountValidTo  \n0                        NaN  \n1  2023-01-18T23:59:59+01:00  \n2                        NaN  \n3                        NaN  \n4                        NaN  \n5  2023-01-18T23:59:59+01:00  \n6                        NaN  \n7                        NaN  \n8                        NaN  \n9                        NaN  ",
      "text/html": "<div>\n<style scoped>\n    .dataframe tbody tr th:only-of-type {\n        vertical-align: middle;\n    }\n\n    .dataframe tbody tr th {\n        vertical-align: top;\n    }\n\n    .dataframe thead th {\n        text-align: right;\n    }\n</style>\n<table border=\"1\" class=\"dataframe\">\n  <thead>\n    <tr style=\"text-align: right;\">\n      <th></th>\n      <th>net</th>\n      <th>gross</th>\n      <th>currency</th>\n      <th>decimalPlaces</th>\n      <th>netDiscounted</th>\n      <th>grossDiscounted</th>\n      <th>discountPercentage</th>\n      <th>isDiscounted</th>\n      <th>id</th>\n      <th>discountValidFrom</th>\n      <th>discountValidTo</th>\n    </tr>\n  </thead>\n  <tbody>\n    <tr>\n      <th>0</th>\n      <td>319</td>\n      <td>319</td>\n      <td>HUF</td>\n      <td>0</td>\n      <td>319</td>\n      <td>319</td>\n      <td>0</td>\n      <td>False</td>\n      <td>4071506</td>\n      <td>NaN</td>\n      <td>NaN</td>\n    </tr>\n    <tr>\n      <th>1</th>\n      <td>509</td>\n      <td>509</td>\n      <td>HUF</td>\n      <td>0</td>\n      <td>369</td>\n      <td>369</td>\n      <td>28</td>\n      <td>True</td>\n      <td>4071509</td>\n      <td>2023-01-12T00:00:00+01:00</td>\n      <td>2023-01-18T23:59:59+01:00</td>\n    </tr>\n    <tr>\n      <th>2</th>\n      <td>409</td>\n      <td>409</td>\n      <td>HUF</td>\n      <td>0</td>\n      <td>409</td>\n      <td>409</td>\n      <td>0</td>\n      <td>False</td>\n      <td>3664574</td>\n      <td>NaN</td>\n      <td>NaN</td>\n    </tr>\n    <tr>\n      <th>3</th>\n      <td>419</td>\n      <td>419</td>\n      <td>HUF</td>\n      <td>0</td>\n      <td>419</td>\n      <td>419</td>\n      <td>0</td>\n      <td>False</td>\n      <td>4006748</td>\n      <td>NaN</td>\n      <td>NaN</td>\n    </tr>\n    <tr>\n      <th>4</th>\n      <td>439</td>\n      <td>439</td>\n      <td>HUF</td>\n      <td>0</td>\n      <td>439</td>\n      <td>439</td>\n      <td>0</td>\n      <td>False</td>\n      <td>3664577</td>\n      <td>NaN</td>\n      <td>NaN</td>\n    </tr>\n    <tr>\n      <th>5</th>\n      <td>619</td>\n      <td>619</td>\n      <td>HUF</td>\n      <td>0</td>\n      <td>439</td>\n      <td>439</td>\n      <td>29</td>\n      <td>True</td>\n      <td>4071500</td>\n      <td>2023-01-12T00:00:00+01:00</td>\n      <td>2023-01-18T23:59:59+01:00</td>\n    </tr>\n    <tr>\n      <th>6</th>\n      <td>499</td>\n      <td>499</td>\n      <td>HUF</td>\n      <td>0</td>\n      <td>499</td>\n      <td>499</td>\n      <td>0</td>\n      <td>False</td>\n      <td>3665026</td>\n      <td>NaN</td>\n      <td>NaN</td>\n    </tr>\n    <tr>\n      <th>7</th>\n      <td>519</td>\n      <td>519</td>\n      <td>HUF</td>\n      <td>0</td>\n      <td>519</td>\n      <td>519</td>\n      <td>0</td>\n      <td>False</td>\n      <td>29452</td>\n      <td>NaN</td>\n      <td>NaN</td>\n    </tr>\n    <tr>\n      <th>8</th>\n      <td>529</td>\n      <td>529</td>\n      <td>HUF</td>\n      <td>0</td>\n      <td>529</td>\n      <td>529</td>\n      <td>0</td>\n      <td>False</td>\n      <td>3600419</td>\n      <td>NaN</td>\n      <td>NaN</td>\n    </tr>\n    <tr>\n      <th>9</th>\n      <td>539</td>\n      <td>539</td>\n      <td>HUF</td>\n      <td>0</td>\n      <td>539</td>\n      <td>539</td>\n      <td>0</td>\n      <td>False</td>\n      <td>3938513</td>\n      <td>NaN</td>\n      <td>NaN</td>\n    </tr>\n  </tbody>\n</table>\n</div>"
     },
     "execution_count": 11,
     "metadata": {},
     "output_type": "execute_result"
    }
   ],
   "source": [
    "df_prices.head(10)"
   ],
   "metadata": {
    "collapsed": false,
    "pycharm": {
     "name": "#%%\n"
    }
   }
  },
  {
   "cell_type": "code",
   "execution_count": 12,
   "outputs": [
    {
     "data": {
      "text/plain": "            id                                               name     sku  \\\n0      4071506                 Tarka ESL félzsíros tej 2,8% 0,5 l  520525   \n1      4071509                 Tarka ESL zsírszegény tej 1,5% 1 l  520526   \n2      3664574      Auchan Nívó Pasztőrözött dobozos tej 1,5% 1 l  119589   \n3      4006748           Auchan Nívó ESL Palackozott tej 1,5% 1 l  391628   \n4      3664577      Auchan Nívó Pasztőrözött dobozos tej 2,8% 1 l  119590   \n...        ...                                                ...     ...   \n41014  3617785           Stanley STA60480 Bitfej készlet 7 részes  964185   \n41015  4063294  Kantáros Munkanadrág Terepmintás, 60% Pamut, 4...  521639   \n41016  4079799  LED ovál lámpa 12W, 1080lm, IP65, IK08, 4000K,...  582922   \n41017  4120135                Actuel sherpa pléd 125x150 cm barna  563683   \n41018  3629025                           Aglomerált dugó 10 db-os  796077   \n\n       productId addedName  selectValue status unit        eanCode  aided  \\\n0         534116                4071506   none   db  5998207771623  False   \n1         534119                4071509   none   db  5998207771609  False   \n2         127379                3664574   none   db  5999086442253  False   \n3         469376                4006748   none   db  5999086444561  False   \n4         127382                3664577   none   db  5999086442260  False   \n...          ...       ...          ...    ...  ...            ...    ...   \n41014      80695                3617785   none   db  5035048372449  False   \n41015     525904                4063294   none   db  5907558441987  False   \n41016     542409                4079799   none   db  5908254802584  False   \n41017     582745                4120135   none   db  3665257281915  False   \n41018      91935                3629025   none   db  5997734504544  False   \n\n       ...                                              flags  \\\n0      ...  [{'flag': 'flag_hungarian', 'name': 'Magyar te...   \n1      ...  [{'flag': 'flag_discount', 'name': 'Kiemelt aj...   \n2      ...  [{'flag': 'flag_auchan_brand', 'name': 'Auchan...   \n3      ...  [{'flag': 'flag_auchan_brand', 'name': 'Auchan...   \n4      ...  [{'flag': 'flag_auchan_brand', 'name': 'Auchan...   \n...    ...                                                ...   \n41014  ...  [{'flag': 'flag_national_delivery', 'name': 'O...   \n41015  ...  [{'flag': 'flag_national_delivery', 'name': 'O...   \n41016  ...  [{'flag': 'flag_national_delivery', 'name': 'O...   \n41017  ...                                                 []   \n41018  ...                                                 []   \n\n                                                   media  \\\n0      {'images': ['https://ahuazurewebblob0.azureedg...   \n1      {'images': ['https://ahuazurewebblob0.azureedg...   \n2      {'images': ['https://ahuazurewebblob0.azureedg...   \n3      {'images': ['https://ahuazurewebblob0.azureedg...   \n4      {'images': ['https://ahuazurewebblob0.azureedg...   \n...                                                  ...   \n41014  {'images': ['https://ahuazurewebblob0.azureedg...   \n41015  {'images': ['https://ahuazurewebblob0.azureedg...   \n41016  {'images': ['https://ahuazurewebblob0.azureedg...   \n41017                       {'images': [], 'videos': []}   \n41018  {'images': ['https://ahuazurewebblob0.azureedg...   \n\n                                                 details isInVirtualStock  \\\n0      [description, ingredients, parameterList, nutr...            False   \n1      [description, ingredients, parameterList, nutr...            False   \n2      [description, ingredients, parameterList, nutr...            False   \n3      [description, ingredients, parameterList, nutr...            False   \n4      [description, ingredients, parameterList, nutr...            False   \n...                                                  ...              ...   \n41014                                      [description]            False   \n41015                                      [description]            False   \n41016                                      [description]            False   \n41017                       [description, parameterList]            False   \n41018                                      [description]            False   \n\n      shoppingListsContain  offerType packageUnit packageSize itemVolumeInfo  \\\n0                       []                  LITER         0.5            NaN   \n1                       []   discount       LITER         1.0            NaN   \n2                       []                  LITER         1.0            NaN   \n3                       []                  LITER         1.0            NaN   \n4                       []                  LITER         1.0            NaN   \n...                    ...        ...         ...         ...            ...   \n41014                   []                     DB         1.0            NaN   \n41015                   []                     DB         1.0            NaN   \n41016                   []                     DB         1.0            NaN   \n41017                   []                     DB         1.0            NaN   \n41018                   []                     DB        10.0            NaN   \n\n       roll  \n0       NaN  \n1       NaN  \n2       NaN  \n3       NaN  \n4       NaN  \n...     ...  \n41014   NaN  \n41015   NaN  \n41016   NaN  \n41017   NaN  \n41018   NaN  \n\n[35424 rows x 22 columns]",
      "text/html": "<div>\n<style scoped>\n    .dataframe tbody tr th:only-of-type {\n        vertical-align: middle;\n    }\n\n    .dataframe tbody tr th {\n        vertical-align: top;\n    }\n\n    .dataframe thead th {\n        text-align: right;\n    }\n</style>\n<table border=\"1\" class=\"dataframe\">\n  <thead>\n    <tr style=\"text-align: right;\">\n      <th></th>\n      <th>id</th>\n      <th>name</th>\n      <th>sku</th>\n      <th>productId</th>\n      <th>addedName</th>\n      <th>selectValue</th>\n      <th>status</th>\n      <th>unit</th>\n      <th>eanCode</th>\n      <th>aided</th>\n      <th>...</th>\n      <th>flags</th>\n      <th>media</th>\n      <th>details</th>\n      <th>isInVirtualStock</th>\n      <th>shoppingListsContain</th>\n      <th>offerType</th>\n      <th>packageUnit</th>\n      <th>packageSize</th>\n      <th>itemVolumeInfo</th>\n      <th>roll</th>\n    </tr>\n  </thead>\n  <tbody>\n    <tr>\n      <th>0</th>\n      <td>4071506</td>\n      <td>Tarka ESL félzsíros tej 2,8% 0,5 l</td>\n      <td>520525</td>\n      <td>534116</td>\n      <td></td>\n      <td>4071506</td>\n      <td>none</td>\n      <td>db</td>\n      <td>5998207771623</td>\n      <td>False</td>\n      <td>...</td>\n      <td>[{'flag': 'flag_hungarian', 'name': 'Magyar te...</td>\n      <td>{'images': ['https://ahuazurewebblob0.azureedg...</td>\n      <td>[description, ingredients, parameterList, nutr...</td>\n      <td>False</td>\n      <td>[]</td>\n      <td></td>\n      <td>LITER</td>\n      <td>0.5</td>\n      <td>NaN</td>\n      <td>NaN</td>\n    </tr>\n    <tr>\n      <th>1</th>\n      <td>4071509</td>\n      <td>Tarka ESL zsírszegény tej 1,5% 1 l</td>\n      <td>520526</td>\n      <td>534119</td>\n      <td></td>\n      <td>4071509</td>\n      <td>none</td>\n      <td>db</td>\n      <td>5998207771609</td>\n      <td>False</td>\n      <td>...</td>\n      <td>[{'flag': 'flag_discount', 'name': 'Kiemelt aj...</td>\n      <td>{'images': ['https://ahuazurewebblob0.azureedg...</td>\n      <td>[description, ingredients, parameterList, nutr...</td>\n      <td>False</td>\n      <td>[]</td>\n      <td>discount</td>\n      <td>LITER</td>\n      <td>1.0</td>\n      <td>NaN</td>\n      <td>NaN</td>\n    </tr>\n    <tr>\n      <th>2</th>\n      <td>3664574</td>\n      <td>Auchan Nívó Pasztőrözött dobozos tej 1,5% 1 l</td>\n      <td>119589</td>\n      <td>127379</td>\n      <td></td>\n      <td>3664574</td>\n      <td>none</td>\n      <td>db</td>\n      <td>5999086442253</td>\n      <td>False</td>\n      <td>...</td>\n      <td>[{'flag': 'flag_auchan_brand', 'name': 'Auchan...</td>\n      <td>{'images': ['https://ahuazurewebblob0.azureedg...</td>\n      <td>[description, ingredients, parameterList, nutr...</td>\n      <td>False</td>\n      <td>[]</td>\n      <td></td>\n      <td>LITER</td>\n      <td>1.0</td>\n      <td>NaN</td>\n      <td>NaN</td>\n    </tr>\n    <tr>\n      <th>3</th>\n      <td>4006748</td>\n      <td>Auchan Nívó ESL Palackozott tej 1,5% 1 l</td>\n      <td>391628</td>\n      <td>469376</td>\n      <td></td>\n      <td>4006748</td>\n      <td>none</td>\n      <td>db</td>\n      <td>5999086444561</td>\n      <td>False</td>\n      <td>...</td>\n      <td>[{'flag': 'flag_auchan_brand', 'name': 'Auchan...</td>\n      <td>{'images': ['https://ahuazurewebblob0.azureedg...</td>\n      <td>[description, ingredients, parameterList, nutr...</td>\n      <td>False</td>\n      <td>[]</td>\n      <td></td>\n      <td>LITER</td>\n      <td>1.0</td>\n      <td>NaN</td>\n      <td>NaN</td>\n    </tr>\n    <tr>\n      <th>4</th>\n      <td>3664577</td>\n      <td>Auchan Nívó Pasztőrözött dobozos tej 2,8% 1 l</td>\n      <td>119590</td>\n      <td>127382</td>\n      <td></td>\n      <td>3664577</td>\n      <td>none</td>\n      <td>db</td>\n      <td>5999086442260</td>\n      <td>False</td>\n      <td>...</td>\n      <td>[{'flag': 'flag_auchan_brand', 'name': 'Auchan...</td>\n      <td>{'images': ['https://ahuazurewebblob0.azureedg...</td>\n      <td>[description, ingredients, parameterList, nutr...</td>\n      <td>False</td>\n      <td>[]</td>\n      <td></td>\n      <td>LITER</td>\n      <td>1.0</td>\n      <td>NaN</td>\n      <td>NaN</td>\n    </tr>\n    <tr>\n      <th>...</th>\n      <td>...</td>\n      <td>...</td>\n      <td>...</td>\n      <td>...</td>\n      <td>...</td>\n      <td>...</td>\n      <td>...</td>\n      <td>...</td>\n      <td>...</td>\n      <td>...</td>\n      <td>...</td>\n      <td>...</td>\n      <td>...</td>\n      <td>...</td>\n      <td>...</td>\n      <td>...</td>\n      <td>...</td>\n      <td>...</td>\n      <td>...</td>\n      <td>...</td>\n      <td>...</td>\n    </tr>\n    <tr>\n      <th>41014</th>\n      <td>3617785</td>\n      <td>Stanley STA60480 Bitfej készlet 7 részes</td>\n      <td>964185</td>\n      <td>80695</td>\n      <td></td>\n      <td>3617785</td>\n      <td>none</td>\n      <td>db</td>\n      <td>5035048372449</td>\n      <td>False</td>\n      <td>...</td>\n      <td>[{'flag': 'flag_national_delivery', 'name': 'O...</td>\n      <td>{'images': ['https://ahuazurewebblob0.azureedg...</td>\n      <td>[description]</td>\n      <td>False</td>\n      <td>[]</td>\n      <td></td>\n      <td>DB</td>\n      <td>1.0</td>\n      <td>NaN</td>\n      <td>NaN</td>\n    </tr>\n    <tr>\n      <th>41015</th>\n      <td>4063294</td>\n      <td>Kantáros Munkanadrág Terepmintás, 60% Pamut, 4...</td>\n      <td>521639</td>\n      <td>525904</td>\n      <td></td>\n      <td>4063294</td>\n      <td>none</td>\n      <td>db</td>\n      <td>5907558441987</td>\n      <td>False</td>\n      <td>...</td>\n      <td>[{'flag': 'flag_national_delivery', 'name': 'O...</td>\n      <td>{'images': ['https://ahuazurewebblob0.azureedg...</td>\n      <td>[description]</td>\n      <td>False</td>\n      <td>[]</td>\n      <td></td>\n      <td>DB</td>\n      <td>1.0</td>\n      <td>NaN</td>\n      <td>NaN</td>\n    </tr>\n    <tr>\n      <th>41016</th>\n      <td>4079799</td>\n      <td>LED ovál lámpa 12W, 1080lm, IP65, IK08, 4000K,...</td>\n      <td>582922</td>\n      <td>542409</td>\n      <td></td>\n      <td>4079799</td>\n      <td>none</td>\n      <td>db</td>\n      <td>5908254802584</td>\n      <td>False</td>\n      <td>...</td>\n      <td>[{'flag': 'flag_national_delivery', 'name': 'O...</td>\n      <td>{'images': ['https://ahuazurewebblob0.azureedg...</td>\n      <td>[description]</td>\n      <td>False</td>\n      <td>[]</td>\n      <td></td>\n      <td>DB</td>\n      <td>1.0</td>\n      <td>NaN</td>\n      <td>NaN</td>\n    </tr>\n    <tr>\n      <th>41017</th>\n      <td>4120135</td>\n      <td>Actuel sherpa pléd 125x150 cm barna</td>\n      <td>563683</td>\n      <td>582745</td>\n      <td></td>\n      <td>4120135</td>\n      <td>none</td>\n      <td>db</td>\n      <td>3665257281915</td>\n      <td>False</td>\n      <td>...</td>\n      <td>[]</td>\n      <td>{'images': [], 'videos': []}</td>\n      <td>[description, parameterList]</td>\n      <td>False</td>\n      <td>[]</td>\n      <td></td>\n      <td>DB</td>\n      <td>1.0</td>\n      <td>NaN</td>\n      <td>NaN</td>\n    </tr>\n    <tr>\n      <th>41018</th>\n      <td>3629025</td>\n      <td>Aglomerált dugó 10 db-os</td>\n      <td>796077</td>\n      <td>91935</td>\n      <td></td>\n      <td>3629025</td>\n      <td>none</td>\n      <td>db</td>\n      <td>5997734504544</td>\n      <td>False</td>\n      <td>...</td>\n      <td>[]</td>\n      <td>{'images': ['https://ahuazurewebblob0.azureedg...</td>\n      <td>[description]</td>\n      <td>False</td>\n      <td>[]</td>\n      <td></td>\n      <td>DB</td>\n      <td>10.0</td>\n      <td>NaN</td>\n      <td>NaN</td>\n    </tr>\n  </tbody>\n</table>\n<p>35424 rows × 22 columns</p>\n</div>"
     },
     "execution_count": 12,
     "metadata": {},
     "output_type": "execute_result"
    }
   ],
   "source": [
    "df_variants.drop_duplicates(subset=[\"id\"], inplace=True)\n",
    "df_products.drop_duplicates(subset=[\"id\"], inplace=True)\n",
    "df_prices.drop_duplicates(subset=[\"id\"], inplace=True)\n",
    "df_variants"
   ],
   "metadata": {
    "collapsed": false,
    "pycharm": {
     "name": "#%%\n"
    }
   }
  },
  {
   "cell_type": "code",
   "execution_count": 13,
   "outputs": [],
   "source": [
    "assert len(df_products) == len(df_variants) == len(df_prices)"
   ],
   "metadata": {
    "collapsed": false,
    "pycharm": {
     "name": "#%%\n"
    }
   }
  },
  {
   "cell_type": "code",
   "execution_count": 14,
   "outputs": [],
   "source": [
    "df_variants.to_csv(f\"../databases/csv/{DATE}/variants_raw.csv\", escapechar=\"\\\\\", compression='xz')\n",
    "df_products.to_csv(f\"../databases/csv/{DATE}/products_raw.csv\", escapechar=\"\\\\\", compression='xz')\n",
    "df_prices.to_csv(f\"../databases/csv/{DATE}/prices_raw.csv\", escapechar=\"\\\\\", compression='xz')"
   ],
   "metadata": {
    "collapsed": false,
    "pycharm": {
     "name": "#%%\n"
    }
   }
  },
  {
   "cell_type": "code",
   "execution_count": 15,
   "outputs": [
    {
     "data": {
      "text/plain": "Empty DataFrame\nColumns: [id, name, sku, productId, addedName, selectValue, status, unit, eanCode, aided, cartInfo, loose, flags, media, details, isInVirtualStock, shoppingListsContain, offerType, packageUnit, packageSize, itemVolumeInfo, roll]\nIndex: []\n\n[0 rows x 22 columns]",
      "text/html": "<div>\n<style scoped>\n    .dataframe tbody tr th:only-of-type {\n        vertical-align: middle;\n    }\n\n    .dataframe tbody tr th {\n        vertical-align: top;\n    }\n\n    .dataframe thead th {\n        text-align: right;\n    }\n</style>\n<table border=\"1\" class=\"dataframe\">\n  <thead>\n    <tr style=\"text-align: right;\">\n      <th></th>\n      <th>id</th>\n      <th>name</th>\n      <th>sku</th>\n      <th>productId</th>\n      <th>addedName</th>\n      <th>selectValue</th>\n      <th>status</th>\n      <th>unit</th>\n      <th>eanCode</th>\n      <th>aided</th>\n      <th>...</th>\n      <th>flags</th>\n      <th>media</th>\n      <th>details</th>\n      <th>isInVirtualStock</th>\n      <th>shoppingListsContain</th>\n      <th>offerType</th>\n      <th>packageUnit</th>\n      <th>packageSize</th>\n      <th>itemVolumeInfo</th>\n      <th>roll</th>\n    </tr>\n  </thead>\n  <tbody>\n  </tbody>\n</table>\n<p>0 rows × 22 columns</p>\n</div>"
     },
     "execution_count": 15,
     "metadata": {},
     "output_type": "execute_result"
    }
   ],
   "source": [
    "df_variants.loc[df_variants[\"details\"].str.contains(\"allergens\").fillna(False)]"
   ],
   "metadata": {
    "collapsed": false,
    "pycharm": {
     "name": "#%%\n"
    }
   }
  },
  {
   "cell_type": "code",
   "execution_count": 16,
   "outputs": [
    {
     "data": {
      "text/plain": "0        False\n1        False\n2        False\n3        False\n4        False\n         ...  \n41014      NaN\n41015      NaN\n41016      NaN\n41017      NaN\n41018      NaN\nName: details, Length: 35424, dtype: object"
     },
     "execution_count": 16,
     "metadata": {},
     "output_type": "execute_result"
    }
   ],
   "source": [
    "df_variants[\"details\"].str[2].str.contains(\"allergens\")"
   ],
   "metadata": {
    "collapsed": false,
    "pycharm": {
     "name": "#%%\n"
    }
   }
  },
  {
   "cell_type": "code",
   "execution_count": 17,
   "outputs": [
    {
     "data": {
      "text/plain": "2        3664574\n3        4006748\n4        3664577\n6        3665026\n8        3600419\n          ...   \n40670      50490\n40671      50487\n40672      50463\n40673      50751\n40674      50748\nName: id, Length: 8326, dtype: int64"
     },
     "execution_count": 17,
     "metadata": {},
     "output_type": "execute_result"
    }
   ],
   "source": [
    "df_variants.loc[df_variants[\"details\"].str[-1] == \"allergens\", \"id\"]"
   ],
   "metadata": {
    "collapsed": false,
    "pycharm": {
     "name": "#%%\n"
    }
   }
  },
  {
   "cell_type": "code",
   "execution_count": 18,
   "outputs": [
    {
     "name": "stderr",
     "output_type": "stream",
     "text": [
      "/tmp/ipykernel_49136/3343364999.py:1: DtypeWarning: Columns (5,22) have mixed types. Specify dtype option on import or set low_memory=False.\n",
      "  df_variants = pd.read_csv(f\"../databases/csv/{DATE}/variants_raw.csv\", index_col=0, compression='xz')\n"
     ]
    }
   ],
   "source": [
    "df_variants = pd.read_csv(f\"../databases/csv/{DATE}/variants_raw.csv\", index_col=0, compression='xz')\n",
    "df_products = pd.read_csv(f\"../databases/csv/{DATE}/products_raw.csv\", index_col=0, compression='xz')\n",
    "df_prices = pd.read_csv(f\"../databases/csv/{DATE}/prices_raw.csv\", index_col=0, compression='xz')"
   ],
   "metadata": {
    "collapsed": false,
    "pycharm": {
     "name": "#%%\n"
    }
   }
  },
  {
   "cell_type": "code",
   "execution_count": 19,
   "outputs": [
    {
     "data": {
      "text/plain": "           id  categoryId             categoryName       brandName  \\\n0      534116        6538                Friss tej           Tarka   \n1      534119        6538                Friss tej           Tarka   \n2      127379        6538                Friss tej          Auchan   \n3      469376        6538                Friss tej          Auchan   \n4      127382        6538                Friss tej          Auchan   \n...       ...         ...                      ...             ...   \n41014   80695       12446               Fúrószárak  Black & Decker   \n41015  525904       12434                Munkaruha             NEO   \n41016  542409       12509  Szerelőlámpa, reflektor            Anco   \n41017  582745       12821        Ágytakaró és pléd          Actuel   \n41018   91935       12977  Ital készítés, szifonok           nincs   \n\n       defaultVariant  selectedVariant        eancode  \\\n0             4071506          4071506  5998207771623   \n1             4071509          4071509  5998207771609   \n2             3664574          3664574  5999086442253   \n3             4006748          4006748  5999086444561   \n4             3664577          3664577  5999086442260   \n...               ...              ...            ...   \n41014         3617785          3617785  5035048372449   \n41015         4063294          4063294  5907558441987   \n41016         4079799          4079799  5908254802584   \n41017         4120135          4120135  3665257281915   \n41018         3629025          3629025  5997734504544   \n\n                                    usedItem reviewable  \\\n0      {'canReturn': False, 'return': False}      login   \n1      {'canReturn': False, 'return': False}      login   \n2      {'canReturn': False, 'return': False}      login   \n3      {'canReturn': False, 'return': False}      login   \n4      {'canReturn': False, 'return': False}      login   \n...                                      ...        ...   \n41014  {'canReturn': False, 'return': False}      login   \n41015  {'canReturn': False, 'return': False}      login   \n41016  {'canReturn': False, 'return': False}      login   \n41017  {'canReturn': False, 'return': False}      login   \n41018  {'canReturn': False, 'return': False}      login   \n\n                           reviewSum  \\\n0      {'sumCount': 0, 'average': 0}   \n1      {'sumCount': 0, 'average': 0}   \n2      {'sumCount': 0, 'average': 0}   \n3      {'sumCount': 0, 'average': 0}   \n4      {'sumCount': 0, 'average': 0}   \n...                              ...   \n41014  {'sumCount': 0, 'average': 0}   \n41015  {'sumCount': 0, 'average': 0}   \n41016  {'sumCount': 0, 'average': 0}   \n41017  {'sumCount': 0, 'average': 0}   \n41018  {'sumCount': 0, 'average': 0}   \n\n                                              categories inCategories  \\\n0      [{'id': 1, 'level': 0, 'name': 'Élelmiszer', '...       [6538]   \n1      [{'id': 1, 'level': 0, 'name': 'Élelmiszer', '...       [6538]   \n2      [{'id': 1, 'level': 0, 'name': 'Élelmiszer', '...       [6538]   \n3      [{'id': 1, 'level': 0, 'name': 'Élelmiszer', '...       [6538]   \n4      [{'id': 1, 'level': 0, 'name': 'Élelmiszer', '...       [6538]   \n...                                                  ...          ...   \n41014  [{'id': 11620, 'name': 'Kert, Szabadidő, Meden...      [12446]   \n41015  [{'id': 11620, 'name': 'Kert, Szabadidő, Meden...      [12434]   \n41016  [{'id': 11620, 'name': 'Kert, Szabadidő, Meden...      [12509]   \n41017  [{'id': 12617, 'name': 'Állateledel, Otthon, H...      [12821]   \n41018  [{'id': 12617, 'name': 'Állateledel, Otthon, H...      [12977]   \n\n       isNewProduct stockInfos  adultsOnly  shipmentDays  ageConfirmed  \\\n0             False         []       False             0         False   \n1             False         []       False             0         False   \n2             False         []       False             0         False   \n3             False         []       False             0         False   \n4             False         []       False             0         False   \n...             ...        ...         ...           ...           ...   \n41014         False         []       False             0         False   \n41015         False         []       False             0         False   \n41016         False         []       False             0         False   \n41017         False         []       False             0         False   \n41018         False         []       False             0         False   \n\n       isNonFood                                          documents  \\\n0          False                                                 []   \n1          False                                                 []   \n2          False                                                 []   \n3          False                                                 []   \n4          False                                                 []   \n...          ...                                                ...   \n41014       True                                                 []   \n41015       True                                                 []   \n41016       True                                                 []   \n41017       True                                                 []   \n41018      False  [{'name': 'aw.common.product.document.type_105...   \n\n       extraWeightPrice  \n0                   NaN  \n1                   NaN  \n2                   NaN  \n3                   NaN  \n4                   NaN  \n...                 ...  \n41014               NaN  \n41015               NaN  \n41016               NaN  \n41017               NaN  \n41018               NaN  \n\n[35424 rows x 20 columns]",
      "text/html": "<div>\n<style scoped>\n    .dataframe tbody tr th:only-of-type {\n        vertical-align: middle;\n    }\n\n    .dataframe tbody tr th {\n        vertical-align: top;\n    }\n\n    .dataframe thead th {\n        text-align: right;\n    }\n</style>\n<table border=\"1\" class=\"dataframe\">\n  <thead>\n    <tr style=\"text-align: right;\">\n      <th></th>\n      <th>id</th>\n      <th>categoryId</th>\n      <th>categoryName</th>\n      <th>brandName</th>\n      <th>defaultVariant</th>\n      <th>selectedVariant</th>\n      <th>eancode</th>\n      <th>usedItem</th>\n      <th>reviewable</th>\n      <th>reviewSum</th>\n      <th>categories</th>\n      <th>inCategories</th>\n      <th>isNewProduct</th>\n      <th>stockInfos</th>\n      <th>adultsOnly</th>\n      <th>shipmentDays</th>\n      <th>ageConfirmed</th>\n      <th>isNonFood</th>\n      <th>documents</th>\n      <th>extraWeightPrice</th>\n    </tr>\n  </thead>\n  <tbody>\n    <tr>\n      <th>0</th>\n      <td>534116</td>\n      <td>6538</td>\n      <td>Friss tej</td>\n      <td>Tarka</td>\n      <td>4071506</td>\n      <td>4071506</td>\n      <td>5998207771623</td>\n      <td>{'canReturn': False, 'return': False}</td>\n      <td>login</td>\n      <td>{'sumCount': 0, 'average': 0}</td>\n      <td>[{'id': 1, 'level': 0, 'name': 'Élelmiszer', '...</td>\n      <td>[6538]</td>\n      <td>False</td>\n      <td>[]</td>\n      <td>False</td>\n      <td>0</td>\n      <td>False</td>\n      <td>False</td>\n      <td>[]</td>\n      <td>NaN</td>\n    </tr>\n    <tr>\n      <th>1</th>\n      <td>534119</td>\n      <td>6538</td>\n      <td>Friss tej</td>\n      <td>Tarka</td>\n      <td>4071509</td>\n      <td>4071509</td>\n      <td>5998207771609</td>\n      <td>{'canReturn': False, 'return': False}</td>\n      <td>login</td>\n      <td>{'sumCount': 0, 'average': 0}</td>\n      <td>[{'id': 1, 'level': 0, 'name': 'Élelmiszer', '...</td>\n      <td>[6538]</td>\n      <td>False</td>\n      <td>[]</td>\n      <td>False</td>\n      <td>0</td>\n      <td>False</td>\n      <td>False</td>\n      <td>[]</td>\n      <td>NaN</td>\n    </tr>\n    <tr>\n      <th>2</th>\n      <td>127379</td>\n      <td>6538</td>\n      <td>Friss tej</td>\n      <td>Auchan</td>\n      <td>3664574</td>\n      <td>3664574</td>\n      <td>5999086442253</td>\n      <td>{'canReturn': False, 'return': False}</td>\n      <td>login</td>\n      <td>{'sumCount': 0, 'average': 0}</td>\n      <td>[{'id': 1, 'level': 0, 'name': 'Élelmiszer', '...</td>\n      <td>[6538]</td>\n      <td>False</td>\n      <td>[]</td>\n      <td>False</td>\n      <td>0</td>\n      <td>False</td>\n      <td>False</td>\n      <td>[]</td>\n      <td>NaN</td>\n    </tr>\n    <tr>\n      <th>3</th>\n      <td>469376</td>\n      <td>6538</td>\n      <td>Friss tej</td>\n      <td>Auchan</td>\n      <td>4006748</td>\n      <td>4006748</td>\n      <td>5999086444561</td>\n      <td>{'canReturn': False, 'return': False}</td>\n      <td>login</td>\n      <td>{'sumCount': 0, 'average': 0}</td>\n      <td>[{'id': 1, 'level': 0, 'name': 'Élelmiszer', '...</td>\n      <td>[6538]</td>\n      <td>False</td>\n      <td>[]</td>\n      <td>False</td>\n      <td>0</td>\n      <td>False</td>\n      <td>False</td>\n      <td>[]</td>\n      <td>NaN</td>\n    </tr>\n    <tr>\n      <th>4</th>\n      <td>127382</td>\n      <td>6538</td>\n      <td>Friss tej</td>\n      <td>Auchan</td>\n      <td>3664577</td>\n      <td>3664577</td>\n      <td>5999086442260</td>\n      <td>{'canReturn': False, 'return': False}</td>\n      <td>login</td>\n      <td>{'sumCount': 0, 'average': 0}</td>\n      <td>[{'id': 1, 'level': 0, 'name': 'Élelmiszer', '...</td>\n      <td>[6538]</td>\n      <td>False</td>\n      <td>[]</td>\n      <td>False</td>\n      <td>0</td>\n      <td>False</td>\n      <td>False</td>\n      <td>[]</td>\n      <td>NaN</td>\n    </tr>\n    <tr>\n      <th>...</th>\n      <td>...</td>\n      <td>...</td>\n      <td>...</td>\n      <td>...</td>\n      <td>...</td>\n      <td>...</td>\n      <td>...</td>\n      <td>...</td>\n      <td>...</td>\n      <td>...</td>\n      <td>...</td>\n      <td>...</td>\n      <td>...</td>\n      <td>...</td>\n      <td>...</td>\n      <td>...</td>\n      <td>...</td>\n      <td>...</td>\n      <td>...</td>\n      <td>...</td>\n    </tr>\n    <tr>\n      <th>41014</th>\n      <td>80695</td>\n      <td>12446</td>\n      <td>Fúrószárak</td>\n      <td>Black &amp; Decker</td>\n      <td>3617785</td>\n      <td>3617785</td>\n      <td>5035048372449</td>\n      <td>{'canReturn': False, 'return': False}</td>\n      <td>login</td>\n      <td>{'sumCount': 0, 'average': 0}</td>\n      <td>[{'id': 11620, 'name': 'Kert, Szabadidő, Meden...</td>\n      <td>[12446]</td>\n      <td>False</td>\n      <td>[]</td>\n      <td>False</td>\n      <td>0</td>\n      <td>False</td>\n      <td>True</td>\n      <td>[]</td>\n      <td>NaN</td>\n    </tr>\n    <tr>\n      <th>41015</th>\n      <td>525904</td>\n      <td>12434</td>\n      <td>Munkaruha</td>\n      <td>NEO</td>\n      <td>4063294</td>\n      <td>4063294</td>\n      <td>5907558441987</td>\n      <td>{'canReturn': False, 'return': False}</td>\n      <td>login</td>\n      <td>{'sumCount': 0, 'average': 0}</td>\n      <td>[{'id': 11620, 'name': 'Kert, Szabadidő, Meden...</td>\n      <td>[12434]</td>\n      <td>False</td>\n      <td>[]</td>\n      <td>False</td>\n      <td>0</td>\n      <td>False</td>\n      <td>True</td>\n      <td>[]</td>\n      <td>NaN</td>\n    </tr>\n    <tr>\n      <th>41016</th>\n      <td>542409</td>\n      <td>12509</td>\n      <td>Szerelőlámpa, reflektor</td>\n      <td>Anco</td>\n      <td>4079799</td>\n      <td>4079799</td>\n      <td>5908254802584</td>\n      <td>{'canReturn': False, 'return': False}</td>\n      <td>login</td>\n      <td>{'sumCount': 0, 'average': 0}</td>\n      <td>[{'id': 11620, 'name': 'Kert, Szabadidő, Meden...</td>\n      <td>[12509]</td>\n      <td>False</td>\n      <td>[]</td>\n      <td>False</td>\n      <td>0</td>\n      <td>False</td>\n      <td>True</td>\n      <td>[]</td>\n      <td>NaN</td>\n    </tr>\n    <tr>\n      <th>41017</th>\n      <td>582745</td>\n      <td>12821</td>\n      <td>Ágytakaró és pléd</td>\n      <td>Actuel</td>\n      <td>4120135</td>\n      <td>4120135</td>\n      <td>3665257281915</td>\n      <td>{'canReturn': False, 'return': False}</td>\n      <td>login</td>\n      <td>{'sumCount': 0, 'average': 0}</td>\n      <td>[{'id': 12617, 'name': 'Állateledel, Otthon, H...</td>\n      <td>[12821]</td>\n      <td>False</td>\n      <td>[]</td>\n      <td>False</td>\n      <td>0</td>\n      <td>False</td>\n      <td>True</td>\n      <td>[]</td>\n      <td>NaN</td>\n    </tr>\n    <tr>\n      <th>41018</th>\n      <td>91935</td>\n      <td>12977</td>\n      <td>Ital készítés, szifonok</td>\n      <td>nincs</td>\n      <td>3629025</td>\n      <td>3629025</td>\n      <td>5997734504544</td>\n      <td>{'canReturn': False, 'return': False}</td>\n      <td>login</td>\n      <td>{'sumCount': 0, 'average': 0}</td>\n      <td>[{'id': 12617, 'name': 'Állateledel, Otthon, H...</td>\n      <td>[12977]</td>\n      <td>False</td>\n      <td>[]</td>\n      <td>False</td>\n      <td>0</td>\n      <td>False</td>\n      <td>False</td>\n      <td>[{'name': 'aw.common.product.document.type_105...</td>\n      <td>NaN</td>\n    </tr>\n  </tbody>\n</table>\n<p>35424 rows × 20 columns</p>\n</div>"
     },
     "execution_count": 19,
     "metadata": {},
     "output_type": "execute_result"
    }
   ],
   "source": [
    "df_products"
   ],
   "metadata": {
    "collapsed": false,
    "pycharm": {
     "name": "#%%\n"
    }
   }
  },
  {
   "cell_type": "code",
   "execution_count": 20,
   "outputs": [
    {
     "data": {
      "text/plain": "            id                                               name     sku  \\\n0      4071506                 Tarka ESL félzsíros tej 2,8% 0,5 l  520525   \n1      4071509                 Tarka ESL zsírszegény tej 1,5% 1 l  520526   \n2      3664574      Auchan Nívó Pasztőrözött dobozos tej 1,5% 1 l  119589   \n3      4006748           Auchan Nívó ESL Palackozott tej 1,5% 1 l  391628   \n4      3664577      Auchan Nívó Pasztőrözött dobozos tej 2,8% 1 l  119590   \n...        ...                                                ...     ...   \n41014  3617785           Stanley STA60480 Bitfej készlet 7 részes  964185   \n41015  4063294  Kantáros Munkanadrág Terepmintás, 60% Pamut, 4...  521639   \n41016  4079799  LED ovál lámpa 12W, 1080lm, IP65, IK08, 4000K,...  582922   \n41017  4120135                Actuel sherpa pléd 125x150 cm barna  563683   \n41018  3629025                           Aglomerált dugó 10 db-os  796077   \n\n       productId addedName  selectValue status unit        eanCode  aided  \\\n0         534116       NaN      4071506   none   db  5998207771623  False   \n1         534119       NaN      4071509   none   db  5998207771609  False   \n2         127379       NaN      3664574   none   db  5999086442253  False   \n3         469376       NaN      4006748   none   db  5999086444561  False   \n4         127382       NaN      3664577   none   db  5999086442260  False   \n...          ...       ...          ...    ...  ...            ...    ...   \n41014      80695       NaN      3617785   none   db  5035048372449  False   \n41015     525904       NaN      4063294   none   db  5907558441987  False   \n41016     542409       NaN      4079799   none   db  5908254802584  False   \n41017     582745       NaN      4120135   none   db  3665257281915  False   \n41018      91935       NaN      3629025   none   db  5997734504544  False   \n\n       ...                                              flags  \\\n0      ...  [{'flag': 'flag_hungarian', 'name': 'Magyar te...   \n1      ...  [{'flag': 'flag_discount', 'name': 'Kiemelt aj...   \n2      ...  [{'flag': 'flag_auchan_brand', 'name': 'Auchan...   \n3      ...  [{'flag': 'flag_auchan_brand', 'name': 'Auchan...   \n4      ...  [{'flag': 'flag_auchan_brand', 'name': 'Auchan...   \n...    ...                                                ...   \n41014  ...  [{'flag': 'flag_national_delivery', 'name': 'O...   \n41015  ...  [{'flag': 'flag_national_delivery', 'name': 'O...   \n41016  ...  [{'flag': 'flag_national_delivery', 'name': 'O...   \n41017  ...                                                 []   \n41018  ...                                                 []   \n\n                                                   media  \\\n0      {'images': ['https://ahuazurewebblob0.azureedg...   \n1      {'images': ['https://ahuazurewebblob0.azureedg...   \n2      {'images': ['https://ahuazurewebblob0.azureedg...   \n3      {'images': ['https://ahuazurewebblob0.azureedg...   \n4      {'images': ['https://ahuazurewebblob0.azureedg...   \n...                                                  ...   \n41014  {'images': ['https://ahuazurewebblob0.azureedg...   \n41015  {'images': ['https://ahuazurewebblob0.azureedg...   \n41016  {'images': ['https://ahuazurewebblob0.azureedg...   \n41017                       {'images': [], 'videos': []}   \n41018  {'images': ['https://ahuazurewebblob0.azureedg...   \n\n                                                 details isInVirtualStock  \\\n0      ['description', 'ingredients', 'parameterList'...            False   \n1      ['description', 'ingredients', 'parameterList'...            False   \n2      ['description', 'ingredients', 'parameterList'...            False   \n3      ['description', 'ingredients', 'parameterList'...            False   \n4      ['description', 'ingredients', 'parameterList'...            False   \n...                                                  ...              ...   \n41014                                    ['description']            False   \n41015                                    ['description']            False   \n41016                                    ['description']            False   \n41017                   ['description', 'parameterList']            False   \n41018                                    ['description']            False   \n\n      shoppingListsContain  offerType packageUnit packageSize itemVolumeInfo  \\\n0                       []        NaN       LITER         0.5            NaN   \n1                       []   discount       LITER         1.0            NaN   \n2                       []        NaN       LITER         1.0            NaN   \n3                       []        NaN       LITER         1.0            NaN   \n4                       []        NaN       LITER         1.0            NaN   \n...                    ...        ...         ...         ...            ...   \n41014                   []        NaN          DB         1.0            NaN   \n41015                   []        NaN          DB         1.0            NaN   \n41016                   []        NaN          DB         1.0            NaN   \n41017                   []        NaN          DB         1.0            NaN   \n41018                   []        NaN          DB        10.0            NaN   \n\n       roll  \n0       NaN  \n1       NaN  \n2       NaN  \n3       NaN  \n4       NaN  \n...     ...  \n41014   NaN  \n41015   NaN  \n41016   NaN  \n41017   NaN  \n41018   NaN  \n\n[35424 rows x 22 columns]",
      "text/html": "<div>\n<style scoped>\n    .dataframe tbody tr th:only-of-type {\n        vertical-align: middle;\n    }\n\n    .dataframe tbody tr th {\n        vertical-align: top;\n    }\n\n    .dataframe thead th {\n        text-align: right;\n    }\n</style>\n<table border=\"1\" class=\"dataframe\">\n  <thead>\n    <tr style=\"text-align: right;\">\n      <th></th>\n      <th>id</th>\n      <th>name</th>\n      <th>sku</th>\n      <th>productId</th>\n      <th>addedName</th>\n      <th>selectValue</th>\n      <th>status</th>\n      <th>unit</th>\n      <th>eanCode</th>\n      <th>aided</th>\n      <th>...</th>\n      <th>flags</th>\n      <th>media</th>\n      <th>details</th>\n      <th>isInVirtualStock</th>\n      <th>shoppingListsContain</th>\n      <th>offerType</th>\n      <th>packageUnit</th>\n      <th>packageSize</th>\n      <th>itemVolumeInfo</th>\n      <th>roll</th>\n    </tr>\n  </thead>\n  <tbody>\n    <tr>\n      <th>0</th>\n      <td>4071506</td>\n      <td>Tarka ESL félzsíros tej 2,8% 0,5 l</td>\n      <td>520525</td>\n      <td>534116</td>\n      <td>NaN</td>\n      <td>4071506</td>\n      <td>none</td>\n      <td>db</td>\n      <td>5998207771623</td>\n      <td>False</td>\n      <td>...</td>\n      <td>[{'flag': 'flag_hungarian', 'name': 'Magyar te...</td>\n      <td>{'images': ['https://ahuazurewebblob0.azureedg...</td>\n      <td>['description', 'ingredients', 'parameterList'...</td>\n      <td>False</td>\n      <td>[]</td>\n      <td>NaN</td>\n      <td>LITER</td>\n      <td>0.5</td>\n      <td>NaN</td>\n      <td>NaN</td>\n    </tr>\n    <tr>\n      <th>1</th>\n      <td>4071509</td>\n      <td>Tarka ESL zsírszegény tej 1,5% 1 l</td>\n      <td>520526</td>\n      <td>534119</td>\n      <td>NaN</td>\n      <td>4071509</td>\n      <td>none</td>\n      <td>db</td>\n      <td>5998207771609</td>\n      <td>False</td>\n      <td>...</td>\n      <td>[{'flag': 'flag_discount', 'name': 'Kiemelt aj...</td>\n      <td>{'images': ['https://ahuazurewebblob0.azureedg...</td>\n      <td>['description', 'ingredients', 'parameterList'...</td>\n      <td>False</td>\n      <td>[]</td>\n      <td>discount</td>\n      <td>LITER</td>\n      <td>1.0</td>\n      <td>NaN</td>\n      <td>NaN</td>\n    </tr>\n    <tr>\n      <th>2</th>\n      <td>3664574</td>\n      <td>Auchan Nívó Pasztőrözött dobozos tej 1,5% 1 l</td>\n      <td>119589</td>\n      <td>127379</td>\n      <td>NaN</td>\n      <td>3664574</td>\n      <td>none</td>\n      <td>db</td>\n      <td>5999086442253</td>\n      <td>False</td>\n      <td>...</td>\n      <td>[{'flag': 'flag_auchan_brand', 'name': 'Auchan...</td>\n      <td>{'images': ['https://ahuazurewebblob0.azureedg...</td>\n      <td>['description', 'ingredients', 'parameterList'...</td>\n      <td>False</td>\n      <td>[]</td>\n      <td>NaN</td>\n      <td>LITER</td>\n      <td>1.0</td>\n      <td>NaN</td>\n      <td>NaN</td>\n    </tr>\n    <tr>\n      <th>3</th>\n      <td>4006748</td>\n      <td>Auchan Nívó ESL Palackozott tej 1,5% 1 l</td>\n      <td>391628</td>\n      <td>469376</td>\n      <td>NaN</td>\n      <td>4006748</td>\n      <td>none</td>\n      <td>db</td>\n      <td>5999086444561</td>\n      <td>False</td>\n      <td>...</td>\n      <td>[{'flag': 'flag_auchan_brand', 'name': 'Auchan...</td>\n      <td>{'images': ['https://ahuazurewebblob0.azureedg...</td>\n      <td>['description', 'ingredients', 'parameterList'...</td>\n      <td>False</td>\n      <td>[]</td>\n      <td>NaN</td>\n      <td>LITER</td>\n      <td>1.0</td>\n      <td>NaN</td>\n      <td>NaN</td>\n    </tr>\n    <tr>\n      <th>4</th>\n      <td>3664577</td>\n      <td>Auchan Nívó Pasztőrözött dobozos tej 2,8% 1 l</td>\n      <td>119590</td>\n      <td>127382</td>\n      <td>NaN</td>\n      <td>3664577</td>\n      <td>none</td>\n      <td>db</td>\n      <td>5999086442260</td>\n      <td>False</td>\n      <td>...</td>\n      <td>[{'flag': 'flag_auchan_brand', 'name': 'Auchan...</td>\n      <td>{'images': ['https://ahuazurewebblob0.azureedg...</td>\n      <td>['description', 'ingredients', 'parameterList'...</td>\n      <td>False</td>\n      <td>[]</td>\n      <td>NaN</td>\n      <td>LITER</td>\n      <td>1.0</td>\n      <td>NaN</td>\n      <td>NaN</td>\n    </tr>\n    <tr>\n      <th>...</th>\n      <td>...</td>\n      <td>...</td>\n      <td>...</td>\n      <td>...</td>\n      <td>...</td>\n      <td>...</td>\n      <td>...</td>\n      <td>...</td>\n      <td>...</td>\n      <td>...</td>\n      <td>...</td>\n      <td>...</td>\n      <td>...</td>\n      <td>...</td>\n      <td>...</td>\n      <td>...</td>\n      <td>...</td>\n      <td>...</td>\n      <td>...</td>\n      <td>...</td>\n      <td>...</td>\n    </tr>\n    <tr>\n      <th>41014</th>\n      <td>3617785</td>\n      <td>Stanley STA60480 Bitfej készlet 7 részes</td>\n      <td>964185</td>\n      <td>80695</td>\n      <td>NaN</td>\n      <td>3617785</td>\n      <td>none</td>\n      <td>db</td>\n      <td>5035048372449</td>\n      <td>False</td>\n      <td>...</td>\n      <td>[{'flag': 'flag_national_delivery', 'name': 'O...</td>\n      <td>{'images': ['https://ahuazurewebblob0.azureedg...</td>\n      <td>['description']</td>\n      <td>False</td>\n      <td>[]</td>\n      <td>NaN</td>\n      <td>DB</td>\n      <td>1.0</td>\n      <td>NaN</td>\n      <td>NaN</td>\n    </tr>\n    <tr>\n      <th>41015</th>\n      <td>4063294</td>\n      <td>Kantáros Munkanadrág Terepmintás, 60% Pamut, 4...</td>\n      <td>521639</td>\n      <td>525904</td>\n      <td>NaN</td>\n      <td>4063294</td>\n      <td>none</td>\n      <td>db</td>\n      <td>5907558441987</td>\n      <td>False</td>\n      <td>...</td>\n      <td>[{'flag': 'flag_national_delivery', 'name': 'O...</td>\n      <td>{'images': ['https://ahuazurewebblob0.azureedg...</td>\n      <td>['description']</td>\n      <td>False</td>\n      <td>[]</td>\n      <td>NaN</td>\n      <td>DB</td>\n      <td>1.0</td>\n      <td>NaN</td>\n      <td>NaN</td>\n    </tr>\n    <tr>\n      <th>41016</th>\n      <td>4079799</td>\n      <td>LED ovál lámpa 12W, 1080lm, IP65, IK08, 4000K,...</td>\n      <td>582922</td>\n      <td>542409</td>\n      <td>NaN</td>\n      <td>4079799</td>\n      <td>none</td>\n      <td>db</td>\n      <td>5908254802584</td>\n      <td>False</td>\n      <td>...</td>\n      <td>[{'flag': 'flag_national_delivery', 'name': 'O...</td>\n      <td>{'images': ['https://ahuazurewebblob0.azureedg...</td>\n      <td>['description']</td>\n      <td>False</td>\n      <td>[]</td>\n      <td>NaN</td>\n      <td>DB</td>\n      <td>1.0</td>\n      <td>NaN</td>\n      <td>NaN</td>\n    </tr>\n    <tr>\n      <th>41017</th>\n      <td>4120135</td>\n      <td>Actuel sherpa pléd 125x150 cm barna</td>\n      <td>563683</td>\n      <td>582745</td>\n      <td>NaN</td>\n      <td>4120135</td>\n      <td>none</td>\n      <td>db</td>\n      <td>3665257281915</td>\n      <td>False</td>\n      <td>...</td>\n      <td>[]</td>\n      <td>{'images': [], 'videos': []}</td>\n      <td>['description', 'parameterList']</td>\n      <td>False</td>\n      <td>[]</td>\n      <td>NaN</td>\n      <td>DB</td>\n      <td>1.0</td>\n      <td>NaN</td>\n      <td>NaN</td>\n    </tr>\n    <tr>\n      <th>41018</th>\n      <td>3629025</td>\n      <td>Aglomerált dugó 10 db-os</td>\n      <td>796077</td>\n      <td>91935</td>\n      <td>NaN</td>\n      <td>3629025</td>\n      <td>none</td>\n      <td>db</td>\n      <td>5997734504544</td>\n      <td>False</td>\n      <td>...</td>\n      <td>[]</td>\n      <td>{'images': ['https://ahuazurewebblob0.azureedg...</td>\n      <td>['description']</td>\n      <td>False</td>\n      <td>[]</td>\n      <td>NaN</td>\n      <td>DB</td>\n      <td>10.0</td>\n      <td>NaN</td>\n      <td>NaN</td>\n    </tr>\n  </tbody>\n</table>\n<p>35424 rows × 22 columns</p>\n</div>"
     },
     "execution_count": 20,
     "metadata": {},
     "output_type": "execute_result"
    }
   ],
   "source": [
    "df_variants"
   ],
   "metadata": {
    "collapsed": false,
    "pycharm": {
     "name": "#%%\n"
    }
   }
  },
  {
   "cell_type": "code",
   "execution_count": 21,
   "outputs": [],
   "source": [
    "df_nutritions = pd.read_csv(\"../databases/csv/2022_12_19/nutritions_raw.csv\", index_col=0)"
   ],
   "metadata": {
    "collapsed": false,
    "pycharm": {
     "name": "#%%\n"
    }
   }
  },
  {
   "cell_type": "code",
   "execution_count": 22,
   "outputs": [
    {
     "data": {
      "text/plain": "            id     Energia (kJ / kcal)   Zsír (g)  Telített zsírsavak  (g)  \\\n0        14914                1199/285     8.8000                   4.8000   \n1      3963016  1091.830000/260.770000   7.670000                 3.540000   \n2      4001800                1270/303    14.0000                   7.6000   \n3      4001797                1122/268    13.0000                   7.0000   \n4      3988465  1755.000000/420.000000  23.400000                15.000000   \n...        ...                     ...        ...                      ...   \n10595  4117341                2030/601         23                        9   \n10596  4117392                  129/31        0,4                      0,1   \n10597  4117335                2079/625         28                       11   \n10598  4117305                1835/437         18                      7,2   \n10599  4117344                2126/508         26                       13   \n\n      Szénhidrát  (g)  Cukrok  (g) Rost  (g) Fehérje (g)    Só (g)  \\\n0             42.0000       2.3000  0.000000      8.3000    1.4000   \n1           45.350000     2.690000  3.840000    0.670000  3.840000   \n2             39.0000      17.0000       NaN      4.1000    0.7800   \n3             34.0000      14.0000       NaN      3.7000    0.7000   \n4           42.400000    12.600000       NaN    8.100000  0.840000   \n...               ...          ...       ...         ...       ...   \n10595              67           33       NaN         5,6      0,66   \n10596             6,1          0,2       NaN         0,7       0,9   \n10597              61           30       NaN         5,5      1,23   \n10598            63,6           28       NaN         5,1       0,3   \n10599              64           31       NaN           5      0,71   \n\n      Riboflavin (mg)  ...  Ebből koleszterin A vitamin (µg) Tiamin (mg)  \\\n0                 NaN  ...                NaN            NaN         NaN   \n1                 NaN  ...                NaN            NaN         NaN   \n2                 NaN  ...                NaN            NaN         NaN   \n3                 NaN  ...                NaN            NaN         NaN   \n4                 NaN  ...                NaN            NaN         NaN   \n...               ...  ...                ...            ...         ...   \n10595             NaN  ...                NaN            NaN         NaN   \n10596             NaN  ...                NaN            NaN         NaN   \n10597             NaN  ...                NaN            NaN         NaN   \n10598             NaN  ...                NaN            NaN         NaN   \n10599             NaN  ...                NaN            NaN         NaN   \n\n      Niacin (mg) Pantoténsav (mg) Klorid (mg) Cink  (mg) Mangán  (mg)  \\\n0             NaN              NaN         NaN        NaN          NaN   \n1             NaN              NaN         NaN        NaN          NaN   \n2             NaN              NaN         NaN        NaN          NaN   \n3             NaN              NaN         NaN        NaN          NaN   \n4             NaN              NaN         NaN        NaN          NaN   \n...           ...              ...         ...        ...          ...   \n10595         NaN              NaN         NaN        NaN          NaN   \n10596         NaN              NaN         NaN        NaN          NaN   \n10597         NaN              NaN         NaN        NaN          NaN   \n10598         NaN              NaN         NaN        NaN          NaN   \n10599         NaN              NaN         NaN        NaN          NaN   \n\n      Fluor (µg) Króm (µg)  \n0            NaN       NaN  \n1            NaN       NaN  \n2            NaN       NaN  \n3            NaN       NaN  \n4            NaN       NaN  \n...          ...       ...  \n10595        NaN       NaN  \n10596        NaN       NaN  \n10597        NaN       NaN  \n10598        NaN       NaN  \n10599        NaN       NaN  \n\n[10600 rows x 42 columns]",
      "text/html": "<div>\n<style scoped>\n    .dataframe tbody tr th:only-of-type {\n        vertical-align: middle;\n    }\n\n    .dataframe tbody tr th {\n        vertical-align: top;\n    }\n\n    .dataframe thead th {\n        text-align: right;\n    }\n</style>\n<table border=\"1\" class=\"dataframe\">\n  <thead>\n    <tr style=\"text-align: right;\">\n      <th></th>\n      <th>id</th>\n      <th>Energia (kJ / kcal)</th>\n      <th>Zsír (g)</th>\n      <th>Telített zsírsavak  (g)</th>\n      <th>Szénhidrát  (g)</th>\n      <th>Cukrok  (g)</th>\n      <th>Rost  (g)</th>\n      <th>Fehérje (g)</th>\n      <th>Só (g)</th>\n      <th>Riboflavin (mg)</th>\n      <th>...</th>\n      <th>Ebből koleszterin</th>\n      <th>A vitamin (µg)</th>\n      <th>Tiamin (mg)</th>\n      <th>Niacin (mg)</th>\n      <th>Pantoténsav (mg)</th>\n      <th>Klorid (mg)</th>\n      <th>Cink  (mg)</th>\n      <th>Mangán  (mg)</th>\n      <th>Fluor (µg)</th>\n      <th>Króm (µg)</th>\n    </tr>\n  </thead>\n  <tbody>\n    <tr>\n      <th>0</th>\n      <td>14914</td>\n      <td>1199/285</td>\n      <td>8.8000</td>\n      <td>4.8000</td>\n      <td>42.0000</td>\n      <td>2.3000</td>\n      <td>0.000000</td>\n      <td>8.3000</td>\n      <td>1.4000</td>\n      <td>NaN</td>\n      <td>...</td>\n      <td>NaN</td>\n      <td>NaN</td>\n      <td>NaN</td>\n      <td>NaN</td>\n      <td>NaN</td>\n      <td>NaN</td>\n      <td>NaN</td>\n      <td>NaN</td>\n      <td>NaN</td>\n      <td>NaN</td>\n    </tr>\n    <tr>\n      <th>1</th>\n      <td>3963016</td>\n      <td>1091.830000/260.770000</td>\n      <td>7.670000</td>\n      <td>3.540000</td>\n      <td>45.350000</td>\n      <td>2.690000</td>\n      <td>3.840000</td>\n      <td>0.670000</td>\n      <td>3.840000</td>\n      <td>NaN</td>\n      <td>...</td>\n      <td>NaN</td>\n      <td>NaN</td>\n      <td>NaN</td>\n      <td>NaN</td>\n      <td>NaN</td>\n      <td>NaN</td>\n      <td>NaN</td>\n      <td>NaN</td>\n      <td>NaN</td>\n      <td>NaN</td>\n    </tr>\n    <tr>\n      <th>2</th>\n      <td>4001800</td>\n      <td>1270/303</td>\n      <td>14.0000</td>\n      <td>7.6000</td>\n      <td>39.0000</td>\n      <td>17.0000</td>\n      <td>NaN</td>\n      <td>4.1000</td>\n      <td>0.7800</td>\n      <td>NaN</td>\n      <td>...</td>\n      <td>NaN</td>\n      <td>NaN</td>\n      <td>NaN</td>\n      <td>NaN</td>\n      <td>NaN</td>\n      <td>NaN</td>\n      <td>NaN</td>\n      <td>NaN</td>\n      <td>NaN</td>\n      <td>NaN</td>\n    </tr>\n    <tr>\n      <th>3</th>\n      <td>4001797</td>\n      <td>1122/268</td>\n      <td>13.0000</td>\n      <td>7.0000</td>\n      <td>34.0000</td>\n      <td>14.0000</td>\n      <td>NaN</td>\n      <td>3.7000</td>\n      <td>0.7000</td>\n      <td>NaN</td>\n      <td>...</td>\n      <td>NaN</td>\n      <td>NaN</td>\n      <td>NaN</td>\n      <td>NaN</td>\n      <td>NaN</td>\n      <td>NaN</td>\n      <td>NaN</td>\n      <td>NaN</td>\n      <td>NaN</td>\n      <td>NaN</td>\n    </tr>\n    <tr>\n      <th>4</th>\n      <td>3988465</td>\n      <td>1755.000000/420.000000</td>\n      <td>23.400000</td>\n      <td>15.000000</td>\n      <td>42.400000</td>\n      <td>12.600000</td>\n      <td>NaN</td>\n      <td>8.100000</td>\n      <td>0.840000</td>\n      <td>NaN</td>\n      <td>...</td>\n      <td>NaN</td>\n      <td>NaN</td>\n      <td>NaN</td>\n      <td>NaN</td>\n      <td>NaN</td>\n      <td>NaN</td>\n      <td>NaN</td>\n      <td>NaN</td>\n      <td>NaN</td>\n      <td>NaN</td>\n    </tr>\n    <tr>\n      <th>...</th>\n      <td>...</td>\n      <td>...</td>\n      <td>...</td>\n      <td>...</td>\n      <td>...</td>\n      <td>...</td>\n      <td>...</td>\n      <td>...</td>\n      <td>...</td>\n      <td>...</td>\n      <td>...</td>\n      <td>...</td>\n      <td>...</td>\n      <td>...</td>\n      <td>...</td>\n      <td>...</td>\n      <td>...</td>\n      <td>...</td>\n      <td>...</td>\n      <td>...</td>\n      <td>...</td>\n    </tr>\n    <tr>\n      <th>10595</th>\n      <td>4117341</td>\n      <td>2030/601</td>\n      <td>23</td>\n      <td>9</td>\n      <td>67</td>\n      <td>33</td>\n      <td>NaN</td>\n      <td>5,6</td>\n      <td>0,66</td>\n      <td>NaN</td>\n      <td>...</td>\n      <td>NaN</td>\n      <td>NaN</td>\n      <td>NaN</td>\n      <td>NaN</td>\n      <td>NaN</td>\n      <td>NaN</td>\n      <td>NaN</td>\n      <td>NaN</td>\n      <td>NaN</td>\n      <td>NaN</td>\n    </tr>\n    <tr>\n      <th>10596</th>\n      <td>4117392</td>\n      <td>129/31</td>\n      <td>0,4</td>\n      <td>0,1</td>\n      <td>6,1</td>\n      <td>0,2</td>\n      <td>NaN</td>\n      <td>0,7</td>\n      <td>0,9</td>\n      <td>NaN</td>\n      <td>...</td>\n      <td>NaN</td>\n      <td>NaN</td>\n      <td>NaN</td>\n      <td>NaN</td>\n      <td>NaN</td>\n      <td>NaN</td>\n      <td>NaN</td>\n      <td>NaN</td>\n      <td>NaN</td>\n      <td>NaN</td>\n    </tr>\n    <tr>\n      <th>10597</th>\n      <td>4117335</td>\n      <td>2079/625</td>\n      <td>28</td>\n      <td>11</td>\n      <td>61</td>\n      <td>30</td>\n      <td>NaN</td>\n      <td>5,5</td>\n      <td>1,23</td>\n      <td>NaN</td>\n      <td>...</td>\n      <td>NaN</td>\n      <td>NaN</td>\n      <td>NaN</td>\n      <td>NaN</td>\n      <td>NaN</td>\n      <td>NaN</td>\n      <td>NaN</td>\n      <td>NaN</td>\n      <td>NaN</td>\n      <td>NaN</td>\n    </tr>\n    <tr>\n      <th>10598</th>\n      <td>4117305</td>\n      <td>1835/437</td>\n      <td>18</td>\n      <td>7,2</td>\n      <td>63,6</td>\n      <td>28</td>\n      <td>NaN</td>\n      <td>5,1</td>\n      <td>0,3</td>\n      <td>NaN</td>\n      <td>...</td>\n      <td>NaN</td>\n      <td>NaN</td>\n      <td>NaN</td>\n      <td>NaN</td>\n      <td>NaN</td>\n      <td>NaN</td>\n      <td>NaN</td>\n      <td>NaN</td>\n      <td>NaN</td>\n      <td>NaN</td>\n    </tr>\n    <tr>\n      <th>10599</th>\n      <td>4117344</td>\n      <td>2126/508</td>\n      <td>26</td>\n      <td>13</td>\n      <td>64</td>\n      <td>31</td>\n      <td>NaN</td>\n      <td>5</td>\n      <td>0,71</td>\n      <td>NaN</td>\n      <td>...</td>\n      <td>NaN</td>\n      <td>NaN</td>\n      <td>NaN</td>\n      <td>NaN</td>\n      <td>NaN</td>\n      <td>NaN</td>\n      <td>NaN</td>\n      <td>NaN</td>\n      <td>NaN</td>\n      <td>NaN</td>\n    </tr>\n  </tbody>\n</table>\n<p>10600 rows × 42 columns</p>\n</div>"
     },
     "execution_count": 22,
     "metadata": {},
     "output_type": "execute_result"
    }
   ],
   "source": [
    "df_nutritions"
   ],
   "metadata": {
    "collapsed": false,
    "pycharm": {
     "name": "#%%\n"
    }
   }
  },
  {
   "cell_type": "code",
   "execution_count": 23,
   "outputs": [],
   "source": [
    "# merge variants with prices and nutritions\n",
    "df_merged = df_variants.merge(df_prices, on=\"id\")\n",
    "df_merged = df_merged.merge(df_nutritions, on=\"id\")"
   ],
   "metadata": {
    "collapsed": false,
    "pycharm": {
     "name": "#%%\n"
    }
   }
  },
  {
   "cell_type": "code",
   "execution_count": 24,
   "outputs": [
    {
     "data": {
      "text/plain": "                                                   name  gross  \\\n8336  Morzsás linzer kajszibarack ízű töltelékkel tö...    199   \n8335                        Ischler kajsziízzel töltve     199   \n8345  Porcukros linzer kajszibarack ízű töltelékkel ...    199   \n4869  Knoppers töltött ostya kakaós tejbevonóval fél...    225   \n3997  Alföldi gyorsfagyasztott sajttal, sonkával töl...   1859   \n...                                                 ...    ...   \n8609                                Sajtos pogácsa 85 g    175   \n6344                        Univer majonézes torma 70 g    339   \n6911                  Hamé csirkemájas libamájjal 105 g    445   \n4934  3Bit tejcsokoládéval bevont keksz szelet mogyo...    229   \n476                   Auchan Nívó Kaukázusi kefir 450 g    379   \n\n      discountPercentage  grossDiscounted  \n8336                  50              100  \n8335                  50              100  \n8345                  50              100  \n4869                  47              119  \n3997                  46              999  \n...                  ...              ...  \n8609                  26              129  \n6344                  26              250  \n6911                  26              330  \n4934                  26              169  \n476                   26              279  \n\n[100 rows x 4 columns]",
      "text/html": "<div>\n<style scoped>\n    .dataframe tbody tr th:only-of-type {\n        vertical-align: middle;\n    }\n\n    .dataframe tbody tr th {\n        vertical-align: top;\n    }\n\n    .dataframe thead th {\n        text-align: right;\n    }\n</style>\n<table border=\"1\" class=\"dataframe\">\n  <thead>\n    <tr style=\"text-align: right;\">\n      <th></th>\n      <th>name</th>\n      <th>gross</th>\n      <th>discountPercentage</th>\n      <th>grossDiscounted</th>\n    </tr>\n  </thead>\n  <tbody>\n    <tr>\n      <th>8336</th>\n      <td>Morzsás linzer kajszibarack ízű töltelékkel tö...</td>\n      <td>199</td>\n      <td>50</td>\n      <td>100</td>\n    </tr>\n    <tr>\n      <th>8335</th>\n      <td>Ischler kajsziízzel töltve</td>\n      <td>199</td>\n      <td>50</td>\n      <td>100</td>\n    </tr>\n    <tr>\n      <th>8345</th>\n      <td>Porcukros linzer kajszibarack ízű töltelékkel ...</td>\n      <td>199</td>\n      <td>50</td>\n      <td>100</td>\n    </tr>\n    <tr>\n      <th>4869</th>\n      <td>Knoppers töltött ostya kakaós tejbevonóval fél...</td>\n      <td>225</td>\n      <td>47</td>\n      <td>119</td>\n    </tr>\n    <tr>\n      <th>3997</th>\n      <td>Alföldi gyorsfagyasztott sajttal, sonkával töl...</td>\n      <td>1859</td>\n      <td>46</td>\n      <td>999</td>\n    </tr>\n    <tr>\n      <th>...</th>\n      <td>...</td>\n      <td>...</td>\n      <td>...</td>\n      <td>...</td>\n    </tr>\n    <tr>\n      <th>8609</th>\n      <td>Sajtos pogácsa 85 g</td>\n      <td>175</td>\n      <td>26</td>\n      <td>129</td>\n    </tr>\n    <tr>\n      <th>6344</th>\n      <td>Univer majonézes torma 70 g</td>\n      <td>339</td>\n      <td>26</td>\n      <td>250</td>\n    </tr>\n    <tr>\n      <th>6911</th>\n      <td>Hamé csirkemájas libamájjal 105 g</td>\n      <td>445</td>\n      <td>26</td>\n      <td>330</td>\n    </tr>\n    <tr>\n      <th>4934</th>\n      <td>3Bit tejcsokoládéval bevont keksz szelet mogyo...</td>\n      <td>229</td>\n      <td>26</td>\n      <td>169</td>\n    </tr>\n    <tr>\n      <th>476</th>\n      <td>Auchan Nívó Kaukázusi kefir 450 g</td>\n      <td>379</td>\n      <td>26</td>\n      <td>279</td>\n    </tr>\n  </tbody>\n</table>\n<p>100 rows × 4 columns</p>\n</div>"
     },
     "execution_count": 24,
     "metadata": {},
     "output_type": "execute_result"
    }
   ],
   "source": [
    "df_merged.sort_values(by=\"discountPercentage\", ascending=False).head(100)[[\"name\", \"gross\", \"discountPercentage\", \"grossDiscounted\"]]"
   ],
   "metadata": {
    "collapsed": false,
    "pycharm": {
     "name": "#%%\n"
    }
   }
  },
  {
   "cell_type": "code",
   "execution_count": 25,
   "outputs": [
    {
     "data": {
      "text/plain": "                                                   name Fehérje (g)\n160                              Natrue UHT zabital 1 l      1.4000\n201                       ALPRO cukormentes zabital 1 l      0.2000\n255                                   ALPRO zabital 1 l      0.3000\n268   Alpro zabital hozzáadott kalciummal és D-vitam...      0.7000\n269   Alpro zabital hozzáadott kalciummal és D-vitam...      0.7000\n...                                                 ...         ...\n8519      Abonett Classic extrudált kenyér zabbal 100 g     13.0000\n8611            Nett Food teljeskiőrlésű zabszelet 50 g     15.3000\n9464  CSIKÓS CSÍPŐS SZALÁMI Szürkemarha és sertéshús...          21\n9476  SZALÁMI mangalicahússal házias jellegű, füstöl...          21\n9971                    MA Baker áfonyás zabszelet 90 g           6\n\n[127 rows x 2 columns]",
      "text/html": "<div>\n<style scoped>\n    .dataframe tbody tr th:only-of-type {\n        vertical-align: middle;\n    }\n\n    .dataframe tbody tr th {\n        vertical-align: top;\n    }\n\n    .dataframe thead th {\n        text-align: right;\n    }\n</style>\n<table border=\"1\" class=\"dataframe\">\n  <thead>\n    <tr style=\"text-align: right;\">\n      <th></th>\n      <th>name</th>\n      <th>Fehérje (g)</th>\n    </tr>\n  </thead>\n  <tbody>\n    <tr>\n      <th>160</th>\n      <td>Natrue UHT zabital 1 l</td>\n      <td>1.4000</td>\n    </tr>\n    <tr>\n      <th>201</th>\n      <td>ALPRO cukormentes zabital 1 l</td>\n      <td>0.2000</td>\n    </tr>\n    <tr>\n      <th>255</th>\n      <td>ALPRO zabital 1 l</td>\n      <td>0.3000</td>\n    </tr>\n    <tr>\n      <th>268</th>\n      <td>Alpro zabital hozzáadott kalciummal és D-vitam...</td>\n      <td>0.7000</td>\n    </tr>\n    <tr>\n      <th>269</th>\n      <td>Alpro zabital hozzáadott kalciummal és D-vitam...</td>\n      <td>0.7000</td>\n    </tr>\n    <tr>\n      <th>...</th>\n      <td>...</td>\n      <td>...</td>\n    </tr>\n    <tr>\n      <th>8519</th>\n      <td>Abonett Classic extrudált kenyér zabbal 100 g</td>\n      <td>13.0000</td>\n    </tr>\n    <tr>\n      <th>8611</th>\n      <td>Nett Food teljeskiőrlésű zabszelet 50 g</td>\n      <td>15.3000</td>\n    </tr>\n    <tr>\n      <th>9464</th>\n      <td>CSIKÓS CSÍPŐS SZALÁMI Szürkemarha és sertéshús...</td>\n      <td>21</td>\n    </tr>\n    <tr>\n      <th>9476</th>\n      <td>SZALÁMI mangalicahússal házias jellegű, füstöl...</td>\n      <td>21</td>\n    </tr>\n    <tr>\n      <th>9971</th>\n      <td>MA Baker áfonyás zabszelet 90 g</td>\n      <td>6</td>\n    </tr>\n  </tbody>\n</table>\n<p>127 rows × 2 columns</p>\n</div>"
     },
     "execution_count": 25,
     "metadata": {},
     "output_type": "execute_result"
    }
   ],
   "source": [
    "df_merged.loc[df_merged[\"name\"].str.contains(\"zab\"), [\"name\", \"Fehérje (g)\"]]"
   ],
   "metadata": {
    "collapsed": false,
    "pycharm": {
     "name": "#%%\n"
    }
   }
  },
  {
   "cell_type": "markdown",
   "source": [
    "# Collect categories"
   ],
   "metadata": {
    "collapsed": false,
    "pycharm": {
     "name": "#%% md\n"
    }
   }
  },
  {
   "cell_type": "code",
   "execution_count": 26,
   "outputs": [
    {
     "name": "stdout",
     "output_type": "stream",
     "text": [
      "684.5262358188629\n",
      "0.019323798436621017\n"
     ]
    }
   ],
   "source": [
    "start_time = time.time()\n",
    "all_categories_df = []\n",
    "for member in tar.getmembers():\n",
    "    if member.name.find(\"product.json\") != -1:\n",
    "        file_content = tar.extractfile(member.name).read().decode(\"utf-8\")\n",
    "        data = json.loads(file_content)\n",
    "        all_categories_df.append(pd.DataFrame(data[\"categories\"]))\n",
    "\n",
    "\n",
    "df_categories = pd.concat(all_categories_df, ignore_index=True)\n",
    "end_time = time.time()\n",
    "print(end_time - start_time)\n",
    "print((end_time - start_time) / len(df_products))"
   ],
   "metadata": {
    "collapsed": false,
    "pycharm": {
     "name": "#%%\n"
    }
   }
  },
  {
   "cell_type": "code",
   "execution_count": 27,
   "outputs": [
    {
     "data": {
      "text/plain": "1        13307\n4         6860\n12617     6216\n5549      4067\n13307     3401\n         ...  \n6279         1\n7814         1\n12770        1\n12839        1\n11863        1\nName: id, Length: 1751, dtype: int64"
     },
     "execution_count": 27,
     "metadata": {},
     "output_type": "execute_result"
    }
   ],
   "source": [
    "df_categories[\"id\"].value_counts()"
   ],
   "metadata": {
    "collapsed": false,
    "pycharm": {
     "name": "#%%\n"
    }
   }
  },
  {
   "cell_type": "code",
   "execution_count": 28,
   "outputs": [],
   "source": [
    "df_categories.drop_duplicates(subset=[\"id\"], inplace=True)"
   ],
   "metadata": {
    "collapsed": false,
    "pycharm": {
     "name": "#%%\n"
    }
   }
  },
  {
   "cell_type": "code",
   "execution_count": 29,
   "outputs": [],
   "source": [
    "df_categories = df_categories.sort_values(by=\"id\").reset_index(drop=True)"
   ],
   "metadata": {
    "collapsed": false,
    "pycharm": {
     "name": "#%%\n"
    }
   }
  },
  {
   "cell_type": "code",
   "execution_count": 30,
   "outputs": [
    {
     "data": {
      "text/plain": "         id  level                      name imageUrl thumbnailUrl  \\\n0         1    0.0                Élelmiszer                         \n1         4    0.0               Elektronika                         \n2      5549    1.0       Tartós élelmiszerek                         \n3      5551    1.0  Édesség, csokoládé, nasi                         \n4      5552    1.0        Egészséges életmód                         \n...     ...    ...                       ...      ...          ...   \n1746  14206    1.0         Cumisüveg és cumi                         \n1747  14211    3.0                   32\" -ig                         \n1748  14214    3.0                   33\"-50\"                         \n1749  14217    3.0                   55\"-65\"                         \n1750  14220    3.0                65\" felett                         \n\n                                         mobileImageUrl  productCount  \\\n0     https://ahuazurewebblob0.blob.core.windows.net...         12454   \n1     https://ahuazurewebblob0.blob.core.windows.net...          4250   \n2     https://ahuazurewebblob0.blob.core.windows.net...          3783   \n3     https://ahuazurewebblob0.blob.core.windows.net...          1304   \n4     https://ahuazurewebblob0.blob.core.windows.net...          1486   \n...                                                 ...           ...   \n1746                                                               90   \n1747                                                               24   \n1748                                                               42   \n1749                                                               35   \n1750                                                               20   \n\n      comparable  discountedCount  childCount children  boutique  \\\n0          False              437           9       []     False   \n1           True               81           9       []     False   \n2          False               61          12       []     False   \n3          False               39          13       []     False   \n4          False               38           7       []     False   \n...          ...              ...         ...      ...       ...   \n1746       False                7           2       []     False   \n1747        True                0           0       []     False   \n1748        True                0           0       []     False   \n1749        True                0           0       []     False   \n1750        True                0           0       []     False   \n\n     preferredDisplayStyle promotionContentType  promotionContentId  \\\n0               icon_style               banner              1528.0   \n1              image_style               banner              1462.0   \n2                      NaN               banner              1528.0   \n3                      NaN               banner              1528.0   \n4                      NaN                  NaN                 NaN   \n...                    ...                  ...                 ...   \n1746                   NaN                  NaN                 NaN   \n1747                   NaN               banner              1462.0   \n1748                   NaN               banner              1462.0   \n1749                   NaN               banner              1462.0   \n1750                   NaN               banner              1462.0   \n\n                        slug  promotionRecommendationCarouselId  \n0                 elelmiszer                                NaN  \n1                elektronika                                NaN  \n2        tartos-elelmiszerek                                NaN  \n3     edesseg-csokolade-nasi                                NaN  \n4         egeszseges-eletmod                                NaN  \n...                      ...                                ...  \n1746       cumisuveg-es-cumi                                NaN  \n1747                   32-ig                                6.0  \n1748                   33-50                                6.0  \n1749                   55-65                                6.0  \n1750               65-felett                                6.0  \n\n[1751 rows x 17 columns]",
      "text/html": "<div>\n<style scoped>\n    .dataframe tbody tr th:only-of-type {\n        vertical-align: middle;\n    }\n\n    .dataframe tbody tr th {\n        vertical-align: top;\n    }\n\n    .dataframe thead th {\n        text-align: right;\n    }\n</style>\n<table border=\"1\" class=\"dataframe\">\n  <thead>\n    <tr style=\"text-align: right;\">\n      <th></th>\n      <th>id</th>\n      <th>level</th>\n      <th>name</th>\n      <th>imageUrl</th>\n      <th>thumbnailUrl</th>\n      <th>mobileImageUrl</th>\n      <th>productCount</th>\n      <th>comparable</th>\n      <th>discountedCount</th>\n      <th>childCount</th>\n      <th>children</th>\n      <th>boutique</th>\n      <th>preferredDisplayStyle</th>\n      <th>promotionContentType</th>\n      <th>promotionContentId</th>\n      <th>slug</th>\n      <th>promotionRecommendationCarouselId</th>\n    </tr>\n  </thead>\n  <tbody>\n    <tr>\n      <th>0</th>\n      <td>1</td>\n      <td>0.0</td>\n      <td>Élelmiszer</td>\n      <td></td>\n      <td></td>\n      <td>https://ahuazurewebblob0.blob.core.windows.net...</td>\n      <td>12454</td>\n      <td>False</td>\n      <td>437</td>\n      <td>9</td>\n      <td>[]</td>\n      <td>False</td>\n      <td>icon_style</td>\n      <td>banner</td>\n      <td>1528.0</td>\n      <td>elelmiszer</td>\n      <td>NaN</td>\n    </tr>\n    <tr>\n      <th>1</th>\n      <td>4</td>\n      <td>0.0</td>\n      <td>Elektronika</td>\n      <td></td>\n      <td></td>\n      <td>https://ahuazurewebblob0.blob.core.windows.net...</td>\n      <td>4250</td>\n      <td>True</td>\n      <td>81</td>\n      <td>9</td>\n      <td>[]</td>\n      <td>False</td>\n      <td>image_style</td>\n      <td>banner</td>\n      <td>1462.0</td>\n      <td>elektronika</td>\n      <td>NaN</td>\n    </tr>\n    <tr>\n      <th>2</th>\n      <td>5549</td>\n      <td>1.0</td>\n      <td>Tartós élelmiszerek</td>\n      <td></td>\n      <td></td>\n      <td>https://ahuazurewebblob0.blob.core.windows.net...</td>\n      <td>3783</td>\n      <td>False</td>\n      <td>61</td>\n      <td>12</td>\n      <td>[]</td>\n      <td>False</td>\n      <td>NaN</td>\n      <td>banner</td>\n      <td>1528.0</td>\n      <td>tartos-elelmiszerek</td>\n      <td>NaN</td>\n    </tr>\n    <tr>\n      <th>3</th>\n      <td>5551</td>\n      <td>1.0</td>\n      <td>Édesség, csokoládé, nasi</td>\n      <td></td>\n      <td></td>\n      <td>https://ahuazurewebblob0.blob.core.windows.net...</td>\n      <td>1304</td>\n      <td>False</td>\n      <td>39</td>\n      <td>13</td>\n      <td>[]</td>\n      <td>False</td>\n      <td>NaN</td>\n      <td>banner</td>\n      <td>1528.0</td>\n      <td>edesseg-csokolade-nasi</td>\n      <td>NaN</td>\n    </tr>\n    <tr>\n      <th>4</th>\n      <td>5552</td>\n      <td>1.0</td>\n      <td>Egészséges életmód</td>\n      <td></td>\n      <td></td>\n      <td>https://ahuazurewebblob0.blob.core.windows.net...</td>\n      <td>1486</td>\n      <td>False</td>\n      <td>38</td>\n      <td>7</td>\n      <td>[]</td>\n      <td>False</td>\n      <td>NaN</td>\n      <td>NaN</td>\n      <td>NaN</td>\n      <td>egeszseges-eletmod</td>\n      <td>NaN</td>\n    </tr>\n    <tr>\n      <th>...</th>\n      <td>...</td>\n      <td>...</td>\n      <td>...</td>\n      <td>...</td>\n      <td>...</td>\n      <td>...</td>\n      <td>...</td>\n      <td>...</td>\n      <td>...</td>\n      <td>...</td>\n      <td>...</td>\n      <td>...</td>\n      <td>...</td>\n      <td>...</td>\n      <td>...</td>\n      <td>...</td>\n      <td>...</td>\n    </tr>\n    <tr>\n      <th>1746</th>\n      <td>14206</td>\n      <td>1.0</td>\n      <td>Cumisüveg és cumi</td>\n      <td></td>\n      <td></td>\n      <td></td>\n      <td>90</td>\n      <td>False</td>\n      <td>7</td>\n      <td>2</td>\n      <td>[]</td>\n      <td>False</td>\n      <td>NaN</td>\n      <td>NaN</td>\n      <td>NaN</td>\n      <td>cumisuveg-es-cumi</td>\n      <td>NaN</td>\n    </tr>\n    <tr>\n      <th>1747</th>\n      <td>14211</td>\n      <td>3.0</td>\n      <td>32\" -ig</td>\n      <td></td>\n      <td></td>\n      <td></td>\n      <td>24</td>\n      <td>True</td>\n      <td>0</td>\n      <td>0</td>\n      <td>[]</td>\n      <td>False</td>\n      <td>NaN</td>\n      <td>banner</td>\n      <td>1462.0</td>\n      <td>32-ig</td>\n      <td>6.0</td>\n    </tr>\n    <tr>\n      <th>1748</th>\n      <td>14214</td>\n      <td>3.0</td>\n      <td>33\"-50\"</td>\n      <td></td>\n      <td></td>\n      <td></td>\n      <td>42</td>\n      <td>True</td>\n      <td>0</td>\n      <td>0</td>\n      <td>[]</td>\n      <td>False</td>\n      <td>NaN</td>\n      <td>banner</td>\n      <td>1462.0</td>\n      <td>33-50</td>\n      <td>6.0</td>\n    </tr>\n    <tr>\n      <th>1749</th>\n      <td>14217</td>\n      <td>3.0</td>\n      <td>55\"-65\"</td>\n      <td></td>\n      <td></td>\n      <td></td>\n      <td>35</td>\n      <td>True</td>\n      <td>0</td>\n      <td>0</td>\n      <td>[]</td>\n      <td>False</td>\n      <td>NaN</td>\n      <td>banner</td>\n      <td>1462.0</td>\n      <td>55-65</td>\n      <td>6.0</td>\n    </tr>\n    <tr>\n      <th>1750</th>\n      <td>14220</td>\n      <td>3.0</td>\n      <td>65\" felett</td>\n      <td></td>\n      <td></td>\n      <td></td>\n      <td>20</td>\n      <td>True</td>\n      <td>0</td>\n      <td>0</td>\n      <td>[]</td>\n      <td>False</td>\n      <td>NaN</td>\n      <td>banner</td>\n      <td>1462.0</td>\n      <td>65-felett</td>\n      <td>6.0</td>\n    </tr>\n  </tbody>\n</table>\n<p>1751 rows × 17 columns</p>\n</div>"
     },
     "execution_count": 30,
     "metadata": {},
     "output_type": "execute_result"
    }
   ],
   "source": [
    "df_categories"
   ],
   "metadata": {
    "collapsed": false,
    "pycharm": {
     "name": "#%%\n"
    }
   }
  },
  {
   "cell_type": "code",
   "execution_count": 33,
   "outputs": [],
   "source": [
    "df_categories.to_csv(f\"../databases/csv/{DATE}/categories_raw.csv\", escapechar=\"\\\\\")"
   ],
   "metadata": {
    "collapsed": false,
    "pycharm": {
     "name": "#%%\n"
    }
   }
  },
  {
   "cell_type": "markdown",
   "source": [
    "# Compress after extraction"
   ],
   "metadata": {
    "collapsed": false,
    "pycharm": {
     "name": "#%% md\n"
    }
   }
  },
  {
   "cell_type": "code",
   "execution_count": 32,
   "outputs": [],
   "source": [
    "!xz -zk ../databases/archives/2023_01_15_rawdata.tar"
   ],
   "metadata": {
    "collapsed": false,
    "pycharm": {
     "name": "#%%\n"
    }
   }
  }
 ],
 "metadata": {
  "kernelspec": {
   "display_name": "Python 3",
   "language": "python",
   "name": "python3"
  },
  "language_info": {
   "codemirror_mode": {
    "name": "ipython",
    "version": 2
   },
   "file_extension": ".py",
   "mimetype": "text/x-python",
   "name": "python",
   "nbconvert_exporter": "python",
   "pygments_lexer": "ipython2",
   "version": "2.7.6"
  }
 },
 "nbformat": 4,
 "nbformat_minor": 0
}