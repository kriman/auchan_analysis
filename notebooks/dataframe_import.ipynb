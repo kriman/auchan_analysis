{
 "cells": [
  {
   "cell_type": "code",
   "execution_count": 1,
   "outputs": [],
   "source": [
    "import pandas as pd\n",
    "import os\n",
    "import numpy as np\n",
    "import json\n",
    "import tarfile\n",
    "import time"
   ],
   "metadata": {
    "collapsed": false,
    "pycharm": {
     "name": "#%%\n"
    }
   }
  },
  {
   "cell_type": "code",
   "execution_count": 2,
   "outputs": [],
   "source": [
    "# use this command to compress the uncompressed tarfile when the scrape is ready:\n",
    "# xz -zk tarfile.tar"
   ],
   "metadata": {
    "collapsed": false,
    "pycharm": {
     "name": "#%%\n"
    }
   }
  },
  {
   "cell_type": "code",
   "execution_count": 3,
   "outputs": [],
   "source": [
    "DATE = \"2023_01_08\"\n",
    "TYPE = \"_diff\""
   ],
   "metadata": {
    "collapsed": false,
    "pycharm": {
     "name": "#%%\n"
    }
   }
  },
  {
   "cell_type": "code",
   "execution_count": 4,
   "outputs": [],
   "source": [
    "tar = tarfile.open(f\"../databases/archives/{DATE}_rawdata{TYPE}.tar\", \"r\")"
   ],
   "metadata": {
    "collapsed": false,
    "pycharm": {
     "name": "#%%\n"
    }
   }
  },
  {
   "cell_type": "code",
   "execution_count": 5,
   "outputs": [],
   "source": [
    "def create_nutrition_df(data, name):\n",
    "    transformed_data = [name] + [row[2] for row in data[\"data\"]]\n",
    "    columns = [\"id\"] + [row[0] for row in data[\"data\"]]\n",
    "    return pd.DataFrame([transformed_data], columns=columns)"
   ],
   "metadata": {
    "collapsed": false,
    "pycharm": {
     "name": "#%%\n"
    }
   }
  },
  {
   "cell_type": "code",
   "execution_count": 6,
   "outputs": [
    {
     "name": "stdout",
     "output_type": "stream",
     "text": [
      "5.1681067943573\n",
      "0.03856796115192015\n"
     ]
    }
   ],
   "source": [
    "start_time = time.time()\n",
    "all_nutrition_df = []\n",
    "for member in tar.getmembers():\n",
    "    if member.name.find(\"nutrition.json\") != -1:\n",
    "        file_content = tar.extractfile(member.name).read().decode(\"utf-8\")\n",
    "        data = json.loads(file_content)\n",
    "        all_nutrition_df.append(create_nutrition_df(data, member.name.split(\"/\")[-2]))\n",
    "\n",
    "nutritions_df = pd.concat(all_nutrition_df, ignore_index=True)\n",
    "end_time = time.time()\n",
    "print(end_time - start_time)\n",
    "print((end_time - start_time) / len(nutritions_df))"
   ],
   "metadata": {
    "collapsed": false,
    "pycharm": {
     "name": "#%%\n"
    }
   }
  },
  {
   "cell_type": "code",
   "execution_count": 7,
   "outputs": [
    {
     "data": {
      "text/plain": "          id    Energia (kJ / kcal)    Zsír (g)  Telített zsírsavak  (g)  \\\n0    3687481            100.000000/  100.000000               100.000000   \n1    3719638            100.000000/  100.000000               100.000000   \n2    3687478            100.000000/  100.000000               100.000000   \n3    3685162  630.000000/152.000000   10.000000                 0.800000   \n4      36463               2359/566     35.0000                  15.8000   \n..       ...                    ...         ...                      ...   \n129     4834                 226/54      0.1800                   0.0500   \n130  3924492               2279/546     32.0000                  18.0000   \n131  4061362               1538/366          14                      7,5   \n132  4118347               2480/593          43                     20,5   \n133  4060357               2267/543     31.0000                  19.0000   \n\n    Szénhidrát  (g)  Cukrok  (g) Fehérje (g)      Só (g) Rost  (g)  \\\n0        100.000000   100.000000  100.000000  100.000000       NaN   \n1        100.000000   100.000000  100.000000  100.000000       NaN   \n2        100.000000   100.000000  100.000000  100.000000       NaN   \n3         10.000000     7.000000    2.000000    0.700000       NaN   \n4           58.0000      25.0000      4.4000      0.1000    0.1000   \n..              ...          ...         ...         ...       ...   \n129         11.5000       9.9000      0.4900      0.0100    1.9800   \n130         58.0000      49.0000      5.1000      0.3900    1.7000   \n131              52           28         6,8        0,46       2,6   \n132              48           47           2         0,1       NaN   \n133         59.0000      54.0000      5.3000      0.3300    1.5000   \n\n    Folsav (µg)  ... Magnézium (mg) Vas (mg) Cink  (mg) Réz  (mg)  \\\n0           NaN  ...            NaN      NaN        NaN       NaN   \n1           NaN  ...            NaN      NaN        NaN       NaN   \n2           NaN  ...            NaN      NaN        NaN       NaN   \n3           NaN  ...            NaN      NaN        NaN       NaN   \n4      200.0000  ...            NaN      NaN        NaN       NaN   \n..          ...  ...            ...      ...        ...       ...   \n129         NaN  ...            NaN      NaN        NaN       NaN   \n130         NaN  ...            NaN      NaN        NaN       NaN   \n131         NaN  ...            NaN      NaN        NaN       NaN   \n132         NaN  ...            NaN      NaN        NaN       NaN   \n133         NaN  ...            NaN      NaN        NaN       NaN   \n\n    Mangán  (mg) Fluor (µg) Szelén (µg) Króm (µg) Molibdén (µg) Jód (µg)  \n0            NaN        NaN         NaN       NaN           NaN      NaN  \n1            NaN        NaN         NaN       NaN           NaN      NaN  \n2            NaN        NaN         NaN       NaN           NaN      NaN  \n3            NaN        NaN         NaN       NaN           NaN      NaN  \n4            NaN        NaN         NaN       NaN           NaN      NaN  \n..           ...        ...         ...       ...           ...      ...  \n129          NaN        NaN         NaN       NaN           NaN      NaN  \n130          NaN        NaN         NaN       NaN           NaN      NaN  \n131          NaN        NaN         NaN       NaN           NaN      NaN  \n132          NaN        NaN         NaN       NaN           NaN      NaN  \n133          NaN        NaN         NaN       NaN           NaN      NaN  \n\n[134 rows x 42 columns]",
      "text/html": "<div>\n<style scoped>\n    .dataframe tbody tr th:only-of-type {\n        vertical-align: middle;\n    }\n\n    .dataframe tbody tr th {\n        vertical-align: top;\n    }\n\n    .dataframe thead th {\n        text-align: right;\n    }\n</style>\n<table border=\"1\" class=\"dataframe\">\n  <thead>\n    <tr style=\"text-align: right;\">\n      <th></th>\n      <th>id</th>\n      <th>Energia (kJ / kcal)</th>\n      <th>Zsír (g)</th>\n      <th>Telített zsírsavak  (g)</th>\n      <th>Szénhidrát  (g)</th>\n      <th>Cukrok  (g)</th>\n      <th>Fehérje (g)</th>\n      <th>Só (g)</th>\n      <th>Rost  (g)</th>\n      <th>Folsav (µg)</th>\n      <th>...</th>\n      <th>Magnézium (mg)</th>\n      <th>Vas (mg)</th>\n      <th>Cink  (mg)</th>\n      <th>Réz  (mg)</th>\n      <th>Mangán  (mg)</th>\n      <th>Fluor (µg)</th>\n      <th>Szelén (µg)</th>\n      <th>Króm (µg)</th>\n      <th>Molibdén (µg)</th>\n      <th>Jód (µg)</th>\n    </tr>\n  </thead>\n  <tbody>\n    <tr>\n      <th>0</th>\n      <td>3687481</td>\n      <td>100.000000/</td>\n      <td>100.000000</td>\n      <td>100.000000</td>\n      <td>100.000000</td>\n      <td>100.000000</td>\n      <td>100.000000</td>\n      <td>100.000000</td>\n      <td>NaN</td>\n      <td>NaN</td>\n      <td>...</td>\n      <td>NaN</td>\n      <td>NaN</td>\n      <td>NaN</td>\n      <td>NaN</td>\n      <td>NaN</td>\n      <td>NaN</td>\n      <td>NaN</td>\n      <td>NaN</td>\n      <td>NaN</td>\n      <td>NaN</td>\n    </tr>\n    <tr>\n      <th>1</th>\n      <td>3719638</td>\n      <td>100.000000/</td>\n      <td>100.000000</td>\n      <td>100.000000</td>\n      <td>100.000000</td>\n      <td>100.000000</td>\n      <td>100.000000</td>\n      <td>100.000000</td>\n      <td>NaN</td>\n      <td>NaN</td>\n      <td>...</td>\n      <td>NaN</td>\n      <td>NaN</td>\n      <td>NaN</td>\n      <td>NaN</td>\n      <td>NaN</td>\n      <td>NaN</td>\n      <td>NaN</td>\n      <td>NaN</td>\n      <td>NaN</td>\n      <td>NaN</td>\n    </tr>\n    <tr>\n      <th>2</th>\n      <td>3687478</td>\n      <td>100.000000/</td>\n      <td>100.000000</td>\n      <td>100.000000</td>\n      <td>100.000000</td>\n      <td>100.000000</td>\n      <td>100.000000</td>\n      <td>100.000000</td>\n      <td>NaN</td>\n      <td>NaN</td>\n      <td>...</td>\n      <td>NaN</td>\n      <td>NaN</td>\n      <td>NaN</td>\n      <td>NaN</td>\n      <td>NaN</td>\n      <td>NaN</td>\n      <td>NaN</td>\n      <td>NaN</td>\n      <td>NaN</td>\n      <td>NaN</td>\n    </tr>\n    <tr>\n      <th>3</th>\n      <td>3685162</td>\n      <td>630.000000/152.000000</td>\n      <td>10.000000</td>\n      <td>0.800000</td>\n      <td>10.000000</td>\n      <td>7.000000</td>\n      <td>2.000000</td>\n      <td>0.700000</td>\n      <td>NaN</td>\n      <td>NaN</td>\n      <td>...</td>\n      <td>NaN</td>\n      <td>NaN</td>\n      <td>NaN</td>\n      <td>NaN</td>\n      <td>NaN</td>\n      <td>NaN</td>\n      <td>NaN</td>\n      <td>NaN</td>\n      <td>NaN</td>\n      <td>NaN</td>\n    </tr>\n    <tr>\n      <th>4</th>\n      <td>36463</td>\n      <td>2359/566</td>\n      <td>35.0000</td>\n      <td>15.8000</td>\n      <td>58.0000</td>\n      <td>25.0000</td>\n      <td>4.4000</td>\n      <td>0.1000</td>\n      <td>0.1000</td>\n      <td>200.0000</td>\n      <td>...</td>\n      <td>NaN</td>\n      <td>NaN</td>\n      <td>NaN</td>\n      <td>NaN</td>\n      <td>NaN</td>\n      <td>NaN</td>\n      <td>NaN</td>\n      <td>NaN</td>\n      <td>NaN</td>\n      <td>NaN</td>\n    </tr>\n    <tr>\n      <th>...</th>\n      <td>...</td>\n      <td>...</td>\n      <td>...</td>\n      <td>...</td>\n      <td>...</td>\n      <td>...</td>\n      <td>...</td>\n      <td>...</td>\n      <td>...</td>\n      <td>...</td>\n      <td>...</td>\n      <td>...</td>\n      <td>...</td>\n      <td>...</td>\n      <td>...</td>\n      <td>...</td>\n      <td>...</td>\n      <td>...</td>\n      <td>...</td>\n      <td>...</td>\n      <td>...</td>\n    </tr>\n    <tr>\n      <th>129</th>\n      <td>4834</td>\n      <td>226/54</td>\n      <td>0.1800</td>\n      <td>0.0500</td>\n      <td>11.5000</td>\n      <td>9.9000</td>\n      <td>0.4900</td>\n      <td>0.0100</td>\n      <td>1.9800</td>\n      <td>NaN</td>\n      <td>...</td>\n      <td>NaN</td>\n      <td>NaN</td>\n      <td>NaN</td>\n      <td>NaN</td>\n      <td>NaN</td>\n      <td>NaN</td>\n      <td>NaN</td>\n      <td>NaN</td>\n      <td>NaN</td>\n      <td>NaN</td>\n    </tr>\n    <tr>\n      <th>130</th>\n      <td>3924492</td>\n      <td>2279/546</td>\n      <td>32.0000</td>\n      <td>18.0000</td>\n      <td>58.0000</td>\n      <td>49.0000</td>\n      <td>5.1000</td>\n      <td>0.3900</td>\n      <td>1.7000</td>\n      <td>NaN</td>\n      <td>...</td>\n      <td>NaN</td>\n      <td>NaN</td>\n      <td>NaN</td>\n      <td>NaN</td>\n      <td>NaN</td>\n      <td>NaN</td>\n      <td>NaN</td>\n      <td>NaN</td>\n      <td>NaN</td>\n      <td>NaN</td>\n    </tr>\n    <tr>\n      <th>131</th>\n      <td>4061362</td>\n      <td>1538/366</td>\n      <td>14</td>\n      <td>7,5</td>\n      <td>52</td>\n      <td>28</td>\n      <td>6,8</td>\n      <td>0,46</td>\n      <td>2,6</td>\n      <td>NaN</td>\n      <td>...</td>\n      <td>NaN</td>\n      <td>NaN</td>\n      <td>NaN</td>\n      <td>NaN</td>\n      <td>NaN</td>\n      <td>NaN</td>\n      <td>NaN</td>\n      <td>NaN</td>\n      <td>NaN</td>\n      <td>NaN</td>\n    </tr>\n    <tr>\n      <th>132</th>\n      <td>4118347</td>\n      <td>2480/593</td>\n      <td>43</td>\n      <td>20,5</td>\n      <td>48</td>\n      <td>47</td>\n      <td>2</td>\n      <td>0,1</td>\n      <td>NaN</td>\n      <td>NaN</td>\n      <td>...</td>\n      <td>NaN</td>\n      <td>NaN</td>\n      <td>NaN</td>\n      <td>NaN</td>\n      <td>NaN</td>\n      <td>NaN</td>\n      <td>NaN</td>\n      <td>NaN</td>\n      <td>NaN</td>\n      <td>NaN</td>\n    </tr>\n    <tr>\n      <th>133</th>\n      <td>4060357</td>\n      <td>2267/543</td>\n      <td>31.0000</td>\n      <td>19.0000</td>\n      <td>59.0000</td>\n      <td>54.0000</td>\n      <td>5.3000</td>\n      <td>0.3300</td>\n      <td>1.5000</td>\n      <td>NaN</td>\n      <td>...</td>\n      <td>NaN</td>\n      <td>NaN</td>\n      <td>NaN</td>\n      <td>NaN</td>\n      <td>NaN</td>\n      <td>NaN</td>\n      <td>NaN</td>\n      <td>NaN</td>\n      <td>NaN</td>\n      <td>NaN</td>\n    </tr>\n  </tbody>\n</table>\n<p>134 rows × 42 columns</p>\n</div>"
     },
     "execution_count": 7,
     "metadata": {},
     "output_type": "execute_result"
    }
   ],
   "source": [
    "nutritions_df"
   ],
   "metadata": {
    "collapsed": false,
    "pycharm": {
     "name": "#%%\n"
    }
   }
  },
  {
   "cell_type": "code",
   "execution_count": 8,
   "outputs": [],
   "source": [
    "nutritions_df.to_csv(f\"../databases/csv/{DATE}/nutritions_raw.csv\", escapechar=\"\\\\\")"
   ],
   "metadata": {
    "collapsed": false,
    "pycharm": {
     "name": "#%%\n"
    }
   }
  },
  {
   "cell_type": "code",
   "execution_count": 9,
   "outputs": [],
   "source": [
    "def create_df(data: dict):\n",
    "    return pd.DataFrame([data.values()], columns=list(data.keys()))"
   ],
   "metadata": {
    "collapsed": false,
    "pycharm": {
     "name": "#%%\n"
    }
   }
  },
  {
   "cell_type": "code",
   "execution_count": 10,
   "outputs": [
    {
     "name": "stdout",
     "output_type": "stream",
     "text": [
      "processed 0 members in 0.007473945617675781 seconds\n",
      "processed 1000 members in 9.354341983795166 seconds\n",
      "processed 2000 members in 16.872031688690186 seconds\n",
      "processed 3000 members in 23.92822265625 seconds\n",
      "processed 4000 members in 30.922845125198364 seconds\n",
      "processed 5000 members in 36.9918794631958 seconds\n",
      "processed 6000 members in 43.4241418838501 seconds\n",
      "processed 7000 members in 49.465006589889526 seconds\n",
      "processed 8000 members in 55.39689612388611 seconds\n",
      "processed 9000 members in 61.554136753082275 seconds\n",
      "processed 10000 members in 67.64376926422119 seconds\n",
      "processed 11000 members in 74.16762924194336 seconds\n",
      "processed 12000 members in 80.14476275444031 seconds\n",
      "processed 13000 members in 86.21012902259827 seconds\n",
      "processed 14000 members in 92.3974494934082 seconds\n",
      "processed 15000 members in 98.68774127960205 seconds\n",
      "processed 16000 members in 105.17986488342285 seconds\n",
      "processed 17000 members in 111.81332659721375 seconds\n",
      "processed 18000 members in 118.94082522392273 seconds\n",
      "processed 19000 members in 125.34333658218384 seconds\n",
      "processed 20000 members in 131.6384847164154 seconds\n",
      "processed 21000 members in 138.0491588115692 seconds\n",
      "processed 22000 members in 144.33193469047546 seconds\n",
      "processed 23000 members in 151.25070428848267 seconds\n",
      "processed 24000 members in 157.37391877174377 seconds\n",
      "processed 25000 members in 163.45935773849487 seconds\n",
      "processed 26000 members in 169.32599568367004 seconds\n",
      "processed 27000 members in 175.2552261352539 seconds\n",
      "processed 28000 members in 180.96033787727356 seconds\n",
      "processed 29000 members in 186.38501930236816 seconds\n",
      "processed 30000 members in 192.45492935180664 seconds\n",
      "processed 31000 members in 197.93166255950928 seconds\n",
      "processed 32000 members in 203.41686916351318 seconds\n",
      "processed 33000 members in 210.05678462982178 seconds\n",
      "processed 34000 members in 216.38714599609375 seconds\n",
      "processed 35000 members in 222.5586175918579 seconds\n",
      "processed 36000 members in 228.7054808139801 seconds\n",
      "processed 37000 members in 235.78375697135925 seconds\n",
      "processed 38000 members in 240.39466309547424 seconds\n",
      "processed 39000 members in 244.80552792549133 seconds\n",
      "processed 40000 members in 250.77448344230652 seconds\n",
      "processed 41000 members in 256.1114993095398 seconds\n",
      "processed 42000 members in 261.2550377845764 seconds\n",
      "processed 43000 members in 267.05976152420044 seconds\n",
      "processed 44000 members in 272.91165471076965 seconds\n",
      "processed 45000 members in 278.8455002307892 seconds\n",
      "processed 46000 members in 284.5812668800354 seconds\n",
      "processed 47000 members in 288.7363107204437 seconds\n",
      "processed 48000 members in 296.5517611503601 seconds\n",
      "processed 49000 members in 302.65097999572754 seconds\n",
      "processed 50000 members in 309.20537066459656 seconds\n",
      "processed 51000 members in 315.6709430217743 seconds\n",
      "processed 52000 members in 321.6360580921173 seconds\n",
      "processed 53000 members in 327.56053280830383 seconds\n",
      "processed 54000 members in 333.7968146800995 seconds\n",
      "processed 55000 members in 340.0055651664734 seconds\n",
      "processed 56000 members in 346.08718490600586 seconds\n",
      "processed 57000 members in 352.16450333595276 seconds\n",
      "processed 58000 members in 358.112672328949 seconds\n",
      "processed 59000 members in 363.5911955833435 seconds\n",
      "processed 60000 members in 370.8769316673279 seconds\n",
      "processed 61000 members in 376.27791023254395 seconds\n",
      "processed 62000 members in 381.4338068962097 seconds\n",
      "processed 63000 members in 386.54127979278564 seconds\n",
      "processed 64000 members in 391.6013550758362 seconds\n",
      "processed 65000 members in 396.6394712924957 seconds\n",
      "processed 66000 members in 401.8661651611328 seconds\n",
      "processed 67000 members in 406.4879701137543 seconds\n",
      "processed 68000 members in 411.3973662853241 seconds\n",
      "processed 69000 members in 416.2319474220276 seconds\n",
      "processed 70000 members in 421.27275490760803 seconds\n",
      "processed 71000 members in 426.0981159210205 seconds\n",
      "processed 72000 members in 430.7045681476593 seconds\n",
      "processed 73000 members in 435.2682304382324 seconds\n",
      "processed 74000 members in 439.5455536842346 seconds\n",
      "processed 75000 members in 446.13650250434875 seconds\n",
      "processed 76000 members in 450.6669108867645 seconds\n",
      "processed 77000 members in 455.1872491836548 seconds\n",
      "processed 78000 members in 459.53283309936523 seconds\n",
      "processed 79000 members in 463.98737359046936 seconds\n",
      "processed 80000 members in 468.23175382614136 seconds\n",
      "processed 81000 members in 472.46093821525574 seconds\n",
      "processed 82000 members in 476.78737354278564 seconds\n",
      "processed 83000 members in 480.8270757198334 seconds\n",
      "processed 84000 members in 484.91706109046936 seconds\n",
      "processed 85000 members in 489.0469379425049 seconds\n",
      "processed 86000 members in 492.92599296569824 seconds\n",
      "processed 87000 members in 496.81898951530457 seconds\n",
      "processed 88000 members in 500.3242211341858 seconds\n",
      "processed 89000 members in 503.6937611103058 seconds\n",
      "processed 90000 members in 507.34813356399536 seconds\n",
      "processed 91000 members in 510.9155259132385 seconds\n",
      "processed 92000 members in 514.449978351593 seconds\n",
      "processed 93000 members in 517.6909081935883 seconds\n",
      "processed 94000 members in 524.8318574428558 seconds\n",
      "processed 95000 members in 529.0793454647064 seconds\n",
      "processed 96000 members in 532.4877247810364 seconds\n",
      "processed 97000 members in 535.9452822208405 seconds\n",
      "processed 98000 members in 539.6106102466583 seconds\n",
      "processed 99000 members in 542.6319913864136 seconds\n",
      "processed 100000 members in 545.4087369441986 seconds\n",
      "723.4772961139679\n",
      "0.007363786500630729\n"
     ]
    }
   ],
   "source": [
    "start_time = time.time()\n",
    "all_product_df = []\n",
    "all_variant_df = []\n",
    "all_prices_df = []\n",
    "for i, member in enumerate(tar.getmembers()):\n",
    "    if member.name.find(\"product.json\") != -1:\n",
    "        file_content = tar.extractfile(member.name).read().decode(\"utf-8\")\n",
    "        data = json.loads(file_content)\n",
    "\n",
    "        price_data = data[\"selectedVariant\"][\"price\"]\n",
    "        price_data[\"id\"] = data[\"selectedVariant\"][\"id\"]\n",
    "        all_prices_df.append(create_df(price_data))\n",
    "\n",
    "        del data[\"selectedVariant\"][\"price\"]\n",
    "        del data[\"selectedVariant\"][\"packageInfo\"][\"unitPrice\"]\n",
    "        data[\"selectedVariant\"][\"packageUnit\"] = data[\"selectedVariant\"][\"packageInfo\"][\"packageUnit\"]\n",
    "        data[\"selectedVariant\"][\"packageSize\"] = data[\"selectedVariant\"][\"packageInfo\"][\"packageSize\"]\n",
    "        del data[\"selectedVariant\"][\"packageInfo\"]\n",
    "\n",
    "        all_variant_df.append(create_df(data[\"selectedVariant\"]))\n",
    "\n",
    "        data[\"selectedVariant\"] = data[\"selectedVariant\"][\"id\"]\n",
    "        data[\"defaultVariant\"] = data[\"defaultVariant\"][\"id\"]\n",
    "        all_product_df.append(create_df(data))\n",
    "\n",
    "    if i % 1000 == 0:\n",
    "        print(f'processed {i} members in {time.time() - start_time} seconds')\n",
    "\n",
    "df_products = pd.concat(all_product_df, ignore_index=True)\n",
    "df_variants = pd.concat(all_variant_df, ignore_index=True)\n",
    "df_prices = pd.concat(all_prices_df, ignore_index=True)\n",
    "end_time = time.time()\n",
    "print(end_time - start_time)\n",
    "print((end_time - start_time) / len(df_products))"
   ],
   "metadata": {
    "collapsed": false,
    "pycharm": {
     "name": "#%%\n"
    }
   }
  },
  {
   "cell_type": "code",
   "execution_count": 11,
   "outputs": [
    {
     "data": {
      "text/plain": "   net  gross currency  decimalPlaces  netDiscounted  grossDiscounted  \\\n0  529    529      HUF              0            529              529   \n1  549    549      HUF              0            549              549   \n2  549    549      HUF              0            549              549   \n3  549    549      HUF              0            549              549   \n4  549    549      HUF              0            549              549   \n5  579    579      HUF              0            579              579   \n6  579    579      HUF              0            579              579   \n7  579    579      HUF              0            579              579   \n8  689    689      HUF              0            689              689   \n9  689    689      HUF              0            689              689   \n\n   discountPercentage  isDiscounted       id discountValidFrom discountValidTo  \n0                   0         False    55371               NaN             NaN  \n1                   0         False  4026669               NaN             NaN  \n2                   0         False  4026672               NaN             NaN  \n3                   0         False  4026675               NaN             NaN  \n4                   0         False  4026678               NaN             NaN  \n5                   0         False     9898               NaN             NaN  \n6                   0         False    54825               NaN             NaN  \n7                   0         False    54828               NaN             NaN  \n8                   0         False    28354               NaN             NaN  \n9                   0         False    28357               NaN             NaN  ",
      "text/html": "<div>\n<style scoped>\n    .dataframe tbody tr th:only-of-type {\n        vertical-align: middle;\n    }\n\n    .dataframe tbody tr th {\n        vertical-align: top;\n    }\n\n    .dataframe thead th {\n        text-align: right;\n    }\n</style>\n<table border=\"1\" class=\"dataframe\">\n  <thead>\n    <tr style=\"text-align: right;\">\n      <th></th>\n      <th>net</th>\n      <th>gross</th>\n      <th>currency</th>\n      <th>decimalPlaces</th>\n      <th>netDiscounted</th>\n      <th>grossDiscounted</th>\n      <th>discountPercentage</th>\n      <th>isDiscounted</th>\n      <th>id</th>\n      <th>discountValidFrom</th>\n      <th>discountValidTo</th>\n    </tr>\n  </thead>\n  <tbody>\n    <tr>\n      <th>0</th>\n      <td>529</td>\n      <td>529</td>\n      <td>HUF</td>\n      <td>0</td>\n      <td>529</td>\n      <td>529</td>\n      <td>0</td>\n      <td>False</td>\n      <td>55371</td>\n      <td>NaN</td>\n      <td>NaN</td>\n    </tr>\n    <tr>\n      <th>1</th>\n      <td>549</td>\n      <td>549</td>\n      <td>HUF</td>\n      <td>0</td>\n      <td>549</td>\n      <td>549</td>\n      <td>0</td>\n      <td>False</td>\n      <td>4026669</td>\n      <td>NaN</td>\n      <td>NaN</td>\n    </tr>\n    <tr>\n      <th>2</th>\n      <td>549</td>\n      <td>549</td>\n      <td>HUF</td>\n      <td>0</td>\n      <td>549</td>\n      <td>549</td>\n      <td>0</td>\n      <td>False</td>\n      <td>4026672</td>\n      <td>NaN</td>\n      <td>NaN</td>\n    </tr>\n    <tr>\n      <th>3</th>\n      <td>549</td>\n      <td>549</td>\n      <td>HUF</td>\n      <td>0</td>\n      <td>549</td>\n      <td>549</td>\n      <td>0</td>\n      <td>False</td>\n      <td>4026675</td>\n      <td>NaN</td>\n      <td>NaN</td>\n    </tr>\n    <tr>\n      <th>4</th>\n      <td>549</td>\n      <td>549</td>\n      <td>HUF</td>\n      <td>0</td>\n      <td>549</td>\n      <td>549</td>\n      <td>0</td>\n      <td>False</td>\n      <td>4026678</td>\n      <td>NaN</td>\n      <td>NaN</td>\n    </tr>\n    <tr>\n      <th>5</th>\n      <td>579</td>\n      <td>579</td>\n      <td>HUF</td>\n      <td>0</td>\n      <td>579</td>\n      <td>579</td>\n      <td>0</td>\n      <td>False</td>\n      <td>9898</td>\n      <td>NaN</td>\n      <td>NaN</td>\n    </tr>\n    <tr>\n      <th>6</th>\n      <td>579</td>\n      <td>579</td>\n      <td>HUF</td>\n      <td>0</td>\n      <td>579</td>\n      <td>579</td>\n      <td>0</td>\n      <td>False</td>\n      <td>54825</td>\n      <td>NaN</td>\n      <td>NaN</td>\n    </tr>\n    <tr>\n      <th>7</th>\n      <td>579</td>\n      <td>579</td>\n      <td>HUF</td>\n      <td>0</td>\n      <td>579</td>\n      <td>579</td>\n      <td>0</td>\n      <td>False</td>\n      <td>54828</td>\n      <td>NaN</td>\n      <td>NaN</td>\n    </tr>\n    <tr>\n      <th>8</th>\n      <td>689</td>\n      <td>689</td>\n      <td>HUF</td>\n      <td>0</td>\n      <td>689</td>\n      <td>689</td>\n      <td>0</td>\n      <td>False</td>\n      <td>28354</td>\n      <td>NaN</td>\n      <td>NaN</td>\n    </tr>\n    <tr>\n      <th>9</th>\n      <td>689</td>\n      <td>689</td>\n      <td>HUF</td>\n      <td>0</td>\n      <td>689</td>\n      <td>689</td>\n      <td>0</td>\n      <td>False</td>\n      <td>28357</td>\n      <td>NaN</td>\n      <td>NaN</td>\n    </tr>\n  </tbody>\n</table>\n</div>"
     },
     "execution_count": 11,
     "metadata": {},
     "output_type": "execute_result"
    }
   ],
   "source": [
    "df_prices.head(10)"
   ],
   "metadata": {
    "collapsed": false,
    "pycharm": {
     "name": "#%%\n"
    }
   }
  },
  {
   "cell_type": "code",
   "execution_count": 12,
   "outputs": [
    {
     "data": {
      "text/plain": "            id                                               name     sku  \\\n0        55371  Friskies Steril száraz macskaeledel lazaccal é...  541547   \n1      4026669  PreVital teljes értékű állateledel felnőtt mac...  465410   \n2      4026672  PreVital teljes értékű állateledel felnőtt mac...  465411   \n3      4026675  PreVital teljes értékű állateledel ivartalanít...  465412   \n4      4026678  PreVital teljes értékű állateledel lakásban va...  465413   \n...        ...                                                ...     ...   \n98205  3998149         Milka szaloncukor joghurtízű krémmel 310 g  411578   \n98206  3998137                  Milka szaloncukor válogatás 310 g  411573   \n98209  3998122  Oreo vaníliaízű töltelékkel töltött kakaós kek...  411565   \n98211    46400         Stühmer ír krémlikőr ízű szaloncukor 340 g  752237   \n98213  4060729  Stühmer Lellei konyakmeggy - Kézzel készített ...  520062   \n\n       productId addedName  selectValue status unit        eanCode  aided  \\\n0          55032                  55371   none   db  7613033000201  False   \n1         489276                4026669   none   db  5999566111235  False   \n2         489279                4026672   none   db  5999566111228  False   \n3         489282                4026675   none   db  5999566111259  False   \n4         489285                4026678   none   db  5999566111242  False   \n...          ...       ...          ...    ...  ...            ...    ...   \n98205     460765                3998149   none   db  7622201125325  False   \n98206     460753                3998137   none   db  7622201125363  False   \n98209     460738                3998122   none   db  7622300491215  False   \n98211      46328                  46400   none   db  5999565690366  False   \n98213     523339                4060729   none   db  5999860092438  False   \n\n       ...                                              flags  \\\n0      ...                                                 []   \n1      ...                                                 []   \n2      ...                                                 []   \n3      ...                                                 []   \n4      ...                                                 []   \n...    ...                                                ...   \n98205  ...                                                 []   \n98206  ...                                                 []   \n98209  ...                                                 []   \n98211  ...  [{'flag': 'flag_domestic_processed', 'name': '...   \n98213  ...  [{'flag': 'flag_domestic_processed', 'name': '...   \n\n                                                   media  \\\n0      {'images': ['https://ahuazurewebblob0.azureedg...   \n1      {'images': ['https://ahuazurewebblob0.azureedg...   \n2      {'images': ['https://ahuazurewebblob0.azureedg...   \n3      {'images': ['https://ahuazurewebblob0.azureedg...   \n4      {'images': ['https://ahuazurewebblob0.azureedg...   \n...                                                  ...   \n98205  {'images': ['https://ahuazurewebblob0.azureedg...   \n98206  {'images': ['https://ahuazurewebblob0.azureedg...   \n98209  {'images': ['https://ahuazurewebblob0.azureedg...   \n98211  {'images': ['https://ahuazurewebblob0.azureedg...   \n98213  {'images': ['https://ahuazurewebblob0.azureedg...   \n\n                                                 details isInVirtualStock  \\\n0                             [description, ingredients]            False   \n1                             [description, ingredients]            False   \n2                             [description, ingredients]            False   \n3                             [description, ingredients]            False   \n4                             [description, ingredients]            False   \n...                                                  ...              ...   \n98205   [description, ingredients, nutrition, allergens]            False   \n98206   [description, ingredients, nutrition, allergens]            False   \n98209  [description, ingredients, parameterList, nutr...            False   \n98211   [description, ingredients, nutrition, allergens]            False   \n98213   [description, ingredients, nutrition, allergens]            False   \n\n      shoppingListsContain  offerType packageUnit packageSize roll  \\\n0                       []                     KG       0.300  NaN   \n1                       []                     KG       0.300  NaN   \n2                       []                     KG       0.300  NaN   \n3                       []                     KG       0.300  NaN   \n4                       []                     KG       0.300  NaN   \n...                    ...        ...         ...         ...  ...   \n98205                   []                     KG       0.310  NaN   \n98206                   []                     KG       0.310  NaN   \n98209                   []                     KG       0.246  NaN   \n98211                   []                     KG       0.350  NaN   \n98213                   []                     KG       0.300  NaN   \n\n       itemVolumeInfo  \n0                 NaN  \n1                 NaN  \n2                 NaN  \n3                 NaN  \n4                 NaN  \n...               ...  \n98205             NaN  \n98206             NaN  \n98209             NaN  \n98211             NaN  \n98213             NaN  \n\n[32302 rows x 22 columns]",
      "text/html": "<div>\n<style scoped>\n    .dataframe tbody tr th:only-of-type {\n        vertical-align: middle;\n    }\n\n    .dataframe tbody tr th {\n        vertical-align: top;\n    }\n\n    .dataframe thead th {\n        text-align: right;\n    }\n</style>\n<table border=\"1\" class=\"dataframe\">\n  <thead>\n    <tr style=\"text-align: right;\">\n      <th></th>\n      <th>id</th>\n      <th>name</th>\n      <th>sku</th>\n      <th>productId</th>\n      <th>addedName</th>\n      <th>selectValue</th>\n      <th>status</th>\n      <th>unit</th>\n      <th>eanCode</th>\n      <th>aided</th>\n      <th>...</th>\n      <th>flags</th>\n      <th>media</th>\n      <th>details</th>\n      <th>isInVirtualStock</th>\n      <th>shoppingListsContain</th>\n      <th>offerType</th>\n      <th>packageUnit</th>\n      <th>packageSize</th>\n      <th>roll</th>\n      <th>itemVolumeInfo</th>\n    </tr>\n  </thead>\n  <tbody>\n    <tr>\n      <th>0</th>\n      <td>55371</td>\n      <td>Friskies Steril száraz macskaeledel lazaccal é...</td>\n      <td>541547</td>\n      <td>55032</td>\n      <td></td>\n      <td>55371</td>\n      <td>none</td>\n      <td>db</td>\n      <td>7613033000201</td>\n      <td>False</td>\n      <td>...</td>\n      <td>[]</td>\n      <td>{'images': ['https://ahuazurewebblob0.azureedg...</td>\n      <td>[description, ingredients]</td>\n      <td>False</td>\n      <td>[]</td>\n      <td></td>\n      <td>KG</td>\n      <td>0.300</td>\n      <td>NaN</td>\n      <td>NaN</td>\n    </tr>\n    <tr>\n      <th>1</th>\n      <td>4026669</td>\n      <td>PreVital teljes értékű állateledel felnőtt mac...</td>\n      <td>465410</td>\n      <td>489276</td>\n      <td></td>\n      <td>4026669</td>\n      <td>none</td>\n      <td>db</td>\n      <td>5999566111235</td>\n      <td>False</td>\n      <td>...</td>\n      <td>[]</td>\n      <td>{'images': ['https://ahuazurewebblob0.azureedg...</td>\n      <td>[description, ingredients]</td>\n      <td>False</td>\n      <td>[]</td>\n      <td></td>\n      <td>KG</td>\n      <td>0.300</td>\n      <td>NaN</td>\n      <td>NaN</td>\n    </tr>\n    <tr>\n      <th>2</th>\n      <td>4026672</td>\n      <td>PreVital teljes értékű állateledel felnőtt mac...</td>\n      <td>465411</td>\n      <td>489279</td>\n      <td></td>\n      <td>4026672</td>\n      <td>none</td>\n      <td>db</td>\n      <td>5999566111228</td>\n      <td>False</td>\n      <td>...</td>\n      <td>[]</td>\n      <td>{'images': ['https://ahuazurewebblob0.azureedg...</td>\n      <td>[description, ingredients]</td>\n      <td>False</td>\n      <td>[]</td>\n      <td></td>\n      <td>KG</td>\n      <td>0.300</td>\n      <td>NaN</td>\n      <td>NaN</td>\n    </tr>\n    <tr>\n      <th>3</th>\n      <td>4026675</td>\n      <td>PreVital teljes értékű állateledel ivartalanít...</td>\n      <td>465412</td>\n      <td>489282</td>\n      <td></td>\n      <td>4026675</td>\n      <td>none</td>\n      <td>db</td>\n      <td>5999566111259</td>\n      <td>False</td>\n      <td>...</td>\n      <td>[]</td>\n      <td>{'images': ['https://ahuazurewebblob0.azureedg...</td>\n      <td>[description, ingredients]</td>\n      <td>False</td>\n      <td>[]</td>\n      <td></td>\n      <td>KG</td>\n      <td>0.300</td>\n      <td>NaN</td>\n      <td>NaN</td>\n    </tr>\n    <tr>\n      <th>4</th>\n      <td>4026678</td>\n      <td>PreVital teljes értékű állateledel lakásban va...</td>\n      <td>465413</td>\n      <td>489285</td>\n      <td></td>\n      <td>4026678</td>\n      <td>none</td>\n      <td>db</td>\n      <td>5999566111242</td>\n      <td>False</td>\n      <td>...</td>\n      <td>[]</td>\n      <td>{'images': ['https://ahuazurewebblob0.azureedg...</td>\n      <td>[description, ingredients]</td>\n      <td>False</td>\n      <td>[]</td>\n      <td></td>\n      <td>KG</td>\n      <td>0.300</td>\n      <td>NaN</td>\n      <td>NaN</td>\n    </tr>\n    <tr>\n      <th>...</th>\n      <td>...</td>\n      <td>...</td>\n      <td>...</td>\n      <td>...</td>\n      <td>...</td>\n      <td>...</td>\n      <td>...</td>\n      <td>...</td>\n      <td>...</td>\n      <td>...</td>\n      <td>...</td>\n      <td>...</td>\n      <td>...</td>\n      <td>...</td>\n      <td>...</td>\n      <td>...</td>\n      <td>...</td>\n      <td>...</td>\n      <td>...</td>\n      <td>...</td>\n      <td>...</td>\n    </tr>\n    <tr>\n      <th>98205</th>\n      <td>3998149</td>\n      <td>Milka szaloncukor joghurtízű krémmel 310 g</td>\n      <td>411578</td>\n      <td>460765</td>\n      <td></td>\n      <td>3998149</td>\n      <td>none</td>\n      <td>db</td>\n      <td>7622201125325</td>\n      <td>False</td>\n      <td>...</td>\n      <td>[]</td>\n      <td>{'images': ['https://ahuazurewebblob0.azureedg...</td>\n      <td>[description, ingredients, nutrition, allergens]</td>\n      <td>False</td>\n      <td>[]</td>\n      <td></td>\n      <td>KG</td>\n      <td>0.310</td>\n      <td>NaN</td>\n      <td>NaN</td>\n    </tr>\n    <tr>\n      <th>98206</th>\n      <td>3998137</td>\n      <td>Milka szaloncukor válogatás 310 g</td>\n      <td>411573</td>\n      <td>460753</td>\n      <td></td>\n      <td>3998137</td>\n      <td>none</td>\n      <td>db</td>\n      <td>7622201125363</td>\n      <td>False</td>\n      <td>...</td>\n      <td>[]</td>\n      <td>{'images': ['https://ahuazurewebblob0.azureedg...</td>\n      <td>[description, ingredients, nutrition, allergens]</td>\n      <td>False</td>\n      <td>[]</td>\n      <td></td>\n      <td>KG</td>\n      <td>0.310</td>\n      <td>NaN</td>\n      <td>NaN</td>\n    </tr>\n    <tr>\n      <th>98209</th>\n      <td>3998122</td>\n      <td>Oreo vaníliaízű töltelékkel töltött kakaós kek...</td>\n      <td>411565</td>\n      <td>460738</td>\n      <td></td>\n      <td>3998122</td>\n      <td>none</td>\n      <td>db</td>\n      <td>7622300491215</td>\n      <td>False</td>\n      <td>...</td>\n      <td>[]</td>\n      <td>{'images': ['https://ahuazurewebblob0.azureedg...</td>\n      <td>[description, ingredients, parameterList, nutr...</td>\n      <td>False</td>\n      <td>[]</td>\n      <td></td>\n      <td>KG</td>\n      <td>0.246</td>\n      <td>NaN</td>\n      <td>NaN</td>\n    </tr>\n    <tr>\n      <th>98211</th>\n      <td>46400</td>\n      <td>Stühmer ír krémlikőr ízű szaloncukor 340 g</td>\n      <td>752237</td>\n      <td>46328</td>\n      <td></td>\n      <td>46400</td>\n      <td>none</td>\n      <td>db</td>\n      <td>5999565690366</td>\n      <td>False</td>\n      <td>...</td>\n      <td>[{'flag': 'flag_domestic_processed', 'name': '...</td>\n      <td>{'images': ['https://ahuazurewebblob0.azureedg...</td>\n      <td>[description, ingredients, nutrition, allergens]</td>\n      <td>False</td>\n      <td>[]</td>\n      <td></td>\n      <td>KG</td>\n      <td>0.350</td>\n      <td>NaN</td>\n      <td>NaN</td>\n    </tr>\n    <tr>\n      <th>98213</th>\n      <td>4060729</td>\n      <td>Stühmer Lellei konyakmeggy - Kézzel készített ...</td>\n      <td>520062</td>\n      <td>523339</td>\n      <td></td>\n      <td>4060729</td>\n      <td>none</td>\n      <td>db</td>\n      <td>5999860092438</td>\n      <td>False</td>\n      <td>...</td>\n      <td>[{'flag': 'flag_domestic_processed', 'name': '...</td>\n      <td>{'images': ['https://ahuazurewebblob0.azureedg...</td>\n      <td>[description, ingredients, nutrition, allergens]</td>\n      <td>False</td>\n      <td>[]</td>\n      <td></td>\n      <td>KG</td>\n      <td>0.300</td>\n      <td>NaN</td>\n      <td>NaN</td>\n    </tr>\n  </tbody>\n</table>\n<p>32302 rows × 22 columns</p>\n</div>"
     },
     "execution_count": 12,
     "metadata": {},
     "output_type": "execute_result"
    }
   ],
   "source": [
    "df_variants.drop_duplicates(subset=[\"id\"], inplace=True)\n",
    "df_products.drop_duplicates(subset=[\"id\"], inplace=True)\n",
    "df_prices.drop_duplicates(subset=[\"id\"], inplace=True)\n",
    "df_variants"
   ],
   "metadata": {
    "collapsed": false,
    "pycharm": {
     "name": "#%%\n"
    }
   }
  },
  {
   "cell_type": "code",
   "execution_count": 13,
   "outputs": [],
   "source": [
    "assert len(df_products) == len(df_variants) == len(df_prices)"
   ],
   "metadata": {
    "collapsed": false,
    "pycharm": {
     "name": "#%%\n"
    }
   }
  },
  {
   "cell_type": "code",
   "execution_count": 14,
   "outputs": [],
   "source": [
    "df_variants.to_csv(f\"../databases/csv/{DATE}/variants_raw.csv\", escapechar=\"\\\\\", compression='xz')\n",
    "df_products.to_csv(f\"../databases/csv/{DATE}/products_raw.csv\", escapechar=\"\\\\\", compression='xz')\n",
    "df_prices.to_csv(f\"../databases/csv/{DATE}/prices_raw.csv\", escapechar=\"\\\\\", compression='xz')"
   ],
   "metadata": {
    "collapsed": false,
    "pycharm": {
     "name": "#%%\n"
    }
   }
  },
  {
   "cell_type": "code",
   "execution_count": 15,
   "outputs": [
    {
     "data": {
      "text/plain": "Empty DataFrame\nColumns: [id, name, sku, productId, addedName, selectValue, status, unit, eanCode, aided, cartInfo, loose, flags, media, details, isInVirtualStock, shoppingListsContain, offerType, packageUnit, packageSize, roll, itemVolumeInfo]\nIndex: []\n\n[0 rows x 22 columns]",
      "text/html": "<div>\n<style scoped>\n    .dataframe tbody tr th:only-of-type {\n        vertical-align: middle;\n    }\n\n    .dataframe tbody tr th {\n        vertical-align: top;\n    }\n\n    .dataframe thead th {\n        text-align: right;\n    }\n</style>\n<table border=\"1\" class=\"dataframe\">\n  <thead>\n    <tr style=\"text-align: right;\">\n      <th></th>\n      <th>id</th>\n      <th>name</th>\n      <th>sku</th>\n      <th>productId</th>\n      <th>addedName</th>\n      <th>selectValue</th>\n      <th>status</th>\n      <th>unit</th>\n      <th>eanCode</th>\n      <th>aided</th>\n      <th>...</th>\n      <th>flags</th>\n      <th>media</th>\n      <th>details</th>\n      <th>isInVirtualStock</th>\n      <th>shoppingListsContain</th>\n      <th>offerType</th>\n      <th>packageUnit</th>\n      <th>packageSize</th>\n      <th>roll</th>\n      <th>itemVolumeInfo</th>\n    </tr>\n  </thead>\n  <tbody>\n  </tbody>\n</table>\n<p>0 rows × 22 columns</p>\n</div>"
     },
     "execution_count": 15,
     "metadata": {},
     "output_type": "execute_result"
    }
   ],
   "source": [
    "df_variants.loc[df_variants[\"details\"].str.contains(\"allergens\").fillna(False)]"
   ],
   "metadata": {
    "collapsed": false,
    "pycharm": {
     "name": "#%%\n"
    }
   }
  },
  {
   "cell_type": "code",
   "execution_count": 16,
   "outputs": [
    {
     "data": {
      "text/plain": "0          NaN\n1          NaN\n2          NaN\n3          NaN\n4          NaN\n         ...  \n98205    False\n98206    False\n98209    False\n98211    False\n98213    False\nName: details, Length: 32302, dtype: object"
     },
     "execution_count": 16,
     "metadata": {},
     "output_type": "execute_result"
    }
   ],
   "source": [
    "df_variants[\"details\"].str[2].str.contains(\"allergens\")"
   ],
   "metadata": {
    "collapsed": false,
    "pycharm": {
     "name": "#%%\n"
    }
   }
  },
  {
   "cell_type": "code",
   "execution_count": 17,
   "outputs": [
    {
     "data": {
      "text/plain": "17         31879\n18       4039889\n22         27982\n28       4038599\n30         11428\n          ...   \n98205    3998149\n98206    3998137\n98209    3998122\n98211      46400\n98213    4060729\nName: id, Length: 7825, dtype: int64"
     },
     "execution_count": 17,
     "metadata": {},
     "output_type": "execute_result"
    }
   ],
   "source": [
    "df_variants.loc[df_variants[\"details\"].str[-1] == \"allergens\", \"id\"]"
   ],
   "metadata": {
    "collapsed": false,
    "pycharm": {
     "name": "#%%\n"
    }
   }
  },
  {
   "cell_type": "code",
   "execution_count": 18,
   "outputs": [],
   "source": [
    "df_variants = pd.read_csv(f\"../databases/csv/{DATE}/variants_raw.csv\", index_col=0, compression='xz')\n",
    "df_products = pd.read_csv(f\"../databases/csv/{DATE}/products_raw.csv\", index_col=0, compression='xz')\n",
    "df_prices = pd.read_csv(f\"../databases/csv/{DATE}/prices_raw.csv\", index_col=0, compression='xz')"
   ],
   "metadata": {
    "collapsed": false,
    "pycharm": {
     "name": "#%%\n"
    }
   }
  },
  {
   "cell_type": "code",
   "execution_count": 19,
   "outputs": [
    {
     "data": {
      "text/plain": "           id  categoryId         categoryName brandName  defaultVariant  \\\n0       55032       11909  Száraz macskaeledel  FRISKIES           55371   \n1      489276       11909  Száraz macskaeledel  PreVital         4026669   \n2      489279       11909  Száraz macskaeledel  PreVital         4026672   \n3      489282       11909  Száraz macskaeledel  PreVital         4026675   \n4      489285       11909  Száraz macskaeledel  PreVital         4026678   \n...       ...         ...                  ...       ...             ...   \n98205  460765        6837                  NaN     Milka         3998149   \n98206  460753        6837                  NaN     Milka         3998137   \n98209  460738        5791                  NaN     Milka         3998122   \n98211   46328        6837                  NaN   STÜHMER           46400   \n98213  523339        6837                  NaN   STÜHMER         4060729   \n\n       selectedVariant        eancode                               usedItem  \\\n0                55371  7613033000201  {'canReturn': False, 'return': False}   \n1              4026669  5999566111235  {'canReturn': False, 'return': False}   \n2              4026672  5999566111228  {'canReturn': False, 'return': False}   \n3              4026675  5999566111259  {'canReturn': False, 'return': False}   \n4              4026678  5999566111242  {'canReturn': False, 'return': False}   \n...                ...            ...                                    ...   \n98205          3998149  7622201125325  {'canReturn': False, 'return': False}   \n98206          3998137  7622201125363  {'canReturn': False, 'return': False}   \n98209          3998122  7622300491215  {'canReturn': False, 'return': False}   \n98211            46400  5999565690366  {'canReturn': False, 'return': False}   \n98213          4060729  5999860092438  {'canReturn': False, 'return': False}   \n\n      reviewable                      reviewSum  \\\n0          login  {'sumCount': 0, 'average': 0}   \n1          login  {'sumCount': 0, 'average': 0}   \n2          login  {'sumCount': 0, 'average': 0}   \n3          login  {'sumCount': 0, 'average': 0}   \n4          login  {'sumCount': 0, 'average': 0}   \n...          ...                            ...   \n98205      login  {'sumCount': 0, 'average': 0}   \n98206      login  {'sumCount': 0, 'average': 0}   \n98209      login  {'sumCount': 0, 'average': 0}   \n98211      login  {'sumCount': 0, 'average': 0}   \n98213      login  {'sumCount': 0, 'average': 0}   \n\n                                              categories inCategories  \\\n0      [{'id': 12617, 'name': 'Állateledel, Otthon, H...      [11909]   \n1      [{'id': 12617, 'name': 'Állateledel, Otthon, H...      [11909]   \n2      [{'id': 12617, 'name': 'Állateledel, Otthon, H...      [11909]   \n3      [{'id': 12617, 'name': 'Állateledel, Otthon, H...      [11909]   \n4      [{'id': 12617, 'name': 'Állateledel, Otthon, H...      [11909]   \n...                                                  ...          ...   \n98205                                                 []      [14227]   \n98206                                                 []      [14227]   \n98209                                                 []      [14227]   \n98211                                                 []      [14227]   \n98213                                                 []      [14227]   \n\n       isNewProduct stockInfos  adultsOnly  shipmentDays  ageConfirmed  \\\n0             False         []       False             0         False   \n1             False         []       False             0         False   \n2             False         []       False             0         False   \n3             False         []       False             0         False   \n4             False         []       False             0         False   \n...             ...        ...         ...           ...           ...   \n98205         False         []       False             1         False   \n98206         False         []       False             1         False   \n98209         False         []       False             1         False   \n98211         False         []       False             1         False   \n98213         False         []       False             1         False   \n\n       isNonFood documents  extraWeightPrice  \n0          False        []               NaN  \n1          False        []               NaN  \n2          False        []               NaN  \n3          False        []               NaN  \n4          False        []               NaN  \n...          ...       ...               ...  \n98205      False        []               NaN  \n98206      False        []               NaN  \n98209      False        []               NaN  \n98211      False        []               NaN  \n98213      False        []               NaN  \n\n[32302 rows x 20 columns]",
      "text/html": "<div>\n<style scoped>\n    .dataframe tbody tr th:only-of-type {\n        vertical-align: middle;\n    }\n\n    .dataframe tbody tr th {\n        vertical-align: top;\n    }\n\n    .dataframe thead th {\n        text-align: right;\n    }\n</style>\n<table border=\"1\" class=\"dataframe\">\n  <thead>\n    <tr style=\"text-align: right;\">\n      <th></th>\n      <th>id</th>\n      <th>categoryId</th>\n      <th>categoryName</th>\n      <th>brandName</th>\n      <th>defaultVariant</th>\n      <th>selectedVariant</th>\n      <th>eancode</th>\n      <th>usedItem</th>\n      <th>reviewable</th>\n      <th>reviewSum</th>\n      <th>categories</th>\n      <th>inCategories</th>\n      <th>isNewProduct</th>\n      <th>stockInfos</th>\n      <th>adultsOnly</th>\n      <th>shipmentDays</th>\n      <th>ageConfirmed</th>\n      <th>isNonFood</th>\n      <th>documents</th>\n      <th>extraWeightPrice</th>\n    </tr>\n  </thead>\n  <tbody>\n    <tr>\n      <th>0</th>\n      <td>55032</td>\n      <td>11909</td>\n      <td>Száraz macskaeledel</td>\n      <td>FRISKIES</td>\n      <td>55371</td>\n      <td>55371</td>\n      <td>7613033000201</td>\n      <td>{'canReturn': False, 'return': False}</td>\n      <td>login</td>\n      <td>{'sumCount': 0, 'average': 0}</td>\n      <td>[{'id': 12617, 'name': 'Állateledel, Otthon, H...</td>\n      <td>[11909]</td>\n      <td>False</td>\n      <td>[]</td>\n      <td>False</td>\n      <td>0</td>\n      <td>False</td>\n      <td>False</td>\n      <td>[]</td>\n      <td>NaN</td>\n    </tr>\n    <tr>\n      <th>1</th>\n      <td>489276</td>\n      <td>11909</td>\n      <td>Száraz macskaeledel</td>\n      <td>PreVital</td>\n      <td>4026669</td>\n      <td>4026669</td>\n      <td>5999566111235</td>\n      <td>{'canReturn': False, 'return': False}</td>\n      <td>login</td>\n      <td>{'sumCount': 0, 'average': 0}</td>\n      <td>[{'id': 12617, 'name': 'Állateledel, Otthon, H...</td>\n      <td>[11909]</td>\n      <td>False</td>\n      <td>[]</td>\n      <td>False</td>\n      <td>0</td>\n      <td>False</td>\n      <td>False</td>\n      <td>[]</td>\n      <td>NaN</td>\n    </tr>\n    <tr>\n      <th>2</th>\n      <td>489279</td>\n      <td>11909</td>\n      <td>Száraz macskaeledel</td>\n      <td>PreVital</td>\n      <td>4026672</td>\n      <td>4026672</td>\n      <td>5999566111228</td>\n      <td>{'canReturn': False, 'return': False}</td>\n      <td>login</td>\n      <td>{'sumCount': 0, 'average': 0}</td>\n      <td>[{'id': 12617, 'name': 'Állateledel, Otthon, H...</td>\n      <td>[11909]</td>\n      <td>False</td>\n      <td>[]</td>\n      <td>False</td>\n      <td>0</td>\n      <td>False</td>\n      <td>False</td>\n      <td>[]</td>\n      <td>NaN</td>\n    </tr>\n    <tr>\n      <th>3</th>\n      <td>489282</td>\n      <td>11909</td>\n      <td>Száraz macskaeledel</td>\n      <td>PreVital</td>\n      <td>4026675</td>\n      <td>4026675</td>\n      <td>5999566111259</td>\n      <td>{'canReturn': False, 'return': False}</td>\n      <td>login</td>\n      <td>{'sumCount': 0, 'average': 0}</td>\n      <td>[{'id': 12617, 'name': 'Állateledel, Otthon, H...</td>\n      <td>[11909]</td>\n      <td>False</td>\n      <td>[]</td>\n      <td>False</td>\n      <td>0</td>\n      <td>False</td>\n      <td>False</td>\n      <td>[]</td>\n      <td>NaN</td>\n    </tr>\n    <tr>\n      <th>4</th>\n      <td>489285</td>\n      <td>11909</td>\n      <td>Száraz macskaeledel</td>\n      <td>PreVital</td>\n      <td>4026678</td>\n      <td>4026678</td>\n      <td>5999566111242</td>\n      <td>{'canReturn': False, 'return': False}</td>\n      <td>login</td>\n      <td>{'sumCount': 0, 'average': 0}</td>\n      <td>[{'id': 12617, 'name': 'Állateledel, Otthon, H...</td>\n      <td>[11909]</td>\n      <td>False</td>\n      <td>[]</td>\n      <td>False</td>\n      <td>0</td>\n      <td>False</td>\n      <td>False</td>\n      <td>[]</td>\n      <td>NaN</td>\n    </tr>\n    <tr>\n      <th>...</th>\n      <td>...</td>\n      <td>...</td>\n      <td>...</td>\n      <td>...</td>\n      <td>...</td>\n      <td>...</td>\n      <td>...</td>\n      <td>...</td>\n      <td>...</td>\n      <td>...</td>\n      <td>...</td>\n      <td>...</td>\n      <td>...</td>\n      <td>...</td>\n      <td>...</td>\n      <td>...</td>\n      <td>...</td>\n      <td>...</td>\n      <td>...</td>\n      <td>...</td>\n    </tr>\n    <tr>\n      <th>98205</th>\n      <td>460765</td>\n      <td>6837</td>\n      <td>NaN</td>\n      <td>Milka</td>\n      <td>3998149</td>\n      <td>3998149</td>\n      <td>7622201125325</td>\n      <td>{'canReturn': False, 'return': False}</td>\n      <td>login</td>\n      <td>{'sumCount': 0, 'average': 0}</td>\n      <td>[]</td>\n      <td>[14227]</td>\n      <td>False</td>\n      <td>[]</td>\n      <td>False</td>\n      <td>1</td>\n      <td>False</td>\n      <td>False</td>\n      <td>[]</td>\n      <td>NaN</td>\n    </tr>\n    <tr>\n      <th>98206</th>\n      <td>460753</td>\n      <td>6837</td>\n      <td>NaN</td>\n      <td>Milka</td>\n      <td>3998137</td>\n      <td>3998137</td>\n      <td>7622201125363</td>\n      <td>{'canReturn': False, 'return': False}</td>\n      <td>login</td>\n      <td>{'sumCount': 0, 'average': 0}</td>\n      <td>[]</td>\n      <td>[14227]</td>\n      <td>False</td>\n      <td>[]</td>\n      <td>False</td>\n      <td>1</td>\n      <td>False</td>\n      <td>False</td>\n      <td>[]</td>\n      <td>NaN</td>\n    </tr>\n    <tr>\n      <th>98209</th>\n      <td>460738</td>\n      <td>5791</td>\n      <td>NaN</td>\n      <td>Milka</td>\n      <td>3998122</td>\n      <td>3998122</td>\n      <td>7622300491215</td>\n      <td>{'canReturn': False, 'return': False}</td>\n      <td>login</td>\n      <td>{'sumCount': 0, 'average': 0}</td>\n      <td>[]</td>\n      <td>[14227]</td>\n      <td>False</td>\n      <td>[]</td>\n      <td>False</td>\n      <td>1</td>\n      <td>False</td>\n      <td>False</td>\n      <td>[]</td>\n      <td>NaN</td>\n    </tr>\n    <tr>\n      <th>98211</th>\n      <td>46328</td>\n      <td>6837</td>\n      <td>NaN</td>\n      <td>STÜHMER</td>\n      <td>46400</td>\n      <td>46400</td>\n      <td>5999565690366</td>\n      <td>{'canReturn': False, 'return': False}</td>\n      <td>login</td>\n      <td>{'sumCount': 0, 'average': 0}</td>\n      <td>[]</td>\n      <td>[14227]</td>\n      <td>False</td>\n      <td>[]</td>\n      <td>False</td>\n      <td>1</td>\n      <td>False</td>\n      <td>False</td>\n      <td>[]</td>\n      <td>NaN</td>\n    </tr>\n    <tr>\n      <th>98213</th>\n      <td>523339</td>\n      <td>6837</td>\n      <td>NaN</td>\n      <td>STÜHMER</td>\n      <td>4060729</td>\n      <td>4060729</td>\n      <td>5999860092438</td>\n      <td>{'canReturn': False, 'return': False}</td>\n      <td>login</td>\n      <td>{'sumCount': 0, 'average': 0}</td>\n      <td>[]</td>\n      <td>[14227]</td>\n      <td>False</td>\n      <td>[]</td>\n      <td>False</td>\n      <td>1</td>\n      <td>False</td>\n      <td>False</td>\n      <td>[]</td>\n      <td>NaN</td>\n    </tr>\n  </tbody>\n</table>\n<p>32302 rows × 20 columns</p>\n</div>"
     },
     "execution_count": 19,
     "metadata": {},
     "output_type": "execute_result"
    }
   ],
   "source": [
    "df_products"
   ],
   "metadata": {
    "collapsed": false,
    "pycharm": {
     "name": "#%%\n"
    }
   }
  },
  {
   "cell_type": "code",
   "execution_count": 20,
   "outputs": [
    {
     "data": {
      "text/plain": "            id                                               name     sku  \\\n0        55371  Friskies Steril száraz macskaeledel lazaccal é...  541547   \n1      4026669  PreVital teljes értékű állateledel felnőtt mac...  465410   \n2      4026672  PreVital teljes értékű állateledel felnőtt mac...  465411   \n3      4026675  PreVital teljes értékű állateledel ivartalanít...  465412   \n4      4026678  PreVital teljes értékű állateledel lakásban va...  465413   \n...        ...                                                ...     ...   \n98205  3998149         Milka szaloncukor joghurtízű krémmel 310 g  411578   \n98206  3998137                  Milka szaloncukor válogatás 310 g  411573   \n98209  3998122  Oreo vaníliaízű töltelékkel töltött kakaós kek...  411565   \n98211    46400         Stühmer ír krémlikőr ízű szaloncukor 340 g  752237   \n98213  4060729  Stühmer Lellei konyakmeggy - Kézzel készített ...  520062   \n\n       productId addedName  selectValue status unit        eanCode  aided  \\\n0          55032       NaN        55371   none   db  7613033000201  False   \n1         489276       NaN      4026669   none   db  5999566111235  False   \n2         489279       NaN      4026672   none   db  5999566111228  False   \n3         489282       NaN      4026675   none   db  5999566111259  False   \n4         489285       NaN      4026678   none   db  5999566111242  False   \n...          ...       ...          ...    ...  ...            ...    ...   \n98205     460765       NaN      3998149   none   db  7622201125325  False   \n98206     460753       NaN      3998137   none   db  7622201125363  False   \n98209     460738       NaN      3998122   none   db  7622300491215  False   \n98211      46328       NaN        46400   none   db  5999565690366  False   \n98213     523339       NaN      4060729   none   db  5999860092438  False   \n\n       ...                                              flags  \\\n0      ...                                                 []   \n1      ...                                                 []   \n2      ...                                                 []   \n3      ...                                                 []   \n4      ...                                                 []   \n...    ...                                                ...   \n98205  ...                                                 []   \n98206  ...                                                 []   \n98209  ...                                                 []   \n98211  ...  [{'flag': 'flag_domestic_processed', 'name': '...   \n98213  ...  [{'flag': 'flag_domestic_processed', 'name': '...   \n\n                                                   media  \\\n0      {'images': ['https://ahuazurewebblob0.azureedg...   \n1      {'images': ['https://ahuazurewebblob0.azureedg...   \n2      {'images': ['https://ahuazurewebblob0.azureedg...   \n3      {'images': ['https://ahuazurewebblob0.azureedg...   \n4      {'images': ['https://ahuazurewebblob0.azureedg...   \n...                                                  ...   \n98205  {'images': ['https://ahuazurewebblob0.azureedg...   \n98206  {'images': ['https://ahuazurewebblob0.azureedg...   \n98209  {'images': ['https://ahuazurewebblob0.azureedg...   \n98211  {'images': ['https://ahuazurewebblob0.azureedg...   \n98213  {'images': ['https://ahuazurewebblob0.azureedg...   \n\n                                                 details isInVirtualStock  \\\n0                         ['description', 'ingredients']            False   \n1                         ['description', 'ingredients']            False   \n2                         ['description', 'ingredients']            False   \n3                         ['description', 'ingredients']            False   \n4                         ['description', 'ingredients']            False   \n...                                                  ...              ...   \n98205  ['description', 'ingredients', 'nutrition', 'a...            False   \n98206  ['description', 'ingredients', 'nutrition', 'a...            False   \n98209  ['description', 'ingredients', 'parameterList'...            False   \n98211  ['description', 'ingredients', 'nutrition', 'a...            False   \n98213  ['description', 'ingredients', 'nutrition', 'a...            False   \n\n      shoppingListsContain  offerType packageUnit packageSize roll  \\\n0                       []        NaN          KG       0.300  NaN   \n1                       []        NaN          KG       0.300  NaN   \n2                       []        NaN          KG       0.300  NaN   \n3                       []        NaN          KG       0.300  NaN   \n4                       []        NaN          KG       0.300  NaN   \n...                    ...        ...         ...         ...  ...   \n98205                   []        NaN          KG       0.310  NaN   \n98206                   []        NaN          KG       0.310  NaN   \n98209                   []        NaN          KG       0.246  NaN   \n98211                   []        NaN          KG       0.350  NaN   \n98213                   []        NaN          KG       0.300  NaN   \n\n       itemVolumeInfo  \n0                 NaN  \n1                 NaN  \n2                 NaN  \n3                 NaN  \n4                 NaN  \n...               ...  \n98205             NaN  \n98206             NaN  \n98209             NaN  \n98211             NaN  \n98213             NaN  \n\n[32302 rows x 22 columns]",
      "text/html": "<div>\n<style scoped>\n    .dataframe tbody tr th:only-of-type {\n        vertical-align: middle;\n    }\n\n    .dataframe tbody tr th {\n        vertical-align: top;\n    }\n\n    .dataframe thead th {\n        text-align: right;\n    }\n</style>\n<table border=\"1\" class=\"dataframe\">\n  <thead>\n    <tr style=\"text-align: right;\">\n      <th></th>\n      <th>id</th>\n      <th>name</th>\n      <th>sku</th>\n      <th>productId</th>\n      <th>addedName</th>\n      <th>selectValue</th>\n      <th>status</th>\n      <th>unit</th>\n      <th>eanCode</th>\n      <th>aided</th>\n      <th>...</th>\n      <th>flags</th>\n      <th>media</th>\n      <th>details</th>\n      <th>isInVirtualStock</th>\n      <th>shoppingListsContain</th>\n      <th>offerType</th>\n      <th>packageUnit</th>\n      <th>packageSize</th>\n      <th>roll</th>\n      <th>itemVolumeInfo</th>\n    </tr>\n  </thead>\n  <tbody>\n    <tr>\n      <th>0</th>\n      <td>55371</td>\n      <td>Friskies Steril száraz macskaeledel lazaccal é...</td>\n      <td>541547</td>\n      <td>55032</td>\n      <td>NaN</td>\n      <td>55371</td>\n      <td>none</td>\n      <td>db</td>\n      <td>7613033000201</td>\n      <td>False</td>\n      <td>...</td>\n      <td>[]</td>\n      <td>{'images': ['https://ahuazurewebblob0.azureedg...</td>\n      <td>['description', 'ingredients']</td>\n      <td>False</td>\n      <td>[]</td>\n      <td>NaN</td>\n      <td>KG</td>\n      <td>0.300</td>\n      <td>NaN</td>\n      <td>NaN</td>\n    </tr>\n    <tr>\n      <th>1</th>\n      <td>4026669</td>\n      <td>PreVital teljes értékű állateledel felnőtt mac...</td>\n      <td>465410</td>\n      <td>489276</td>\n      <td>NaN</td>\n      <td>4026669</td>\n      <td>none</td>\n      <td>db</td>\n      <td>5999566111235</td>\n      <td>False</td>\n      <td>...</td>\n      <td>[]</td>\n      <td>{'images': ['https://ahuazurewebblob0.azureedg...</td>\n      <td>['description', 'ingredients']</td>\n      <td>False</td>\n      <td>[]</td>\n      <td>NaN</td>\n      <td>KG</td>\n      <td>0.300</td>\n      <td>NaN</td>\n      <td>NaN</td>\n    </tr>\n    <tr>\n      <th>2</th>\n      <td>4026672</td>\n      <td>PreVital teljes értékű állateledel felnőtt mac...</td>\n      <td>465411</td>\n      <td>489279</td>\n      <td>NaN</td>\n      <td>4026672</td>\n      <td>none</td>\n      <td>db</td>\n      <td>5999566111228</td>\n      <td>False</td>\n      <td>...</td>\n      <td>[]</td>\n      <td>{'images': ['https://ahuazurewebblob0.azureedg...</td>\n      <td>['description', 'ingredients']</td>\n      <td>False</td>\n      <td>[]</td>\n      <td>NaN</td>\n      <td>KG</td>\n      <td>0.300</td>\n      <td>NaN</td>\n      <td>NaN</td>\n    </tr>\n    <tr>\n      <th>3</th>\n      <td>4026675</td>\n      <td>PreVital teljes értékű állateledel ivartalanít...</td>\n      <td>465412</td>\n      <td>489282</td>\n      <td>NaN</td>\n      <td>4026675</td>\n      <td>none</td>\n      <td>db</td>\n      <td>5999566111259</td>\n      <td>False</td>\n      <td>...</td>\n      <td>[]</td>\n      <td>{'images': ['https://ahuazurewebblob0.azureedg...</td>\n      <td>['description', 'ingredients']</td>\n      <td>False</td>\n      <td>[]</td>\n      <td>NaN</td>\n      <td>KG</td>\n      <td>0.300</td>\n      <td>NaN</td>\n      <td>NaN</td>\n    </tr>\n    <tr>\n      <th>4</th>\n      <td>4026678</td>\n      <td>PreVital teljes értékű állateledel lakásban va...</td>\n      <td>465413</td>\n      <td>489285</td>\n      <td>NaN</td>\n      <td>4026678</td>\n      <td>none</td>\n      <td>db</td>\n      <td>5999566111242</td>\n      <td>False</td>\n      <td>...</td>\n      <td>[]</td>\n      <td>{'images': ['https://ahuazurewebblob0.azureedg...</td>\n      <td>['description', 'ingredients']</td>\n      <td>False</td>\n      <td>[]</td>\n      <td>NaN</td>\n      <td>KG</td>\n      <td>0.300</td>\n      <td>NaN</td>\n      <td>NaN</td>\n    </tr>\n    <tr>\n      <th>...</th>\n      <td>...</td>\n      <td>...</td>\n      <td>...</td>\n      <td>...</td>\n      <td>...</td>\n      <td>...</td>\n      <td>...</td>\n      <td>...</td>\n      <td>...</td>\n      <td>...</td>\n      <td>...</td>\n      <td>...</td>\n      <td>...</td>\n      <td>...</td>\n      <td>...</td>\n      <td>...</td>\n      <td>...</td>\n      <td>...</td>\n      <td>...</td>\n      <td>...</td>\n      <td>...</td>\n    </tr>\n    <tr>\n      <th>98205</th>\n      <td>3998149</td>\n      <td>Milka szaloncukor joghurtízű krémmel 310 g</td>\n      <td>411578</td>\n      <td>460765</td>\n      <td>NaN</td>\n      <td>3998149</td>\n      <td>none</td>\n      <td>db</td>\n      <td>7622201125325</td>\n      <td>False</td>\n      <td>...</td>\n      <td>[]</td>\n      <td>{'images': ['https://ahuazurewebblob0.azureedg...</td>\n      <td>['description', 'ingredients', 'nutrition', 'a...</td>\n      <td>False</td>\n      <td>[]</td>\n      <td>NaN</td>\n      <td>KG</td>\n      <td>0.310</td>\n      <td>NaN</td>\n      <td>NaN</td>\n    </tr>\n    <tr>\n      <th>98206</th>\n      <td>3998137</td>\n      <td>Milka szaloncukor válogatás 310 g</td>\n      <td>411573</td>\n      <td>460753</td>\n      <td>NaN</td>\n      <td>3998137</td>\n      <td>none</td>\n      <td>db</td>\n      <td>7622201125363</td>\n      <td>False</td>\n      <td>...</td>\n      <td>[]</td>\n      <td>{'images': ['https://ahuazurewebblob0.azureedg...</td>\n      <td>['description', 'ingredients', 'nutrition', 'a...</td>\n      <td>False</td>\n      <td>[]</td>\n      <td>NaN</td>\n      <td>KG</td>\n      <td>0.310</td>\n      <td>NaN</td>\n      <td>NaN</td>\n    </tr>\n    <tr>\n      <th>98209</th>\n      <td>3998122</td>\n      <td>Oreo vaníliaízű töltelékkel töltött kakaós kek...</td>\n      <td>411565</td>\n      <td>460738</td>\n      <td>NaN</td>\n      <td>3998122</td>\n      <td>none</td>\n      <td>db</td>\n      <td>7622300491215</td>\n      <td>False</td>\n      <td>...</td>\n      <td>[]</td>\n      <td>{'images': ['https://ahuazurewebblob0.azureedg...</td>\n      <td>['description', 'ingredients', 'parameterList'...</td>\n      <td>False</td>\n      <td>[]</td>\n      <td>NaN</td>\n      <td>KG</td>\n      <td>0.246</td>\n      <td>NaN</td>\n      <td>NaN</td>\n    </tr>\n    <tr>\n      <th>98211</th>\n      <td>46400</td>\n      <td>Stühmer ír krémlikőr ízű szaloncukor 340 g</td>\n      <td>752237</td>\n      <td>46328</td>\n      <td>NaN</td>\n      <td>46400</td>\n      <td>none</td>\n      <td>db</td>\n      <td>5999565690366</td>\n      <td>False</td>\n      <td>...</td>\n      <td>[{'flag': 'flag_domestic_processed', 'name': '...</td>\n      <td>{'images': ['https://ahuazurewebblob0.azureedg...</td>\n      <td>['description', 'ingredients', 'nutrition', 'a...</td>\n      <td>False</td>\n      <td>[]</td>\n      <td>NaN</td>\n      <td>KG</td>\n      <td>0.350</td>\n      <td>NaN</td>\n      <td>NaN</td>\n    </tr>\n    <tr>\n      <th>98213</th>\n      <td>4060729</td>\n      <td>Stühmer Lellei konyakmeggy - Kézzel készített ...</td>\n      <td>520062</td>\n      <td>523339</td>\n      <td>NaN</td>\n      <td>4060729</td>\n      <td>none</td>\n      <td>db</td>\n      <td>5999860092438</td>\n      <td>False</td>\n      <td>...</td>\n      <td>[{'flag': 'flag_domestic_processed', 'name': '...</td>\n      <td>{'images': ['https://ahuazurewebblob0.azureedg...</td>\n      <td>['description', 'ingredients', 'nutrition', 'a...</td>\n      <td>False</td>\n      <td>[]</td>\n      <td>NaN</td>\n      <td>KG</td>\n      <td>0.300</td>\n      <td>NaN</td>\n      <td>NaN</td>\n    </tr>\n  </tbody>\n</table>\n<p>32302 rows × 22 columns</p>\n</div>"
     },
     "execution_count": 20,
     "metadata": {},
     "output_type": "execute_result"
    }
   ],
   "source": [
    "df_variants"
   ],
   "metadata": {
    "collapsed": false,
    "pycharm": {
     "name": "#%%\n"
    }
   }
  },
  {
   "cell_type": "code",
   "execution_count": 21,
   "outputs": [
    {
     "ename": "FileNotFoundError",
     "evalue": "[Errno 2] No such file or directory: '../databases/csv/2022-12-19/nutritions_raw.csv'",
     "output_type": "error",
     "traceback": [
      "\u001B[0;31m---------------------------------------------------------------------------\u001B[0m",
      "\u001B[0;31mFileNotFoundError\u001B[0m                         Traceback (most recent call last)",
      "Cell \u001B[0;32mIn[21], line 1\u001B[0m\n\u001B[0;32m----> 1\u001B[0m df_nutritions \u001B[38;5;241m=\u001B[39m \u001B[43mpd\u001B[49m\u001B[38;5;241;43m.\u001B[39;49m\u001B[43mread_csv\u001B[49m\u001B[43m(\u001B[49m\u001B[38;5;124;43m\"\u001B[39;49m\u001B[38;5;124;43m../databases/csv/2022-12-19/nutritions_raw.csv\u001B[39;49m\u001B[38;5;124;43m\"\u001B[39;49m\u001B[43m,\u001B[49m\u001B[43m \u001B[49m\u001B[43mindex_col\u001B[49m\u001B[38;5;241;43m=\u001B[39;49m\u001B[38;5;241;43m0\u001B[39;49m\u001B[43m)\u001B[49m\n",
      "File \u001B[0;32m~/PycharmProjects/auchan_crawler/venv/lib/python3.10/site-packages/pandas/util/_decorators.py:211\u001B[0m, in \u001B[0;36mdeprecate_kwarg.<locals>._deprecate_kwarg.<locals>.wrapper\u001B[0;34m(*args, **kwargs)\u001B[0m\n\u001B[1;32m    209\u001B[0m     \u001B[38;5;28;01melse\u001B[39;00m:\n\u001B[1;32m    210\u001B[0m         kwargs[new_arg_name] \u001B[38;5;241m=\u001B[39m new_arg_value\n\u001B[0;32m--> 211\u001B[0m \u001B[38;5;28;01mreturn\u001B[39;00m \u001B[43mfunc\u001B[49m\u001B[43m(\u001B[49m\u001B[38;5;241;43m*\u001B[39;49m\u001B[43margs\u001B[49m\u001B[43m,\u001B[49m\u001B[43m \u001B[49m\u001B[38;5;241;43m*\u001B[39;49m\u001B[38;5;241;43m*\u001B[39;49m\u001B[43mkwargs\u001B[49m\u001B[43m)\u001B[49m\n",
      "File \u001B[0;32m~/PycharmProjects/auchan_crawler/venv/lib/python3.10/site-packages/pandas/util/_decorators.py:331\u001B[0m, in \u001B[0;36mdeprecate_nonkeyword_arguments.<locals>.decorate.<locals>.wrapper\u001B[0;34m(*args, **kwargs)\u001B[0m\n\u001B[1;32m    325\u001B[0m \u001B[38;5;28;01mif\u001B[39;00m \u001B[38;5;28mlen\u001B[39m(args) \u001B[38;5;241m>\u001B[39m num_allow_args:\n\u001B[1;32m    326\u001B[0m     warnings\u001B[38;5;241m.\u001B[39mwarn(\n\u001B[1;32m    327\u001B[0m         msg\u001B[38;5;241m.\u001B[39mformat(arguments\u001B[38;5;241m=\u001B[39m_format_argument_list(allow_args)),\n\u001B[1;32m    328\u001B[0m         \u001B[38;5;167;01mFutureWarning\u001B[39;00m,\n\u001B[1;32m    329\u001B[0m         stacklevel\u001B[38;5;241m=\u001B[39mfind_stack_level(),\n\u001B[1;32m    330\u001B[0m     )\n\u001B[0;32m--> 331\u001B[0m \u001B[38;5;28;01mreturn\u001B[39;00m \u001B[43mfunc\u001B[49m\u001B[43m(\u001B[49m\u001B[38;5;241;43m*\u001B[39;49m\u001B[43margs\u001B[49m\u001B[43m,\u001B[49m\u001B[43m \u001B[49m\u001B[38;5;241;43m*\u001B[39;49m\u001B[38;5;241;43m*\u001B[39;49m\u001B[43mkwargs\u001B[49m\u001B[43m)\u001B[49m\n",
      "File \u001B[0;32m~/PycharmProjects/auchan_crawler/venv/lib/python3.10/site-packages/pandas/io/parsers/readers.py:950\u001B[0m, in \u001B[0;36mread_csv\u001B[0;34m(filepath_or_buffer, sep, delimiter, header, names, index_col, usecols, squeeze, prefix, mangle_dupe_cols, dtype, engine, converters, true_values, false_values, skipinitialspace, skiprows, skipfooter, nrows, na_values, keep_default_na, na_filter, verbose, skip_blank_lines, parse_dates, infer_datetime_format, keep_date_col, date_parser, dayfirst, cache_dates, iterator, chunksize, compression, thousands, decimal, lineterminator, quotechar, quoting, doublequote, escapechar, comment, encoding, encoding_errors, dialect, error_bad_lines, warn_bad_lines, on_bad_lines, delim_whitespace, low_memory, memory_map, float_precision, storage_options)\u001B[0m\n\u001B[1;32m    935\u001B[0m kwds_defaults \u001B[38;5;241m=\u001B[39m _refine_defaults_read(\n\u001B[1;32m    936\u001B[0m     dialect,\n\u001B[1;32m    937\u001B[0m     delimiter,\n\u001B[0;32m   (...)\u001B[0m\n\u001B[1;32m    946\u001B[0m     defaults\u001B[38;5;241m=\u001B[39m{\u001B[38;5;124m\"\u001B[39m\u001B[38;5;124mdelimiter\u001B[39m\u001B[38;5;124m\"\u001B[39m: \u001B[38;5;124m\"\u001B[39m\u001B[38;5;124m,\u001B[39m\u001B[38;5;124m\"\u001B[39m},\n\u001B[1;32m    947\u001B[0m )\n\u001B[1;32m    948\u001B[0m kwds\u001B[38;5;241m.\u001B[39mupdate(kwds_defaults)\n\u001B[0;32m--> 950\u001B[0m \u001B[38;5;28;01mreturn\u001B[39;00m \u001B[43m_read\u001B[49m\u001B[43m(\u001B[49m\u001B[43mfilepath_or_buffer\u001B[49m\u001B[43m,\u001B[49m\u001B[43m \u001B[49m\u001B[43mkwds\u001B[49m\u001B[43m)\u001B[49m\n",
      "File \u001B[0;32m~/PycharmProjects/auchan_crawler/venv/lib/python3.10/site-packages/pandas/io/parsers/readers.py:605\u001B[0m, in \u001B[0;36m_read\u001B[0;34m(filepath_or_buffer, kwds)\u001B[0m\n\u001B[1;32m    602\u001B[0m _validate_names(kwds\u001B[38;5;241m.\u001B[39mget(\u001B[38;5;124m\"\u001B[39m\u001B[38;5;124mnames\u001B[39m\u001B[38;5;124m\"\u001B[39m, \u001B[38;5;28;01mNone\u001B[39;00m))\n\u001B[1;32m    604\u001B[0m \u001B[38;5;66;03m# Create the parser.\u001B[39;00m\n\u001B[0;32m--> 605\u001B[0m parser \u001B[38;5;241m=\u001B[39m \u001B[43mTextFileReader\u001B[49m\u001B[43m(\u001B[49m\u001B[43mfilepath_or_buffer\u001B[49m\u001B[43m,\u001B[49m\u001B[43m \u001B[49m\u001B[38;5;241;43m*\u001B[39;49m\u001B[38;5;241;43m*\u001B[39;49m\u001B[43mkwds\u001B[49m\u001B[43m)\u001B[49m\n\u001B[1;32m    607\u001B[0m \u001B[38;5;28;01mif\u001B[39;00m chunksize \u001B[38;5;129;01mor\u001B[39;00m iterator:\n\u001B[1;32m    608\u001B[0m     \u001B[38;5;28;01mreturn\u001B[39;00m parser\n",
      "File \u001B[0;32m~/PycharmProjects/auchan_crawler/venv/lib/python3.10/site-packages/pandas/io/parsers/readers.py:1442\u001B[0m, in \u001B[0;36mTextFileReader.__init__\u001B[0;34m(self, f, engine, **kwds)\u001B[0m\n\u001B[1;32m   1439\u001B[0m     \u001B[38;5;28mself\u001B[39m\u001B[38;5;241m.\u001B[39moptions[\u001B[38;5;124m\"\u001B[39m\u001B[38;5;124mhas_index_names\u001B[39m\u001B[38;5;124m\"\u001B[39m] \u001B[38;5;241m=\u001B[39m kwds[\u001B[38;5;124m\"\u001B[39m\u001B[38;5;124mhas_index_names\u001B[39m\u001B[38;5;124m\"\u001B[39m]\n\u001B[1;32m   1441\u001B[0m \u001B[38;5;28mself\u001B[39m\u001B[38;5;241m.\u001B[39mhandles: IOHandles \u001B[38;5;241m|\u001B[39m \u001B[38;5;28;01mNone\u001B[39;00m \u001B[38;5;241m=\u001B[39m \u001B[38;5;28;01mNone\u001B[39;00m\n\u001B[0;32m-> 1442\u001B[0m \u001B[38;5;28mself\u001B[39m\u001B[38;5;241m.\u001B[39m_engine \u001B[38;5;241m=\u001B[39m \u001B[38;5;28;43mself\u001B[39;49m\u001B[38;5;241;43m.\u001B[39;49m\u001B[43m_make_engine\u001B[49m\u001B[43m(\u001B[49m\u001B[43mf\u001B[49m\u001B[43m,\u001B[49m\u001B[43m \u001B[49m\u001B[38;5;28;43mself\u001B[39;49m\u001B[38;5;241;43m.\u001B[39;49m\u001B[43mengine\u001B[49m\u001B[43m)\u001B[49m\n",
      "File \u001B[0;32m~/PycharmProjects/auchan_crawler/venv/lib/python3.10/site-packages/pandas/io/parsers/readers.py:1735\u001B[0m, in \u001B[0;36mTextFileReader._make_engine\u001B[0;34m(self, f, engine)\u001B[0m\n\u001B[1;32m   1733\u001B[0m     \u001B[38;5;28;01mif\u001B[39;00m \u001B[38;5;124m\"\u001B[39m\u001B[38;5;124mb\u001B[39m\u001B[38;5;124m\"\u001B[39m \u001B[38;5;129;01mnot\u001B[39;00m \u001B[38;5;129;01min\u001B[39;00m mode:\n\u001B[1;32m   1734\u001B[0m         mode \u001B[38;5;241m+\u001B[39m\u001B[38;5;241m=\u001B[39m \u001B[38;5;124m\"\u001B[39m\u001B[38;5;124mb\u001B[39m\u001B[38;5;124m\"\u001B[39m\n\u001B[0;32m-> 1735\u001B[0m \u001B[38;5;28mself\u001B[39m\u001B[38;5;241m.\u001B[39mhandles \u001B[38;5;241m=\u001B[39m \u001B[43mget_handle\u001B[49m\u001B[43m(\u001B[49m\n\u001B[1;32m   1736\u001B[0m \u001B[43m    \u001B[49m\u001B[43mf\u001B[49m\u001B[43m,\u001B[49m\n\u001B[1;32m   1737\u001B[0m \u001B[43m    \u001B[49m\u001B[43mmode\u001B[49m\u001B[43m,\u001B[49m\n\u001B[1;32m   1738\u001B[0m \u001B[43m    \u001B[49m\u001B[43mencoding\u001B[49m\u001B[38;5;241;43m=\u001B[39;49m\u001B[38;5;28;43mself\u001B[39;49m\u001B[38;5;241;43m.\u001B[39;49m\u001B[43moptions\u001B[49m\u001B[38;5;241;43m.\u001B[39;49m\u001B[43mget\u001B[49m\u001B[43m(\u001B[49m\u001B[38;5;124;43m\"\u001B[39;49m\u001B[38;5;124;43mencoding\u001B[39;49m\u001B[38;5;124;43m\"\u001B[39;49m\u001B[43m,\u001B[49m\u001B[43m \u001B[49m\u001B[38;5;28;43;01mNone\u001B[39;49;00m\u001B[43m)\u001B[49m\u001B[43m,\u001B[49m\n\u001B[1;32m   1739\u001B[0m \u001B[43m    \u001B[49m\u001B[43mcompression\u001B[49m\u001B[38;5;241;43m=\u001B[39;49m\u001B[38;5;28;43mself\u001B[39;49m\u001B[38;5;241;43m.\u001B[39;49m\u001B[43moptions\u001B[49m\u001B[38;5;241;43m.\u001B[39;49m\u001B[43mget\u001B[49m\u001B[43m(\u001B[49m\u001B[38;5;124;43m\"\u001B[39;49m\u001B[38;5;124;43mcompression\u001B[39;49m\u001B[38;5;124;43m\"\u001B[39;49m\u001B[43m,\u001B[49m\u001B[43m \u001B[49m\u001B[38;5;28;43;01mNone\u001B[39;49;00m\u001B[43m)\u001B[49m\u001B[43m,\u001B[49m\n\u001B[1;32m   1740\u001B[0m \u001B[43m    \u001B[49m\u001B[43mmemory_map\u001B[49m\u001B[38;5;241;43m=\u001B[39;49m\u001B[38;5;28;43mself\u001B[39;49m\u001B[38;5;241;43m.\u001B[39;49m\u001B[43moptions\u001B[49m\u001B[38;5;241;43m.\u001B[39;49m\u001B[43mget\u001B[49m\u001B[43m(\u001B[49m\u001B[38;5;124;43m\"\u001B[39;49m\u001B[38;5;124;43mmemory_map\u001B[39;49m\u001B[38;5;124;43m\"\u001B[39;49m\u001B[43m,\u001B[49m\u001B[43m \u001B[49m\u001B[38;5;28;43;01mFalse\u001B[39;49;00m\u001B[43m)\u001B[49m\u001B[43m,\u001B[49m\n\u001B[1;32m   1741\u001B[0m \u001B[43m    \u001B[49m\u001B[43mis_text\u001B[49m\u001B[38;5;241;43m=\u001B[39;49m\u001B[43mis_text\u001B[49m\u001B[43m,\u001B[49m\n\u001B[1;32m   1742\u001B[0m \u001B[43m    \u001B[49m\u001B[43merrors\u001B[49m\u001B[38;5;241;43m=\u001B[39;49m\u001B[38;5;28;43mself\u001B[39;49m\u001B[38;5;241;43m.\u001B[39;49m\u001B[43moptions\u001B[49m\u001B[38;5;241;43m.\u001B[39;49m\u001B[43mget\u001B[49m\u001B[43m(\u001B[49m\u001B[38;5;124;43m\"\u001B[39;49m\u001B[38;5;124;43mencoding_errors\u001B[39;49m\u001B[38;5;124;43m\"\u001B[39;49m\u001B[43m,\u001B[49m\u001B[43m \u001B[49m\u001B[38;5;124;43m\"\u001B[39;49m\u001B[38;5;124;43mstrict\u001B[39;49m\u001B[38;5;124;43m\"\u001B[39;49m\u001B[43m)\u001B[49m\u001B[43m,\u001B[49m\n\u001B[1;32m   1743\u001B[0m \u001B[43m    \u001B[49m\u001B[43mstorage_options\u001B[49m\u001B[38;5;241;43m=\u001B[39;49m\u001B[38;5;28;43mself\u001B[39;49m\u001B[38;5;241;43m.\u001B[39;49m\u001B[43moptions\u001B[49m\u001B[38;5;241;43m.\u001B[39;49m\u001B[43mget\u001B[49m\u001B[43m(\u001B[49m\u001B[38;5;124;43m\"\u001B[39;49m\u001B[38;5;124;43mstorage_options\u001B[39;49m\u001B[38;5;124;43m\"\u001B[39;49m\u001B[43m,\u001B[49m\u001B[43m \u001B[49m\u001B[38;5;28;43;01mNone\u001B[39;49;00m\u001B[43m)\u001B[49m\u001B[43m,\u001B[49m\n\u001B[1;32m   1744\u001B[0m \u001B[43m\u001B[49m\u001B[43m)\u001B[49m\n\u001B[1;32m   1745\u001B[0m \u001B[38;5;28;01massert\u001B[39;00m \u001B[38;5;28mself\u001B[39m\u001B[38;5;241m.\u001B[39mhandles \u001B[38;5;129;01mis\u001B[39;00m \u001B[38;5;129;01mnot\u001B[39;00m \u001B[38;5;28;01mNone\u001B[39;00m\n\u001B[1;32m   1746\u001B[0m f \u001B[38;5;241m=\u001B[39m \u001B[38;5;28mself\u001B[39m\u001B[38;5;241m.\u001B[39mhandles\u001B[38;5;241m.\u001B[39mhandle\n",
      "File \u001B[0;32m~/PycharmProjects/auchan_crawler/venv/lib/python3.10/site-packages/pandas/io/common.py:856\u001B[0m, in \u001B[0;36mget_handle\u001B[0;34m(path_or_buf, mode, encoding, compression, memory_map, is_text, errors, storage_options)\u001B[0m\n\u001B[1;32m    851\u001B[0m \u001B[38;5;28;01melif\u001B[39;00m \u001B[38;5;28misinstance\u001B[39m(handle, \u001B[38;5;28mstr\u001B[39m):\n\u001B[1;32m    852\u001B[0m     \u001B[38;5;66;03m# Check whether the filename is to be opened in binary mode.\u001B[39;00m\n\u001B[1;32m    853\u001B[0m     \u001B[38;5;66;03m# Binary mode does not support 'encoding' and 'newline'.\u001B[39;00m\n\u001B[1;32m    854\u001B[0m     \u001B[38;5;28;01mif\u001B[39;00m ioargs\u001B[38;5;241m.\u001B[39mencoding \u001B[38;5;129;01mand\u001B[39;00m \u001B[38;5;124m\"\u001B[39m\u001B[38;5;124mb\u001B[39m\u001B[38;5;124m\"\u001B[39m \u001B[38;5;129;01mnot\u001B[39;00m \u001B[38;5;129;01min\u001B[39;00m ioargs\u001B[38;5;241m.\u001B[39mmode:\n\u001B[1;32m    855\u001B[0m         \u001B[38;5;66;03m# Encoding\u001B[39;00m\n\u001B[0;32m--> 856\u001B[0m         handle \u001B[38;5;241m=\u001B[39m \u001B[38;5;28;43mopen\u001B[39;49m\u001B[43m(\u001B[49m\n\u001B[1;32m    857\u001B[0m \u001B[43m            \u001B[49m\u001B[43mhandle\u001B[49m\u001B[43m,\u001B[49m\n\u001B[1;32m    858\u001B[0m \u001B[43m            \u001B[49m\u001B[43mioargs\u001B[49m\u001B[38;5;241;43m.\u001B[39;49m\u001B[43mmode\u001B[49m\u001B[43m,\u001B[49m\n\u001B[1;32m    859\u001B[0m \u001B[43m            \u001B[49m\u001B[43mencoding\u001B[49m\u001B[38;5;241;43m=\u001B[39;49m\u001B[43mioargs\u001B[49m\u001B[38;5;241;43m.\u001B[39;49m\u001B[43mencoding\u001B[49m\u001B[43m,\u001B[49m\n\u001B[1;32m    860\u001B[0m \u001B[43m            \u001B[49m\u001B[43merrors\u001B[49m\u001B[38;5;241;43m=\u001B[39;49m\u001B[43merrors\u001B[49m\u001B[43m,\u001B[49m\n\u001B[1;32m    861\u001B[0m \u001B[43m            \u001B[49m\u001B[43mnewline\u001B[49m\u001B[38;5;241;43m=\u001B[39;49m\u001B[38;5;124;43m\"\u001B[39;49m\u001B[38;5;124;43m\"\u001B[39;49m\u001B[43m,\u001B[49m\n\u001B[1;32m    862\u001B[0m \u001B[43m        \u001B[49m\u001B[43m)\u001B[49m\n\u001B[1;32m    863\u001B[0m     \u001B[38;5;28;01melse\u001B[39;00m:\n\u001B[1;32m    864\u001B[0m         \u001B[38;5;66;03m# Binary mode\u001B[39;00m\n\u001B[1;32m    865\u001B[0m         handle \u001B[38;5;241m=\u001B[39m \u001B[38;5;28mopen\u001B[39m(handle, ioargs\u001B[38;5;241m.\u001B[39mmode)\n",
      "\u001B[0;31mFileNotFoundError\u001B[0m: [Errno 2] No such file or directory: '../databases/csv/2022-12-19/nutritions_raw.csv'"
     ]
    }
   ],
   "source": [
    "df_nutritions = pd.read_csv(\"../databases/csv/2022_12_19/nutritions_raw.csv\", index_col=0)"
   ],
   "metadata": {
    "collapsed": false,
    "pycharm": {
     "name": "#%%\n"
    }
   }
  },
  {
   "cell_type": "code",
   "execution_count": null,
   "outputs": [],
   "source": [
    "df_nutritions"
   ],
   "metadata": {
    "collapsed": false,
    "pycharm": {
     "name": "#%%\n"
    }
   }
  },
  {
   "cell_type": "code",
   "execution_count": null,
   "outputs": [],
   "source": [
    "# merge variants with prices and nutritions\n",
    "df_merged = df_variants.merge(df_prices, on=\"id\")\n",
    "df_merged = df_merged.merge(df_nutritions, on=\"id\")"
   ],
   "metadata": {
    "collapsed": false,
    "pycharm": {
     "name": "#%%\n"
    }
   }
  },
  {
   "cell_type": "code",
   "execution_count": null,
   "outputs": [],
   "source": [
    "df_merged.sort_values(by=\"discountPercentage\", ascending=False).head(100)[[\"name\", \"gross\", \"discountPercentage\", \"grossDiscounted\"]]"
   ],
   "metadata": {
    "collapsed": false,
    "pycharm": {
     "name": "#%%\n"
    }
   }
  },
  {
   "cell_type": "code",
   "execution_count": null,
   "outputs": [],
   "source": [
    "df_merged.loc[df_merged[\"name\"].str.contains(\"zab\"), [\"name\", \"Fehérje (g)\"]]"
   ],
   "metadata": {
    "collapsed": false,
    "pycharm": {
     "name": "#%%\n"
    }
   }
  },
  {
   "cell_type": "markdown",
   "source": [
    "# Collect categories"
   ],
   "metadata": {
    "collapsed": false,
    "pycharm": {
     "name": "#%% md\n"
    }
   }
  },
  {
   "cell_type": "code",
   "execution_count": null,
   "outputs": [],
   "source": [
    "start_time = time.time()\n",
    "all_categories_df = []\n",
    "for member in tar.getmembers():\n",
    "    if member.name.find(\"product.json\") != -1:\n",
    "        file_content = tar.extractfile(member.name).read().decode(\"utf-8\")\n",
    "        data = json.loads(file_content)\n",
    "        all_categories_df.append(pd.DataFrame(data[\"categories\"]))\n",
    "\n",
    "\n",
    "df_categories = pd.concat(all_categories_df, ignore_index=True)\n",
    "end_time = time.time()\n",
    "print(end_time - start_time)\n",
    "print((end_time - start_time) / len(df_products))"
   ],
   "metadata": {
    "collapsed": false,
    "pycharm": {
     "name": "#%%\n"
    }
   }
  },
  {
   "cell_type": "code",
   "execution_count": null,
   "outputs": [],
   "source": [
    "df_categories[\"id\"].value_counts()"
   ],
   "metadata": {
    "collapsed": false,
    "pycharm": {
     "name": "#%%\n"
    }
   }
  },
  {
   "cell_type": "code",
   "execution_count": null,
   "outputs": [],
   "source": [
    "df_categories.drop_duplicates(subset=[\"id\"], inplace=True)"
   ],
   "metadata": {
    "collapsed": false,
    "pycharm": {
     "name": "#%%\n"
    }
   }
  },
  {
   "cell_type": "code",
   "execution_count": null,
   "outputs": [],
   "source": [
    "df_categories = df_categories.sort_values(by=\"id\").reset_index(drop=True)"
   ],
   "metadata": {
    "collapsed": false,
    "pycharm": {
     "name": "#%%\n"
    }
   }
  },
  {
   "cell_type": "code",
   "execution_count": null,
   "outputs": [],
   "source": [
    "df_categories"
   ],
   "metadata": {
    "collapsed": false,
    "pycharm": {
     "name": "#%%\n"
    }
   }
  },
  {
   "cell_type": "code",
   "execution_count": null,
   "outputs": [],
   "source": [
    "df_categories.to_csv(f\"../databases/csv/{DATE}categories_raw.csv\", escapechar=\"\\\\\")"
   ],
   "metadata": {
    "collapsed": false,
    "pycharm": {
     "name": "#%%\n"
    }
   }
  },
  {
   "cell_type": "code",
   "execution_count": null,
   "outputs": [],
   "source": [],
   "metadata": {
    "collapsed": false,
    "pycharm": {
     "name": "#%%\n"
    }
   }
  }
 ],
 "metadata": {
  "kernelspec": {
   "display_name": "Python 3",
   "language": "python",
   "name": "python3"
  },
  "language_info": {
   "codemirror_mode": {
    "name": "ipython",
    "version": 2
   },
   "file_extension": ".py",
   "mimetype": "text/x-python",
   "name": "python",
   "nbconvert_exporter": "python",
   "pygments_lexer": "ipython2",
   "version": "2.7.6"
  }
 },
 "nbformat": 4,
 "nbformat_minor": 0
}