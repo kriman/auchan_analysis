{
 "cells": [
  {
   "cell_type": "code",
   "execution_count": 58,
   "outputs": [],
   "source": [
    "import pandas as pd\n",
    "import os\n",
    "import numpy as np\n",
    "import json\n",
    "import tarfile\n",
    "import time"
   ],
   "metadata": {
    "collapsed": false,
    "pycharm": {
     "name": "#%%\n"
    }
   }
  },
  {
   "cell_type": "code",
   "execution_count": null,
   "outputs": [],
   "source": [
    "# use this command to compress the uncompressed tarfile when the scrape is ready:\n",
    "# xz -zk tarfile.tar"
   ],
   "metadata": {
    "collapsed": false,
    "pycharm": {
     "name": "#%%\n"
    }
   }
  },
  {
   "cell_type": "code",
   "execution_count": 6,
   "outputs": [],
   "source": [
    "#tar = tarfile.open(\"../rawdata.tar.xz\", \"r:xz\")\n",
    "tar = tarfile.open(\"../databases/archives/2022_12_27_rawdata.tar.xz\", \"r:xz\")"
   ],
   "metadata": {
    "collapsed": false,
    "pycharm": {
     "name": "#%%\n"
    }
   }
  },
  {
   "cell_type": "code",
   "execution_count": 26,
   "outputs": [],
   "source": [
    "def create_nutrtion_df(data, name):\n",
    "    transformed_data = [name] + [row[2] for row in data[\"data\"]]\n",
    "    columns = [\"id\"] + [row[0] for row in data[\"data\"]]\n",
    "    return pd.DataFrame([transformed_data], columns=columns)"
   ],
   "metadata": {
    "collapsed": false,
    "pycharm": {
     "name": "#%%\n"
    }
   }
  },
  {
   "cell_type": "code",
   "execution_count": 33,
   "outputs": [
    {
     "name": "stdout",
     "output_type": "stream",
     "text": [
      "219.7322838306427\n",
      "0.020729460738739876\n"
     ]
    }
   ],
   "source": [
    "start_time = time.time()\n",
    "all_nutrition_df = []\n",
    "for member in tar.getmembers():\n",
    "    if member.name.find(\"nutrition.json\") != -1:\n",
    "        file_content = tar.extractfile(member.name).read().decode(\"utf-8\")\n",
    "        data = json.loads(file_content)\n",
    "        all_nutrition_df.append(create_nutrtion_df(data, member.name.split(\"/\")[-2]))\n",
    "\n",
    "nutritions_df = pd.concat(all_nutrition_df, ignore_index=True)\n",
    "end_time = time.time()\n",
    "print(end_time - start_time)\n",
    "print((end_time - start_time) / len(nutritions_df))"
   ],
   "metadata": {
    "collapsed": false,
    "pycharm": {
     "name": "#%%\n"
    }
   }
  },
  {
   "cell_type": "code",
   "execution_count": 34,
   "outputs": [
    {
     "data": {
      "text/plain": "            id     Energia (kJ / kcal)   Zsír (g)  Telített zsírsavak  (g)  \\\n0        14914                1199/285     8.8000                   4.8000   \n1      3963016  1091.830000/260.770000   7.670000                 3.540000   \n2      4001800                1270/303    14.0000                   7.6000   \n3      4001797                1122/268    13.0000                   7.0000   \n4      3988465  1755.000000/420.000000  23.400000                15.000000   \n...        ...                     ...        ...                      ...   \n10595  4117341                2030/601         23                        9   \n10596  4117392                  129/31        0,4                      0,1   \n10597  4117335                2079/625         28                       11   \n10598  4117305                1835/437         18                      7,2   \n10599  4117344                2126/508         26                       13   \n\n      Szénhidrát  (g)  Cukrok  (g) Rost  (g) Fehérje (g)    Só (g)  \\\n0             42.0000       2.3000  0.000000      8.3000    1.4000   \n1           45.350000     2.690000  3.840000    0.670000  3.840000   \n2             39.0000      17.0000       NaN      4.1000    0.7800   \n3             34.0000      14.0000       NaN      3.7000    0.7000   \n4           42.400000    12.600000       NaN    8.100000  0.840000   \n...               ...          ...       ...         ...       ...   \n10595              67           33       NaN         5,6      0,66   \n10596             6,1          0,2       NaN         0,7       0,9   \n10597              61           30       NaN         5,5      1,23   \n10598            63,6           28       NaN         5,1       0,3   \n10599              64           31       NaN           5      0,71   \n\n      Riboflavin (mg)  ...  Ebből koleszterin A vitamin (µg) Tiamin (mg)  \\\n0                      ...                NaN            NaN         NaN   \n1                 NaN  ...                NaN            NaN         NaN   \n2                 NaN  ...                NaN            NaN         NaN   \n3                 NaN  ...                NaN            NaN         NaN   \n4                 NaN  ...                NaN            NaN         NaN   \n...               ...  ...                ...            ...         ...   \n10595             NaN  ...                NaN            NaN         NaN   \n10596             NaN  ...                NaN            NaN         NaN   \n10597             NaN  ...                NaN            NaN         NaN   \n10598             NaN  ...                NaN            NaN         NaN   \n10599             NaN  ...                NaN            NaN         NaN   \n\n      Niacin (mg) Pantoténsav (mg) Klorid (mg) Cink  (mg) Mangán  (mg)  \\\n0             NaN              NaN         NaN        NaN          NaN   \n1             NaN              NaN         NaN        NaN          NaN   \n2             NaN              NaN         NaN        NaN          NaN   \n3             NaN              NaN         NaN        NaN          NaN   \n4             NaN              NaN         NaN        NaN          NaN   \n...           ...              ...         ...        ...          ...   \n10595         NaN              NaN         NaN        NaN          NaN   \n10596         NaN              NaN         NaN        NaN          NaN   \n10597         NaN              NaN         NaN        NaN          NaN   \n10598         NaN              NaN         NaN        NaN          NaN   \n10599         NaN              NaN         NaN        NaN          NaN   \n\n      Fluor (µg) Króm (µg)  \n0            NaN       NaN  \n1            NaN       NaN  \n2            NaN       NaN  \n3            NaN       NaN  \n4            NaN       NaN  \n...          ...       ...  \n10595        NaN       NaN  \n10596        NaN       NaN  \n10597        NaN       NaN  \n10598        NaN       NaN  \n10599        NaN       NaN  \n\n[10600 rows x 42 columns]",
      "text/html": "<div>\n<style scoped>\n    .dataframe tbody tr th:only-of-type {\n        vertical-align: middle;\n    }\n\n    .dataframe tbody tr th {\n        vertical-align: top;\n    }\n\n    .dataframe thead th {\n        text-align: right;\n    }\n</style>\n<table border=\"1\" class=\"dataframe\">\n  <thead>\n    <tr style=\"text-align: right;\">\n      <th></th>\n      <th>id</th>\n      <th>Energia (kJ / kcal)</th>\n      <th>Zsír (g)</th>\n      <th>Telített zsírsavak  (g)</th>\n      <th>Szénhidrát  (g)</th>\n      <th>Cukrok  (g)</th>\n      <th>Rost  (g)</th>\n      <th>Fehérje (g)</th>\n      <th>Só (g)</th>\n      <th>Riboflavin (mg)</th>\n      <th>...</th>\n      <th>Ebből koleszterin</th>\n      <th>A vitamin (µg)</th>\n      <th>Tiamin (mg)</th>\n      <th>Niacin (mg)</th>\n      <th>Pantoténsav (mg)</th>\n      <th>Klorid (mg)</th>\n      <th>Cink  (mg)</th>\n      <th>Mangán  (mg)</th>\n      <th>Fluor (µg)</th>\n      <th>Króm (µg)</th>\n    </tr>\n  </thead>\n  <tbody>\n    <tr>\n      <th>0</th>\n      <td>14914</td>\n      <td>1199/285</td>\n      <td>8.8000</td>\n      <td>4.8000</td>\n      <td>42.0000</td>\n      <td>2.3000</td>\n      <td>0.000000</td>\n      <td>8.3000</td>\n      <td>1.4000</td>\n      <td></td>\n      <td>...</td>\n      <td>NaN</td>\n      <td>NaN</td>\n      <td>NaN</td>\n      <td>NaN</td>\n      <td>NaN</td>\n      <td>NaN</td>\n      <td>NaN</td>\n      <td>NaN</td>\n      <td>NaN</td>\n      <td>NaN</td>\n    </tr>\n    <tr>\n      <th>1</th>\n      <td>3963016</td>\n      <td>1091.830000/260.770000</td>\n      <td>7.670000</td>\n      <td>3.540000</td>\n      <td>45.350000</td>\n      <td>2.690000</td>\n      <td>3.840000</td>\n      <td>0.670000</td>\n      <td>3.840000</td>\n      <td>NaN</td>\n      <td>...</td>\n      <td>NaN</td>\n      <td>NaN</td>\n      <td>NaN</td>\n      <td>NaN</td>\n      <td>NaN</td>\n      <td>NaN</td>\n      <td>NaN</td>\n      <td>NaN</td>\n      <td>NaN</td>\n      <td>NaN</td>\n    </tr>\n    <tr>\n      <th>2</th>\n      <td>4001800</td>\n      <td>1270/303</td>\n      <td>14.0000</td>\n      <td>7.6000</td>\n      <td>39.0000</td>\n      <td>17.0000</td>\n      <td>NaN</td>\n      <td>4.1000</td>\n      <td>0.7800</td>\n      <td>NaN</td>\n      <td>...</td>\n      <td>NaN</td>\n      <td>NaN</td>\n      <td>NaN</td>\n      <td>NaN</td>\n      <td>NaN</td>\n      <td>NaN</td>\n      <td>NaN</td>\n      <td>NaN</td>\n      <td>NaN</td>\n      <td>NaN</td>\n    </tr>\n    <tr>\n      <th>3</th>\n      <td>4001797</td>\n      <td>1122/268</td>\n      <td>13.0000</td>\n      <td>7.0000</td>\n      <td>34.0000</td>\n      <td>14.0000</td>\n      <td>NaN</td>\n      <td>3.7000</td>\n      <td>0.7000</td>\n      <td>NaN</td>\n      <td>...</td>\n      <td>NaN</td>\n      <td>NaN</td>\n      <td>NaN</td>\n      <td>NaN</td>\n      <td>NaN</td>\n      <td>NaN</td>\n      <td>NaN</td>\n      <td>NaN</td>\n      <td>NaN</td>\n      <td>NaN</td>\n    </tr>\n    <tr>\n      <th>4</th>\n      <td>3988465</td>\n      <td>1755.000000/420.000000</td>\n      <td>23.400000</td>\n      <td>15.000000</td>\n      <td>42.400000</td>\n      <td>12.600000</td>\n      <td>NaN</td>\n      <td>8.100000</td>\n      <td>0.840000</td>\n      <td>NaN</td>\n      <td>...</td>\n      <td>NaN</td>\n      <td>NaN</td>\n      <td>NaN</td>\n      <td>NaN</td>\n      <td>NaN</td>\n      <td>NaN</td>\n      <td>NaN</td>\n      <td>NaN</td>\n      <td>NaN</td>\n      <td>NaN</td>\n    </tr>\n    <tr>\n      <th>...</th>\n      <td>...</td>\n      <td>...</td>\n      <td>...</td>\n      <td>...</td>\n      <td>...</td>\n      <td>...</td>\n      <td>...</td>\n      <td>...</td>\n      <td>...</td>\n      <td>...</td>\n      <td>...</td>\n      <td>...</td>\n      <td>...</td>\n      <td>...</td>\n      <td>...</td>\n      <td>...</td>\n      <td>...</td>\n      <td>...</td>\n      <td>...</td>\n      <td>...</td>\n      <td>...</td>\n    </tr>\n    <tr>\n      <th>10595</th>\n      <td>4117341</td>\n      <td>2030/601</td>\n      <td>23</td>\n      <td>9</td>\n      <td>67</td>\n      <td>33</td>\n      <td>NaN</td>\n      <td>5,6</td>\n      <td>0,66</td>\n      <td>NaN</td>\n      <td>...</td>\n      <td>NaN</td>\n      <td>NaN</td>\n      <td>NaN</td>\n      <td>NaN</td>\n      <td>NaN</td>\n      <td>NaN</td>\n      <td>NaN</td>\n      <td>NaN</td>\n      <td>NaN</td>\n      <td>NaN</td>\n    </tr>\n    <tr>\n      <th>10596</th>\n      <td>4117392</td>\n      <td>129/31</td>\n      <td>0,4</td>\n      <td>0,1</td>\n      <td>6,1</td>\n      <td>0,2</td>\n      <td>NaN</td>\n      <td>0,7</td>\n      <td>0,9</td>\n      <td>NaN</td>\n      <td>...</td>\n      <td>NaN</td>\n      <td>NaN</td>\n      <td>NaN</td>\n      <td>NaN</td>\n      <td>NaN</td>\n      <td>NaN</td>\n      <td>NaN</td>\n      <td>NaN</td>\n      <td>NaN</td>\n      <td>NaN</td>\n    </tr>\n    <tr>\n      <th>10597</th>\n      <td>4117335</td>\n      <td>2079/625</td>\n      <td>28</td>\n      <td>11</td>\n      <td>61</td>\n      <td>30</td>\n      <td>NaN</td>\n      <td>5,5</td>\n      <td>1,23</td>\n      <td>NaN</td>\n      <td>...</td>\n      <td>NaN</td>\n      <td>NaN</td>\n      <td>NaN</td>\n      <td>NaN</td>\n      <td>NaN</td>\n      <td>NaN</td>\n      <td>NaN</td>\n      <td>NaN</td>\n      <td>NaN</td>\n      <td>NaN</td>\n    </tr>\n    <tr>\n      <th>10598</th>\n      <td>4117305</td>\n      <td>1835/437</td>\n      <td>18</td>\n      <td>7,2</td>\n      <td>63,6</td>\n      <td>28</td>\n      <td>NaN</td>\n      <td>5,1</td>\n      <td>0,3</td>\n      <td>NaN</td>\n      <td>...</td>\n      <td>NaN</td>\n      <td>NaN</td>\n      <td>NaN</td>\n      <td>NaN</td>\n      <td>NaN</td>\n      <td>NaN</td>\n      <td>NaN</td>\n      <td>NaN</td>\n      <td>NaN</td>\n      <td>NaN</td>\n    </tr>\n    <tr>\n      <th>10599</th>\n      <td>4117344</td>\n      <td>2126/508</td>\n      <td>26</td>\n      <td>13</td>\n      <td>64</td>\n      <td>31</td>\n      <td>NaN</td>\n      <td>5</td>\n      <td>0,71</td>\n      <td>NaN</td>\n      <td>...</td>\n      <td>NaN</td>\n      <td>NaN</td>\n      <td>NaN</td>\n      <td>NaN</td>\n      <td>NaN</td>\n      <td>NaN</td>\n      <td>NaN</td>\n      <td>NaN</td>\n      <td>NaN</td>\n      <td>NaN</td>\n    </tr>\n  </tbody>\n</table>\n<p>10600 rows × 42 columns</p>\n</div>"
     },
     "execution_count": 34,
     "metadata": {},
     "output_type": "execute_result"
    }
   ],
   "source": [
    "nutritions_df"
   ],
   "metadata": {
    "collapsed": false,
    "pycharm": {
     "name": "#%%\n"
    }
   }
  },
  {
   "cell_type": "code",
   "execution_count": 35,
   "outputs": [],
   "source": [
    "nutritions_df.to_csv(\"../databases/nutritions_raw.csv\", escapechar=\"\\\\\")"
   ],
   "metadata": {
    "collapsed": false,
    "pycharm": {
     "name": "#%%\n"
    }
   }
  },
  {
   "cell_type": "code",
   "execution_count": 3,
   "outputs": [],
   "source": [
    "def create_df(data: dict):\n",
    "    return pd.DataFrame([data.values()], columns=list(data.keys()))"
   ],
   "metadata": {
    "collapsed": false,
    "pycharm": {
     "name": "#%%\n"
    }
   }
  },
  {
   "cell_type": "code",
   "execution_count": 10,
   "outputs": [
    {
     "name": "stdout",
     "output_type": "stream",
     "text": [
      "684.7651336193085\n",
      "0.008746185912141678\n"
     ]
    }
   ],
   "source": [
    "start_time = time.time()\n",
    "all_product_df = []\n",
    "all_variant_df = []\n",
    "all_prices_df = []\n",
    "for member in tar.getmembers():\n",
    "    if member.name.find(\"product.json\") != -1:\n",
    "        file_content = tar.extractfile(member.name).read().decode(\"utf-8\")\n",
    "        data = json.loads(file_content)\n",
    "\n",
    "        price_data = data[\"selectedVariant\"][\"price\"]\n",
    "        price_data[\"id\"] = data[\"selectedVariant\"][\"id\"]\n",
    "        all_prices_df.append(create_df(price_data))\n",
    "\n",
    "        del data[\"selectedVariant\"][\"price\"]\n",
    "        del data[\"selectedVariant\"][\"packageInfo\"][\"unitPrice\"]\n",
    "        data[\"selectedVariant\"][\"packageUnit\"] = data[\"selectedVariant\"][\"packageInfo\"][\"packageUnit\"]\n",
    "        data[\"selectedVariant\"][\"packageSize\"] = data[\"selectedVariant\"][\"packageInfo\"][\"packageSize\"]\n",
    "        del data[\"selectedVariant\"][\"packageInfo\"]\n",
    "\n",
    "        all_variant_df.append(create_df(data[\"selectedVariant\"]))\n",
    "\n",
    "        data[\"selectedVariant\"] = data[\"selectedVariant\"][\"id\"]\n",
    "        data[\"defaultVariant\"] = data[\"defaultVariant\"][\"id\"]\n",
    "        all_product_df.append(create_df(data))\n",
    "\n",
    "df_products = pd.concat(all_product_df, ignore_index=True)\n",
    "df_variants = pd.concat(all_variant_df, ignore_index=True)\n",
    "df_prices = pd.concat(all_prices_df, ignore_index=True)\n",
    "end_time = time.time()\n",
    "print(end_time - start_time)\n",
    "print((end_time - start_time) / len(df_products))"
   ],
   "metadata": {
    "collapsed": false,
    "pycharm": {
     "name": "#%%\n"
    }
   }
  },
  {
   "cell_type": "code",
   "execution_count": 11,
   "outputs": [
    {
     "data": {
      "text/plain": "     net  gross currency  decimalPlaces  netDiscounted  grossDiscounted  \\\n0  30799  30799      HUF              0          30799            30799   \n1    479    479      HUF              0            479              479   \n2    579    579      HUF              0            579              579   \n3    639    639      HUF              0            639              639   \n4    989    989      HUF              0            989              989   \n5   1149   1149      HUF              0           1149             1149   \n6   1199   1199      HUF              0           1199             1199   \n7   1199   1199      HUF              0           1199             1199   \n8   1299   1299      HUF              0           1299             1299   \n9   1469   1469      HUF              0           1469             1469   \n\n   discountPercentage  isDiscounted       id discountValidFrom discountValidTo  \n0                   0         False  4073949               NaN             NaN  \n1                   0         False    39247               NaN             NaN  \n2                   0         False  4041974               NaN             NaN  \n3                   0         False  4040990               NaN             NaN  \n4                   0         False  4019218               NaN             NaN  \n5                   0         False  3613051               NaN             NaN  \n6                   0         False  3677631               NaN             NaN  \n7                   0         False  3613153               NaN             NaN  \n8                   0         False  3612033               NaN             NaN  \n9                   0         False  3952491               NaN             NaN  ",
      "text/html": "<div>\n<style scoped>\n    .dataframe tbody tr th:only-of-type {\n        vertical-align: middle;\n    }\n\n    .dataframe tbody tr th {\n        vertical-align: top;\n    }\n\n    .dataframe thead th {\n        text-align: right;\n    }\n</style>\n<table border=\"1\" class=\"dataframe\">\n  <thead>\n    <tr style=\"text-align: right;\">\n      <th></th>\n      <th>net</th>\n      <th>gross</th>\n      <th>currency</th>\n      <th>decimalPlaces</th>\n      <th>netDiscounted</th>\n      <th>grossDiscounted</th>\n      <th>discountPercentage</th>\n      <th>isDiscounted</th>\n      <th>id</th>\n      <th>discountValidFrom</th>\n      <th>discountValidTo</th>\n    </tr>\n  </thead>\n  <tbody>\n    <tr>\n      <th>0</th>\n      <td>30799</td>\n      <td>30799</td>\n      <td>HUF</td>\n      <td>0</td>\n      <td>30799</td>\n      <td>30799</td>\n      <td>0</td>\n      <td>False</td>\n      <td>4073949</td>\n      <td>NaN</td>\n      <td>NaN</td>\n    </tr>\n    <tr>\n      <th>1</th>\n      <td>479</td>\n      <td>479</td>\n      <td>HUF</td>\n      <td>0</td>\n      <td>479</td>\n      <td>479</td>\n      <td>0</td>\n      <td>False</td>\n      <td>39247</td>\n      <td>NaN</td>\n      <td>NaN</td>\n    </tr>\n    <tr>\n      <th>2</th>\n      <td>579</td>\n      <td>579</td>\n      <td>HUF</td>\n      <td>0</td>\n      <td>579</td>\n      <td>579</td>\n      <td>0</td>\n      <td>False</td>\n      <td>4041974</td>\n      <td>NaN</td>\n      <td>NaN</td>\n    </tr>\n    <tr>\n      <th>3</th>\n      <td>639</td>\n      <td>639</td>\n      <td>HUF</td>\n      <td>0</td>\n      <td>639</td>\n      <td>639</td>\n      <td>0</td>\n      <td>False</td>\n      <td>4040990</td>\n      <td>NaN</td>\n      <td>NaN</td>\n    </tr>\n    <tr>\n      <th>4</th>\n      <td>989</td>\n      <td>989</td>\n      <td>HUF</td>\n      <td>0</td>\n      <td>989</td>\n      <td>989</td>\n      <td>0</td>\n      <td>False</td>\n      <td>4019218</td>\n      <td>NaN</td>\n      <td>NaN</td>\n    </tr>\n    <tr>\n      <th>5</th>\n      <td>1149</td>\n      <td>1149</td>\n      <td>HUF</td>\n      <td>0</td>\n      <td>1149</td>\n      <td>1149</td>\n      <td>0</td>\n      <td>False</td>\n      <td>3613051</td>\n      <td>NaN</td>\n      <td>NaN</td>\n    </tr>\n    <tr>\n      <th>6</th>\n      <td>1199</td>\n      <td>1199</td>\n      <td>HUF</td>\n      <td>0</td>\n      <td>1199</td>\n      <td>1199</td>\n      <td>0</td>\n      <td>False</td>\n      <td>3677631</td>\n      <td>NaN</td>\n      <td>NaN</td>\n    </tr>\n    <tr>\n      <th>7</th>\n      <td>1199</td>\n      <td>1199</td>\n      <td>HUF</td>\n      <td>0</td>\n      <td>1199</td>\n      <td>1199</td>\n      <td>0</td>\n      <td>False</td>\n      <td>3613153</td>\n      <td>NaN</td>\n      <td>NaN</td>\n    </tr>\n    <tr>\n      <th>8</th>\n      <td>1299</td>\n      <td>1299</td>\n      <td>HUF</td>\n      <td>0</td>\n      <td>1299</td>\n      <td>1299</td>\n      <td>0</td>\n      <td>False</td>\n      <td>3612033</td>\n      <td>NaN</td>\n      <td>NaN</td>\n    </tr>\n    <tr>\n      <th>9</th>\n      <td>1469</td>\n      <td>1469</td>\n      <td>HUF</td>\n      <td>0</td>\n      <td>1469</td>\n      <td>1469</td>\n      <td>0</td>\n      <td>False</td>\n      <td>3952491</td>\n      <td>NaN</td>\n      <td>NaN</td>\n    </tr>\n  </tbody>\n</table>\n</div>"
     },
     "execution_count": 11,
     "metadata": {},
     "output_type": "execute_result"
    }
   ],
   "source": [
    "df_prices.head(10)"
   ],
   "metadata": {
    "collapsed": false,
    "pycharm": {
     "name": "#%%\n"
    }
   }
  },
  {
   "cell_type": "code",
   "execution_count": 18,
   "outputs": [
    {
     "data": {
      "text/plain": "            id                                        name     sku  productId  \\\n0      4073949                              Lars etetőszék  524266     536559   \n1        39247                              Alomlapát 28cm  855966      39244   \n2      4041974                            Lapát Kicsi Zárt  494729     504572   \n3      4040990     Trixie 4046 Alomlapát Több Féle Színben  470695     503591   \n4      4019218                      Alom illatosító, virág  452051     481822   \n...        ...                                         ...     ...        ...   \n75096  3855896                           Nándi Mese kirakó  583152     318605   \n75100  3855893                          Nándi Mese Memória  583151     318602   \n75190  4058062                         Smart Sketcher pro   521140     520672   \n75621  4067029  Unmatched: Piroska vs. Beowulf társasjáték  547855     529639   \n76605  3855968                      Canvas: Festői vásznak  583367     318677   \n\n      addedName  selectValue status unit        eanCode  aided  ... flags  \\\n0                    4073949   none   db  3830071133072  False  ...    []   \n1                      39247   none   db  8585027970144  False  ...    []   \n2                    4041974   none   db  4011905040455  False  ...    []   \n3                    4040990   none   db  4011905040462  False  ...    []   \n4                    4019218   none   db  3166780147001  False  ...    []   \n...         ...          ...    ...  ...            ...    ...  ...   ...   \n75096                3855896   none   db  5999536282019  False  ...    []   \n75100                3855893   none   db  5999536282002  False  ...    []   \n75190                4058062   none   db   854617005176  False  ...    []   \n75621                4067029   none   db  5999566844386  False  ...    []   \n76605                3855968   none   db  5999556753421  False  ...    []   \n\n                                                   media  \\\n0      {'images': ['https://ahuazurewebblob0.azureedg...   \n1      {'images': ['https://ahuazurewebblob0.azureedg...   \n2      {'images': ['https://ahuazurewebblob0.azureedg...   \n3      {'images': ['https://ahuazurewebblob0.azureedg...   \n4      {'images': ['https://ahuazurewebblob0.azureedg...   \n...                                                  ...   \n75096  {'images': ['https://ahuazurewebblob0.azureedg...   \n75100  {'images': ['https://ahuazurewebblob0.azureedg...   \n75190  {'images': ['https://ahuazurewebblob0.azureedg...   \n75621  {'images': ['https://ahuazurewebblob0.azureedg...   \n76605  {'images': ['https://ahuazurewebblob0.azureedg...   \n\n                            details isInVirtualStock shoppingListsContain  \\\n0                     [description]            False                   []   \n1                     [description]            False                   []   \n2                     [description]            False                   []   \n3                     [description]            False                   []   \n4                     [description]            False                   []   \n...                             ...              ...                  ...   \n75096  [description, parameterList]            False                   []   \n75100  [description, parameterList]            False                   []   \n75190  [description, parameterList]            False                   []   \n75621  [description, parameterList]            False                   []   \n76605  [description, parameterList]            False                   []   \n\n       offerType packageUnit packageSize itemVolumeInfo  roll  \n0                         DB         1.0            NaN   NaN  \n1                         DB         1.0            NaN   NaN  \n2                         DB         1.0            NaN   NaN  \n3                         DB         1.0            NaN   NaN  \n4                         DB         1.0            NaN   NaN  \n...          ...         ...         ...            ...   ...  \n75096                     DB         1.0            NaN   NaN  \n75100                     DB         1.0            NaN   NaN  \n75190                     DB         1.0            NaN   NaN  \n75621                     DB         1.0            NaN   NaN  \n76605                     DB         1.0            NaN   NaN  \n\n[33895 rows x 22 columns]",
      "text/html": "<div>\n<style scoped>\n    .dataframe tbody tr th:only-of-type {\n        vertical-align: middle;\n    }\n\n    .dataframe tbody tr th {\n        vertical-align: top;\n    }\n\n    .dataframe thead th {\n        text-align: right;\n    }\n</style>\n<table border=\"1\" class=\"dataframe\">\n  <thead>\n    <tr style=\"text-align: right;\">\n      <th></th>\n      <th>id</th>\n      <th>name</th>\n      <th>sku</th>\n      <th>productId</th>\n      <th>addedName</th>\n      <th>selectValue</th>\n      <th>status</th>\n      <th>unit</th>\n      <th>eanCode</th>\n      <th>aided</th>\n      <th>...</th>\n      <th>flags</th>\n      <th>media</th>\n      <th>details</th>\n      <th>isInVirtualStock</th>\n      <th>shoppingListsContain</th>\n      <th>offerType</th>\n      <th>packageUnit</th>\n      <th>packageSize</th>\n      <th>itemVolumeInfo</th>\n      <th>roll</th>\n    </tr>\n  </thead>\n  <tbody>\n    <tr>\n      <th>0</th>\n      <td>4073949</td>\n      <td>Lars etetőszék</td>\n      <td>524266</td>\n      <td>536559</td>\n      <td></td>\n      <td>4073949</td>\n      <td>none</td>\n      <td>db</td>\n      <td>3830071133072</td>\n      <td>False</td>\n      <td>...</td>\n      <td>[]</td>\n      <td>{'images': ['https://ahuazurewebblob0.azureedg...</td>\n      <td>[description]</td>\n      <td>False</td>\n      <td>[]</td>\n      <td></td>\n      <td>DB</td>\n      <td>1.0</td>\n      <td>NaN</td>\n      <td>NaN</td>\n    </tr>\n    <tr>\n      <th>1</th>\n      <td>39247</td>\n      <td>Alomlapát 28cm</td>\n      <td>855966</td>\n      <td>39244</td>\n      <td></td>\n      <td>39247</td>\n      <td>none</td>\n      <td>db</td>\n      <td>8585027970144</td>\n      <td>False</td>\n      <td>...</td>\n      <td>[]</td>\n      <td>{'images': ['https://ahuazurewebblob0.azureedg...</td>\n      <td>[description]</td>\n      <td>False</td>\n      <td>[]</td>\n      <td></td>\n      <td>DB</td>\n      <td>1.0</td>\n      <td>NaN</td>\n      <td>NaN</td>\n    </tr>\n    <tr>\n      <th>2</th>\n      <td>4041974</td>\n      <td>Lapát Kicsi Zárt</td>\n      <td>494729</td>\n      <td>504572</td>\n      <td></td>\n      <td>4041974</td>\n      <td>none</td>\n      <td>db</td>\n      <td>4011905040455</td>\n      <td>False</td>\n      <td>...</td>\n      <td>[]</td>\n      <td>{'images': ['https://ahuazurewebblob0.azureedg...</td>\n      <td>[description]</td>\n      <td>False</td>\n      <td>[]</td>\n      <td></td>\n      <td>DB</td>\n      <td>1.0</td>\n      <td>NaN</td>\n      <td>NaN</td>\n    </tr>\n    <tr>\n      <th>3</th>\n      <td>4040990</td>\n      <td>Trixie 4046 Alomlapát Több Féle Színben</td>\n      <td>470695</td>\n      <td>503591</td>\n      <td></td>\n      <td>4040990</td>\n      <td>none</td>\n      <td>db</td>\n      <td>4011905040462</td>\n      <td>False</td>\n      <td>...</td>\n      <td>[]</td>\n      <td>{'images': ['https://ahuazurewebblob0.azureedg...</td>\n      <td>[description]</td>\n      <td>False</td>\n      <td>[]</td>\n      <td></td>\n      <td>DB</td>\n      <td>1.0</td>\n      <td>NaN</td>\n      <td>NaN</td>\n    </tr>\n    <tr>\n      <th>4</th>\n      <td>4019218</td>\n      <td>Alom illatosító, virág</td>\n      <td>452051</td>\n      <td>481822</td>\n      <td></td>\n      <td>4019218</td>\n      <td>none</td>\n      <td>db</td>\n      <td>3166780147001</td>\n      <td>False</td>\n      <td>...</td>\n      <td>[]</td>\n      <td>{'images': ['https://ahuazurewebblob0.azureedg...</td>\n      <td>[description]</td>\n      <td>False</td>\n      <td>[]</td>\n      <td></td>\n      <td>DB</td>\n      <td>1.0</td>\n      <td>NaN</td>\n      <td>NaN</td>\n    </tr>\n    <tr>\n      <th>...</th>\n      <td>...</td>\n      <td>...</td>\n      <td>...</td>\n      <td>...</td>\n      <td>...</td>\n      <td>...</td>\n      <td>...</td>\n      <td>...</td>\n      <td>...</td>\n      <td>...</td>\n      <td>...</td>\n      <td>...</td>\n      <td>...</td>\n      <td>...</td>\n      <td>...</td>\n      <td>...</td>\n      <td>...</td>\n      <td>...</td>\n      <td>...</td>\n      <td>...</td>\n      <td>...</td>\n    </tr>\n    <tr>\n      <th>75096</th>\n      <td>3855896</td>\n      <td>Nándi Mese kirakó</td>\n      <td>583152</td>\n      <td>318605</td>\n      <td></td>\n      <td>3855896</td>\n      <td>none</td>\n      <td>db</td>\n      <td>5999536282019</td>\n      <td>False</td>\n      <td>...</td>\n      <td>[]</td>\n      <td>{'images': ['https://ahuazurewebblob0.azureedg...</td>\n      <td>[description, parameterList]</td>\n      <td>False</td>\n      <td>[]</td>\n      <td></td>\n      <td>DB</td>\n      <td>1.0</td>\n      <td>NaN</td>\n      <td>NaN</td>\n    </tr>\n    <tr>\n      <th>75100</th>\n      <td>3855893</td>\n      <td>Nándi Mese Memória</td>\n      <td>583151</td>\n      <td>318602</td>\n      <td></td>\n      <td>3855893</td>\n      <td>none</td>\n      <td>db</td>\n      <td>5999536282002</td>\n      <td>False</td>\n      <td>...</td>\n      <td>[]</td>\n      <td>{'images': ['https://ahuazurewebblob0.azureedg...</td>\n      <td>[description, parameterList]</td>\n      <td>False</td>\n      <td>[]</td>\n      <td></td>\n      <td>DB</td>\n      <td>1.0</td>\n      <td>NaN</td>\n      <td>NaN</td>\n    </tr>\n    <tr>\n      <th>75190</th>\n      <td>4058062</td>\n      <td>Smart Sketcher pro</td>\n      <td>521140</td>\n      <td>520672</td>\n      <td></td>\n      <td>4058062</td>\n      <td>none</td>\n      <td>db</td>\n      <td>854617005176</td>\n      <td>False</td>\n      <td>...</td>\n      <td>[]</td>\n      <td>{'images': ['https://ahuazurewebblob0.azureedg...</td>\n      <td>[description, parameterList]</td>\n      <td>False</td>\n      <td>[]</td>\n      <td></td>\n      <td>DB</td>\n      <td>1.0</td>\n      <td>NaN</td>\n      <td>NaN</td>\n    </tr>\n    <tr>\n      <th>75621</th>\n      <td>4067029</td>\n      <td>Unmatched: Piroska vs. Beowulf társasjáték</td>\n      <td>547855</td>\n      <td>529639</td>\n      <td></td>\n      <td>4067029</td>\n      <td>none</td>\n      <td>db</td>\n      <td>5999566844386</td>\n      <td>False</td>\n      <td>...</td>\n      <td>[]</td>\n      <td>{'images': ['https://ahuazurewebblob0.azureedg...</td>\n      <td>[description, parameterList]</td>\n      <td>False</td>\n      <td>[]</td>\n      <td></td>\n      <td>DB</td>\n      <td>1.0</td>\n      <td>NaN</td>\n      <td>NaN</td>\n    </tr>\n    <tr>\n      <th>76605</th>\n      <td>3855968</td>\n      <td>Canvas: Festői vásznak</td>\n      <td>583367</td>\n      <td>318677</td>\n      <td></td>\n      <td>3855968</td>\n      <td>none</td>\n      <td>db</td>\n      <td>5999556753421</td>\n      <td>False</td>\n      <td>...</td>\n      <td>[]</td>\n      <td>{'images': ['https://ahuazurewebblob0.azureedg...</td>\n      <td>[description, parameterList]</td>\n      <td>False</td>\n      <td>[]</td>\n      <td></td>\n      <td>DB</td>\n      <td>1.0</td>\n      <td>NaN</td>\n      <td>NaN</td>\n    </tr>\n  </tbody>\n</table>\n<p>33895 rows × 22 columns</p>\n</div>"
     },
     "execution_count": 18,
     "metadata": {},
     "output_type": "execute_result"
    }
   ],
   "source": [
    "df_variants.drop_duplicates(subset=[\"id\"], inplace=True)\n",
    "df_products.drop_duplicates(subset=[\"id\"], inplace=True)\n",
    "df_prices.drop_duplicates(subset=[\"id\"], inplace=True)\n",
    "df_variants"
   ],
   "metadata": {
    "collapsed": false,
    "pycharm": {
     "name": "#%%\n"
    }
   }
  },
  {
   "cell_type": "code",
   "execution_count": 19,
   "outputs": [],
   "source": [
    "assert len(df_products) == len(df_variants) == len(df_prices)"
   ],
   "metadata": {
    "collapsed": false,
    "pycharm": {
     "name": "#%%\n"
    }
   }
  },
  {
   "cell_type": "code",
   "execution_count": 20,
   "outputs": [],
   "source": [
    "df_variants.to_csv(\"../databases/variants_raw2.csv\", escapechar=\"\\\\\", compression='xz')\n",
    "df_products.to_csv(\"../databases/products_raw2.csv\", escapechar=\"\\\\\", compression='xz')\n",
    "df_prices.to_csv(\"../databases/prices_raw2.csv\", escapechar=\"\\\\\", compression='xz')"
   ],
   "metadata": {
    "collapsed": false,
    "pycharm": {
     "name": "#%%\n"
    }
   }
  },
  {
   "cell_type": "code",
   "execution_count": 70,
   "outputs": [
    {
     "data": {
      "text/plain": "Empty DataFrame\nColumns: [id, name, sku, price, productId, addedName, selectValue, status, unit, eanCode, aided, cartInfo, packageInfo, loose, flags, media, details, isInVirtualStock, shoppingListsContain, offerType, itemVolumeInfo, roll]\nIndex: []\n\n[0 rows x 22 columns]",
      "text/html": "<div>\n<style scoped>\n    .dataframe tbody tr th:only-of-type {\n        vertical-align: middle;\n    }\n\n    .dataframe tbody tr th {\n        vertical-align: top;\n    }\n\n    .dataframe thead th {\n        text-align: right;\n    }\n</style>\n<table border=\"1\" class=\"dataframe\">\n  <thead>\n    <tr style=\"text-align: right;\">\n      <th></th>\n      <th>id</th>\n      <th>name</th>\n      <th>sku</th>\n      <th>price</th>\n      <th>productId</th>\n      <th>addedName</th>\n      <th>selectValue</th>\n      <th>status</th>\n      <th>unit</th>\n      <th>eanCode</th>\n      <th>...</th>\n      <th>packageInfo</th>\n      <th>loose</th>\n      <th>flags</th>\n      <th>media</th>\n      <th>details</th>\n      <th>isInVirtualStock</th>\n      <th>shoppingListsContain</th>\n      <th>offerType</th>\n      <th>itemVolumeInfo</th>\n      <th>roll</th>\n    </tr>\n  </thead>\n  <tbody>\n  </tbody>\n</table>\n<p>0 rows × 22 columns</p>\n</div>"
     },
     "execution_count": 70,
     "metadata": {},
     "output_type": "execute_result"
    }
   ],
   "source": [
    "df_variants.loc[df_variants[\"details\"].str.contains(\"allergens\").fillna(False)]"
   ],
   "metadata": {
    "collapsed": false,
    "pycharm": {
     "name": "#%%\n"
    }
   }
  },
  {
   "cell_type": "code",
   "execution_count": 91,
   "outputs": [
    {
     "data": {
      "text/plain": "0        False\n1        False\n2        False\n3        False\n4        False\n         ...  \n34808      NaN\n34809      NaN\n34810      NaN\n34811      NaN\n34812      NaN\nName: details, Length: 34813, dtype: object"
     },
     "execution_count": 91,
     "metadata": {},
     "output_type": "execute_result"
    }
   ],
   "source": [
    "df_variants[\"details\"].str[2].str.contains(\"allergens\")"
   ],
   "metadata": {
    "collapsed": false,
    "pycharm": {
     "name": "#%%\n"
    }
   }
  },
  {
   "cell_type": "code",
   "execution_count": 100,
   "outputs": [
    {
     "data": {
      "text/plain": "0          14914\n2        4001800\n3        4001797\n4        3988465\n5        3989383\n          ...   \n28985    4117302\n28990    4117341\n28994    4117335\n28996    4117305\n28997    4117344\nName: id, Length: 8168, dtype: int64"
     },
     "execution_count": 100,
     "metadata": {},
     "output_type": "execute_result"
    }
   ],
   "source": [
    "df_variants.loc[df_variants[\"details\"].str[-1] == \"allergens\", \"id\"]"
   ],
   "metadata": {
    "collapsed": false,
    "pycharm": {
     "name": "#%%\n"
    }
   }
  },
  {
   "cell_type": "code",
   "execution_count": 4,
   "outputs": [
    {
     "name": "stderr",
     "output_type": "stream",
     "text": [
      "/tmp/ipykernel_6060/2871604282.py:1: DtypeWarning: Columns (5,21) have mixed types. Specify dtype option on import or set low_memory=False.\n",
      "  df_variants = pd.read_csv(\"../variants_raw.csv\", index_col=0, compression='xz')\n"
     ]
    }
   ],
   "source": [
    "df_variants = pd.read_csv(\"../databases/variants_raw.csv\", index_col=0, compression='xz')\n",
    "df_products = pd.read_csv(\"../databases/products_raw.csv\", index_col=0, compression='xz')\n",
    "df_prices = pd.read_csv(\"../databases/prices_raw.csv\", index_col=0, compression='xz')"
   ],
   "metadata": {
    "collapsed": false,
    "pycharm": {
     "name": "#%%\n"
    }
   }
  },
  {
   "cell_type": "code",
   "execution_count": 20,
   "outputs": [
    {
     "data": {
      "text/plain": "           id categoryId               categoryName brandName  defaultVariant  \\\n0       14911       5906    Fagyasztott péksütemény    Landly           14914   \n1      425635       5906    Fagyasztott péksütemény     MEKKO         3963016   \n2      464410       5906    Fagyasztott péksütemény      Ledo         4001800   \n3      464407       5906    Fagyasztott péksütemény      Ledo         4001797   \n4      451075       5906    Fagyasztott péksütemény    Auchan         3988465   \n...       ...        ...                        ...       ...             ...   \n34808  582898      13076                   Szárítás    Actuel         4120288   \n34809  582901      13076                   Szárítás       NaN         4120291   \n34810  582985      13079  Ruháskosár, szennyestartó    Curver         4120375   \n34811  582982      13079  Ruháskosár, szennyestartó    Curver         4120372   \n34812  582979      13079  Ruháskosár, szennyestartó    Curver         4120369   \n\n       selectedVariant        eancode                               usedItem  \\\n0                14914  4050529071186  {'canReturn': False, 'return': False}   \n1              3963016  5999887426261  {'canReturn': False, 'return': False}   \n2              4001800  3850116038957  {'canReturn': False, 'return': False}   \n3              4001797  3850116038926  {'canReturn': False, 'return': False}   \n4              3988465  3596710371617  {'canReturn': False, 'return': False}   \n...                ...            ...                                    ...   \n34808          4120288  3245678384039  {'canReturn': False, 'return': False}   \n34809          4120291  9007741018777  {'canReturn': False, 'return': False}   \n34810          4120375  3253920767011  {'canReturn': False, 'return': False}   \n34811          4120372  3253920767028  {'canReturn': False, 'return': False}   \n34812          4120369  3253920746009  {'canReturn': False, 'return': False}   \n\n      reviewable                      reviewSum  \\\n0          login  {'sumCount': 0, 'average': 0}   \n1          login  {'sumCount': 0, 'average': 0}   \n2          login  {'sumCount': 1, 'average': 5}   \n3          login  {'sumCount': 0, 'average': 0}   \n4          login  {'sumCount': 0, 'average': 0}   \n...          ...                            ...   \n34808      login  {'sumCount': 0, 'average': 0}   \n34809      login  {'sumCount': 0, 'average': 0}   \n34810      login  {'sumCount': 0, 'average': 0}   \n34811      login  {'sumCount': 0, 'average': 0}   \n34812      login  {'sumCount': 0, 'average': 0}   \n\n                                              categories inCategories  \\\n0      [{'id': 1, 'name': 'Élelmiszer', 'imageUrl': '...       [5906]   \n1      [{'id': 1, 'name': 'Élelmiszer', 'imageUrl': '...       [5906]   \n2      [{'id': 1, 'name': 'Élelmiszer', 'imageUrl': '...       [5906]   \n3      [{'id': 1, 'name': 'Élelmiszer', 'imageUrl': '...       [5906]   \n4      [{'id': 1, 'name': 'Élelmiszer', 'imageUrl': '...       [5906]   \n...                                                  ...          ...   \n34808  [{'id': 12617, 'name': 'Állateledel, Otthon, H...      [13076]   \n34809  [{'id': 12617, 'name': 'Állateledel, Otthon, H...      [13076]   \n34810  [{'id': 12617, 'name': 'Állateledel, Otthon, H...      [13079]   \n34811  [{'id': 12617, 'name': 'Állateledel, Otthon, H...      [13079]   \n34812  [{'id': 12617, 'name': 'Állateledel, Otthon, H...      [13079]   \n\n       isNewProduct stockInfos  adultsOnly  shipmentDays  ageConfirmed  \\\n0             False         []       False             0         False   \n1             False         []       False             0         False   \n2             False         []       False             0         False   \n3             False         []       False             0         False   \n4             False         []       False             0         False   \n...             ...        ...         ...           ...           ...   \n34808         False         []       False             0         False   \n34809         False         []       False             0         False   \n34810         False         []       False             0         False   \n34811         False         []       False             0         False   \n34812         False         []       False             0         False   \n\n       isNonFood documents  extraWeightPrice  \n0          False        []               NaN  \n1          False        []               NaN  \n2          False        []               NaN  \n3          False        []               NaN  \n4          False        []               NaN  \n...          ...       ...               ...  \n34808       True        []               NaN  \n34809       True        []               NaN  \n34810       True        []               NaN  \n34811       True        []               NaN  \n34812       True        []               NaN  \n\n[34813 rows x 20 columns]",
      "text/html": "<div>\n<style scoped>\n    .dataframe tbody tr th:only-of-type {\n        vertical-align: middle;\n    }\n\n    .dataframe tbody tr th {\n        vertical-align: top;\n    }\n\n    .dataframe thead th {\n        text-align: right;\n    }\n</style>\n<table border=\"1\" class=\"dataframe\">\n  <thead>\n    <tr style=\"text-align: right;\">\n      <th></th>\n      <th>id</th>\n      <th>categoryId</th>\n      <th>categoryName</th>\n      <th>brandName</th>\n      <th>defaultVariant</th>\n      <th>selectedVariant</th>\n      <th>eancode</th>\n      <th>usedItem</th>\n      <th>reviewable</th>\n      <th>reviewSum</th>\n      <th>categories</th>\n      <th>inCategories</th>\n      <th>isNewProduct</th>\n      <th>stockInfos</th>\n      <th>adultsOnly</th>\n      <th>shipmentDays</th>\n      <th>ageConfirmed</th>\n      <th>isNonFood</th>\n      <th>documents</th>\n      <th>extraWeightPrice</th>\n    </tr>\n  </thead>\n  <tbody>\n    <tr>\n      <th>0</th>\n      <td>14911</td>\n      <td>5906</td>\n      <td>Fagyasztott péksütemény</td>\n      <td>Landly</td>\n      <td>14914</td>\n      <td>14914</td>\n      <td>4050529071186</td>\n      <td>{'canReturn': False, 'return': False}</td>\n      <td>login</td>\n      <td>{'sumCount': 0, 'average': 0}</td>\n      <td>[{'id': 1, 'name': 'Élelmiszer', 'imageUrl': '...</td>\n      <td>[5906]</td>\n      <td>False</td>\n      <td>[]</td>\n      <td>False</td>\n      <td>0</td>\n      <td>False</td>\n      <td>False</td>\n      <td>[]</td>\n      <td>NaN</td>\n    </tr>\n    <tr>\n      <th>1</th>\n      <td>425635</td>\n      <td>5906</td>\n      <td>Fagyasztott péksütemény</td>\n      <td>MEKKO</td>\n      <td>3963016</td>\n      <td>3963016</td>\n      <td>5999887426261</td>\n      <td>{'canReturn': False, 'return': False}</td>\n      <td>login</td>\n      <td>{'sumCount': 0, 'average': 0}</td>\n      <td>[{'id': 1, 'name': 'Élelmiszer', 'imageUrl': '...</td>\n      <td>[5906]</td>\n      <td>False</td>\n      <td>[]</td>\n      <td>False</td>\n      <td>0</td>\n      <td>False</td>\n      <td>False</td>\n      <td>[]</td>\n      <td>NaN</td>\n    </tr>\n    <tr>\n      <th>2</th>\n      <td>464410</td>\n      <td>5906</td>\n      <td>Fagyasztott péksütemény</td>\n      <td>Ledo</td>\n      <td>4001800</td>\n      <td>4001800</td>\n      <td>3850116038957</td>\n      <td>{'canReturn': False, 'return': False}</td>\n      <td>login</td>\n      <td>{'sumCount': 1, 'average': 5}</td>\n      <td>[{'id': 1, 'name': 'Élelmiszer', 'imageUrl': '...</td>\n      <td>[5906]</td>\n      <td>False</td>\n      <td>[]</td>\n      <td>False</td>\n      <td>0</td>\n      <td>False</td>\n      <td>False</td>\n      <td>[]</td>\n      <td>NaN</td>\n    </tr>\n    <tr>\n      <th>3</th>\n      <td>464407</td>\n      <td>5906</td>\n      <td>Fagyasztott péksütemény</td>\n      <td>Ledo</td>\n      <td>4001797</td>\n      <td>4001797</td>\n      <td>3850116038926</td>\n      <td>{'canReturn': False, 'return': False}</td>\n      <td>login</td>\n      <td>{'sumCount': 0, 'average': 0}</td>\n      <td>[{'id': 1, 'name': 'Élelmiszer', 'imageUrl': '...</td>\n      <td>[5906]</td>\n      <td>False</td>\n      <td>[]</td>\n      <td>False</td>\n      <td>0</td>\n      <td>False</td>\n      <td>False</td>\n      <td>[]</td>\n      <td>NaN</td>\n    </tr>\n    <tr>\n      <th>4</th>\n      <td>451075</td>\n      <td>5906</td>\n      <td>Fagyasztott péksütemény</td>\n      <td>Auchan</td>\n      <td>3988465</td>\n      <td>3988465</td>\n      <td>3596710371617</td>\n      <td>{'canReturn': False, 'return': False}</td>\n      <td>login</td>\n      <td>{'sumCount': 0, 'average': 0}</td>\n      <td>[{'id': 1, 'name': 'Élelmiszer', 'imageUrl': '...</td>\n      <td>[5906]</td>\n      <td>False</td>\n      <td>[]</td>\n      <td>False</td>\n      <td>0</td>\n      <td>False</td>\n      <td>False</td>\n      <td>[]</td>\n      <td>NaN</td>\n    </tr>\n    <tr>\n      <th>...</th>\n      <td>...</td>\n      <td>...</td>\n      <td>...</td>\n      <td>...</td>\n      <td>...</td>\n      <td>...</td>\n      <td>...</td>\n      <td>...</td>\n      <td>...</td>\n      <td>...</td>\n      <td>...</td>\n      <td>...</td>\n      <td>...</td>\n      <td>...</td>\n      <td>...</td>\n      <td>...</td>\n      <td>...</td>\n      <td>...</td>\n      <td>...</td>\n      <td>...</td>\n    </tr>\n    <tr>\n      <th>34808</th>\n      <td>582898</td>\n      <td>13076</td>\n      <td>Szárítás</td>\n      <td>Actuel</td>\n      <td>4120288</td>\n      <td>4120288</td>\n      <td>3245678384039</td>\n      <td>{'canReturn': False, 'return': False}</td>\n      <td>login</td>\n      <td>{'sumCount': 0, 'average': 0}</td>\n      <td>[{'id': 12617, 'name': 'Állateledel, Otthon, H...</td>\n      <td>[13076]</td>\n      <td>False</td>\n      <td>[]</td>\n      <td>False</td>\n      <td>0</td>\n      <td>False</td>\n      <td>True</td>\n      <td>[]</td>\n      <td>NaN</td>\n    </tr>\n    <tr>\n      <th>34809</th>\n      <td>582901</td>\n      <td>13076</td>\n      <td>Szárítás</td>\n      <td>NaN</td>\n      <td>4120291</td>\n      <td>4120291</td>\n      <td>9007741018777</td>\n      <td>{'canReturn': False, 'return': False}</td>\n      <td>login</td>\n      <td>{'sumCount': 0, 'average': 0}</td>\n      <td>[{'id': 12617, 'name': 'Állateledel, Otthon, H...</td>\n      <td>[13076]</td>\n      <td>False</td>\n      <td>[]</td>\n      <td>False</td>\n      <td>0</td>\n      <td>False</td>\n      <td>True</td>\n      <td>[]</td>\n      <td>NaN</td>\n    </tr>\n    <tr>\n      <th>34810</th>\n      <td>582985</td>\n      <td>13079</td>\n      <td>Ruháskosár, szennyestartó</td>\n      <td>Curver</td>\n      <td>4120375</td>\n      <td>4120375</td>\n      <td>3253920767011</td>\n      <td>{'canReturn': False, 'return': False}</td>\n      <td>login</td>\n      <td>{'sumCount': 0, 'average': 0}</td>\n      <td>[{'id': 12617, 'name': 'Állateledel, Otthon, H...</td>\n      <td>[13079]</td>\n      <td>False</td>\n      <td>[]</td>\n      <td>False</td>\n      <td>0</td>\n      <td>False</td>\n      <td>True</td>\n      <td>[]</td>\n      <td>NaN</td>\n    </tr>\n    <tr>\n      <th>34811</th>\n      <td>582982</td>\n      <td>13079</td>\n      <td>Ruháskosár, szennyestartó</td>\n      <td>Curver</td>\n      <td>4120372</td>\n      <td>4120372</td>\n      <td>3253920767028</td>\n      <td>{'canReturn': False, 'return': False}</td>\n      <td>login</td>\n      <td>{'sumCount': 0, 'average': 0}</td>\n      <td>[{'id': 12617, 'name': 'Állateledel, Otthon, H...</td>\n      <td>[13079]</td>\n      <td>False</td>\n      <td>[]</td>\n      <td>False</td>\n      <td>0</td>\n      <td>False</td>\n      <td>True</td>\n      <td>[]</td>\n      <td>NaN</td>\n    </tr>\n    <tr>\n      <th>34812</th>\n      <td>582979</td>\n      <td>13079</td>\n      <td>Ruháskosár, szennyestartó</td>\n      <td>Curver</td>\n      <td>4120369</td>\n      <td>4120369</td>\n      <td>3253920746009</td>\n      <td>{'canReturn': False, 'return': False}</td>\n      <td>login</td>\n      <td>{'sumCount': 0, 'average': 0}</td>\n      <td>[{'id': 12617, 'name': 'Állateledel, Otthon, H...</td>\n      <td>[13079]</td>\n      <td>False</td>\n      <td>[]</td>\n      <td>False</td>\n      <td>0</td>\n      <td>False</td>\n      <td>True</td>\n      <td>[]</td>\n      <td>NaN</td>\n    </tr>\n  </tbody>\n</table>\n<p>34813 rows × 20 columns</p>\n</div>"
     },
     "execution_count": 20,
     "metadata": {},
     "output_type": "execute_result"
    }
   ],
   "source": [
    "df_products"
   ],
   "metadata": {
    "collapsed": false,
    "pycharm": {
     "name": "#%%\n"
    }
   }
  },
  {
   "cell_type": "code",
   "execution_count": 19,
   "outputs": [
    {
     "data": {
      "text/plain": "            id                                               name     sku  \\\n0        14914  Landly gyorsfagyasztott, elősütött baguette, z...  509341   \n1      3963016  MEKKO gyorsfagyasztott, elősütött bagett, Zöld...  375657   \n2      4001800  Ledo gyorsfagyasztott étcsokoládé ízű-meggyes ...  413629   \n3      4001797  Ledo gyorsfagyasztott vaníliás-erdei gyümölcsö...  413628   \n4      3988465  Auchan Nívó Sütésre kész tiszta vajcsokoládé t...  279018   \n...        ...                                                ...     ...   \n34808  4120288                       Actuel kihúzható szárító 20m  616669   \n34809  4120291                      Kültéri szárító aluminium 50m  616670   \n34810  4120375             Curver \"ribbon\" ruháskosár 40 l szürke  645711   \n34811  4120372               Curver \"ribbon\" ruháskosár 40l fehér  645710   \n34812  4120369           Curver \"ribbon\" szennyestartó 49l szürke  645709   \n\n       productId addedName  selectValue status unit        eanCode  aided  \\\n0          14911                  14914   none   db  4050529071186  False   \n1         425635                3963016   none   db  5999887426261  False   \n2         464410                4001800   none   db  3850116038957  False   \n3         464407                4001797   none   db  3850116038926  False   \n4         451075                3988465   none   db  3596710371617  False   \n...          ...       ...          ...    ...  ...            ...    ...   \n34808     582898                4120288   none   db  3245678384039  False   \n34809     582901                4120291   none   db  9007741018777  False   \n34810     582985                4120375   none   db  3253920767011  False   \n34811     582982                4120372   none   db  3253920767028  False   \n34812     582979                4120369   none   db  3253920746009  False   \n\n       ...                                              flags  \\\n0      ...  [{'flag': 'flag_discount', 'name': 'Kiemelt aj...   \n1      ...  [{'flag': 'flag_discount', 'name': 'Kiemelt aj...   \n2      ...  [{'flag': 'flag_frozen', 'name': 'Fagyasztott ...   \n3      ...  [{'flag': 'flag_frozen', 'name': 'Fagyasztott ...   \n4      ...  [{'flag': 'flag_auchan_brand', 'name': 'Auchan...   \n...    ...                                                ...   \n34808  ...                                                 []   \n34809  ...                                                 []   \n34810  ...                                                 []   \n34811  ...                                                 []   \n34812  ...                                                 []   \n\n                                                   media  \\\n0      {'images': ['https://ahuazurewebblob0.azureedg...   \n1      {'images': ['https://ahuazurewebblob0.azureedg...   \n2      {'images': ['https://ahuazurewebblob0.azureedg...   \n3      {'images': ['https://ahuazurewebblob0.azureedg...   \n4      {'images': ['https://ahuazurewebblob0.azureedg...   \n...                                                  ...   \n34808  {'images': ['https://ahuazurewebblob0.azureedg...   \n34809  {'images': ['https://ahuazurewebblob0.azureedg...   \n34810  {'images': ['https://ahuazurewebblob0.azureedg...   \n34811  {'images': ['https://ahuazurewebblob0.azureedg...   \n34812  {'images': ['https://ahuazurewebblob0.azureedg...   \n\n                                                 details isInVirtualStock  \\\n0      [ingredients, parameterList, nutrition, allerg...            False   \n1      [description, ingredients, parameterList, nutr...            False   \n2      [description, ingredients, parameterList, nutr...            False   \n3      [description, ingredients, parameterList, nutr...            False   \n4      [description, ingredients, parameterList, nutr...            False   \n...                                                  ...              ...   \n34808                                      [description]            False   \n34809                                      [description]            False   \n34810                                      [description]            False   \n34811                                      [description]            False   \n34812                                      [description]            False   \n\n      shoppingListsContain  offerType packageUnit packageSize itemVolumeInfo  \\\n0                       []   discount          KG       0.175            NaN   \n1                       []   discount          KG       0.150            NaN   \n2                       []                     KG       0.500            NaN   \n3                       []                     KG       0.500            NaN   \n4                       []                     KG       0.450            NaN   \n...                    ...        ...         ...         ...            ...   \n34808                   []                     DB       1.000            NaN   \n34809                   []                     DB       1.000            NaN   \n34810                   []                     DB       1.000            NaN   \n34811                   []                     DB       1.000            NaN   \n34812                   []                     DB       1.000            NaN   \n\n       roll  \n0       NaN  \n1       NaN  \n2       NaN  \n3       NaN  \n4       NaN  \n...     ...  \n34808   NaN  \n34809   NaN  \n34810   NaN  \n34811   NaN  \n34812   NaN  \n\n[34813 rows x 22 columns]",
      "text/html": "<div>\n<style scoped>\n    .dataframe tbody tr th:only-of-type {\n        vertical-align: middle;\n    }\n\n    .dataframe tbody tr th {\n        vertical-align: top;\n    }\n\n    .dataframe thead th {\n        text-align: right;\n    }\n</style>\n<table border=\"1\" class=\"dataframe\">\n  <thead>\n    <tr style=\"text-align: right;\">\n      <th></th>\n      <th>id</th>\n      <th>name</th>\n      <th>sku</th>\n      <th>productId</th>\n      <th>addedName</th>\n      <th>selectValue</th>\n      <th>status</th>\n      <th>unit</th>\n      <th>eanCode</th>\n      <th>aided</th>\n      <th>...</th>\n      <th>flags</th>\n      <th>media</th>\n      <th>details</th>\n      <th>isInVirtualStock</th>\n      <th>shoppingListsContain</th>\n      <th>offerType</th>\n      <th>packageUnit</th>\n      <th>packageSize</th>\n      <th>itemVolumeInfo</th>\n      <th>roll</th>\n    </tr>\n  </thead>\n  <tbody>\n    <tr>\n      <th>0</th>\n      <td>14914</td>\n      <td>Landly gyorsfagyasztott, elősütött baguette, z...</td>\n      <td>509341</td>\n      <td>14911</td>\n      <td></td>\n      <td>14914</td>\n      <td>none</td>\n      <td>db</td>\n      <td>4050529071186</td>\n      <td>False</td>\n      <td>...</td>\n      <td>[{'flag': 'flag_discount', 'name': 'Kiemelt aj...</td>\n      <td>{'images': ['https://ahuazurewebblob0.azureedg...</td>\n      <td>[ingredients, parameterList, nutrition, allerg...</td>\n      <td>False</td>\n      <td>[]</td>\n      <td>discount</td>\n      <td>KG</td>\n      <td>0.175</td>\n      <td>NaN</td>\n      <td>NaN</td>\n    </tr>\n    <tr>\n      <th>1</th>\n      <td>3963016</td>\n      <td>MEKKO gyorsfagyasztott, elősütött bagett, Zöld...</td>\n      <td>375657</td>\n      <td>425635</td>\n      <td></td>\n      <td>3963016</td>\n      <td>none</td>\n      <td>db</td>\n      <td>5999887426261</td>\n      <td>False</td>\n      <td>...</td>\n      <td>[{'flag': 'flag_discount', 'name': 'Kiemelt aj...</td>\n      <td>{'images': ['https://ahuazurewebblob0.azureedg...</td>\n      <td>[description, ingredients, parameterList, nutr...</td>\n      <td>False</td>\n      <td>[]</td>\n      <td>discount</td>\n      <td>KG</td>\n      <td>0.150</td>\n      <td>NaN</td>\n      <td>NaN</td>\n    </tr>\n    <tr>\n      <th>2</th>\n      <td>4001800</td>\n      <td>Ledo gyorsfagyasztott étcsokoládé ízű-meggyes ...</td>\n      <td>413629</td>\n      <td>464410</td>\n      <td></td>\n      <td>4001800</td>\n      <td>none</td>\n      <td>db</td>\n      <td>3850116038957</td>\n      <td>False</td>\n      <td>...</td>\n      <td>[{'flag': 'flag_frozen', 'name': 'Fagyasztott ...</td>\n      <td>{'images': ['https://ahuazurewebblob0.azureedg...</td>\n      <td>[description, ingredients, parameterList, nutr...</td>\n      <td>False</td>\n      <td>[]</td>\n      <td></td>\n      <td>KG</td>\n      <td>0.500</td>\n      <td>NaN</td>\n      <td>NaN</td>\n    </tr>\n    <tr>\n      <th>3</th>\n      <td>4001797</td>\n      <td>Ledo gyorsfagyasztott vaníliás-erdei gyümölcsö...</td>\n      <td>413628</td>\n      <td>464407</td>\n      <td></td>\n      <td>4001797</td>\n      <td>none</td>\n      <td>db</td>\n      <td>3850116038926</td>\n      <td>False</td>\n      <td>...</td>\n      <td>[{'flag': 'flag_frozen', 'name': 'Fagyasztott ...</td>\n      <td>{'images': ['https://ahuazurewebblob0.azureedg...</td>\n      <td>[description, ingredients, parameterList, nutr...</td>\n      <td>False</td>\n      <td>[]</td>\n      <td></td>\n      <td>KG</td>\n      <td>0.500</td>\n      <td>NaN</td>\n      <td>NaN</td>\n    </tr>\n    <tr>\n      <th>4</th>\n      <td>3988465</td>\n      <td>Auchan Nívó Sütésre kész tiszta vajcsokoládé t...</td>\n      <td>279018</td>\n      <td>451075</td>\n      <td></td>\n      <td>3988465</td>\n      <td>none</td>\n      <td>db</td>\n      <td>3596710371617</td>\n      <td>False</td>\n      <td>...</td>\n      <td>[{'flag': 'flag_auchan_brand', 'name': 'Auchan...</td>\n      <td>{'images': ['https://ahuazurewebblob0.azureedg...</td>\n      <td>[description, ingredients, parameterList, nutr...</td>\n      <td>False</td>\n      <td>[]</td>\n      <td></td>\n      <td>KG</td>\n      <td>0.450</td>\n      <td>NaN</td>\n      <td>NaN</td>\n    </tr>\n    <tr>\n      <th>...</th>\n      <td>...</td>\n      <td>...</td>\n      <td>...</td>\n      <td>...</td>\n      <td>...</td>\n      <td>...</td>\n      <td>...</td>\n      <td>...</td>\n      <td>...</td>\n      <td>...</td>\n      <td>...</td>\n      <td>...</td>\n      <td>...</td>\n      <td>...</td>\n      <td>...</td>\n      <td>...</td>\n      <td>...</td>\n      <td>...</td>\n      <td>...</td>\n      <td>...</td>\n      <td>...</td>\n    </tr>\n    <tr>\n      <th>34808</th>\n      <td>4120288</td>\n      <td>Actuel kihúzható szárító 20m</td>\n      <td>616669</td>\n      <td>582898</td>\n      <td></td>\n      <td>4120288</td>\n      <td>none</td>\n      <td>db</td>\n      <td>3245678384039</td>\n      <td>False</td>\n      <td>...</td>\n      <td>[]</td>\n      <td>{'images': ['https://ahuazurewebblob0.azureedg...</td>\n      <td>[description]</td>\n      <td>False</td>\n      <td>[]</td>\n      <td></td>\n      <td>DB</td>\n      <td>1.000</td>\n      <td>NaN</td>\n      <td>NaN</td>\n    </tr>\n    <tr>\n      <th>34809</th>\n      <td>4120291</td>\n      <td>Kültéri szárító aluminium 50m</td>\n      <td>616670</td>\n      <td>582901</td>\n      <td></td>\n      <td>4120291</td>\n      <td>none</td>\n      <td>db</td>\n      <td>9007741018777</td>\n      <td>False</td>\n      <td>...</td>\n      <td>[]</td>\n      <td>{'images': ['https://ahuazurewebblob0.azureedg...</td>\n      <td>[description]</td>\n      <td>False</td>\n      <td>[]</td>\n      <td></td>\n      <td>DB</td>\n      <td>1.000</td>\n      <td>NaN</td>\n      <td>NaN</td>\n    </tr>\n    <tr>\n      <th>34810</th>\n      <td>4120375</td>\n      <td>Curver \"ribbon\" ruháskosár 40 l szürke</td>\n      <td>645711</td>\n      <td>582985</td>\n      <td></td>\n      <td>4120375</td>\n      <td>none</td>\n      <td>db</td>\n      <td>3253920767011</td>\n      <td>False</td>\n      <td>...</td>\n      <td>[]</td>\n      <td>{'images': ['https://ahuazurewebblob0.azureedg...</td>\n      <td>[description]</td>\n      <td>False</td>\n      <td>[]</td>\n      <td></td>\n      <td>DB</td>\n      <td>1.000</td>\n      <td>NaN</td>\n      <td>NaN</td>\n    </tr>\n    <tr>\n      <th>34811</th>\n      <td>4120372</td>\n      <td>Curver \"ribbon\" ruháskosár 40l fehér</td>\n      <td>645710</td>\n      <td>582982</td>\n      <td></td>\n      <td>4120372</td>\n      <td>none</td>\n      <td>db</td>\n      <td>3253920767028</td>\n      <td>False</td>\n      <td>...</td>\n      <td>[]</td>\n      <td>{'images': ['https://ahuazurewebblob0.azureedg...</td>\n      <td>[description]</td>\n      <td>False</td>\n      <td>[]</td>\n      <td></td>\n      <td>DB</td>\n      <td>1.000</td>\n      <td>NaN</td>\n      <td>NaN</td>\n    </tr>\n    <tr>\n      <th>34812</th>\n      <td>4120369</td>\n      <td>Curver \"ribbon\" szennyestartó 49l szürke</td>\n      <td>645709</td>\n      <td>582979</td>\n      <td></td>\n      <td>4120369</td>\n      <td>none</td>\n      <td>db</td>\n      <td>3253920746009</td>\n      <td>False</td>\n      <td>...</td>\n      <td>[]</td>\n      <td>{'images': ['https://ahuazurewebblob0.azureedg...</td>\n      <td>[description]</td>\n      <td>False</td>\n      <td>[]</td>\n      <td></td>\n      <td>DB</td>\n      <td>1.000</td>\n      <td>NaN</td>\n      <td>NaN</td>\n    </tr>\n  </tbody>\n</table>\n<p>34813 rows × 22 columns</p>\n</div>"
     },
     "execution_count": 19,
     "metadata": {},
     "output_type": "execute_result"
    }
   ],
   "source": [
    "df_variants"
   ],
   "metadata": {
    "collapsed": false,
    "pycharm": {
     "name": "#%%\n"
    }
   }
  },
  {
   "cell_type": "code",
   "execution_count": 5,
   "outputs": [],
   "source": [
    "df_nutritions = pd.read_csv(\"../nutritions_raw.csv\", index_col=0)"
   ],
   "metadata": {
    "collapsed": false,
    "pycharm": {
     "name": "#%%\n"
    }
   }
  },
  {
   "cell_type": "code",
   "execution_count": 6,
   "outputs": [
    {
     "data": {
      "text/plain": "            id     Energia (kJ / kcal)   Zsír (g)  Telített zsírsavak  (g)  \\\n0        14914                1199/285     8.8000                   4.8000   \n1      3963016  1091.830000/260.770000   7.670000                 3.540000   \n2      4001800                1270/303    14.0000                   7.6000   \n3      4001797                1122/268    13.0000                   7.0000   \n4      3988465  1755.000000/420.000000  23.400000                15.000000   \n...        ...                     ...        ...                      ...   \n10595  4117341                2030/601         23                        9   \n10596  4117392                  129/31        0,4                      0,1   \n10597  4117335                2079/625         28                       11   \n10598  4117305                1835/437         18                      7,2   \n10599  4117344                2126/508         26                       13   \n\n      Szénhidrát  (g)  Cukrok  (g) Rost  (g) Fehérje (g)    Só (g)  \\\n0             42.0000       2.3000  0.000000      8.3000    1.4000   \n1           45.350000     2.690000  3.840000    0.670000  3.840000   \n2             39.0000      17.0000       NaN      4.1000    0.7800   \n3             34.0000      14.0000       NaN      3.7000    0.7000   \n4           42.400000    12.600000       NaN    8.100000  0.840000   \n...               ...          ...       ...         ...       ...   \n10595              67           33       NaN         5,6      0,66   \n10596             6,1          0,2       NaN         0,7       0,9   \n10597              61           30       NaN         5,5      1,23   \n10598            63,6           28       NaN         5,1       0,3   \n10599              64           31       NaN           5      0,71   \n\n      Riboflavin (mg)  ...  Ebből koleszterin A vitamin (µg) Tiamin (mg)  \\\n0                 NaN  ...                NaN            NaN         NaN   \n1                 NaN  ...                NaN            NaN         NaN   \n2                 NaN  ...                NaN            NaN         NaN   \n3                 NaN  ...                NaN            NaN         NaN   \n4                 NaN  ...                NaN            NaN         NaN   \n...               ...  ...                ...            ...         ...   \n10595             NaN  ...                NaN            NaN         NaN   \n10596             NaN  ...                NaN            NaN         NaN   \n10597             NaN  ...                NaN            NaN         NaN   \n10598             NaN  ...                NaN            NaN         NaN   \n10599             NaN  ...                NaN            NaN         NaN   \n\n      Niacin (mg) Pantoténsav (mg) Klorid (mg) Cink  (mg) Mangán  (mg)  \\\n0             NaN              NaN         NaN        NaN          NaN   \n1             NaN              NaN         NaN        NaN          NaN   \n2             NaN              NaN         NaN        NaN          NaN   \n3             NaN              NaN         NaN        NaN          NaN   \n4             NaN              NaN         NaN        NaN          NaN   \n...           ...              ...         ...        ...          ...   \n10595         NaN              NaN         NaN        NaN          NaN   \n10596         NaN              NaN         NaN        NaN          NaN   \n10597         NaN              NaN         NaN        NaN          NaN   \n10598         NaN              NaN         NaN        NaN          NaN   \n10599         NaN              NaN         NaN        NaN          NaN   \n\n      Fluor (µg) Króm (µg)  \n0            NaN       NaN  \n1            NaN       NaN  \n2            NaN       NaN  \n3            NaN       NaN  \n4            NaN       NaN  \n...          ...       ...  \n10595        NaN       NaN  \n10596        NaN       NaN  \n10597        NaN       NaN  \n10598        NaN       NaN  \n10599        NaN       NaN  \n\n[10600 rows x 42 columns]",
      "text/html": "<div>\n<style scoped>\n    .dataframe tbody tr th:only-of-type {\n        vertical-align: middle;\n    }\n\n    .dataframe tbody tr th {\n        vertical-align: top;\n    }\n\n    .dataframe thead th {\n        text-align: right;\n    }\n</style>\n<table border=\"1\" class=\"dataframe\">\n  <thead>\n    <tr style=\"text-align: right;\">\n      <th></th>\n      <th>id</th>\n      <th>Energia (kJ / kcal)</th>\n      <th>Zsír (g)</th>\n      <th>Telített zsírsavak  (g)</th>\n      <th>Szénhidrát  (g)</th>\n      <th>Cukrok  (g)</th>\n      <th>Rost  (g)</th>\n      <th>Fehérje (g)</th>\n      <th>Só (g)</th>\n      <th>Riboflavin (mg)</th>\n      <th>...</th>\n      <th>Ebből koleszterin</th>\n      <th>A vitamin (µg)</th>\n      <th>Tiamin (mg)</th>\n      <th>Niacin (mg)</th>\n      <th>Pantoténsav (mg)</th>\n      <th>Klorid (mg)</th>\n      <th>Cink  (mg)</th>\n      <th>Mangán  (mg)</th>\n      <th>Fluor (µg)</th>\n      <th>Króm (µg)</th>\n    </tr>\n  </thead>\n  <tbody>\n    <tr>\n      <th>0</th>\n      <td>14914</td>\n      <td>1199/285</td>\n      <td>8.8000</td>\n      <td>4.8000</td>\n      <td>42.0000</td>\n      <td>2.3000</td>\n      <td>0.000000</td>\n      <td>8.3000</td>\n      <td>1.4000</td>\n      <td>NaN</td>\n      <td>...</td>\n      <td>NaN</td>\n      <td>NaN</td>\n      <td>NaN</td>\n      <td>NaN</td>\n      <td>NaN</td>\n      <td>NaN</td>\n      <td>NaN</td>\n      <td>NaN</td>\n      <td>NaN</td>\n      <td>NaN</td>\n    </tr>\n    <tr>\n      <th>1</th>\n      <td>3963016</td>\n      <td>1091.830000/260.770000</td>\n      <td>7.670000</td>\n      <td>3.540000</td>\n      <td>45.350000</td>\n      <td>2.690000</td>\n      <td>3.840000</td>\n      <td>0.670000</td>\n      <td>3.840000</td>\n      <td>NaN</td>\n      <td>...</td>\n      <td>NaN</td>\n      <td>NaN</td>\n      <td>NaN</td>\n      <td>NaN</td>\n      <td>NaN</td>\n      <td>NaN</td>\n      <td>NaN</td>\n      <td>NaN</td>\n      <td>NaN</td>\n      <td>NaN</td>\n    </tr>\n    <tr>\n      <th>2</th>\n      <td>4001800</td>\n      <td>1270/303</td>\n      <td>14.0000</td>\n      <td>7.6000</td>\n      <td>39.0000</td>\n      <td>17.0000</td>\n      <td>NaN</td>\n      <td>4.1000</td>\n      <td>0.7800</td>\n      <td>NaN</td>\n      <td>...</td>\n      <td>NaN</td>\n      <td>NaN</td>\n      <td>NaN</td>\n      <td>NaN</td>\n      <td>NaN</td>\n      <td>NaN</td>\n      <td>NaN</td>\n      <td>NaN</td>\n      <td>NaN</td>\n      <td>NaN</td>\n    </tr>\n    <tr>\n      <th>3</th>\n      <td>4001797</td>\n      <td>1122/268</td>\n      <td>13.0000</td>\n      <td>7.0000</td>\n      <td>34.0000</td>\n      <td>14.0000</td>\n      <td>NaN</td>\n      <td>3.7000</td>\n      <td>0.7000</td>\n      <td>NaN</td>\n      <td>...</td>\n      <td>NaN</td>\n      <td>NaN</td>\n      <td>NaN</td>\n      <td>NaN</td>\n      <td>NaN</td>\n      <td>NaN</td>\n      <td>NaN</td>\n      <td>NaN</td>\n      <td>NaN</td>\n      <td>NaN</td>\n    </tr>\n    <tr>\n      <th>4</th>\n      <td>3988465</td>\n      <td>1755.000000/420.000000</td>\n      <td>23.400000</td>\n      <td>15.000000</td>\n      <td>42.400000</td>\n      <td>12.600000</td>\n      <td>NaN</td>\n      <td>8.100000</td>\n      <td>0.840000</td>\n      <td>NaN</td>\n      <td>...</td>\n      <td>NaN</td>\n      <td>NaN</td>\n      <td>NaN</td>\n      <td>NaN</td>\n      <td>NaN</td>\n      <td>NaN</td>\n      <td>NaN</td>\n      <td>NaN</td>\n      <td>NaN</td>\n      <td>NaN</td>\n    </tr>\n    <tr>\n      <th>...</th>\n      <td>...</td>\n      <td>...</td>\n      <td>...</td>\n      <td>...</td>\n      <td>...</td>\n      <td>...</td>\n      <td>...</td>\n      <td>...</td>\n      <td>...</td>\n      <td>...</td>\n      <td>...</td>\n      <td>...</td>\n      <td>...</td>\n      <td>...</td>\n      <td>...</td>\n      <td>...</td>\n      <td>...</td>\n      <td>...</td>\n      <td>...</td>\n      <td>...</td>\n      <td>...</td>\n    </tr>\n    <tr>\n      <th>10595</th>\n      <td>4117341</td>\n      <td>2030/601</td>\n      <td>23</td>\n      <td>9</td>\n      <td>67</td>\n      <td>33</td>\n      <td>NaN</td>\n      <td>5,6</td>\n      <td>0,66</td>\n      <td>NaN</td>\n      <td>...</td>\n      <td>NaN</td>\n      <td>NaN</td>\n      <td>NaN</td>\n      <td>NaN</td>\n      <td>NaN</td>\n      <td>NaN</td>\n      <td>NaN</td>\n      <td>NaN</td>\n      <td>NaN</td>\n      <td>NaN</td>\n    </tr>\n    <tr>\n      <th>10596</th>\n      <td>4117392</td>\n      <td>129/31</td>\n      <td>0,4</td>\n      <td>0,1</td>\n      <td>6,1</td>\n      <td>0,2</td>\n      <td>NaN</td>\n      <td>0,7</td>\n      <td>0,9</td>\n      <td>NaN</td>\n      <td>...</td>\n      <td>NaN</td>\n      <td>NaN</td>\n      <td>NaN</td>\n      <td>NaN</td>\n      <td>NaN</td>\n      <td>NaN</td>\n      <td>NaN</td>\n      <td>NaN</td>\n      <td>NaN</td>\n      <td>NaN</td>\n    </tr>\n    <tr>\n      <th>10597</th>\n      <td>4117335</td>\n      <td>2079/625</td>\n      <td>28</td>\n      <td>11</td>\n      <td>61</td>\n      <td>30</td>\n      <td>NaN</td>\n      <td>5,5</td>\n      <td>1,23</td>\n      <td>NaN</td>\n      <td>...</td>\n      <td>NaN</td>\n      <td>NaN</td>\n      <td>NaN</td>\n      <td>NaN</td>\n      <td>NaN</td>\n      <td>NaN</td>\n      <td>NaN</td>\n      <td>NaN</td>\n      <td>NaN</td>\n      <td>NaN</td>\n    </tr>\n    <tr>\n      <th>10598</th>\n      <td>4117305</td>\n      <td>1835/437</td>\n      <td>18</td>\n      <td>7,2</td>\n      <td>63,6</td>\n      <td>28</td>\n      <td>NaN</td>\n      <td>5,1</td>\n      <td>0,3</td>\n      <td>NaN</td>\n      <td>...</td>\n      <td>NaN</td>\n      <td>NaN</td>\n      <td>NaN</td>\n      <td>NaN</td>\n      <td>NaN</td>\n      <td>NaN</td>\n      <td>NaN</td>\n      <td>NaN</td>\n      <td>NaN</td>\n      <td>NaN</td>\n    </tr>\n    <tr>\n      <th>10599</th>\n      <td>4117344</td>\n      <td>2126/508</td>\n      <td>26</td>\n      <td>13</td>\n      <td>64</td>\n      <td>31</td>\n      <td>NaN</td>\n      <td>5</td>\n      <td>0,71</td>\n      <td>NaN</td>\n      <td>...</td>\n      <td>NaN</td>\n      <td>NaN</td>\n      <td>NaN</td>\n      <td>NaN</td>\n      <td>NaN</td>\n      <td>NaN</td>\n      <td>NaN</td>\n      <td>NaN</td>\n      <td>NaN</td>\n      <td>NaN</td>\n    </tr>\n  </tbody>\n</table>\n<p>10600 rows × 42 columns</p>\n</div>"
     },
     "execution_count": 6,
     "metadata": {},
     "output_type": "execute_result"
    }
   ],
   "source": [
    "df_nutritions"
   ],
   "metadata": {
    "collapsed": false,
    "pycharm": {
     "name": "#%%\n"
    }
   }
  },
  {
   "cell_type": "code",
   "execution_count": 21,
   "outputs": [],
   "source": [
    "# merge variants with prices and nutritions\n",
    "df_merged = df_variants.merge(df_prices, on=\"id\")\n",
    "df_merged = df_merged.merge(df_nutritions, on=\"id\")"
   ],
   "metadata": {
    "collapsed": false,
    "pycharm": {
     "name": "#%%\n"
    }
   }
  },
  {
   "cell_type": "code",
   "execution_count": 31,
   "outputs": [
    {
     "data": {
      "text/plain": "                                                    name  gross  \\\n10417                        Ischler kajsziízzel töltve     199   \n1351                       Thymos Csillagánizs egész 5 g    335   \n10419  Porcukros linzer kajszibarack ízű töltelékkel ...    199   \n10418  Morzsás linzer kajszibarack ízű töltelékkel tö...    199   \n10481                         St Jacques kagylóhús 250 g   7789   \n...                                                  ...    ...   \n1076   De Cecco spaghetti durum búzadarából készült t...   1249   \n6156   Bonduelle gyorsfagyasztott zöldségleves keveré...    475   \n6168   Bonduelle gyorsfagyasztott karfiolos krémleves...    580   \n6177   Vici gyorsfagyasztott, előfőzött gombóc hússal...   1999   \n6170   Bonduelle gyorsfagyasztott sütőtökös krémleves...    580   \n\n       discountPercentage  grossDiscounted  \n10417                  50               99  \n1351                   50              169  \n10419                  50               99  \n10418                  50               99  \n10481                  49             4000  \n...                   ...              ...  \n1076                   30              874  \n6156                   30              333  \n6168                   30              406  \n6177                   30             1399  \n6170                   30              406  \n\n[100 rows x 4 columns]",
      "text/html": "<div>\n<style scoped>\n    .dataframe tbody tr th:only-of-type {\n        vertical-align: middle;\n    }\n\n    .dataframe tbody tr th {\n        vertical-align: top;\n    }\n\n    .dataframe thead th {\n        text-align: right;\n    }\n</style>\n<table border=\"1\" class=\"dataframe\">\n  <thead>\n    <tr style=\"text-align: right;\">\n      <th></th>\n      <th>name</th>\n      <th>gross</th>\n      <th>discountPercentage</th>\n      <th>grossDiscounted</th>\n    </tr>\n  </thead>\n  <tbody>\n    <tr>\n      <th>10417</th>\n      <td>Ischler kajsziízzel töltve</td>\n      <td>199</td>\n      <td>50</td>\n      <td>99</td>\n    </tr>\n    <tr>\n      <th>1351</th>\n      <td>Thymos Csillagánizs egész 5 g</td>\n      <td>335</td>\n      <td>50</td>\n      <td>169</td>\n    </tr>\n    <tr>\n      <th>10419</th>\n      <td>Porcukros linzer kajszibarack ízű töltelékkel ...</td>\n      <td>199</td>\n      <td>50</td>\n      <td>99</td>\n    </tr>\n    <tr>\n      <th>10418</th>\n      <td>Morzsás linzer kajszibarack ízű töltelékkel tö...</td>\n      <td>199</td>\n      <td>50</td>\n      <td>99</td>\n    </tr>\n    <tr>\n      <th>10481</th>\n      <td>St Jacques kagylóhús 250 g</td>\n      <td>7789</td>\n      <td>49</td>\n      <td>4000</td>\n    </tr>\n    <tr>\n      <th>...</th>\n      <td>...</td>\n      <td>...</td>\n      <td>...</td>\n      <td>...</td>\n    </tr>\n    <tr>\n      <th>1076</th>\n      <td>De Cecco spaghetti durum búzadarából készült t...</td>\n      <td>1249</td>\n      <td>30</td>\n      <td>874</td>\n    </tr>\n    <tr>\n      <th>6156</th>\n      <td>Bonduelle gyorsfagyasztott zöldségleves keveré...</td>\n      <td>475</td>\n      <td>30</td>\n      <td>333</td>\n    </tr>\n    <tr>\n      <th>6168</th>\n      <td>Bonduelle gyorsfagyasztott karfiolos krémleves...</td>\n      <td>580</td>\n      <td>30</td>\n      <td>406</td>\n    </tr>\n    <tr>\n      <th>6177</th>\n      <td>Vici gyorsfagyasztott, előfőzött gombóc hússal...</td>\n      <td>1999</td>\n      <td>30</td>\n      <td>1399</td>\n    </tr>\n    <tr>\n      <th>6170</th>\n      <td>Bonduelle gyorsfagyasztott sütőtökös krémleves...</td>\n      <td>580</td>\n      <td>30</td>\n      <td>406</td>\n    </tr>\n  </tbody>\n</table>\n<p>100 rows × 4 columns</p>\n</div>"
     },
     "execution_count": 31,
     "metadata": {},
     "output_type": "execute_result"
    }
   ],
   "source": [
    "df_merged.sort_values(by=\"discountPercentage\", ascending=False).head(100)[[\"name\", \"gross\", \"discountPercentage\", \"grossDiscounted\"]]"
   ],
   "metadata": {
    "collapsed": false,
    "pycharm": {
     "name": "#%%\n"
    }
   }
  },
  {
   "cell_type": "code",
   "execution_count": 11,
   "outputs": [
    {
     "data": {
      "text/plain": "                                                    name Fehérje (g)\n53                           Auchan Nívó Bio zabital 1 l         0,5\n85        Delicious joghurtos-vörös áfonyás zabkása 65 g     13.0000\n86      Dr. Oetker Vitalis laktózmentes vörös áfonyás...         2,9\n87     Cornexi almás fahéjas zabkása, hozzáadott cuko...     13.0000\n88               Dr. Oetker Vitalis banános zabkása 55 g      3.3000\n...                                                  ...         ...\n10263  BioTechUSA Oat&Fruit banán ízű zabszelet szárí...      5.2000\n10389  Bio teljes kiőrlésű zabkekesz étcsokoládéalapp...    7.400000\n10390  Teljes kiőrlésű zabkeksz tejcsokoládé talppal-...         7,1\n10393                   Biopont Bio apró zabpehely 300 g     13.0000\n10395                                 Bio zabkorpa 250 g   15.100000\n\n[127 rows x 2 columns]",
      "text/html": "<div>\n<style scoped>\n    .dataframe tbody tr th:only-of-type {\n        vertical-align: middle;\n    }\n\n    .dataframe tbody tr th {\n        vertical-align: top;\n    }\n\n    .dataframe thead th {\n        text-align: right;\n    }\n</style>\n<table border=\"1\" class=\"dataframe\">\n  <thead>\n    <tr style=\"text-align: right;\">\n      <th></th>\n      <th>name</th>\n      <th>Fehérje (g)</th>\n    </tr>\n  </thead>\n  <tbody>\n    <tr>\n      <th>53</th>\n      <td>Auchan Nívó Bio zabital 1 l</td>\n      <td>0,5</td>\n    </tr>\n    <tr>\n      <th>85</th>\n      <td>Delicious joghurtos-vörös áfonyás zabkása 65 g</td>\n      <td>13.0000</td>\n    </tr>\n    <tr>\n      <th>86</th>\n      <td>Dr. Oetker Vitalis laktózmentes vörös áfonyás...</td>\n      <td>2,9</td>\n    </tr>\n    <tr>\n      <th>87</th>\n      <td>Cornexi almás fahéjas zabkása, hozzáadott cuko...</td>\n      <td>13.0000</td>\n    </tr>\n    <tr>\n      <th>88</th>\n      <td>Dr. Oetker Vitalis banános zabkása 55 g</td>\n      <td>3.3000</td>\n    </tr>\n    <tr>\n      <th>...</th>\n      <td>...</td>\n      <td>...</td>\n    </tr>\n    <tr>\n      <th>10263</th>\n      <td>BioTechUSA Oat&amp;Fruit banán ízű zabszelet szárí...</td>\n      <td>5.2000</td>\n    </tr>\n    <tr>\n      <th>10389</th>\n      <td>Bio teljes kiőrlésű zabkekesz étcsokoládéalapp...</td>\n      <td>7.400000</td>\n    </tr>\n    <tr>\n      <th>10390</th>\n      <td>Teljes kiőrlésű zabkeksz tejcsokoládé talppal-...</td>\n      <td>7,1</td>\n    </tr>\n    <tr>\n      <th>10393</th>\n      <td>Biopont Bio apró zabpehely 300 g</td>\n      <td>13.0000</td>\n    </tr>\n    <tr>\n      <th>10395</th>\n      <td>Bio zabkorpa 250 g</td>\n      <td>15.100000</td>\n    </tr>\n  </tbody>\n</table>\n<p>127 rows × 2 columns</p>\n</div>"
     },
     "execution_count": 11,
     "metadata": {},
     "output_type": "execute_result"
    }
   ],
   "source": [
    "df_merged.loc[df_merged[\"name\"].str.contains(\"zab\"), [\"name\", \"Fehérje (g)\"]]"
   ],
   "metadata": {
    "collapsed": false,
    "pycharm": {
     "name": "#%%\n"
    }
   }
  },
  {
   "cell_type": "markdown",
   "source": [
    "# Collect categories"
   ],
   "metadata": {
    "collapsed": false,
    "pycharm": {
     "name": "#%% md\n"
    }
   }
  },
  {
   "cell_type": "code",
   "execution_count": 30,
   "outputs": [
    {
     "name": "stdout",
     "output_type": "stream",
     "text": [
      "355.201776266098\n",
      "0.010479474148579379\n"
     ]
    }
   ],
   "source": [
    "start_time = time.time()\n",
    "all_categories_df = []\n",
    "for member in tar.getmembers():\n",
    "    if member.name.find(\"product.json\") != -1:\n",
    "        file_content = tar.extractfile(member.name).read().decode(\"utf-8\")\n",
    "        data = json.loads(file_content)\n",
    "        all_categories_df.append(pd.DataFrame(data[\"categories\"]))\n",
    "\n",
    "\n",
    "df_categories = pd.concat(all_categories_df, ignore_index=True)\n",
    "end_time = time.time()\n",
    "print(end_time - start_time)\n",
    "print((end_time - start_time) / len(df_products))"
   ],
   "metadata": {
    "collapsed": false,
    "pycharm": {
     "name": "#%%\n"
    }
   }
  },
  {
   "cell_type": "code",
   "execution_count": 31,
   "outputs": [
    {
     "data": {
      "text/plain": "1        25455\n4        14548\n12617    11213\n5549      7628\n13088     6778\n         ...  \n11671        2\n11632        2\n11692        2\n11719        2\n11306        2\nName: id, Length: 1717, dtype: int64"
     },
     "execution_count": 31,
     "metadata": {},
     "output_type": "execute_result"
    }
   ],
   "source": [
    "df_categories[\"id\"].value_counts()"
   ],
   "metadata": {
    "collapsed": false,
    "pycharm": {
     "name": "#%%\n"
    }
   }
  },
  {
   "cell_type": "code",
   "execution_count": 36,
   "outputs": [
    {
     "ename": "TypeError",
     "evalue": "\"value\" parameter must be a scalar or dict, but you passed a \"list\"",
     "output_type": "error",
     "traceback": [
      "\u001B[0;31m---------------------------------------------------------------------------\u001B[0m",
      "\u001B[0;31mTypeError\u001B[0m                                 Traceback (most recent call last)",
      "Cell \u001B[0;32mIn[36], line 2\u001B[0m\n\u001B[1;32m      1\u001B[0m df_categories\u001B[38;5;241m.\u001B[39mdrop_duplicates(subset\u001B[38;5;241m=\u001B[39m[\u001B[38;5;124m\"\u001B[39m\u001B[38;5;124mid\u001B[39m\u001B[38;5;124m\"\u001B[39m], inplace\u001B[38;5;241m=\u001B[39m\u001B[38;5;28;01mTrue\u001B[39;00m)\n\u001B[0;32m----> 2\u001B[0m \u001B[43mdf_categories\u001B[49m\u001B[38;5;241;43m.\u001B[39;49m\u001B[43mfillna\u001B[49m\u001B[43m(\u001B[49m\u001B[43mvalue\u001B[49m\u001B[38;5;241;43m=\u001B[39;49m\u001B[43m[\u001B[49m\u001B[38;5;28;43;01mNone\u001B[39;49;00m\u001B[43m]\u001B[49m\u001B[43m,\u001B[49m\u001B[43m \u001B[49m\u001B[43minplace\u001B[49m\u001B[38;5;241;43m=\u001B[39;49m\u001B[38;5;28;43;01mTrue\u001B[39;49;00m\u001B[43m)\u001B[49m\n",
      "File \u001B[0;32m~/PycharmProjects/auchan_crawler/venv/lib/python3.10/site-packages/pandas/util/_decorators.py:331\u001B[0m, in \u001B[0;36mdeprecate_nonkeyword_arguments.<locals>.decorate.<locals>.wrapper\u001B[0;34m(*args, **kwargs)\u001B[0m\n\u001B[1;32m    325\u001B[0m \u001B[38;5;28;01mif\u001B[39;00m \u001B[38;5;28mlen\u001B[39m(args) \u001B[38;5;241m>\u001B[39m num_allow_args:\n\u001B[1;32m    326\u001B[0m     warnings\u001B[38;5;241m.\u001B[39mwarn(\n\u001B[1;32m    327\u001B[0m         msg\u001B[38;5;241m.\u001B[39mformat(arguments\u001B[38;5;241m=\u001B[39m_format_argument_list(allow_args)),\n\u001B[1;32m    328\u001B[0m         \u001B[38;5;167;01mFutureWarning\u001B[39;00m,\n\u001B[1;32m    329\u001B[0m         stacklevel\u001B[38;5;241m=\u001B[39mfind_stack_level(),\n\u001B[1;32m    330\u001B[0m     )\n\u001B[0;32m--> 331\u001B[0m \u001B[38;5;28;01mreturn\u001B[39;00m \u001B[43mfunc\u001B[49m\u001B[43m(\u001B[49m\u001B[38;5;241;43m*\u001B[39;49m\u001B[43margs\u001B[49m\u001B[43m,\u001B[49m\u001B[43m \u001B[49m\u001B[38;5;241;43m*\u001B[39;49m\u001B[38;5;241;43m*\u001B[39;49m\u001B[43mkwargs\u001B[49m\u001B[43m)\u001B[49m\n",
      "File \u001B[0;32m~/PycharmProjects/auchan_crawler/venv/lib/python3.10/site-packages/pandas/core/frame.py:5632\u001B[0m, in \u001B[0;36mDataFrame.fillna\u001B[0;34m(self, value, method, axis, inplace, limit, downcast)\u001B[0m\n\u001B[1;32m   5621\u001B[0m \u001B[38;5;129m@deprecate_nonkeyword_arguments\u001B[39m(version\u001B[38;5;241m=\u001B[39m\u001B[38;5;28;01mNone\u001B[39;00m, allowed_args\u001B[38;5;241m=\u001B[39m[\u001B[38;5;124m\"\u001B[39m\u001B[38;5;124mself\u001B[39m\u001B[38;5;124m\"\u001B[39m, \u001B[38;5;124m\"\u001B[39m\u001B[38;5;124mvalue\u001B[39m\u001B[38;5;124m\"\u001B[39m])\n\u001B[1;32m   5622\u001B[0m \u001B[38;5;129m@doc\u001B[39m(NDFrame\u001B[38;5;241m.\u001B[39mfillna, \u001B[38;5;241m*\u001B[39m\u001B[38;5;241m*\u001B[39m_shared_doc_kwargs)\n\u001B[1;32m   5623\u001B[0m \u001B[38;5;28;01mdef\u001B[39;00m \u001B[38;5;21mfillna\u001B[39m(  \u001B[38;5;66;03m# type: ignore[override]\u001B[39;00m\n\u001B[0;32m   (...)\u001B[0m\n\u001B[1;32m   5630\u001B[0m     downcast: \u001B[38;5;28mdict\u001B[39m \u001B[38;5;241m|\u001B[39m \u001B[38;5;28;01mNone\u001B[39;00m \u001B[38;5;241m=\u001B[39m \u001B[38;5;28;01mNone\u001B[39;00m,\n\u001B[1;32m   5631\u001B[0m ) \u001B[38;5;241m-\u001B[39m\u001B[38;5;241m>\u001B[39m DataFrame \u001B[38;5;241m|\u001B[39m \u001B[38;5;28;01mNone\u001B[39;00m:\n\u001B[0;32m-> 5632\u001B[0m     \u001B[38;5;28;01mreturn\u001B[39;00m \u001B[38;5;28;43msuper\u001B[39;49m\u001B[43m(\u001B[49m\u001B[43m)\u001B[49m\u001B[38;5;241;43m.\u001B[39;49m\u001B[43mfillna\u001B[49m\u001B[43m(\u001B[49m\n\u001B[1;32m   5633\u001B[0m \u001B[43m        \u001B[49m\u001B[43mvalue\u001B[49m\u001B[38;5;241;43m=\u001B[39;49m\u001B[43mvalue\u001B[49m\u001B[43m,\u001B[49m\n\u001B[1;32m   5634\u001B[0m \u001B[43m        \u001B[49m\u001B[43mmethod\u001B[49m\u001B[38;5;241;43m=\u001B[39;49m\u001B[43mmethod\u001B[49m\u001B[43m,\u001B[49m\n\u001B[1;32m   5635\u001B[0m \u001B[43m        \u001B[49m\u001B[43maxis\u001B[49m\u001B[38;5;241;43m=\u001B[39;49m\u001B[43maxis\u001B[49m\u001B[43m,\u001B[49m\n\u001B[1;32m   5636\u001B[0m \u001B[43m        \u001B[49m\u001B[43minplace\u001B[49m\u001B[38;5;241;43m=\u001B[39;49m\u001B[43minplace\u001B[49m\u001B[43m,\u001B[49m\n\u001B[1;32m   5637\u001B[0m \u001B[43m        \u001B[49m\u001B[43mlimit\u001B[49m\u001B[38;5;241;43m=\u001B[39;49m\u001B[43mlimit\u001B[49m\u001B[43m,\u001B[49m\n\u001B[1;32m   5638\u001B[0m \u001B[43m        \u001B[49m\u001B[43mdowncast\u001B[49m\u001B[38;5;241;43m=\u001B[39;49m\u001B[43mdowncast\u001B[49m\u001B[43m,\u001B[49m\n\u001B[1;32m   5639\u001B[0m \u001B[43m    \u001B[49m\u001B[43m)\u001B[49m\n",
      "File \u001B[0;32m~/PycharmProjects/auchan_crawler/venv/lib/python3.10/site-packages/pandas/core/generic.py:6795\u001B[0m, in \u001B[0;36mNDFrame.fillna\u001B[0;34m(self, value, method, axis, inplace, limit, downcast)\u001B[0m\n\u001B[1;32m   6684\u001B[0m \u001B[38;5;124;03m\"\"\"\u001B[39;00m\n\u001B[1;32m   6685\u001B[0m \u001B[38;5;124;03mFill NA/NaN values using the specified method.\u001B[39;00m\n\u001B[1;32m   6686\u001B[0m \n\u001B[0;32m   (...)\u001B[0m\n\u001B[1;32m   6792\u001B[0m \u001B[38;5;124;03mNote that column D is not affected since it is not present in df2.\u001B[39;00m\n\u001B[1;32m   6793\u001B[0m \u001B[38;5;124;03m\"\"\"\u001B[39;00m\n\u001B[1;32m   6794\u001B[0m inplace \u001B[38;5;241m=\u001B[39m validate_bool_kwarg(inplace, \u001B[38;5;124m\"\u001B[39m\u001B[38;5;124minplace\u001B[39m\u001B[38;5;124m\"\u001B[39m)\n\u001B[0;32m-> 6795\u001B[0m value, method \u001B[38;5;241m=\u001B[39m \u001B[43mvalidate_fillna_kwargs\u001B[49m\u001B[43m(\u001B[49m\u001B[43mvalue\u001B[49m\u001B[43m,\u001B[49m\u001B[43m \u001B[49m\u001B[43mmethod\u001B[49m\u001B[43m)\u001B[49m\n\u001B[1;32m   6797\u001B[0m \u001B[38;5;28mself\u001B[39m\u001B[38;5;241m.\u001B[39m_consolidate_inplace()\n\u001B[1;32m   6799\u001B[0m \u001B[38;5;66;03m# set the default here, so functions examining the signaure\u001B[39;00m\n\u001B[1;32m   6800\u001B[0m \u001B[38;5;66;03m# can detect if something was set (e.g. in groupby) (GH9221)\u001B[39;00m\n",
      "File \u001B[0;32m~/PycharmProjects/auchan_crawler/venv/lib/python3.10/site-packages/pandas/util/_validators.py:394\u001B[0m, in \u001B[0;36mvalidate_fillna_kwargs\u001B[0;34m(value, method, validate_scalar_dict_value)\u001B[0m\n\u001B[1;32m    392\u001B[0m \u001B[38;5;28;01melif\u001B[39;00m value \u001B[38;5;129;01mis\u001B[39;00m \u001B[38;5;129;01mnot\u001B[39;00m \u001B[38;5;28;01mNone\u001B[39;00m \u001B[38;5;129;01mand\u001B[39;00m method \u001B[38;5;129;01mis\u001B[39;00m \u001B[38;5;28;01mNone\u001B[39;00m:\n\u001B[1;32m    393\u001B[0m     \u001B[38;5;28;01mif\u001B[39;00m validate_scalar_dict_value \u001B[38;5;129;01mand\u001B[39;00m \u001B[38;5;28misinstance\u001B[39m(value, (\u001B[38;5;28mlist\u001B[39m, \u001B[38;5;28mtuple\u001B[39m)):\n\u001B[0;32m--> 394\u001B[0m         \u001B[38;5;28;01mraise\u001B[39;00m \u001B[38;5;167;01mTypeError\u001B[39;00m(\n\u001B[1;32m    395\u001B[0m             \u001B[38;5;124m'\u001B[39m\u001B[38;5;124m\"\u001B[39m\u001B[38;5;124mvalue\u001B[39m\u001B[38;5;124m\"\u001B[39m\u001B[38;5;124m parameter must be a scalar or dict, but \u001B[39m\u001B[38;5;124m'\u001B[39m\n\u001B[1;32m    396\u001B[0m             \u001B[38;5;124mf\u001B[39m\u001B[38;5;124m'\u001B[39m\u001B[38;5;124myou passed a \u001B[39m\u001B[38;5;124m\"\u001B[39m\u001B[38;5;132;01m{\u001B[39;00m\u001B[38;5;28mtype\u001B[39m(value)\u001B[38;5;241m.\u001B[39m\u001B[38;5;18m__name__\u001B[39m\u001B[38;5;132;01m}\u001B[39;00m\u001B[38;5;124m\"\u001B[39m\u001B[38;5;124m'\u001B[39m\n\u001B[1;32m    397\u001B[0m         )\n\u001B[1;32m    399\u001B[0m \u001B[38;5;28;01melif\u001B[39;00m value \u001B[38;5;129;01mis\u001B[39;00m \u001B[38;5;129;01mnot\u001B[39;00m \u001B[38;5;28;01mNone\u001B[39;00m \u001B[38;5;129;01mand\u001B[39;00m method \u001B[38;5;129;01mis\u001B[39;00m \u001B[38;5;129;01mnot\u001B[39;00m \u001B[38;5;28;01mNone\u001B[39;00m:\n\u001B[1;32m    400\u001B[0m     \u001B[38;5;28;01mraise\u001B[39;00m \u001B[38;5;167;01mValueError\u001B[39;00m(\u001B[38;5;124m\"\u001B[39m\u001B[38;5;124mCannot specify both \u001B[39m\u001B[38;5;124m'\u001B[39m\u001B[38;5;124mvalue\u001B[39m\u001B[38;5;124m'\u001B[39m\u001B[38;5;124m and \u001B[39m\u001B[38;5;124m'\u001B[39m\u001B[38;5;124mmethod\u001B[39m\u001B[38;5;124m'\u001B[39m\u001B[38;5;124m.\u001B[39m\u001B[38;5;124m\"\u001B[39m)\n",
      "\u001B[0;31mTypeError\u001B[0m: \"value\" parameter must be a scalar or dict, but you passed a \"list\""
     ]
    }
   ],
   "source": [
    "df_categories.drop_duplicates(subset=[\"id\"], inplace=True)"
   ],
   "metadata": {
    "collapsed": false,
    "pycharm": {
     "name": "#%%\n"
    }
   }
  },
  {
   "cell_type": "code",
   "execution_count": 39,
   "outputs": [],
   "source": [
    "df_categories = df_categories.sort_values(by=\"id\").reset_index(drop=True)"
   ],
   "metadata": {
    "collapsed": false,
    "pycharm": {
     "name": "#%%\n"
    }
   }
  },
  {
   "cell_type": "code",
   "execution_count": 60,
   "outputs": [
    {
     "data": {
      "text/plain": "         id                      name imageUrl thumbnailUrl  \\\n0         1                Élelmiszer                         \n1         4               Elektronika                         \n2      5549       Tartós élelmiszerek                         \n3      5551  Édesség, csokoládé, nasi                         \n4      5552        Egészséges életmód                         \n...     ...                       ...      ...          ...   \n1712  14206         Cumisüveg és cumi                         \n1713  14211                   32\" -ig                         \n1714  14214                   33\"-50\"                         \n1715  14217                   55\"-65\"                         \n1716  14220                65\" felett                         \n\n                                         mobileImageUrl  productCount  \\\n0     https://ahuazurewebblob0.blob.core.windows.net...         12621   \n1     https://ahuazurewebblob0.blob.core.windows.net...          4937   \n2     https://ahuazurewebblob0.blob.core.windows.net...          3826   \n3     https://ahuazurewebblob0.blob.core.windows.net...          1305   \n4     https://ahuazurewebblob0.blob.core.windows.net...          1433   \n...                                                 ...           ...   \n1712                                                               93   \n1713                                                               25   \n1714                                                               45   \n1715                                                               41   \n1716                                                               20   \n\n      comparable  discountedCount  childCount children  boutique  \\\n0          False              492           9       []     False   \n1           True              251           9       []     False   \n2          False               94          12       []     False   \n3          False               56          13       []     False   \n4          False               51           7       []     False   \n...          ...              ...         ...      ...       ...   \n1712       False                0           2       []     False   \n1713        True                0           0       []     False   \n1714        True                0           0       []     False   \n1715        True                0           0       []     False   \n1716        True                0           0       []     False   \n\n                        slug preferredDisplayStyle promotionContentType  \\\n0                 elelmiszer            icon_style                  NaN   \n1                elektronika           image_style                  NaN   \n2        tartos-elelmiszerek                   NaN                  NaN   \n3     edesseg-csokolade-nasi                   NaN               banner   \n4         egeszseges-eletmod                   NaN                  NaN   \n...                      ...                   ...                  ...   \n1712       cumisuveg-es-cumi                   NaN                  NaN   \n1713                   32-ig                   NaN                  NaN   \n1714                   33-50                   NaN                  NaN   \n1715                   55-65                   NaN                  NaN   \n1716               65-felett                   NaN                  NaN   \n\n     promotionContentId  promotionRecommendationCarouselId  \n0                   NaN                                NaN  \n1                   NaN                                NaN  \n2                   NaN                                NaN  \n3                  1360                                NaN  \n4                   NaN                                NaN  \n...                 ...                                ...  \n1712                NaN                                NaN  \n1713                NaN                                6.0  \n1714                NaN                                6.0  \n1715                NaN                                6.0  \n1716                NaN                                6.0  \n\n[1717 rows x 16 columns]",
      "text/html": "<div>\n<style scoped>\n    .dataframe tbody tr th:only-of-type {\n        vertical-align: middle;\n    }\n\n    .dataframe tbody tr th {\n        vertical-align: top;\n    }\n\n    .dataframe thead th {\n        text-align: right;\n    }\n</style>\n<table border=\"1\" class=\"dataframe\">\n  <thead>\n    <tr style=\"text-align: right;\">\n      <th></th>\n      <th>id</th>\n      <th>name</th>\n      <th>imageUrl</th>\n      <th>thumbnailUrl</th>\n      <th>mobileImageUrl</th>\n      <th>productCount</th>\n      <th>comparable</th>\n      <th>discountedCount</th>\n      <th>childCount</th>\n      <th>children</th>\n      <th>boutique</th>\n      <th>slug</th>\n      <th>preferredDisplayStyle</th>\n      <th>promotionContentType</th>\n      <th>promotionContentId</th>\n      <th>promotionRecommendationCarouselId</th>\n    </tr>\n  </thead>\n  <tbody>\n    <tr>\n      <th>0</th>\n      <td>1</td>\n      <td>Élelmiszer</td>\n      <td></td>\n      <td></td>\n      <td>https://ahuazurewebblob0.blob.core.windows.net...</td>\n      <td>12621</td>\n      <td>False</td>\n      <td>492</td>\n      <td>9</td>\n      <td>[]</td>\n      <td>False</td>\n      <td>elelmiszer</td>\n      <td>icon_style</td>\n      <td>NaN</td>\n      <td>NaN</td>\n      <td>NaN</td>\n    </tr>\n    <tr>\n      <th>1</th>\n      <td>4</td>\n      <td>Elektronika</td>\n      <td></td>\n      <td></td>\n      <td>https://ahuazurewebblob0.blob.core.windows.net...</td>\n      <td>4937</td>\n      <td>True</td>\n      <td>251</td>\n      <td>9</td>\n      <td>[]</td>\n      <td>False</td>\n      <td>elektronika</td>\n      <td>image_style</td>\n      <td>NaN</td>\n      <td>NaN</td>\n      <td>NaN</td>\n    </tr>\n    <tr>\n      <th>2</th>\n      <td>5549</td>\n      <td>Tartós élelmiszerek</td>\n      <td></td>\n      <td></td>\n      <td>https://ahuazurewebblob0.blob.core.windows.net...</td>\n      <td>3826</td>\n      <td>False</td>\n      <td>94</td>\n      <td>12</td>\n      <td>[]</td>\n      <td>False</td>\n      <td>tartos-elelmiszerek</td>\n      <td>NaN</td>\n      <td>NaN</td>\n      <td>NaN</td>\n      <td>NaN</td>\n    </tr>\n    <tr>\n      <th>3</th>\n      <td>5551</td>\n      <td>Édesség, csokoládé, nasi</td>\n      <td></td>\n      <td></td>\n      <td>https://ahuazurewebblob0.blob.core.windows.net...</td>\n      <td>1305</td>\n      <td>False</td>\n      <td>56</td>\n      <td>13</td>\n      <td>[]</td>\n      <td>False</td>\n      <td>edesseg-csokolade-nasi</td>\n      <td>NaN</td>\n      <td>banner</td>\n      <td>1360</td>\n      <td>NaN</td>\n    </tr>\n    <tr>\n      <th>4</th>\n      <td>5552</td>\n      <td>Egészséges életmód</td>\n      <td></td>\n      <td></td>\n      <td>https://ahuazurewebblob0.blob.core.windows.net...</td>\n      <td>1433</td>\n      <td>False</td>\n      <td>51</td>\n      <td>7</td>\n      <td>[]</td>\n      <td>False</td>\n      <td>egeszseges-eletmod</td>\n      <td>NaN</td>\n      <td>NaN</td>\n      <td>NaN</td>\n      <td>NaN</td>\n    </tr>\n    <tr>\n      <th>...</th>\n      <td>...</td>\n      <td>...</td>\n      <td>...</td>\n      <td>...</td>\n      <td>...</td>\n      <td>...</td>\n      <td>...</td>\n      <td>...</td>\n      <td>...</td>\n      <td>...</td>\n      <td>...</td>\n      <td>...</td>\n      <td>...</td>\n      <td>...</td>\n      <td>...</td>\n      <td>...</td>\n    </tr>\n    <tr>\n      <th>1712</th>\n      <td>14206</td>\n      <td>Cumisüveg és cumi</td>\n      <td></td>\n      <td></td>\n      <td></td>\n      <td>93</td>\n      <td>False</td>\n      <td>0</td>\n      <td>2</td>\n      <td>[]</td>\n      <td>False</td>\n      <td>cumisuveg-es-cumi</td>\n      <td>NaN</td>\n      <td>NaN</td>\n      <td>NaN</td>\n      <td>NaN</td>\n    </tr>\n    <tr>\n      <th>1713</th>\n      <td>14211</td>\n      <td>32\" -ig</td>\n      <td></td>\n      <td></td>\n      <td></td>\n      <td>25</td>\n      <td>True</td>\n      <td>0</td>\n      <td>0</td>\n      <td>[]</td>\n      <td>False</td>\n      <td>32-ig</td>\n      <td>NaN</td>\n      <td>NaN</td>\n      <td>NaN</td>\n      <td>6.0</td>\n    </tr>\n    <tr>\n      <th>1714</th>\n      <td>14214</td>\n      <td>33\"-50\"</td>\n      <td></td>\n      <td></td>\n      <td></td>\n      <td>45</td>\n      <td>True</td>\n      <td>0</td>\n      <td>0</td>\n      <td>[]</td>\n      <td>False</td>\n      <td>33-50</td>\n      <td>NaN</td>\n      <td>NaN</td>\n      <td>NaN</td>\n      <td>6.0</td>\n    </tr>\n    <tr>\n      <th>1715</th>\n      <td>14217</td>\n      <td>55\"-65\"</td>\n      <td></td>\n      <td></td>\n      <td></td>\n      <td>41</td>\n      <td>True</td>\n      <td>0</td>\n      <td>0</td>\n      <td>[]</td>\n      <td>False</td>\n      <td>55-65</td>\n      <td>NaN</td>\n      <td>NaN</td>\n      <td>NaN</td>\n      <td>6.0</td>\n    </tr>\n    <tr>\n      <th>1716</th>\n      <td>14220</td>\n      <td>65\" felett</td>\n      <td></td>\n      <td></td>\n      <td></td>\n      <td>20</td>\n      <td>True</td>\n      <td>0</td>\n      <td>0</td>\n      <td>[]</td>\n      <td>False</td>\n      <td>65-felett</td>\n      <td>NaN</td>\n      <td>NaN</td>\n      <td>NaN</td>\n      <td>6.0</td>\n    </tr>\n  </tbody>\n</table>\n<p>1717 rows × 16 columns</p>\n</div>"
     },
     "execution_count": 60,
     "metadata": {},
     "output_type": "execute_result"
    }
   ],
   "source": [
    "df_categories"
   ],
   "metadata": {
    "collapsed": false,
    "pycharm": {
     "name": "#%%\n"
    }
   }
  },
  {
   "cell_type": "code",
   "execution_count": 61,
   "outputs": [],
   "source": [
    "df_categories.to_csv(\"../databases/categories_raw.csv\", escapechar=\"\\\\\")"
   ],
   "metadata": {
    "collapsed": false,
    "pycharm": {
     "name": "#%%\n"
    }
   }
  },
  {
   "cell_type": "code",
   "execution_count": null,
   "outputs": [],
   "source": [],
   "metadata": {
    "collapsed": false,
    "pycharm": {
     "name": "#%%\n"
    }
   }
  }
 ],
 "metadata": {
  "kernelspec": {
   "display_name": "Python 3",
   "language": "python",
   "name": "python3"
  },
  "language_info": {
   "codemirror_mode": {
    "name": "ipython",
    "version": 2
   },
   "file_extension": ".py",
   "mimetype": "text/x-python",
   "name": "python",
   "nbconvert_exporter": "python",
   "pygments_lexer": "ipython2",
   "version": "2.7.6"
  }
 },
 "nbformat": 4,
 "nbformat_minor": 0
}