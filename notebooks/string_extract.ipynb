{
 "cells": [
  {
   "cell_type": "code",
   "execution_count": 1,
   "outputs": [],
   "source": [
    "import pandas as pd\n",
    "import numpy as np\n",
    "import time"
   ],
   "metadata": {
    "collapsed": false,
    "pycharm": {
     "name": "#%%\n"
    }
   }
  },
  {
   "cell_type": "code",
   "execution_count": 2,
   "outputs": [],
   "source": [
    "start_time = time.time()"
   ],
   "metadata": {
    "collapsed": false,
    "pycharm": {
     "name": "#%%\n"
    }
   }
  },
  {
   "cell_type": "code",
   "execution_count": 3,
   "outputs": [],
   "source": [
    "df = pd.read_csv(\"../examples/products.csv\")"
   ],
   "metadata": {
    "collapsed": false,
    "pycharm": {
     "name": "#%%\n"
    }
   }
  },
  {
   "cell_type": "code",
   "execution_count": 4,
   "outputs": [],
   "source": [
    "#df = df.head(150)"
   ],
   "metadata": {
    "collapsed": false,
    "pycharm": {
     "name": "#%%\n"
    }
   }
  },
  {
   "cell_type": "code",
   "execution_count": 5,
   "outputs": [
    {
     "data": {
      "text/plain": "0        [Home, komposztálható, bevásárlószatyor, 209x2...\n1                     [Auchan, bevásárlótáska,, duplafülű]\n2              [Zöldség-gyümölcs, retasak, 3db, 28x34, cm]\n3              [Auchan, karton, doboz, 39,8x29,8x30,4, cm]\n4        [Auchan, ünnepi, bevásárló, doboz, 39,8x29,8x3...\n                               ...                        \n15210    [Gierlinger's, főtt,, füstölt, sertés, backbac...\n15211    [Auchan, Nívó, Vöröshagymás, sertés, tepertőkr...\n15212    [Auchan, Nívó, snidlinges, májas, nem, ehető, ...\n15213     [Kometa, Útravaló, étkezesi, sertészsír, 400, g]\n15214                                  [Kacsazsír, 200, g]\nName: name, Length: 15215, dtype: object"
     },
     "execution_count": 5,
     "metadata": {},
     "output_type": "execute_result"
    }
   ],
   "source": [
    "df[\"name\"].str.strip().str.split(\" \")"
   ],
   "metadata": {
    "collapsed": false,
    "pycharm": {
     "name": "#%%\n"
    }
   }
  },
  {
   "cell_type": "code",
   "execution_count": 6,
   "outputs": [],
   "source": [
    "name_split = df[\"name\"].str.strip().str.replace(\"  \", \" \").str.split(\" \")"
   ],
   "metadata": {
    "collapsed": false,
    "pycharm": {
     "name": "#%%\n"
    }
   }
  },
  {
   "cell_type": "code",
   "execution_count": 7,
   "outputs": [
    {
     "data": {
      "text/plain": "            unit unit size\n0             cm      None\n1      duplafülű      None\n2             cm      None\n3             cm      None\n4             cm      None\n...          ...       ...\n15210          g      None\n15211          g      None\n15212          g      None\n15213          g      None\n15214          g      None\n\n[15215 rows x 2 columns]",
      "text/html": "<div>\n<style scoped>\n    .dataframe tbody tr th:only-of-type {\n        vertical-align: middle;\n    }\n\n    .dataframe tbody tr th {\n        vertical-align: top;\n    }\n\n    .dataframe thead th {\n        text-align: right;\n    }\n</style>\n<table border=\"1\" class=\"dataframe\">\n  <thead>\n    <tr style=\"text-align: right;\">\n      <th></th>\n      <th>unit</th>\n      <th>unit size</th>\n    </tr>\n  </thead>\n  <tbody>\n    <tr>\n      <th>0</th>\n      <td>cm</td>\n      <td>None</td>\n    </tr>\n    <tr>\n      <th>1</th>\n      <td>duplafülű</td>\n      <td>None</td>\n    </tr>\n    <tr>\n      <th>2</th>\n      <td>cm</td>\n      <td>None</td>\n    </tr>\n    <tr>\n      <th>3</th>\n      <td>cm</td>\n      <td>None</td>\n    </tr>\n    <tr>\n      <th>4</th>\n      <td>cm</td>\n      <td>None</td>\n    </tr>\n    <tr>\n      <th>...</th>\n      <td>...</td>\n      <td>...</td>\n    </tr>\n    <tr>\n      <th>15210</th>\n      <td>g</td>\n      <td>None</td>\n    </tr>\n    <tr>\n      <th>15211</th>\n      <td>g</td>\n      <td>None</td>\n    </tr>\n    <tr>\n      <th>15212</th>\n      <td>g</td>\n      <td>None</td>\n    </tr>\n    <tr>\n      <th>15213</th>\n      <td>g</td>\n      <td>None</td>\n    </tr>\n    <tr>\n      <th>15214</th>\n      <td>g</td>\n      <td>None</td>\n    </tr>\n  </tbody>\n</table>\n<p>15215 rows × 2 columns</p>\n</div>"
     },
     "execution_count": 7,
     "metadata": {},
     "output_type": "execute_result"
    }
   ],
   "source": [
    "df[\"unit\"] = name_split.str[-1].str.lower().str.strip()\n",
    "df[\"unit size\"] = None\n",
    "df[[\"unit\", \"unit size\"]]"
   ],
   "metadata": {
    "collapsed": false,
    "pycharm": {
     "name": "#%%\n"
    }
   }
  },
  {
   "cell_type": "code",
   "execution_count": 8,
   "outputs": [],
   "source": [
    "def check_numeric(x):\n",
    "    try:\n",
    "        float(x)\n",
    "        return True\n",
    "    except:\n",
    "        return False"
   ],
   "metadata": {
    "collapsed": false,
    "pycharm": {
     "name": "#%%\n"
    }
   }
  },
  {
   "cell_type": "code",
   "execution_count": 9,
   "outputs": [],
   "source": [
    "def clean_unit(unit):\n",
    "    g_mask = df[\"unit\"].str.contains(unit, regex=True, na=False)\n",
    "    extracted_values = df.loc[g_mask, \"unit\"].str.split(unit).str[0].str.replace(\",\", \".\")\n",
    "    extracted_values_mask = extracted_values.apply(check_numeric)\n",
    "    extracted_values.loc[~extracted_values_mask] = None\n",
    "    df.loc[g_mask, \"unit size\"] = extracted_values\n",
    "    df.loc[g_mask, \"unit\"] = df.loc[g_mask, \"unit\"].where(~extracted_values_mask, other=unit)"
   ],
   "metadata": {
    "collapsed": false,
    "pycharm": {
     "name": "#%%\n"
    }
   }
  },
  {
   "cell_type": "code",
   "execution_count": 10,
   "outputs": [],
   "source": [
    "for unit in [\"db\", \"cm\", \"g\", \"kg\", \"l\", \"m\", \"ml\", \"gr\"]:\n",
    "    clean_unit(unit)"
   ],
   "metadata": {
    "collapsed": false,
    "pycharm": {
     "name": "#%%\n"
    }
   }
  },
  {
   "cell_type": "code",
   "execution_count": 11,
   "outputs": [],
   "source": [
    "#g_mask = df[\"unit\"].str.contains(\"g\", regex=True, na=False)"
   ],
   "metadata": {
    "collapsed": false,
    "pycharm": {
     "name": "#%%\n"
    }
   }
  },
  {
   "cell_type": "code",
   "execution_count": 12,
   "outputs": [],
   "source": [
    "#extracted_values = df.loc[g_mask, \"unit\"].str.split(\"g\").str[0].str.replace(\",\", \".\")"
   ],
   "metadata": {
    "collapsed": false,
    "pycharm": {
     "name": "#%%\n"
    }
   }
  },
  {
   "cell_type": "code",
   "execution_count": 13,
   "outputs": [],
   "source": [
    "#extracted_values_mask = extracted_values.apply(check_numeric)"
   ],
   "metadata": {
    "collapsed": false,
    "pycharm": {
     "name": "#%%\n"
    }
   }
  },
  {
   "cell_type": "code",
   "execution_count": 14,
   "outputs": [],
   "source": [
    "#extracted_values.loc[~extracted_values_mask] = None"
   ],
   "metadata": {
    "collapsed": false,
    "pycharm": {
     "name": "#%%\n"
    }
   }
  },
  {
   "cell_type": "code",
   "execution_count": 15,
   "outputs": [],
   "source": [
    "#df.loc[g_mask, \"unit size\"] = extracted_values\n",
    "#df.loc[g_mask, \"unit\"] = df.loc[g_mask, \"unit\"].where(~extracted_values_mask, other=\"g\")"
   ],
   "metadata": {
    "collapsed": false,
    "pycharm": {
     "name": "#%%\n"
    }
   }
  },
  {
   "cell_type": "code",
   "execution_count": 16,
   "outputs": [
    {
     "data": {
      "text/plain": "      unit size       unit\n0          None         cm\n1          None  duplafülű\n2          None         cm\n3          None         cm\n4          None         cm\n...         ...        ...\n15210      None          g\n15211      None          g\n15212      None          g\n15213      None          g\n15214      None          g\n\n[15215 rows x 2 columns]",
      "text/html": "<div>\n<style scoped>\n    .dataframe tbody tr th:only-of-type {\n        vertical-align: middle;\n    }\n\n    .dataframe tbody tr th {\n        vertical-align: top;\n    }\n\n    .dataframe thead th {\n        text-align: right;\n    }\n</style>\n<table border=\"1\" class=\"dataframe\">\n  <thead>\n    <tr style=\"text-align: right;\">\n      <th></th>\n      <th>unit size</th>\n      <th>unit</th>\n    </tr>\n  </thead>\n  <tbody>\n    <tr>\n      <th>0</th>\n      <td>None</td>\n      <td>cm</td>\n    </tr>\n    <tr>\n      <th>1</th>\n      <td>None</td>\n      <td>duplafülű</td>\n    </tr>\n    <tr>\n      <th>2</th>\n      <td>None</td>\n      <td>cm</td>\n    </tr>\n    <tr>\n      <th>3</th>\n      <td>None</td>\n      <td>cm</td>\n    </tr>\n    <tr>\n      <th>4</th>\n      <td>None</td>\n      <td>cm</td>\n    </tr>\n    <tr>\n      <th>...</th>\n      <td>...</td>\n      <td>...</td>\n    </tr>\n    <tr>\n      <th>15210</th>\n      <td>None</td>\n      <td>g</td>\n    </tr>\n    <tr>\n      <th>15211</th>\n      <td>None</td>\n      <td>g</td>\n    </tr>\n    <tr>\n      <th>15212</th>\n      <td>None</td>\n      <td>g</td>\n    </tr>\n    <tr>\n      <th>15213</th>\n      <td>None</td>\n      <td>g</td>\n    </tr>\n    <tr>\n      <th>15214</th>\n      <td>None</td>\n      <td>g</td>\n    </tr>\n  </tbody>\n</table>\n<p>15215 rows × 2 columns</p>\n</div>"
     },
     "execution_count": 16,
     "metadata": {},
     "output_type": "execute_result"
    }
   ],
   "source": [
    "df[[\"unit size\", \"unit\"]]"
   ],
   "metadata": {
    "collapsed": false,
    "pycharm": {
     "name": "#%%\n"
    }
   }
  },
  {
   "cell_type": "code",
   "execution_count": 17,
   "outputs": [],
   "source": [
    "df[\"unit\"] = df[\"unit\"].replace(\"\\)\", \"\", regex=True)"
   ],
   "metadata": {
    "collapsed": false,
    "pycharm": {
     "name": "#%%\n"
    }
   }
  },
  {
   "cell_type": "code",
   "execution_count": 18,
   "outputs": [],
   "source": [
    "not_unit = ~df[\"unit\"].isin([\"db\", \"cm\", \"g\", \"kg\", \"l\", \"ml\", \"m\", \"gr\"])"
   ],
   "metadata": {
    "collapsed": false,
    "pycharm": {
     "name": "#%%\n"
    }
   }
  },
  {
   "cell_type": "code",
   "execution_count": 19,
   "outputs": [],
   "source": [
    "df.loc[not_unit, \"unit\"] = None"
   ],
   "metadata": {
    "collapsed": false,
    "pycharm": {
     "name": "#%%\n"
    }
   }
  },
  {
   "cell_type": "code",
   "execution_count": 20,
   "outputs": [
    {
     "data": {
      "text/plain": "1549"
     },
     "execution_count": 20,
     "metadata": {},
     "output_type": "execute_result"
    }
   ],
   "source": [
    "df[\"unit\"].isnull().sum()"
   ],
   "metadata": {
    "collapsed": false,
    "pycharm": {
     "name": "#%%\n"
    }
   }
  },
  {
   "cell_type": "code",
   "execution_count": 21,
   "outputs": [],
   "source": [
    "unit_size = name_split.str[-2].str.replace(\"(\", \"\", regex=True).str.replace(\",\", \".\").str.strip()"
   ],
   "metadata": {
    "collapsed": false,
    "pycharm": {
     "name": "#%%\n"
    }
   }
  },
  {
   "cell_type": "code",
   "execution_count": 22,
   "outputs": [],
   "source": [
    "set_unit_size_mask = ~df[\"unit size\"].isnull()"
   ],
   "metadata": {
    "collapsed": false,
    "pycharm": {
     "name": "#%%\n"
    }
   }
  },
  {
   "cell_type": "code",
   "execution_count": 23,
   "outputs": [],
   "source": [
    "df.loc[~set_unit_size_mask, \"unit size\"] = unit_size"
   ],
   "metadata": {
    "collapsed": false,
    "pycharm": {
     "name": "#%%\n"
    }
   }
  },
  {
   "cell_type": "code",
   "execution_count": 24,
   "outputs": [],
   "source": [
    "numeric_kind = df[\"unit size\"].apply(check_numeric)"
   ],
   "metadata": {
    "collapsed": false,
    "pycharm": {
     "name": "#%%\n"
    }
   }
  },
  {
   "cell_type": "code",
   "execution_count": 25,
   "outputs": [],
   "source": [
    "area_kind = df[\"unit size\"].str.find(\"x\") != -1"
   ],
   "metadata": {
    "collapsed": false,
    "pycharm": {
     "name": "#%%\n"
    }
   }
  },
  {
   "cell_type": "code",
   "execution_count": 26,
   "outputs": [],
   "source": [
    "keep = (numeric_kind | area_kind) & ~df[\"unit\"].isnull()"
   ],
   "metadata": {
    "collapsed": false,
    "pycharm": {
     "name": "#%%\n"
    }
   }
  },
  {
   "cell_type": "code",
   "execution_count": 27,
   "outputs": [],
   "source": [
    "df.loc[~keep, \"unit size\"] = None"
   ],
   "metadata": {
    "collapsed": false,
    "pycharm": {
     "name": "#%%\n"
    }
   }
  },
  {
   "cell_type": "code",
   "execution_count": 28,
   "outputs": [
    {
     "data": {
      "text/plain": "                                                    name       unit size unit\n0      Home komposztálható bevásárlószatyor 209x2x75x...    209x2x75x600   cm\n2                  Zöldség-gyümölcs retasak 3db 28x34 cm           28x34   cm\n3                  Auchan karton doboz 39,8x29,8x30,4 cm  39.8x29.8x30.4   cm\n4        Auchan ünnepi bevásárló doboz 39,8x29,8x30,4 cm  39.8x29.8x30.4   cm\n5                Kelly uzsonnás és hűtőtasak 2 l, 100 db             100   db\n...                                                  ...             ...  ...\n15210  Gierlinger's főtt, füstölt sertés backbacon 200 g             200    g\n15211  Auchan Nívó Vöröshagymás sertés tepertőkrém ro...             250    g\n15212  Auchan Nívó snidlinges májas nem ehető műbélbe...             400    g\n15213          Kometa Útravaló étkezesi sertészsír 400 g             400    g\n15214                                    Kacsazsír 200 g             200    g\n\n[13666 rows x 3 columns]",
      "text/html": "<div>\n<style scoped>\n    .dataframe tbody tr th:only-of-type {\n        vertical-align: middle;\n    }\n\n    .dataframe tbody tr th {\n        vertical-align: top;\n    }\n\n    .dataframe thead th {\n        text-align: right;\n    }\n</style>\n<table border=\"1\" class=\"dataframe\">\n  <thead>\n    <tr style=\"text-align: right;\">\n      <th></th>\n      <th>name</th>\n      <th>unit size</th>\n      <th>unit</th>\n    </tr>\n  </thead>\n  <tbody>\n    <tr>\n      <th>0</th>\n      <td>Home komposztálható bevásárlószatyor 209x2x75x...</td>\n      <td>209x2x75x600</td>\n      <td>cm</td>\n    </tr>\n    <tr>\n      <th>2</th>\n      <td>Zöldség-gyümölcs retasak 3db 28x34 cm</td>\n      <td>28x34</td>\n      <td>cm</td>\n    </tr>\n    <tr>\n      <th>3</th>\n      <td>Auchan karton doboz 39,8x29,8x30,4 cm</td>\n      <td>39.8x29.8x30.4</td>\n      <td>cm</td>\n    </tr>\n    <tr>\n      <th>4</th>\n      <td>Auchan ünnepi bevásárló doboz 39,8x29,8x30,4 cm</td>\n      <td>39.8x29.8x30.4</td>\n      <td>cm</td>\n    </tr>\n    <tr>\n      <th>5</th>\n      <td>Kelly uzsonnás és hűtőtasak 2 l, 100 db</td>\n      <td>100</td>\n      <td>db</td>\n    </tr>\n    <tr>\n      <th>...</th>\n      <td>...</td>\n      <td>...</td>\n      <td>...</td>\n    </tr>\n    <tr>\n      <th>15210</th>\n      <td>Gierlinger's főtt, füstölt sertés backbacon 200 g</td>\n      <td>200</td>\n      <td>g</td>\n    </tr>\n    <tr>\n      <th>15211</th>\n      <td>Auchan Nívó Vöröshagymás sertés tepertőkrém ro...</td>\n      <td>250</td>\n      <td>g</td>\n    </tr>\n    <tr>\n      <th>15212</th>\n      <td>Auchan Nívó snidlinges májas nem ehető műbélbe...</td>\n      <td>400</td>\n      <td>g</td>\n    </tr>\n    <tr>\n      <th>15213</th>\n      <td>Kometa Útravaló étkezesi sertészsír 400 g</td>\n      <td>400</td>\n      <td>g</td>\n    </tr>\n    <tr>\n      <th>15214</th>\n      <td>Kacsazsír 200 g</td>\n      <td>200</td>\n      <td>g</td>\n    </tr>\n  </tbody>\n</table>\n<p>13666 rows × 3 columns</p>\n</div>"
     },
     "execution_count": 28,
     "metadata": {},
     "output_type": "execute_result"
    }
   ],
   "source": [
    "df = df.reindex(columns=[\"name\", \"price\", \"unit size\", \"unit\", \"id\", \"defaultVariant\", \"productId\", \"categoryId\"])\n",
    "df.loc[~df[\"unit\"].isnull(), [\"name\", \"unit size\", \"unit\"]]"
   ],
   "metadata": {
    "collapsed": false,
    "pycharm": {
     "name": "#%%\n"
    }
   }
  },
  {
   "cell_type": "markdown",
   "source": [
    "### TODO remove unit from name"
   ],
   "metadata": {
    "collapsed": false,
    "pycharm": {
     "name": "#%% md\n"
    }
   }
  },
  {
   "cell_type": "code",
   "execution_count": 29,
   "outputs": [
    {
     "data": {
      "text/plain": "1549"
     },
     "execution_count": 29,
     "metadata": {},
     "output_type": "execute_result"
    }
   ],
   "source": [
    "df[\"unit\"].isnull().sum()"
   ],
   "metadata": {
    "collapsed": false,
    "pycharm": {
     "name": "#%%\n"
    }
   }
  },
  {
   "cell_type": "code",
   "execution_count": 30,
   "outputs": [
    {
     "data": {
      "text/plain": "13666"
     },
     "execution_count": 30,
     "metadata": {},
     "output_type": "execute_result"
    }
   ],
   "source": [
    "len(df)-df[\"unit\"].isnull().sum()"
   ],
   "metadata": {
    "collapsed": false,
    "pycharm": {
     "name": "#%%\n"
    }
   }
  },
  {
   "cell_type": "code",
   "execution_count": 31,
   "outputs": [
    {
     "data": {
      "text/plain": "                                                    name  price unit size  \\\n264    Auchan Nívó Gyorsfagyasztott tenger gyümölcsei...   1500      None   \n275                        Garnélafarok előfőz 500/400 g   4879      None   \n660    Carte D'Or poharas jégkrém vegán Kakaós-Pirosg...   2049      None   \n880                      Lazacfilé bőr nélkül  540/600 g   9449      None   \n1787          CEBU ÖKO Húzófüles szemeteszsák 35L /20 DB    629      None   \n...                                                  ...    ...       ...   \n14406                1M Silly Val..DD 8X0,33 l -1X0,25 l   6799      None   \n14720  Syoss Root Retoucher lenövést elfedő hajszínez...   2599      None   \n14910                            DARNÓ SZAFALÁDÉ 2X150 g   1149      None   \n15175              Paté du Chef pástétomválogatás 6*25 g   1299      None   \n15179              Paté du Chef pástétomválogatás 8*25 g   1599      None   \n\n      unit      id  defaultVariant  productId  categoryId  \n264      g  524575         4061965     524575        5921  \n275      g   34183           34186      34183        5916  \n660     ml  410923         3948289     410923        5936  \n880      g  533729         4071119     533729        5917  \n1787    db  513959         4051349     513959        5943  \n...    ...     ...             ...        ...         ...  \n14406    l  578703         4116093     578703        6124  \n14720   ml   68090         3605171      68090        6208  \n14910    g  469214         4006586     469214        6001  \n15175    g  366899         3904181     366899        6002  \n15179    g   96621         3633653      96621        6002  \n\n[100 rows x 8 columns]",
      "text/html": "<div>\n<style scoped>\n    .dataframe tbody tr th:only-of-type {\n        vertical-align: middle;\n    }\n\n    .dataframe tbody tr th {\n        vertical-align: top;\n    }\n\n    .dataframe thead th {\n        text-align: right;\n    }\n</style>\n<table border=\"1\" class=\"dataframe\">\n  <thead>\n    <tr style=\"text-align: right;\">\n      <th></th>\n      <th>name</th>\n      <th>price</th>\n      <th>unit size</th>\n      <th>unit</th>\n      <th>id</th>\n      <th>defaultVariant</th>\n      <th>productId</th>\n      <th>categoryId</th>\n    </tr>\n  </thead>\n  <tbody>\n    <tr>\n      <th>264</th>\n      <td>Auchan Nívó Gyorsfagyasztott tenger gyümölcsei...</td>\n      <td>1500</td>\n      <td>None</td>\n      <td>g</td>\n      <td>524575</td>\n      <td>4061965</td>\n      <td>524575</td>\n      <td>5921</td>\n    </tr>\n    <tr>\n      <th>275</th>\n      <td>Garnélafarok előfőz 500/400 g</td>\n      <td>4879</td>\n      <td>None</td>\n      <td>g</td>\n      <td>34183</td>\n      <td>34186</td>\n      <td>34183</td>\n      <td>5916</td>\n    </tr>\n    <tr>\n      <th>660</th>\n      <td>Carte D'Or poharas jégkrém vegán Kakaós-Pirosg...</td>\n      <td>2049</td>\n      <td>None</td>\n      <td>ml</td>\n      <td>410923</td>\n      <td>3948289</td>\n      <td>410923</td>\n      <td>5936</td>\n    </tr>\n    <tr>\n      <th>880</th>\n      <td>Lazacfilé bőr nélkül  540/600 g</td>\n      <td>9449</td>\n      <td>None</td>\n      <td>g</td>\n      <td>533729</td>\n      <td>4071119</td>\n      <td>533729</td>\n      <td>5917</td>\n    </tr>\n    <tr>\n      <th>1787</th>\n      <td>CEBU ÖKO Húzófüles szemeteszsák 35L /20 DB</td>\n      <td>629</td>\n      <td>None</td>\n      <td>db</td>\n      <td>513959</td>\n      <td>4051349</td>\n      <td>513959</td>\n      <td>5943</td>\n    </tr>\n    <tr>\n      <th>...</th>\n      <td>...</td>\n      <td>...</td>\n      <td>...</td>\n      <td>...</td>\n      <td>...</td>\n      <td>...</td>\n      <td>...</td>\n      <td>...</td>\n    </tr>\n    <tr>\n      <th>14406</th>\n      <td>1M Silly Val..DD 8X0,33 l -1X0,25 l</td>\n      <td>6799</td>\n      <td>None</td>\n      <td>l</td>\n      <td>578703</td>\n      <td>4116093</td>\n      <td>578703</td>\n      <td>6124</td>\n    </tr>\n    <tr>\n      <th>14720</th>\n      <td>Syoss Root Retoucher lenövést elfedő hajszínez...</td>\n      <td>2599</td>\n      <td>None</td>\n      <td>ml</td>\n      <td>68090</td>\n      <td>3605171</td>\n      <td>68090</td>\n      <td>6208</td>\n    </tr>\n    <tr>\n      <th>14910</th>\n      <td>DARNÓ SZAFALÁDÉ 2X150 g</td>\n      <td>1149</td>\n      <td>None</td>\n      <td>g</td>\n      <td>469214</td>\n      <td>4006586</td>\n      <td>469214</td>\n      <td>6001</td>\n    </tr>\n    <tr>\n      <th>15175</th>\n      <td>Paté du Chef pástétomválogatás 6*25 g</td>\n      <td>1299</td>\n      <td>None</td>\n      <td>g</td>\n      <td>366899</td>\n      <td>3904181</td>\n      <td>366899</td>\n      <td>6002</td>\n    </tr>\n    <tr>\n      <th>15179</th>\n      <td>Paté du Chef pástétomválogatás 8*25 g</td>\n      <td>1599</td>\n      <td>None</td>\n      <td>g</td>\n      <td>96621</td>\n      <td>3633653</td>\n      <td>96621</td>\n      <td>6002</td>\n    </tr>\n  </tbody>\n</table>\n<p>100 rows × 8 columns</p>\n</div>"
     },
     "execution_count": 31,
     "metadata": {},
     "output_type": "execute_result"
    }
   ],
   "source": [
    "df.loc[df[\"unit size\"].isnull() & ~df[\"unit\"].isnull()]"
   ],
   "metadata": {
    "collapsed": false,
    "pycharm": {
     "name": "#%%\n"
    }
   }
  },
  {
   "cell_type": "code",
   "execution_count": 32,
   "outputs": [
    {
     "data": {
      "text/plain": "0.8181796073913574"
     },
     "execution_count": 32,
     "metadata": {},
     "output_type": "execute_result"
    }
   ],
   "source": [
    "time.time()-start_time"
   ],
   "metadata": {
    "collapsed": false,
    "pycharm": {
     "name": "#%%\n"
    }
   }
  },
  {
   "cell_type": "code",
   "execution_count": 32,
   "outputs": [],
   "source": [],
   "metadata": {
    "collapsed": false,
    "pycharm": {
     "name": "#%%\n"
    }
   }
  },
  {
   "cell_type": "code",
   "execution_count": 33,
   "outputs": [
    {
     "name": "stdout",
     "output_type": "stream",
     "text": [
      "<class 'pandas.core.frame.DataFrame'>\n",
      "RangeIndex: 15215 entries, 0 to 15214\n",
      "Data columns (total 8 columns):\n",
      " #   Column          Non-Null Count  Dtype \n",
      "---  ------          --------------  ----- \n",
      " 0   name            15215 non-null  object\n",
      " 1   price           15215 non-null  int64 \n",
      " 2   unit size       13566 non-null  object\n",
      " 3   unit            13666 non-null  object\n",
      " 4   id              15215 non-null  int64 \n",
      " 5   defaultVariant  15215 non-null  int64 \n",
      " 6   productId       15215 non-null  int64 \n",
      " 7   categoryId      15215 non-null  int64 \n",
      "dtypes: int64(5), object(3)\n",
      "memory usage: 951.1+ KB\n"
     ]
    }
   ],
   "source": [
    "df.info()"
   ],
   "metadata": {
    "collapsed": false,
    "pycharm": {
     "name": "#%%\n"
    }
   }
  },
  {
   "cell_type": "code",
   "execution_count": 33,
   "outputs": [],
   "source": [],
   "metadata": {
    "collapsed": false,
    "pycharm": {
     "name": "#%%\n"
    }
   }
  }
 ],
 "metadata": {
  "kernelspec": {
   "display_name": "Python 3",
   "language": "python",
   "name": "python3"
  },
  "language_info": {
   "codemirror_mode": {
    "name": "ipython",
    "version": 2
   },
   "file_extension": ".py",
   "mimetype": "text/x-python",
   "name": "python",
   "nbconvert_exporter": "python",
   "pygments_lexer": "ipython2",
   "version": "2.7.6"
  }
 },
 "nbformat": 4,
 "nbformat_minor": 0
}