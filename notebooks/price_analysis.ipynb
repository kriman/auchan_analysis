{
 "cells": [
  {
   "cell_type": "code",
   "execution_count": 1,
   "outputs": [],
   "source": [
    "import pandas as pd"
   ],
   "metadata": {
    "collapsed": false,
    "pycharm": {
     "name": "#%%\n"
    }
   }
  },
  {
   "cell_type": "code",
   "execution_count": 44,
   "outputs": [
    {
     "name": "stdout",
     "output_type": "stream",
     "text": [
      "old_prices.shape: (34813, 11)\n",
      "new_prices.shape: (33895, 11)\n"
     ]
    },
    {
     "name": "stderr",
     "output_type": "stream",
     "text": [
      "/tmp/ipykernel_21069/1982600571.py:3: DtypeWarning: Columns (5,22) have mixed types. Specify dtype option on import or set low_memory=False.\n",
      "  df_variants = pd.read_csv(\"../variants_raw.csv\", index_col=0, compression='xz')\n"
     ]
    }
   ],
   "source": [
    "old_prices = pd.read_csv(\"../databases/prices_raw.csv\", index_col=0, compression='xz')\n",
    "new_prices = pd.read_csv(\"../databases/prices_raw2.csv\", index_col=0, compression='xz')\n",
    "df_variants = pd.read_csv(\"../databases/variants_raw.csv\", index_col=0, compression='xz')\n",
    "print(f'old_prices.shape: {old_prices.shape}')\n",
    "print(f'new_prices.shape: {new_prices.shape}')"
   ],
   "metadata": {
    "collapsed": false,
    "pycharm": {
     "name": "#%%\n"
    }
   }
  },
  {
   "cell_type": "code",
   "execution_count": 68,
   "outputs": [
    {
     "data": {
      "text/plain": "         net  gross currency  decimalPlaces  netDiscounted  grossDiscounted  \\\n34808   8990   8990      HUF              0           8990             8990   \n34809  11990  11990      HUF              0          11990            11990   \n34810   2990   2990      HUF              0           2990             2990   \n34811   2990   2990      HUF              0           2990             2990   \n34812   5990   5990      HUF              0           5990             5990   \n\n       discountPercentage discountValidFrom discountValidTo  isDiscounted  \\\n34808                   0               NaN             NaN         False   \n34809                   0               NaN             NaN         False   \n34810                   0               NaN             NaN         False   \n34811                   0               NaN             NaN         False   \n34812                   0               NaN             NaN         False   \n\n            id  \n34808  4120288  \n34809  4120291  \n34810  4120375  \n34811  4120372  \n34812  4120369  ",
      "text/html": "<div>\n<style scoped>\n    .dataframe tbody tr th:only-of-type {\n        vertical-align: middle;\n    }\n\n    .dataframe tbody tr th {\n        vertical-align: top;\n    }\n\n    .dataframe thead th {\n        text-align: right;\n    }\n</style>\n<table border=\"1\" class=\"dataframe\">\n  <thead>\n    <tr style=\"text-align: right;\">\n      <th></th>\n      <th>net</th>\n      <th>gross</th>\n      <th>currency</th>\n      <th>decimalPlaces</th>\n      <th>netDiscounted</th>\n      <th>grossDiscounted</th>\n      <th>discountPercentage</th>\n      <th>discountValidFrom</th>\n      <th>discountValidTo</th>\n      <th>isDiscounted</th>\n      <th>id</th>\n    </tr>\n  </thead>\n  <tbody>\n    <tr>\n      <th>34808</th>\n      <td>8990</td>\n      <td>8990</td>\n      <td>HUF</td>\n      <td>0</td>\n      <td>8990</td>\n      <td>8990</td>\n      <td>0</td>\n      <td>NaN</td>\n      <td>NaN</td>\n      <td>False</td>\n      <td>4120288</td>\n    </tr>\n    <tr>\n      <th>34809</th>\n      <td>11990</td>\n      <td>11990</td>\n      <td>HUF</td>\n      <td>0</td>\n      <td>11990</td>\n      <td>11990</td>\n      <td>0</td>\n      <td>NaN</td>\n      <td>NaN</td>\n      <td>False</td>\n      <td>4120291</td>\n    </tr>\n    <tr>\n      <th>34810</th>\n      <td>2990</td>\n      <td>2990</td>\n      <td>HUF</td>\n      <td>0</td>\n      <td>2990</td>\n      <td>2990</td>\n      <td>0</td>\n      <td>NaN</td>\n      <td>NaN</td>\n      <td>False</td>\n      <td>4120375</td>\n    </tr>\n    <tr>\n      <th>34811</th>\n      <td>2990</td>\n      <td>2990</td>\n      <td>HUF</td>\n      <td>0</td>\n      <td>2990</td>\n      <td>2990</td>\n      <td>0</td>\n      <td>NaN</td>\n      <td>NaN</td>\n      <td>False</td>\n      <td>4120372</td>\n    </tr>\n    <tr>\n      <th>34812</th>\n      <td>5990</td>\n      <td>5990</td>\n      <td>HUF</td>\n      <td>0</td>\n      <td>5990</td>\n      <td>5990</td>\n      <td>0</td>\n      <td>NaN</td>\n      <td>NaN</td>\n      <td>False</td>\n      <td>4120369</td>\n    </tr>\n  </tbody>\n</table>\n</div>"
     },
     "execution_count": 68,
     "metadata": {},
     "output_type": "execute_result"
    }
   ],
   "source": [
    "old_prices.tail()"
   ],
   "metadata": {
    "collapsed": false,
    "pycharm": {
     "name": "#%%\n"
    }
   }
  },
  {
   "cell_type": "code",
   "execution_count": 17,
   "outputs": [
    {
     "data": {
      "text/plain": "21530    2399999\n21585    2299999\n21642    1149999\n21499     999999\n21541     959990\n21584     849999\n21641     849999\n21531     799999\n21643     749999\n22497     741999\nName: gross, dtype: int64"
     },
     "execution_count": 17,
     "metadata": {},
     "output_type": "execute_result"
    }
   ],
   "source": [
    "old_prices[\"gross\"].sort_values(ascending=False).head(10)"
   ],
   "metadata": {
    "collapsed": false,
    "pycharm": {
     "name": "#%%\n"
    }
   }
  },
  {
   "cell_type": "code",
   "execution_count": 18,
   "outputs": [
    {
     "data": {
      "text/plain": "37552    2999999\n37548    2399999\n37544    1149999\n36226     999999\n36891     938699\n36221     936999\n37540     879999\n36771     879999\n42441     839990\n42437     839990\nName: gross, dtype: int64"
     },
     "execution_count": 18,
     "metadata": {},
     "output_type": "execute_result"
    }
   ],
   "source": [
    "new_prices[\"gross\"].sort_values(ascending=False).head(10)"
   ],
   "metadata": {
    "collapsed": false,
    "pycharm": {
     "name": "#%%\n"
    }
   }
  },
  {
   "cell_type": "code",
   "execution_count": 11,
   "outputs": [
    {
     "data": {
      "text/plain": "<AxesSubplot: >"
     },
     "execution_count": 11,
     "metadata": {},
     "output_type": "execute_result"
    },
    {
     "data": {
      "text/plain": "<Figure size 640x480 with 1 Axes>",
      "image/png": "[encoded data removed]"
     },
     "metadata": {},
     "output_type": "display_data"
    }
   ],
   "source": [
    "old_prices.loc[old_prices[\"gross\"] < 10001, \"gross\"].hist(bins=100)"
   ],
   "metadata": {
    "collapsed": false,
    "pycharm": {
     "name": "#%%\n"
    }
   }
  },
  {
   "cell_type": "code",
   "execution_count": 19,
   "outputs": [
    {
     "data": {
      "text/plain": "<AxesSubplot: >"
     },
     "execution_count": 19,
     "metadata": {},
     "output_type": "execute_result"
    },
    {
     "data": {
      "text/plain": "<Figure size 640x480 with 1 Axes>",
      "image/png": "[encoded data removed]"
     },
     "metadata": {},
     "output_type": "display_data"
    }
   ],
   "source": [
    "new_prices.loc[new_prices[\"gross\"] < 10001, \"gross\"].hist(bins=100)"
   ],
   "metadata": {
    "collapsed": false,
    "pycharm": {
     "name": "#%%\n"
    }
   }
  },
  {
   "cell_type": "code",
   "execution_count": 29,
   "outputs": [],
   "source": [
    "pd.options.display.float_format = '{:.2f}'.format"
   ],
   "metadata": {
    "collapsed": false,
    "pycharm": {
     "name": "#%%\n"
    }
   }
  },
  {
   "cell_type": "code",
   "execution_count": 34,
   "outputs": [
    {
     "data": {
      "text/plain": "count     34813.00\nmean       9380.65\nstd       40580.47\nmin          20.00\n10%         399.00\n15%         499.00\n20%         599.00\n25%         719.00\n35%         999.00\n50%        1539.00\n75%        3999.00\n90%       13249.00\nmax     2399999.00\nName: gross, dtype: float64"
     },
     "execution_count": 34,
     "metadata": {},
     "output_type": "execute_result"
    }
   ],
   "source": [
    "old_prices[\"gross\"].describe(percentiles=[.1, .15, .2, .25, .35, .5, .75, .9])"
   ],
   "metadata": {
    "collapsed": false,
    "pycharm": {
     "name": "#%%\n"
    }
   }
  },
  {
   "cell_type": "code",
   "execution_count": 35,
   "outputs": [
    {
     "data": {
      "text/plain": "count     33895.00\nmean      10143.96\nstd       46191.03\nmin          20.00\n10%         389.00\n15%         499.00\n20%         599.00\n25%         719.00\n35%         999.00\n50%        1499.00\n75%        3999.00\n90%       13990.00\nmax     2999999.00\nName: gross, dtype: float64"
     },
     "execution_count": 35,
     "metadata": {},
     "output_type": "execute_result"
    }
   ],
   "source": [
    "new_prices[\"gross\"].describe(percentiles=[.1, .15, .2, .25, .35, .5, .75, .9])"
   ],
   "metadata": {
    "collapsed": false,
    "pycharm": {
     "name": "#%%\n"
    }
   }
  },
  {
   "cell_type": "code",
   "execution_count": 45,
   "outputs": [],
   "source": [
    "# merge the two dataframes on id where gross is not the same\n",
    "merged = pd.merge(old_prices, new_prices, on=\"id\", suffixes=(\"_old\", \"_new\"), how=\"outer\", indicator=True)\n",
    "merged = merged.loc[merged[\"_merge\"] == \"both\"]\n",
    "merged = merged.loc[merged[\"gross_old\"] != merged[\"gross_new\"]]\n",
    "# merge variants on id\n",
    "merged = pd.merge(merged, df_variants, on=\"id\", how=\"left\")"
   ],
   "metadata": {
    "collapsed": false,
    "pycharm": {
     "name": "#%%\n"
    }
   }
  },
  {
   "cell_type": "code",
   "execution_count": 46,
   "outputs": [
    {
     "data": {
      "text/plain": "                                          name  gross_old  gross_new\n0                            Almás rétes 500 g    1359.00     899.00\n1                 Barackos - túrós rétes 500 g    1359.00     899.00\n2                        Káposztás rétes 500 g    1359.00     899.00\n3                  Meggyes - mákos rétes 500 g    1359.00     899.00\n4                          Meggyes rétes 500 g    1359.00     899.00\n...                                        ...        ...        ...\n3720         Tefal G2841973 Selection wok 28cm    6993.00   11990.00\n3721  Tefal L2379102 Ingenio edénykészlet  4db   13993.00   19990.00\n3722   Tefal L897s374 Ingenio edénykészlet 5db   15393.00   21990.00\n3723   Tefal l897s574 Ingenio edénykészlet 5db   20993.00   29990.00\n3724            Rm. Tepsi+grillrács+fedő 35 cm    4990.00    5990.00\n\n[3725 rows x 3 columns]",
      "text/html": "<div>\n<style scoped>\n    .dataframe tbody tr th:only-of-type {\n        vertical-align: middle;\n    }\n\n    .dataframe tbody tr th {\n        vertical-align: top;\n    }\n\n    .dataframe thead th {\n        text-align: right;\n    }\n</style>\n<table border=\"1\" class=\"dataframe\">\n  <thead>\n    <tr style=\"text-align: right;\">\n      <th></th>\n      <th>name</th>\n      <th>gross_old</th>\n      <th>gross_new</th>\n    </tr>\n  </thead>\n  <tbody>\n    <tr>\n      <th>0</th>\n      <td>Almás rétes 500 g</td>\n      <td>1359.00</td>\n      <td>899.00</td>\n    </tr>\n    <tr>\n      <th>1</th>\n      <td>Barackos - túrós rétes 500 g</td>\n      <td>1359.00</td>\n      <td>899.00</td>\n    </tr>\n    <tr>\n      <th>2</th>\n      <td>Káposztás rétes 500 g</td>\n      <td>1359.00</td>\n      <td>899.00</td>\n    </tr>\n    <tr>\n      <th>3</th>\n      <td>Meggyes - mákos rétes 500 g</td>\n      <td>1359.00</td>\n      <td>899.00</td>\n    </tr>\n    <tr>\n      <th>4</th>\n      <td>Meggyes rétes 500 g</td>\n      <td>1359.00</td>\n      <td>899.00</td>\n    </tr>\n    <tr>\n      <th>...</th>\n      <td>...</td>\n      <td>...</td>\n      <td>...</td>\n    </tr>\n    <tr>\n      <th>3720</th>\n      <td>Tefal G2841973 Selection wok 28cm</td>\n      <td>6993.00</td>\n      <td>11990.00</td>\n    </tr>\n    <tr>\n      <th>3721</th>\n      <td>Tefal L2379102 Ingenio edénykészlet  4db</td>\n      <td>13993.00</td>\n      <td>19990.00</td>\n    </tr>\n    <tr>\n      <th>3722</th>\n      <td>Tefal L897s374 Ingenio edénykészlet 5db</td>\n      <td>15393.00</td>\n      <td>21990.00</td>\n    </tr>\n    <tr>\n      <th>3723</th>\n      <td>Tefal l897s574 Ingenio edénykészlet 5db</td>\n      <td>20993.00</td>\n      <td>29990.00</td>\n    </tr>\n    <tr>\n      <th>3724</th>\n      <td>Rm. Tepsi+grillrács+fedő 35 cm</td>\n      <td>4990.00</td>\n      <td>5990.00</td>\n    </tr>\n  </tbody>\n</table>\n<p>3725 rows × 3 columns</p>\n</div>"
     },
     "execution_count": 46,
     "metadata": {},
     "output_type": "execute_result"
    }
   ],
   "source": [
    "merged[[\"name\", \"gross_old\", \"gross_new\"]]"
   ],
   "metadata": {
    "collapsed": false,
    "pycharm": {
     "name": "#%%\n"
    }
   }
  },
  {
   "cell_type": "code",
   "execution_count": 47,
   "outputs": [
    {
     "data": {
      "text/plain": "                                                   name  gross_old  gross_new\n6     Auchan Nívó Gyorsfagyasztott tisztított koktél...    2200.00    2989.00\n7                     VICI fűszeres lazac porciók 200 g    1899.00    2659.00\n8                         VICI fokhagymás lazac porciók    1899.00    2659.00\n9     Vici gyorsfagyasztott lazac porciók citromos p...    1899.00    2659.00\n11    Iglo panírréteggel fedett elősütött, gyorsfagy...    1699.00    2399.00\n...                                                 ...        ...        ...\n3720                  Tefal G2841973 Selection wok 28cm    6993.00   11990.00\n3721           Tefal L2379102 Ingenio edénykészlet  4db   13993.00   19990.00\n3722            Tefal L897s374 Ingenio edénykészlet 5db   15393.00   21990.00\n3723            Tefal l897s574 Ingenio edénykészlet 5db   20993.00   29990.00\n3724                     Rm. Tepsi+grillrács+fedő 35 cm    4990.00    5990.00\n\n[2093 rows x 3 columns]",
      "text/html": "<div>\n<style scoped>\n    .dataframe tbody tr th:only-of-type {\n        vertical-align: middle;\n    }\n\n    .dataframe tbody tr th {\n        vertical-align: top;\n    }\n\n    .dataframe thead th {\n        text-align: right;\n    }\n</style>\n<table border=\"1\" class=\"dataframe\">\n  <thead>\n    <tr style=\"text-align: right;\">\n      <th></th>\n      <th>name</th>\n      <th>gross_old</th>\n      <th>gross_new</th>\n    </tr>\n  </thead>\n  <tbody>\n    <tr>\n      <th>6</th>\n      <td>Auchan Nívó Gyorsfagyasztott tisztított koktél...</td>\n      <td>2200.00</td>\n      <td>2989.00</td>\n    </tr>\n    <tr>\n      <th>7</th>\n      <td>VICI fűszeres lazac porciók 200 g</td>\n      <td>1899.00</td>\n      <td>2659.00</td>\n    </tr>\n    <tr>\n      <th>8</th>\n      <td>VICI fokhagymás lazac porciók</td>\n      <td>1899.00</td>\n      <td>2659.00</td>\n    </tr>\n    <tr>\n      <th>9</th>\n      <td>Vici gyorsfagyasztott lazac porciók citromos p...</td>\n      <td>1899.00</td>\n      <td>2659.00</td>\n    </tr>\n    <tr>\n      <th>11</th>\n      <td>Iglo panírréteggel fedett elősütött, gyorsfagy...</td>\n      <td>1699.00</td>\n      <td>2399.00</td>\n    </tr>\n    <tr>\n      <th>...</th>\n      <td>...</td>\n      <td>...</td>\n      <td>...</td>\n    </tr>\n    <tr>\n      <th>3720</th>\n      <td>Tefal G2841973 Selection wok 28cm</td>\n      <td>6993.00</td>\n      <td>11990.00</td>\n    </tr>\n    <tr>\n      <th>3721</th>\n      <td>Tefal L2379102 Ingenio edénykészlet  4db</td>\n      <td>13993.00</td>\n      <td>19990.00</td>\n    </tr>\n    <tr>\n      <th>3722</th>\n      <td>Tefal L897s374 Ingenio edénykészlet 5db</td>\n      <td>15393.00</td>\n      <td>21990.00</td>\n    </tr>\n    <tr>\n      <th>3723</th>\n      <td>Tefal l897s574 Ingenio edénykészlet 5db</td>\n      <td>20993.00</td>\n      <td>29990.00</td>\n    </tr>\n    <tr>\n      <th>3724</th>\n      <td>Rm. Tepsi+grillrács+fedő 35 cm</td>\n      <td>4990.00</td>\n      <td>5990.00</td>\n    </tr>\n  </tbody>\n</table>\n<p>2093 rows × 3 columns</p>\n</div>"
     },
     "execution_count": 47,
     "metadata": {},
     "output_type": "execute_result"
    }
   ],
   "source": [
    "merged.loc[merged[\"gross_old\"] < merged[\"gross_new\"], [\"name\", \"gross_old\", \"gross_new\"]]"
   ],
   "metadata": {
    "collapsed": false,
    "pycharm": {
     "name": "#%%\n"
    }
   }
  },
  {
   "cell_type": "code",
   "execution_count": 94,
   "outputs": [
    {
     "data": {
      "text/plain": "                                                   name  gross_old  \\\n2936                Ghost of Tsushima PS4 játékszoftver    3990.00   \n2938                The Last Of Us II PS4 játékszoftver    3990.00   \n1691  Listerine Total Care Teeth Protection szájvíz ...     499.00   \n55    Francesco Petretti: Észak-Amerika - csodálatos...    2990.00   \n56    Giovanni Giuseppe Bellani: Afrika - csodálatos...    2990.00   \n...                                                 ...        ...   \n3611                             Dekantáló üveg 1500 ml    3990.00   \n3146      Star Wars L0-LA59 (Lola) Animatronikus figura   34990.00   \n3602             Gyertya rusztikus henger 5x10 cm fehér     500.00   \n3558              Gyertya Rusztikus Henger 5*10cm Piros     500.00   \n796                Dr. Beckmann sütőtisztító gél 375 ml     599.00   \n\n      grossDiscounted_old  gross_new  grossDiscounted_new  percent_change  \\\n2936              3990.00   17000.00             17000.00          326.07   \n2938              3990.00   16490.00             16490.00          313.28   \n1691               499.00    1609.00              1609.00          222.44   \n55                2990.00    8990.00              8990.00          200.67   \n56                2990.00    8990.00              8990.00          200.67   \n...                   ...        ...                  ...             ...   \n3611              3990.00    1200.00              1200.00          -69.92   \n3146             34990.00   10000.00             10000.00          -71.42   \n3602               500.00     100.00               100.00          -80.00   \n3558               500.00     100.00               100.00          -80.00   \n796                599.00     100.00               100.00          -83.31   \n\n      discounted_percent_change  \n2936                     326.07  \n2938                     313.28  \n1691                     222.44  \n55                       200.67  \n56                       200.67  \n...                         ...  \n3611                     -69.92  \n3146                     -71.42  \n3602                     -80.00  \n3558                     -80.00  \n796                      -83.31  \n\n[3725 rows x 7 columns]",
      "text/html": "<div>\n<style scoped>\n    .dataframe tbody tr th:only-of-type {\n        vertical-align: middle;\n    }\n\n    .dataframe tbody tr th {\n        vertical-align: top;\n    }\n\n    .dataframe thead th {\n        text-align: right;\n    }\n</style>\n<table border=\"1\" class=\"dataframe\">\n  <thead>\n    <tr style=\"text-align: right;\">\n      <th></th>\n      <th>name</th>\n      <th>gross_old</th>\n      <th>grossDiscounted_old</th>\n      <th>gross_new</th>\n      <th>grossDiscounted_new</th>\n      <th>percent_change</th>\n      <th>discounted_percent_change</th>\n    </tr>\n  </thead>\n  <tbody>\n    <tr>\n      <th>2936</th>\n      <td>Ghost of Tsushima PS4 játékszoftver</td>\n      <td>3990.00</td>\n      <td>3990.00</td>\n      <td>17000.00</td>\n      <td>17000.00</td>\n      <td>326.07</td>\n      <td>326.07</td>\n    </tr>\n    <tr>\n      <th>2938</th>\n      <td>The Last Of Us II PS4 játékszoftver</td>\n      <td>3990.00</td>\n      <td>3990.00</td>\n      <td>16490.00</td>\n      <td>16490.00</td>\n      <td>313.28</td>\n      <td>313.28</td>\n    </tr>\n    <tr>\n      <th>1691</th>\n      <td>Listerine Total Care Teeth Protection szájvíz ...</td>\n      <td>499.00</td>\n      <td>499.00</td>\n      <td>1609.00</td>\n      <td>1609.00</td>\n      <td>222.44</td>\n      <td>222.44</td>\n    </tr>\n    <tr>\n      <th>55</th>\n      <td>Francesco Petretti: Észak-Amerika - csodálatos...</td>\n      <td>2990.00</td>\n      <td>2990.00</td>\n      <td>8990.00</td>\n      <td>8990.00</td>\n      <td>200.67</td>\n      <td>200.67</td>\n    </tr>\n    <tr>\n      <th>56</th>\n      <td>Giovanni Giuseppe Bellani: Afrika - csodálatos...</td>\n      <td>2990.00</td>\n      <td>2990.00</td>\n      <td>8990.00</td>\n      <td>8990.00</td>\n      <td>200.67</td>\n      <td>200.67</td>\n    </tr>\n    <tr>\n      <th>...</th>\n      <td>...</td>\n      <td>...</td>\n      <td>...</td>\n      <td>...</td>\n      <td>...</td>\n      <td>...</td>\n      <td>...</td>\n    </tr>\n    <tr>\n      <th>3611</th>\n      <td>Dekantáló üveg 1500 ml</td>\n      <td>3990.00</td>\n      <td>3990.00</td>\n      <td>1200.00</td>\n      <td>1200.00</td>\n      <td>-69.92</td>\n      <td>-69.92</td>\n    </tr>\n    <tr>\n      <th>3146</th>\n      <td>Star Wars L0-LA59 (Lola) Animatronikus figura</td>\n      <td>34990.00</td>\n      <td>34990.00</td>\n      <td>10000.00</td>\n      <td>10000.00</td>\n      <td>-71.42</td>\n      <td>-71.42</td>\n    </tr>\n    <tr>\n      <th>3602</th>\n      <td>Gyertya rusztikus henger 5x10 cm fehér</td>\n      <td>500.00</td>\n      <td>500.00</td>\n      <td>100.00</td>\n      <td>100.00</td>\n      <td>-80.00</td>\n      <td>-80.00</td>\n    </tr>\n    <tr>\n      <th>3558</th>\n      <td>Gyertya Rusztikus Henger 5*10cm Piros</td>\n      <td>500.00</td>\n      <td>500.00</td>\n      <td>100.00</td>\n      <td>100.00</td>\n      <td>-80.00</td>\n      <td>-80.00</td>\n    </tr>\n    <tr>\n      <th>796</th>\n      <td>Dr. Beckmann sütőtisztító gél 375 ml</td>\n      <td>599.00</td>\n      <td>599.00</td>\n      <td>100.00</td>\n      <td>100.00</td>\n      <td>-83.31</td>\n      <td>-83.31</td>\n    </tr>\n  </tbody>\n</table>\n<p>3725 rows × 7 columns</p>\n</div>"
     },
     "execution_count": 94,
     "metadata": {},
     "output_type": "execute_result"
    }
   ],
   "source": [
    "# percent change by each row\n",
    "merged[\"percent_change\"] = ((merged[\"gross_new\"] - merged[\"gross_old\"]) / merged[\"gross_old\"])*100\n",
    "merged[\"discounted_percent_change\"] = ((merged[\"grossDiscounted_new\"] - merged[\"grossDiscounted_old\"]) / merged[\"grossDiscounted_old\"])*100\n",
    "merged.loc[(~merged[\"isDiscounted_old\"]) & (~merged[\"isDiscounted_new\"]), ['name', 'gross_old', \"grossDiscounted_old\", 'gross_new', \"grossDiscounted_new\", 'percent_change', 'discounted_percent_change']].sort_values(by=\"percent_change\", ascending=False)"
   ],
   "metadata": {
    "collapsed": false,
    "pycharm": {
     "name": "#%%\n"
    }
   }
  },
  {
   "cell_type": "code",
   "execution_count": 92,
   "outputs": [
    {
     "data": {
      "text/plain": "                                                   name  gross_old  gross_new  \\\n2936                Ghost of Tsushima PS4 játékszoftver    3990.00   17000.00   \n2938                The Last Of Us II PS4 játékszoftver    3990.00   16490.00   \n1691  Listerine Total Care Teeth Protection szájvíz ...     499.00    1609.00   \n55    Francesco Petretti: Észak-Amerika - csodálatos...    2990.00    8990.00   \n56    Giovanni Giuseppe Bellani: Afrika - csodálatos...    2990.00    8990.00   \n...                                                 ...        ...        ...   \n3611                             Dekantáló üveg 1500 ml    3990.00    1200.00   \n3146      Star Wars L0-LA59 (Lola) Animatronikus figura   34990.00   10000.00   \n3602             Gyertya rusztikus henger 5x10 cm fehér     500.00     100.00   \n3558              Gyertya Rusztikus Henger 5*10cm Piros     500.00     100.00   \n796                Dr. Beckmann sütőtisztító gél 375 ml     599.00     100.00   \n\n      percent_change isDiscounted_old isDiscounted_new  grossDiscounted_old  \\\n2936          326.07            False            False              3990.00   \n2938          313.28            False            False              3990.00   \n1691          222.44            False            False               499.00   \n55            200.67            False            False              2990.00   \n56            200.67            False            False              2990.00   \n...              ...              ...              ...                  ...   \n3611          -69.92            False            False              3990.00   \n3146          -71.42            False            False             34990.00   \n3602          -80.00            False            False               500.00   \n3558          -80.00            False            False               500.00   \n796           -83.31            False            False               599.00   \n\n      grossDiscounted_new  \n2936             17000.00  \n2938             16490.00  \n1691              1609.00  \n55                8990.00  \n56                8990.00  \n...                   ...  \n3611              1200.00  \n3146             10000.00  \n3602               100.00  \n3558               100.00  \n796                100.00  \n\n[3725 rows x 8 columns]",
      "text/html": "<div>\n<style scoped>\n    .dataframe tbody tr th:only-of-type {\n        vertical-align: middle;\n    }\n\n    .dataframe tbody tr th {\n        vertical-align: top;\n    }\n\n    .dataframe thead th {\n        text-align: right;\n    }\n</style>\n<table border=\"1\" class=\"dataframe\">\n  <thead>\n    <tr style=\"text-align: right;\">\n      <th></th>\n      <th>name</th>\n      <th>gross_old</th>\n      <th>gross_new</th>\n      <th>percent_change</th>\n      <th>isDiscounted_old</th>\n      <th>isDiscounted_new</th>\n      <th>grossDiscounted_old</th>\n      <th>grossDiscounted_new</th>\n    </tr>\n  </thead>\n  <tbody>\n    <tr>\n      <th>2936</th>\n      <td>Ghost of Tsushima PS4 játékszoftver</td>\n      <td>3990.00</td>\n      <td>17000.00</td>\n      <td>326.07</td>\n      <td>False</td>\n      <td>False</td>\n      <td>3990.00</td>\n      <td>17000.00</td>\n    </tr>\n    <tr>\n      <th>2938</th>\n      <td>The Last Of Us II PS4 játékszoftver</td>\n      <td>3990.00</td>\n      <td>16490.00</td>\n      <td>313.28</td>\n      <td>False</td>\n      <td>False</td>\n      <td>3990.00</td>\n      <td>16490.00</td>\n    </tr>\n    <tr>\n      <th>1691</th>\n      <td>Listerine Total Care Teeth Protection szájvíz ...</td>\n      <td>499.00</td>\n      <td>1609.00</td>\n      <td>222.44</td>\n      <td>False</td>\n      <td>False</td>\n      <td>499.00</td>\n      <td>1609.00</td>\n    </tr>\n    <tr>\n      <th>55</th>\n      <td>Francesco Petretti: Észak-Amerika - csodálatos...</td>\n      <td>2990.00</td>\n      <td>8990.00</td>\n      <td>200.67</td>\n      <td>False</td>\n      <td>False</td>\n      <td>2990.00</td>\n      <td>8990.00</td>\n    </tr>\n    <tr>\n      <th>56</th>\n      <td>Giovanni Giuseppe Bellani: Afrika - csodálatos...</td>\n      <td>2990.00</td>\n      <td>8990.00</td>\n      <td>200.67</td>\n      <td>False</td>\n      <td>False</td>\n      <td>2990.00</td>\n      <td>8990.00</td>\n    </tr>\n    <tr>\n      <th>...</th>\n      <td>...</td>\n      <td>...</td>\n      <td>...</td>\n      <td>...</td>\n      <td>...</td>\n      <td>...</td>\n      <td>...</td>\n      <td>...</td>\n    </tr>\n    <tr>\n      <th>3611</th>\n      <td>Dekantáló üveg 1500 ml</td>\n      <td>3990.00</td>\n      <td>1200.00</td>\n      <td>-69.92</td>\n      <td>False</td>\n      <td>False</td>\n      <td>3990.00</td>\n      <td>1200.00</td>\n    </tr>\n    <tr>\n      <th>3146</th>\n      <td>Star Wars L0-LA59 (Lola) Animatronikus figura</td>\n      <td>34990.00</td>\n      <td>10000.00</td>\n      <td>-71.42</td>\n      <td>False</td>\n      <td>False</td>\n      <td>34990.00</td>\n      <td>10000.00</td>\n    </tr>\n    <tr>\n      <th>3602</th>\n      <td>Gyertya rusztikus henger 5x10 cm fehér</td>\n      <td>500.00</td>\n      <td>100.00</td>\n      <td>-80.00</td>\n      <td>False</td>\n      <td>False</td>\n      <td>500.00</td>\n      <td>100.00</td>\n    </tr>\n    <tr>\n      <th>3558</th>\n      <td>Gyertya Rusztikus Henger 5*10cm Piros</td>\n      <td>500.00</td>\n      <td>100.00</td>\n      <td>-80.00</td>\n      <td>False</td>\n      <td>False</td>\n      <td>500.00</td>\n      <td>100.00</td>\n    </tr>\n    <tr>\n      <th>796</th>\n      <td>Dr. Beckmann sütőtisztító gél 375 ml</td>\n      <td>599.00</td>\n      <td>100.00</td>\n      <td>-83.31</td>\n      <td>False</td>\n      <td>False</td>\n      <td>599.00</td>\n      <td>100.00</td>\n    </tr>\n  </tbody>\n</table>\n<p>3725 rows × 8 columns</p>\n</div>"
     },
     "execution_count": 92,
     "metadata": {},
     "output_type": "execute_result"
    }
   ],
   "source": [
    "merged[['name', 'gross_old', 'gross_new', 'percent_change', 'isDiscounted_old', 'isDiscounted_new', 'grossDiscounted_old', 'grossDiscounted_new']].sort_values(by=\"percent_change\", ascending=False)"
   ],
   "metadata": {
    "collapsed": false,
    "pycharm": {
     "name": "#%%\n"
    }
   }
  },
  {
   "cell_type": "code",
   "execution_count": 82,
   "outputs": [
    {
     "data": {
      "text/plain": "False    3267\nTrue      458\nName: isDiscounted_old, dtype: int64"
     },
     "execution_count": 82,
     "metadata": {},
     "output_type": "execute_result"
    }
   ],
   "source": [
    "merged[\"isDiscounted_old\"].value_counts()"
   ],
   "metadata": {
    "collapsed": false,
    "pycharm": {
     "name": "#%%\n"
    }
   }
  },
  {
   "cell_type": "code",
   "execution_count": 96,
   "outputs": [
    {
     "data": {
      "text/plain": "                                    name  gross_old  grossDiscounted_old  \\\n1634        Durex Real Feel óvszer 16 db    3374.00              2699.00   \n1612    Durex feel intimate óvszer 18 db    2660.00              2128.00   \n1610  Durex Naturals H2O síkosító 100 ml    2235.00              1788.00   \n1613       Durex extra safe óvszer 18 db    2802.00              2242.00   \n1582  Durex Feel Ultra Thin óvszer 10 db    2767.00              1799.00   \n1629    Durex Feel Intimate óvszer 12 db    2767.00              1799.00   \n1630        Durex Feel Thin óvszer 12 db    2767.00              1799.00   \n1584        Durex Invisible óvszer 10 db    3527.00              2293.00   \n1615          Durex Intense óvszer 10 db    3527.00              2293.00   \n1633  Durex Mutual Pleasure óvszer 10 db    3527.00              2293.00   \n1626     Durex Originals síkosító 50 ml     1631.00              1060.00   \n1627        Durex Originals óvszer 12 db    2719.00              1767.00   \n\n      gross_new  grossDiscounted_new  percent_change  \\\n1634    6599.00              6599.00           95.58   \n1612    4999.00              4999.00           87.93   \n1610    3699.00              3699.00           65.50   \n1613    4499.00              4499.00           60.56   \n1582    3799.00              3799.00           37.30   \n1629    3799.00              3799.00           37.30   \n1630    3799.00              3799.00           37.30   \n1584    4599.00              4599.00           30.39   \n1615    4599.00              4599.00           30.39   \n1633    4599.00              4599.00           30.39   \n1626    2039.00              2039.00           25.02   \n1627    3399.00              3399.00           25.01   \n\n      discounted_percent_change  \n1634                     144.50  \n1612                     134.92  \n1610                     106.88  \n1613                     100.67  \n1582                     111.17  \n1629                     111.17  \n1630                     111.17  \n1584                     100.57  \n1615                     100.57  \n1633                     100.57  \n1626                      92.36  \n1627                      92.36  ",
      "text/html": "<div>\n<style scoped>\n    .dataframe tbody tr th:only-of-type {\n        vertical-align: middle;\n    }\n\n    .dataframe tbody tr th {\n        vertical-align: top;\n    }\n\n    .dataframe thead th {\n        text-align: right;\n    }\n</style>\n<table border=\"1\" class=\"dataframe\">\n  <thead>\n    <tr style=\"text-align: right;\">\n      <th></th>\n      <th>name</th>\n      <th>gross_old</th>\n      <th>grossDiscounted_old</th>\n      <th>gross_new</th>\n      <th>grossDiscounted_new</th>\n      <th>percent_change</th>\n      <th>discounted_percent_change</th>\n    </tr>\n  </thead>\n  <tbody>\n    <tr>\n      <th>1634</th>\n      <td>Durex Real Feel óvszer 16 db</td>\n      <td>3374.00</td>\n      <td>2699.00</td>\n      <td>6599.00</td>\n      <td>6599.00</td>\n      <td>95.58</td>\n      <td>144.50</td>\n    </tr>\n    <tr>\n      <th>1612</th>\n      <td>Durex feel intimate óvszer 18 db</td>\n      <td>2660.00</td>\n      <td>2128.00</td>\n      <td>4999.00</td>\n      <td>4999.00</td>\n      <td>87.93</td>\n      <td>134.92</td>\n    </tr>\n    <tr>\n      <th>1610</th>\n      <td>Durex Naturals H2O síkosító 100 ml</td>\n      <td>2235.00</td>\n      <td>1788.00</td>\n      <td>3699.00</td>\n      <td>3699.00</td>\n      <td>65.50</td>\n      <td>106.88</td>\n    </tr>\n    <tr>\n      <th>1613</th>\n      <td>Durex extra safe óvszer 18 db</td>\n      <td>2802.00</td>\n      <td>2242.00</td>\n      <td>4499.00</td>\n      <td>4499.00</td>\n      <td>60.56</td>\n      <td>100.67</td>\n    </tr>\n    <tr>\n      <th>1582</th>\n      <td>Durex Feel Ultra Thin óvszer 10 db</td>\n      <td>2767.00</td>\n      <td>1799.00</td>\n      <td>3799.00</td>\n      <td>3799.00</td>\n      <td>37.30</td>\n      <td>111.17</td>\n    </tr>\n    <tr>\n      <th>1629</th>\n      <td>Durex Feel Intimate óvszer 12 db</td>\n      <td>2767.00</td>\n      <td>1799.00</td>\n      <td>3799.00</td>\n      <td>3799.00</td>\n      <td>37.30</td>\n      <td>111.17</td>\n    </tr>\n    <tr>\n      <th>1630</th>\n      <td>Durex Feel Thin óvszer 12 db</td>\n      <td>2767.00</td>\n      <td>1799.00</td>\n      <td>3799.00</td>\n      <td>3799.00</td>\n      <td>37.30</td>\n      <td>111.17</td>\n    </tr>\n    <tr>\n      <th>1584</th>\n      <td>Durex Invisible óvszer 10 db</td>\n      <td>3527.00</td>\n      <td>2293.00</td>\n      <td>4599.00</td>\n      <td>4599.00</td>\n      <td>30.39</td>\n      <td>100.57</td>\n    </tr>\n    <tr>\n      <th>1615</th>\n      <td>Durex Intense óvszer 10 db</td>\n      <td>3527.00</td>\n      <td>2293.00</td>\n      <td>4599.00</td>\n      <td>4599.00</td>\n      <td>30.39</td>\n      <td>100.57</td>\n    </tr>\n    <tr>\n      <th>1633</th>\n      <td>Durex Mutual Pleasure óvszer 10 db</td>\n      <td>3527.00</td>\n      <td>2293.00</td>\n      <td>4599.00</td>\n      <td>4599.00</td>\n      <td>30.39</td>\n      <td>100.57</td>\n    </tr>\n    <tr>\n      <th>1626</th>\n      <td>Durex Originals síkosító 50 ml</td>\n      <td>1631.00</td>\n      <td>1060.00</td>\n      <td>2039.00</td>\n      <td>2039.00</td>\n      <td>25.02</td>\n      <td>92.36</td>\n    </tr>\n    <tr>\n      <th>1627</th>\n      <td>Durex Originals óvszer 12 db</td>\n      <td>2719.00</td>\n      <td>1767.00</td>\n      <td>3399.00</td>\n      <td>3399.00</td>\n      <td>25.01</td>\n      <td>92.36</td>\n    </tr>\n  </tbody>\n</table>\n</div>"
     },
     "execution_count": 96,
     "metadata": {},
     "output_type": "execute_result"
    }
   ],
   "source": [
    "merged.loc[merged[\"name\"].str.contains(\"Durex\"), [\"name\", \"gross_old\", \"grossDiscounted_old\", \"gross_new\", \"grossDiscounted_new\", \"percent_change\", \"discounted_percent_change\"]].sort_values(by=\"percent_change\", ascending=False)"
   ],
   "metadata": {
    "collapsed": false,
    "pycharm": {
     "name": "#%%\n"
    }
   }
  },
  {
   "cell_type": "code",
   "execution_count": null,
   "outputs": [],
   "source": [],
   "metadata": {
    "collapsed": false,
    "pycharm": {
     "name": "#%%\n"
    }
   }
  }
 ],
 "metadata": {
  "kernelspec": {
   "display_name": "Python 3",
   "language": "python",
   "name": "python3"
  },
  "language_info": {
   "codemirror_mode": {
    "name": "ipython",
    "version": 2
   },
   "file_extension": ".py",
   "mimetype": "text/x-python",
   "name": "python",
   "nbconvert_exporter": "python",
   "pygments_lexer": "ipython2",
   "version": "2.7.6"
  }
 },
 "nbformat": 4,
 "nbformat_minor": 0
}